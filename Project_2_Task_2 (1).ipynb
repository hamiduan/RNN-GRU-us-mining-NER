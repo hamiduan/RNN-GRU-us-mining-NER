{
  "nbformat": 4,
  "nbformat_minor": 0,
  "metadata": {
    "colab": {
      "name": "Project 2_Task 2",
      "provenance": [],
      "collapsed_sections": [],
      "toc_visible": true
    },
    "kernelspec": {
      "name": "python3",
      "display_name": "Python 3"
    },
    "language_info": {
      "name": "python"
    },
    "accelerator": "GPU",
    "widgets": {
      "application/vnd.jupyter.widget-state+json": {
        "c6bea7b132184f35b6cbdae880029512": {
          "model_module": "@jupyter-widgets/controls",
          "model_name": "HBoxModel",
          "model_module_version": "1.5.0",
          "state": {
            "_view_name": "HBoxView",
            "_dom_classes": [],
            "_model_name": "HBoxModel",
            "_view_module": "@jupyter-widgets/controls",
            "_model_module_version": "1.5.0",
            "_view_count": null,
            "_view_module_version": "1.5.0",
            "box_style": "",
            "layout": "IPY_MODEL_0d351f7c4ee04533a56e9b4f2df5a78c",
            "_model_module": "@jupyter-widgets/controls",
            "children": [
              "IPY_MODEL_a1feb8a1e5f94ce7b34b837df95e8857",
              "IPY_MODEL_42a5da1ec43949749fa52d337e87d42f",
              "IPY_MODEL_1048bf3aaf0f473ea585830612a6029c"
            ]
          }
        },
        "0d351f7c4ee04533a56e9b4f2df5a78c": {
          "model_module": "@jupyter-widgets/base",
          "model_name": "LayoutModel",
          "model_module_version": "1.2.0",
          "state": {
            "_view_name": "LayoutView",
            "grid_template_rows": null,
            "right": null,
            "justify_content": null,
            "_view_module": "@jupyter-widgets/base",
            "overflow": null,
            "_model_module_version": "1.2.0",
            "_view_count": null,
            "flex_flow": null,
            "width": null,
            "min_width": null,
            "border": null,
            "align_items": null,
            "bottom": null,
            "_model_module": "@jupyter-widgets/base",
            "top": null,
            "grid_column": null,
            "overflow_y": null,
            "overflow_x": null,
            "grid_auto_flow": null,
            "grid_area": null,
            "grid_template_columns": null,
            "flex": null,
            "_model_name": "LayoutModel",
            "justify_items": null,
            "grid_row": null,
            "max_height": null,
            "align_content": null,
            "visibility": null,
            "align_self": null,
            "height": null,
            "min_height": null,
            "padding": null,
            "grid_auto_rows": null,
            "grid_gap": null,
            "max_width": null,
            "order": null,
            "_view_module_version": "1.2.0",
            "grid_template_areas": null,
            "object_position": null,
            "object_fit": null,
            "grid_auto_columns": null,
            "margin": null,
            "display": null,
            "left": null
          }
        },
        "a1feb8a1e5f94ce7b34b837df95e8857": {
          "model_module": "@jupyter-widgets/controls",
          "model_name": "HTMLModel",
          "model_module_version": "1.5.0",
          "state": {
            "_view_name": "HTMLView",
            "style": "IPY_MODEL_f706818b4a8d4156b17122c56b4f9787",
            "_dom_classes": [],
            "description": "",
            "_model_name": "HTMLModel",
            "placeholder": "​",
            "_view_module": "@jupyter-widgets/controls",
            "_model_module_version": "1.5.0",
            "value": "training routine: 100%",
            "_view_count": null,
            "_view_module_version": "1.5.0",
            "description_tooltip": null,
            "_model_module": "@jupyter-widgets/controls",
            "layout": "IPY_MODEL_2c187f1382204e1a989dbcd5c02da589"
          }
        },
        "42a5da1ec43949749fa52d337e87d42f": {
          "model_module": "@jupyter-widgets/controls",
          "model_name": "FloatProgressModel",
          "model_module_version": "1.5.0",
          "state": {
            "_view_name": "ProgressView",
            "style": "IPY_MODEL_0532be9122924f499a0cc8ff200cd212",
            "_dom_classes": [],
            "description": "",
            "_model_name": "FloatProgressModel",
            "bar_style": "success",
            "max": 150,
            "_view_module": "@jupyter-widgets/controls",
            "_model_module_version": "1.5.0",
            "value": 150,
            "_view_count": null,
            "_view_module_version": "1.5.0",
            "orientation": "horizontal",
            "min": 0,
            "description_tooltip": null,
            "_model_module": "@jupyter-widgets/controls",
            "layout": "IPY_MODEL_ba260b93fede43429b31cdbd23930731"
          }
        },
        "1048bf3aaf0f473ea585830612a6029c": {
          "model_module": "@jupyter-widgets/controls",
          "model_name": "HTMLModel",
          "model_module_version": "1.5.0",
          "state": {
            "_view_name": "HTMLView",
            "style": "IPY_MODEL_003b9958d4bf41a9a2a5b5b7de07b798",
            "_dom_classes": [],
            "description": "",
            "_model_name": "HTMLModel",
            "placeholder": "​",
            "_view_module": "@jupyter-widgets/controls",
            "_model_module_version": "1.5.0",
            "value": " 150/150 [46:48&lt;00:00,  3.52s/it]",
            "_view_count": null,
            "_view_module_version": "1.5.0",
            "description_tooltip": null,
            "_model_module": "@jupyter-widgets/controls",
            "layout": "IPY_MODEL_dbcdc8e786f14e19acfb78b84bb4ffe0"
          }
        },
        "f706818b4a8d4156b17122c56b4f9787": {
          "model_module": "@jupyter-widgets/controls",
          "model_name": "DescriptionStyleModel",
          "model_module_version": "1.5.0",
          "state": {
            "_view_name": "StyleView",
            "_model_name": "DescriptionStyleModel",
            "description_width": "",
            "_view_module": "@jupyter-widgets/base",
            "_model_module_version": "1.5.0",
            "_view_count": null,
            "_view_module_version": "1.2.0",
            "_model_module": "@jupyter-widgets/controls"
          }
        },
        "2c187f1382204e1a989dbcd5c02da589": {
          "model_module": "@jupyter-widgets/base",
          "model_name": "LayoutModel",
          "model_module_version": "1.2.0",
          "state": {
            "_view_name": "LayoutView",
            "grid_template_rows": null,
            "right": null,
            "justify_content": null,
            "_view_module": "@jupyter-widgets/base",
            "overflow": null,
            "_model_module_version": "1.2.0",
            "_view_count": null,
            "flex_flow": null,
            "width": null,
            "min_width": null,
            "border": null,
            "align_items": null,
            "bottom": null,
            "_model_module": "@jupyter-widgets/base",
            "top": null,
            "grid_column": null,
            "overflow_y": null,
            "overflow_x": null,
            "grid_auto_flow": null,
            "grid_area": null,
            "grid_template_columns": null,
            "flex": null,
            "_model_name": "LayoutModel",
            "justify_items": null,
            "grid_row": null,
            "max_height": null,
            "align_content": null,
            "visibility": null,
            "align_self": null,
            "height": null,
            "min_height": null,
            "padding": null,
            "grid_auto_rows": null,
            "grid_gap": null,
            "max_width": null,
            "order": null,
            "_view_module_version": "1.2.0",
            "grid_template_areas": null,
            "object_position": null,
            "object_fit": null,
            "grid_auto_columns": null,
            "margin": null,
            "display": null,
            "left": null
          }
        },
        "0532be9122924f499a0cc8ff200cd212": {
          "model_module": "@jupyter-widgets/controls",
          "model_name": "ProgressStyleModel",
          "model_module_version": "1.5.0",
          "state": {
            "_view_name": "StyleView",
            "_model_name": "ProgressStyleModel",
            "description_width": "",
            "_view_module": "@jupyter-widgets/base",
            "_model_module_version": "1.5.0",
            "_view_count": null,
            "_view_module_version": "1.2.0",
            "bar_color": null,
            "_model_module": "@jupyter-widgets/controls"
          }
        },
        "ba260b93fede43429b31cdbd23930731": {
          "model_module": "@jupyter-widgets/base",
          "model_name": "LayoutModel",
          "model_module_version": "1.2.0",
          "state": {
            "_view_name": "LayoutView",
            "grid_template_rows": null,
            "right": null,
            "justify_content": null,
            "_view_module": "@jupyter-widgets/base",
            "overflow": null,
            "_model_module_version": "1.2.0",
            "_view_count": null,
            "flex_flow": null,
            "width": null,
            "min_width": null,
            "border": null,
            "align_items": null,
            "bottom": null,
            "_model_module": "@jupyter-widgets/base",
            "top": null,
            "grid_column": null,
            "overflow_y": null,
            "overflow_x": null,
            "grid_auto_flow": null,
            "grid_area": null,
            "grid_template_columns": null,
            "flex": null,
            "_model_name": "LayoutModel",
            "justify_items": null,
            "grid_row": null,
            "max_height": null,
            "align_content": null,
            "visibility": null,
            "align_self": null,
            "height": null,
            "min_height": null,
            "padding": null,
            "grid_auto_rows": null,
            "grid_gap": null,
            "max_width": null,
            "order": null,
            "_view_module_version": "1.2.0",
            "grid_template_areas": null,
            "object_position": null,
            "object_fit": null,
            "grid_auto_columns": null,
            "margin": null,
            "display": null,
            "left": null
          }
        },
        "003b9958d4bf41a9a2a5b5b7de07b798": {
          "model_module": "@jupyter-widgets/controls",
          "model_name": "DescriptionStyleModel",
          "model_module_version": "1.5.0",
          "state": {
            "_view_name": "StyleView",
            "_model_name": "DescriptionStyleModel",
            "description_width": "",
            "_view_module": "@jupyter-widgets/base",
            "_model_module_version": "1.5.0",
            "_view_count": null,
            "_view_module_version": "1.2.0",
            "_model_module": "@jupyter-widgets/controls"
          }
        },
        "dbcdc8e786f14e19acfb78b84bb4ffe0": {
          "model_module": "@jupyter-widgets/base",
          "model_name": "LayoutModel",
          "model_module_version": "1.2.0",
          "state": {
            "_view_name": "LayoutView",
            "grid_template_rows": null,
            "right": null,
            "justify_content": null,
            "_view_module": "@jupyter-widgets/base",
            "overflow": null,
            "_model_module_version": "1.2.0",
            "_view_count": null,
            "flex_flow": null,
            "width": null,
            "min_width": null,
            "border": null,
            "align_items": null,
            "bottom": null,
            "_model_module": "@jupyter-widgets/base",
            "top": null,
            "grid_column": null,
            "overflow_y": null,
            "overflow_x": null,
            "grid_auto_flow": null,
            "grid_area": null,
            "grid_template_columns": null,
            "flex": null,
            "_model_name": "LayoutModel",
            "justify_items": null,
            "grid_row": null,
            "max_height": null,
            "align_content": null,
            "visibility": null,
            "align_self": null,
            "height": null,
            "min_height": null,
            "padding": null,
            "grid_auto_rows": null,
            "grid_gap": null,
            "max_width": null,
            "order": null,
            "_view_module_version": "1.2.0",
            "grid_template_areas": null,
            "object_position": null,
            "object_fit": null,
            "grid_auto_columns": null,
            "margin": null,
            "display": null,
            "left": null
          }
        },
        "db42f2825583466abeecfe253a928315": {
          "model_module": "@jupyter-widgets/controls",
          "model_name": "HBoxModel",
          "model_module_version": "1.5.0",
          "state": {
            "_view_name": "HBoxView",
            "_dom_classes": [],
            "_model_name": "HBoxModel",
            "_view_module": "@jupyter-widgets/controls",
            "_model_module_version": "1.5.0",
            "_view_count": null,
            "_view_module_version": "1.5.0",
            "box_style": "",
            "layout": "IPY_MODEL_73a22cdaf0be4a1c8e855dfbb0d3da0e",
            "_model_module": "@jupyter-widgets/controls",
            "children": [
              "IPY_MODEL_17f421ccea9a40b5a9e1866930467790",
              "IPY_MODEL_37213a7d5e8b4c9ebf84d028ea41ff9b",
              "IPY_MODEL_cdf504d10ef94a8a8eea98ed20470138"
            ]
          }
        },
        "73a22cdaf0be4a1c8e855dfbb0d3da0e": {
          "model_module": "@jupyter-widgets/base",
          "model_name": "LayoutModel",
          "model_module_version": "1.2.0",
          "state": {
            "_view_name": "LayoutView",
            "grid_template_rows": null,
            "right": null,
            "justify_content": null,
            "_view_module": "@jupyter-widgets/base",
            "overflow": null,
            "_model_module_version": "1.2.0",
            "_view_count": null,
            "flex_flow": null,
            "width": null,
            "min_width": null,
            "border": null,
            "align_items": null,
            "bottom": null,
            "_model_module": "@jupyter-widgets/base",
            "top": null,
            "grid_column": null,
            "overflow_y": null,
            "overflow_x": null,
            "grid_auto_flow": null,
            "grid_area": null,
            "grid_template_columns": null,
            "flex": null,
            "_model_name": "LayoutModel",
            "justify_items": null,
            "grid_row": null,
            "max_height": null,
            "align_content": null,
            "visibility": null,
            "align_self": null,
            "height": null,
            "min_height": null,
            "padding": null,
            "grid_auto_rows": null,
            "grid_gap": null,
            "max_width": null,
            "order": null,
            "_view_module_version": "1.2.0",
            "grid_template_areas": null,
            "object_position": null,
            "object_fit": null,
            "grid_auto_columns": null,
            "margin": null,
            "display": null,
            "left": null
          }
        },
        "17f421ccea9a40b5a9e1866930467790": {
          "model_module": "@jupyter-widgets/controls",
          "model_name": "HTMLModel",
          "model_module_version": "1.5.0",
          "state": {
            "_view_name": "HTMLView",
            "style": "IPY_MODEL_36abea58be3c45b590365178db45b330",
            "_dom_classes": [],
            "description": "",
            "_model_name": "HTMLModel",
            "placeholder": "​",
            "_view_module": "@jupyter-widgets/controls",
            "_model_module_version": "1.5.0",
            "value": "split=train:   0%",
            "_view_count": null,
            "_view_module_version": "1.5.0",
            "description_tooltip": null,
            "_model_module": "@jupyter-widgets/controls",
            "layout": "IPY_MODEL_f9635d51a10b45479b5d5253028ca07a"
          }
        },
        "37213a7d5e8b4c9ebf84d028ea41ff9b": {
          "model_module": "@jupyter-widgets/controls",
          "model_name": "FloatProgressModel",
          "model_module_version": "1.5.0",
          "state": {
            "_view_name": "ProgressView",
            "style": "IPY_MODEL_afd87187cf4541dba28496656ff21ab0",
            "_dom_classes": [],
            "description": "",
            "_model_name": "FloatProgressModel",
            "bar_style": "danger",
            "max": 9,
            "_view_module": "@jupyter-widgets/controls",
            "_model_module_version": "1.5.0",
            "value": 0,
            "_view_count": null,
            "_view_module_version": "1.5.0",
            "orientation": "horizontal",
            "min": 0,
            "description_tooltip": null,
            "_model_module": "@jupyter-widgets/controls",
            "layout": "IPY_MODEL_7ec5a4921369420fb79374123748f775"
          }
        },
        "cdf504d10ef94a8a8eea98ed20470138": {
          "model_module": "@jupyter-widgets/controls",
          "model_name": "HTMLModel",
          "model_module_version": "1.5.0",
          "state": {
            "_view_name": "HTMLView",
            "style": "IPY_MODEL_5bf06a7a519f470b9c367728bcaea46d",
            "_dom_classes": [],
            "description": "",
            "_model_name": "HTMLModel",
            "placeholder": "​",
            "_view_module": "@jupyter-widgets/controls",
            "_model_module_version": "1.5.0",
            "value": " 0/9 [46:48&lt;00:03,  2.57it/s, acc=21.4, epoch=149, loss=2.93]",
            "_view_count": null,
            "_view_module_version": "1.5.0",
            "description_tooltip": null,
            "_model_module": "@jupyter-widgets/controls",
            "layout": "IPY_MODEL_99e2e39a74d54e30a1bb6b90c216c2d5"
          }
        },
        "36abea58be3c45b590365178db45b330": {
          "model_module": "@jupyter-widgets/controls",
          "model_name": "DescriptionStyleModel",
          "model_module_version": "1.5.0",
          "state": {
            "_view_name": "StyleView",
            "_model_name": "DescriptionStyleModel",
            "description_width": "",
            "_view_module": "@jupyter-widgets/base",
            "_model_module_version": "1.5.0",
            "_view_count": null,
            "_view_module_version": "1.2.0",
            "_model_module": "@jupyter-widgets/controls"
          }
        },
        "f9635d51a10b45479b5d5253028ca07a": {
          "model_module": "@jupyter-widgets/base",
          "model_name": "LayoutModel",
          "model_module_version": "1.2.0",
          "state": {
            "_view_name": "LayoutView",
            "grid_template_rows": null,
            "right": null,
            "justify_content": null,
            "_view_module": "@jupyter-widgets/base",
            "overflow": null,
            "_model_module_version": "1.2.0",
            "_view_count": null,
            "flex_flow": null,
            "width": null,
            "min_width": null,
            "border": null,
            "align_items": null,
            "bottom": null,
            "_model_module": "@jupyter-widgets/base",
            "top": null,
            "grid_column": null,
            "overflow_y": null,
            "overflow_x": null,
            "grid_auto_flow": null,
            "grid_area": null,
            "grid_template_columns": null,
            "flex": null,
            "_model_name": "LayoutModel",
            "justify_items": null,
            "grid_row": null,
            "max_height": null,
            "align_content": null,
            "visibility": null,
            "align_self": null,
            "height": null,
            "min_height": null,
            "padding": null,
            "grid_auto_rows": null,
            "grid_gap": null,
            "max_width": null,
            "order": null,
            "_view_module_version": "1.2.0",
            "grid_template_areas": null,
            "object_position": null,
            "object_fit": null,
            "grid_auto_columns": null,
            "margin": null,
            "display": null,
            "left": null
          }
        },
        "afd87187cf4541dba28496656ff21ab0": {
          "model_module": "@jupyter-widgets/controls",
          "model_name": "ProgressStyleModel",
          "model_module_version": "1.5.0",
          "state": {
            "_view_name": "StyleView",
            "_model_name": "ProgressStyleModel",
            "description_width": "",
            "_view_module": "@jupyter-widgets/base",
            "_model_module_version": "1.5.0",
            "_view_count": null,
            "_view_module_version": "1.2.0",
            "bar_color": null,
            "_model_module": "@jupyter-widgets/controls"
          }
        },
        "7ec5a4921369420fb79374123748f775": {
          "model_module": "@jupyter-widgets/base",
          "model_name": "LayoutModel",
          "model_module_version": "1.2.0",
          "state": {
            "_view_name": "LayoutView",
            "grid_template_rows": null,
            "right": null,
            "justify_content": null,
            "_view_module": "@jupyter-widgets/base",
            "overflow": null,
            "_model_module_version": "1.2.0",
            "_view_count": null,
            "flex_flow": null,
            "width": null,
            "min_width": null,
            "border": null,
            "align_items": null,
            "bottom": null,
            "_model_module": "@jupyter-widgets/base",
            "top": null,
            "grid_column": null,
            "overflow_y": null,
            "overflow_x": null,
            "grid_auto_flow": null,
            "grid_area": null,
            "grid_template_columns": null,
            "flex": null,
            "_model_name": "LayoutModel",
            "justify_items": null,
            "grid_row": null,
            "max_height": null,
            "align_content": null,
            "visibility": null,
            "align_self": null,
            "height": null,
            "min_height": null,
            "padding": null,
            "grid_auto_rows": null,
            "grid_gap": null,
            "max_width": null,
            "order": null,
            "_view_module_version": "1.2.0",
            "grid_template_areas": null,
            "object_position": null,
            "object_fit": null,
            "grid_auto_columns": null,
            "margin": null,
            "display": null,
            "left": null
          }
        },
        "5bf06a7a519f470b9c367728bcaea46d": {
          "model_module": "@jupyter-widgets/controls",
          "model_name": "DescriptionStyleModel",
          "model_module_version": "1.5.0",
          "state": {
            "_view_name": "StyleView",
            "_model_name": "DescriptionStyleModel",
            "description_width": "",
            "_view_module": "@jupyter-widgets/base",
            "_model_module_version": "1.5.0",
            "_view_count": null,
            "_view_module_version": "1.2.0",
            "_model_module": "@jupyter-widgets/controls"
          }
        },
        "99e2e39a74d54e30a1bb6b90c216c2d5": {
          "model_module": "@jupyter-widgets/base",
          "model_name": "LayoutModel",
          "model_module_version": "1.2.0",
          "state": {
            "_view_name": "LayoutView",
            "grid_template_rows": null,
            "right": null,
            "justify_content": null,
            "_view_module": "@jupyter-widgets/base",
            "overflow": null,
            "_model_module_version": "1.2.0",
            "_view_count": null,
            "flex_flow": null,
            "width": null,
            "min_width": null,
            "border": null,
            "align_items": null,
            "bottom": null,
            "_model_module": "@jupyter-widgets/base",
            "top": null,
            "grid_column": null,
            "overflow_y": null,
            "overflow_x": null,
            "grid_auto_flow": null,
            "grid_area": null,
            "grid_template_columns": null,
            "flex": null,
            "_model_name": "LayoutModel",
            "justify_items": null,
            "grid_row": null,
            "max_height": null,
            "align_content": null,
            "visibility": null,
            "align_self": null,
            "height": null,
            "min_height": null,
            "padding": null,
            "grid_auto_rows": null,
            "grid_gap": null,
            "max_width": null,
            "order": null,
            "_view_module_version": "1.2.0",
            "grid_template_areas": null,
            "object_position": null,
            "object_fit": null,
            "grid_auto_columns": null,
            "margin": null,
            "display": null,
            "left": null
          }
        },
        "cd59c5cbedb2440ab4b1bcce37bca9dd": {
          "model_module": "@jupyter-widgets/controls",
          "model_name": "HBoxModel",
          "model_module_version": "1.5.0",
          "state": {
            "_view_name": "HBoxView",
            "_dom_classes": [],
            "_model_name": "HBoxModel",
            "_view_module": "@jupyter-widgets/controls",
            "_model_module_version": "1.5.0",
            "_view_count": null,
            "_view_module_version": "1.5.0",
            "box_style": "",
            "layout": "IPY_MODEL_f54d8c41ae42460d9122d7562675610e",
            "_model_module": "@jupyter-widgets/controls",
            "children": [
              "IPY_MODEL_3956b08235034e24bc8779eee9e7f2a8",
              "IPY_MODEL_910f41d35b0042c98ecc418e18b12f3c",
              "IPY_MODEL_6ea288ca40d64fa99b402e294cd2b968"
            ]
          }
        },
        "f54d8c41ae42460d9122d7562675610e": {
          "model_module": "@jupyter-widgets/base",
          "model_name": "LayoutModel",
          "model_module_version": "1.2.0",
          "state": {
            "_view_name": "LayoutView",
            "grid_template_rows": null,
            "right": null,
            "justify_content": null,
            "_view_module": "@jupyter-widgets/base",
            "overflow": null,
            "_model_module_version": "1.2.0",
            "_view_count": null,
            "flex_flow": null,
            "width": null,
            "min_width": null,
            "border": null,
            "align_items": null,
            "bottom": null,
            "_model_module": "@jupyter-widgets/base",
            "top": null,
            "grid_column": null,
            "overflow_y": null,
            "overflow_x": null,
            "grid_auto_flow": null,
            "grid_area": null,
            "grid_template_columns": null,
            "flex": null,
            "_model_name": "LayoutModel",
            "justify_items": null,
            "grid_row": null,
            "max_height": null,
            "align_content": null,
            "visibility": null,
            "align_self": null,
            "height": null,
            "min_height": null,
            "padding": null,
            "grid_auto_rows": null,
            "grid_gap": null,
            "max_width": null,
            "order": null,
            "_view_module_version": "1.2.0",
            "grid_template_areas": null,
            "object_position": null,
            "object_fit": null,
            "grid_auto_columns": null,
            "margin": null,
            "display": null,
            "left": null
          }
        },
        "3956b08235034e24bc8779eee9e7f2a8": {
          "model_module": "@jupyter-widgets/controls",
          "model_name": "HTMLModel",
          "model_module_version": "1.5.0",
          "state": {
            "_view_name": "HTMLView",
            "style": "IPY_MODEL_846c30f76f4644a993c1a034be77d452",
            "_dom_classes": [],
            "description": "",
            "_model_name": "HTMLModel",
            "placeholder": "​",
            "_view_module": "@jupyter-widgets/controls",
            "_model_module_version": "1.5.0",
            "value": "split=val:   0%",
            "_view_count": null,
            "_view_module_version": "1.5.0",
            "description_tooltip": null,
            "_model_module": "@jupyter-widgets/controls",
            "layout": "IPY_MODEL_6a42f46541e846dd9925be626bc080d9"
          }
        },
        "910f41d35b0042c98ecc418e18b12f3c": {
          "model_module": "@jupyter-widgets/controls",
          "model_name": "FloatProgressModel",
          "model_module_version": "1.5.0",
          "state": {
            "_view_name": "ProgressView",
            "style": "IPY_MODEL_159d178bc497465d9af8b481492d4b4d",
            "_dom_classes": [],
            "description": "",
            "_model_name": "FloatProgressModel",
            "bar_style": "danger",
            "max": 1,
            "_view_module": "@jupyter-widgets/controls",
            "_model_module_version": "1.5.0",
            "value": 0,
            "_view_count": null,
            "_view_module_version": "1.5.0",
            "orientation": "horizontal",
            "min": 0,
            "description_tooltip": null,
            "_model_module": "@jupyter-widgets/controls",
            "layout": "IPY_MODEL_49bfbb2b7e1b4128b46a3f027b9872df"
          }
        },
        "6ea288ca40d64fa99b402e294cd2b968": {
          "model_module": "@jupyter-widgets/controls",
          "model_name": "HTMLModel",
          "model_module_version": "1.5.0",
          "state": {
            "_view_name": "HTMLView",
            "style": "IPY_MODEL_9e962156bad745fdb030c32110aee658",
            "_dom_classes": [],
            "description": "",
            "_model_name": "HTMLModel",
            "placeholder": "​",
            "_view_module": "@jupyter-widgets/controls",
            "_model_module_version": "1.5.0",
            "value": " 0/1 [46:48&lt;00:03,  3.70s/it, acc=10.9, epoch=149, loss=2.95]",
            "_view_count": null,
            "_view_module_version": "1.5.0",
            "description_tooltip": null,
            "_model_module": "@jupyter-widgets/controls",
            "layout": "IPY_MODEL_4366fa9a6afa4301a75bfbe906c2f0ce"
          }
        },
        "846c30f76f4644a993c1a034be77d452": {
          "model_module": "@jupyter-widgets/controls",
          "model_name": "DescriptionStyleModel",
          "model_module_version": "1.5.0",
          "state": {
            "_view_name": "StyleView",
            "_model_name": "DescriptionStyleModel",
            "description_width": "",
            "_view_module": "@jupyter-widgets/base",
            "_model_module_version": "1.5.0",
            "_view_count": null,
            "_view_module_version": "1.2.0",
            "_model_module": "@jupyter-widgets/controls"
          }
        },
        "6a42f46541e846dd9925be626bc080d9": {
          "model_module": "@jupyter-widgets/base",
          "model_name": "LayoutModel",
          "model_module_version": "1.2.0",
          "state": {
            "_view_name": "LayoutView",
            "grid_template_rows": null,
            "right": null,
            "justify_content": null,
            "_view_module": "@jupyter-widgets/base",
            "overflow": null,
            "_model_module_version": "1.2.0",
            "_view_count": null,
            "flex_flow": null,
            "width": null,
            "min_width": null,
            "border": null,
            "align_items": null,
            "bottom": null,
            "_model_module": "@jupyter-widgets/base",
            "top": null,
            "grid_column": null,
            "overflow_y": null,
            "overflow_x": null,
            "grid_auto_flow": null,
            "grid_area": null,
            "grid_template_columns": null,
            "flex": null,
            "_model_name": "LayoutModel",
            "justify_items": null,
            "grid_row": null,
            "max_height": null,
            "align_content": null,
            "visibility": null,
            "align_self": null,
            "height": null,
            "min_height": null,
            "padding": null,
            "grid_auto_rows": null,
            "grid_gap": null,
            "max_width": null,
            "order": null,
            "_view_module_version": "1.2.0",
            "grid_template_areas": null,
            "object_position": null,
            "object_fit": null,
            "grid_auto_columns": null,
            "margin": null,
            "display": null,
            "left": null
          }
        },
        "159d178bc497465d9af8b481492d4b4d": {
          "model_module": "@jupyter-widgets/controls",
          "model_name": "ProgressStyleModel",
          "model_module_version": "1.5.0",
          "state": {
            "_view_name": "StyleView",
            "_model_name": "ProgressStyleModel",
            "description_width": "",
            "_view_module": "@jupyter-widgets/base",
            "_model_module_version": "1.5.0",
            "_view_count": null,
            "_view_module_version": "1.2.0",
            "bar_color": null,
            "_model_module": "@jupyter-widgets/controls"
          }
        },
        "49bfbb2b7e1b4128b46a3f027b9872df": {
          "model_module": "@jupyter-widgets/base",
          "model_name": "LayoutModel",
          "model_module_version": "1.2.0",
          "state": {
            "_view_name": "LayoutView",
            "grid_template_rows": null,
            "right": null,
            "justify_content": null,
            "_view_module": "@jupyter-widgets/base",
            "overflow": null,
            "_model_module_version": "1.2.0",
            "_view_count": null,
            "flex_flow": null,
            "width": null,
            "min_width": null,
            "border": null,
            "align_items": null,
            "bottom": null,
            "_model_module": "@jupyter-widgets/base",
            "top": null,
            "grid_column": null,
            "overflow_y": null,
            "overflow_x": null,
            "grid_auto_flow": null,
            "grid_area": null,
            "grid_template_columns": null,
            "flex": null,
            "_model_name": "LayoutModel",
            "justify_items": null,
            "grid_row": null,
            "max_height": null,
            "align_content": null,
            "visibility": null,
            "align_self": null,
            "height": null,
            "min_height": null,
            "padding": null,
            "grid_auto_rows": null,
            "grid_gap": null,
            "max_width": null,
            "order": null,
            "_view_module_version": "1.2.0",
            "grid_template_areas": null,
            "object_position": null,
            "object_fit": null,
            "grid_auto_columns": null,
            "margin": null,
            "display": null,
            "left": null
          }
        },
        "9e962156bad745fdb030c32110aee658": {
          "model_module": "@jupyter-widgets/controls",
          "model_name": "DescriptionStyleModel",
          "model_module_version": "1.5.0",
          "state": {
            "_view_name": "StyleView",
            "_model_name": "DescriptionStyleModel",
            "description_width": "",
            "_view_module": "@jupyter-widgets/base",
            "_model_module_version": "1.5.0",
            "_view_count": null,
            "_view_module_version": "1.2.0",
            "_model_module": "@jupyter-widgets/controls"
          }
        },
        "4366fa9a6afa4301a75bfbe906c2f0ce": {
          "model_module": "@jupyter-widgets/base",
          "model_name": "LayoutModel",
          "model_module_version": "1.2.0",
          "state": {
            "_view_name": "LayoutView",
            "grid_template_rows": null,
            "right": null,
            "justify_content": null,
            "_view_module": "@jupyter-widgets/base",
            "overflow": null,
            "_model_module_version": "1.2.0",
            "_view_count": null,
            "flex_flow": null,
            "width": null,
            "min_width": null,
            "border": null,
            "align_items": null,
            "bottom": null,
            "_model_module": "@jupyter-widgets/base",
            "top": null,
            "grid_column": null,
            "overflow_y": null,
            "overflow_x": null,
            "grid_auto_flow": null,
            "grid_area": null,
            "grid_template_columns": null,
            "flex": null,
            "_model_name": "LayoutModel",
            "justify_items": null,
            "grid_row": null,
            "max_height": null,
            "align_content": null,
            "visibility": null,
            "align_self": null,
            "height": null,
            "min_height": null,
            "padding": null,
            "grid_auto_rows": null,
            "grid_gap": null,
            "max_width": null,
            "order": null,
            "_view_module_version": "1.2.0",
            "grid_template_areas": null,
            "object_position": null,
            "object_fit": null,
            "grid_auto_columns": null,
            "margin": null,
            "display": null,
            "left": null
          }
        },
        "f54ae835ef1a4ceab675bbab8a6e786c": {
          "model_module": "@jupyter-widgets/controls",
          "model_name": "HBoxModel",
          "model_module_version": "1.5.0",
          "state": {
            "_view_name": "HBoxView",
            "_dom_classes": [],
            "_model_name": "HBoxModel",
            "_view_module": "@jupyter-widgets/controls",
            "_model_module_version": "1.5.0",
            "_view_count": null,
            "_view_module_version": "1.5.0",
            "box_style": "",
            "layout": "IPY_MODEL_89e25ed52c1a48838d04f15bcaaeb271",
            "_model_module": "@jupyter-widgets/controls",
            "children": [
              "IPY_MODEL_103f732fac6d416f90efbff00b6d8ca8",
              "IPY_MODEL_362fa79c87f84c8f99a10fb64f86c2a7",
              "IPY_MODEL_127d1f68fc83463d99b63b6dae88f9f5"
            ]
          }
        },
        "89e25ed52c1a48838d04f15bcaaeb271": {
          "model_module": "@jupyter-widgets/base",
          "model_name": "LayoutModel",
          "model_module_version": "1.2.0",
          "state": {
            "_view_name": "LayoutView",
            "grid_template_rows": null,
            "right": null,
            "justify_content": null,
            "_view_module": "@jupyter-widgets/base",
            "overflow": null,
            "_model_module_version": "1.2.0",
            "_view_count": null,
            "flex_flow": null,
            "width": null,
            "min_width": null,
            "border": null,
            "align_items": null,
            "bottom": null,
            "_model_module": "@jupyter-widgets/base",
            "top": null,
            "grid_column": null,
            "overflow_y": null,
            "overflow_x": null,
            "grid_auto_flow": null,
            "grid_area": null,
            "grid_template_columns": null,
            "flex": null,
            "_model_name": "LayoutModel",
            "justify_items": null,
            "grid_row": null,
            "max_height": null,
            "align_content": null,
            "visibility": null,
            "align_self": null,
            "height": null,
            "min_height": null,
            "padding": null,
            "grid_auto_rows": null,
            "grid_gap": null,
            "max_width": null,
            "order": null,
            "_view_module_version": "1.2.0",
            "grid_template_areas": null,
            "object_position": null,
            "object_fit": null,
            "grid_auto_columns": null,
            "margin": null,
            "display": null,
            "left": null
          }
        },
        "103f732fac6d416f90efbff00b6d8ca8": {
          "model_module": "@jupyter-widgets/controls",
          "model_name": "HTMLModel",
          "model_module_version": "1.5.0",
          "state": {
            "_view_name": "HTMLView",
            "style": "IPY_MODEL_acdecdeb204449cbbf28fd4df0537e3e",
            "_dom_classes": [],
            "description": "",
            "_model_name": "HTMLModel",
            "placeholder": "​",
            "_view_module": "@jupyter-widgets/controls",
            "_model_module_version": "1.5.0",
            "value": "training routine: 100%",
            "_view_count": null,
            "_view_module_version": "1.5.0",
            "description_tooltip": null,
            "_model_module": "@jupyter-widgets/controls",
            "layout": "IPY_MODEL_464836bd8fb14cb7988fbd74c1822ccd"
          }
        },
        "362fa79c87f84c8f99a10fb64f86c2a7": {
          "model_module": "@jupyter-widgets/controls",
          "model_name": "FloatProgressModel",
          "model_module_version": "1.5.0",
          "state": {
            "_view_name": "ProgressView",
            "style": "IPY_MODEL_5c8ee18c74aa4c6481d009e35ed71a84",
            "_dom_classes": [],
            "description": "",
            "_model_name": "FloatProgressModel",
            "bar_style": "",
            "max": 150,
            "_view_module": "@jupyter-widgets/controls",
            "_model_module_version": "1.5.0",
            "value": 150,
            "_view_count": null,
            "_view_module_version": "1.5.0",
            "orientation": "horizontal",
            "min": 0,
            "description_tooltip": null,
            "_model_module": "@jupyter-widgets/controls",
            "layout": "IPY_MODEL_63bc5f2ce2c640bc9d6bdcf2cc09d2a6"
          }
        },
        "127d1f68fc83463d99b63b6dae88f9f5": {
          "model_module": "@jupyter-widgets/controls",
          "model_name": "HTMLModel",
          "model_module_version": "1.5.0",
          "state": {
            "_view_name": "HTMLView",
            "style": "IPY_MODEL_4eabe06ba46f417fb183d2034a0f2158",
            "_dom_classes": [],
            "description": "",
            "_model_name": "HTMLModel",
            "placeholder": "​",
            "_view_module": "@jupyter-widgets/controls",
            "_model_module_version": "1.5.0",
            "value": " 150/150 [07:49&lt;00:00,  3.13s/it]",
            "_view_count": null,
            "_view_module_version": "1.5.0",
            "description_tooltip": null,
            "_model_module": "@jupyter-widgets/controls",
            "layout": "IPY_MODEL_f35209b96a2d4401b252aa87bf02a85a"
          }
        },
        "acdecdeb204449cbbf28fd4df0537e3e": {
          "model_module": "@jupyter-widgets/controls",
          "model_name": "DescriptionStyleModel",
          "model_module_version": "1.5.0",
          "state": {
            "_view_name": "StyleView",
            "_model_name": "DescriptionStyleModel",
            "description_width": "",
            "_view_module": "@jupyter-widgets/base",
            "_model_module_version": "1.5.0",
            "_view_count": null,
            "_view_module_version": "1.2.0",
            "_model_module": "@jupyter-widgets/controls"
          }
        },
        "464836bd8fb14cb7988fbd74c1822ccd": {
          "model_module": "@jupyter-widgets/base",
          "model_name": "LayoutModel",
          "model_module_version": "1.2.0",
          "state": {
            "_view_name": "LayoutView",
            "grid_template_rows": null,
            "right": null,
            "justify_content": null,
            "_view_module": "@jupyter-widgets/base",
            "overflow": null,
            "_model_module_version": "1.2.0",
            "_view_count": null,
            "flex_flow": null,
            "width": null,
            "min_width": null,
            "border": null,
            "align_items": null,
            "bottom": null,
            "_model_module": "@jupyter-widgets/base",
            "top": null,
            "grid_column": null,
            "overflow_y": null,
            "overflow_x": null,
            "grid_auto_flow": null,
            "grid_area": null,
            "grid_template_columns": null,
            "flex": null,
            "_model_name": "LayoutModel",
            "justify_items": null,
            "grid_row": null,
            "max_height": null,
            "align_content": null,
            "visibility": null,
            "align_self": null,
            "height": null,
            "min_height": null,
            "padding": null,
            "grid_auto_rows": null,
            "grid_gap": null,
            "max_width": null,
            "order": null,
            "_view_module_version": "1.2.0",
            "grid_template_areas": null,
            "object_position": null,
            "object_fit": null,
            "grid_auto_columns": null,
            "margin": null,
            "display": null,
            "left": null
          }
        },
        "5c8ee18c74aa4c6481d009e35ed71a84": {
          "model_module": "@jupyter-widgets/controls",
          "model_name": "ProgressStyleModel",
          "model_module_version": "1.5.0",
          "state": {
            "_view_name": "StyleView",
            "_model_name": "ProgressStyleModel",
            "description_width": "",
            "_view_module": "@jupyter-widgets/base",
            "_model_module_version": "1.5.0",
            "_view_count": null,
            "_view_module_version": "1.2.0",
            "bar_color": null,
            "_model_module": "@jupyter-widgets/controls"
          }
        },
        "63bc5f2ce2c640bc9d6bdcf2cc09d2a6": {
          "model_module": "@jupyter-widgets/base",
          "model_name": "LayoutModel",
          "model_module_version": "1.2.0",
          "state": {
            "_view_name": "LayoutView",
            "grid_template_rows": null,
            "right": null,
            "justify_content": null,
            "_view_module": "@jupyter-widgets/base",
            "overflow": null,
            "_model_module_version": "1.2.0",
            "_view_count": null,
            "flex_flow": null,
            "width": null,
            "min_width": null,
            "border": null,
            "align_items": null,
            "bottom": null,
            "_model_module": "@jupyter-widgets/base",
            "top": null,
            "grid_column": null,
            "overflow_y": null,
            "overflow_x": null,
            "grid_auto_flow": null,
            "grid_area": null,
            "grid_template_columns": null,
            "flex": null,
            "_model_name": "LayoutModel",
            "justify_items": null,
            "grid_row": null,
            "max_height": null,
            "align_content": null,
            "visibility": null,
            "align_self": null,
            "height": null,
            "min_height": null,
            "padding": null,
            "grid_auto_rows": null,
            "grid_gap": null,
            "max_width": null,
            "order": null,
            "_view_module_version": "1.2.0",
            "grid_template_areas": null,
            "object_position": null,
            "object_fit": null,
            "grid_auto_columns": null,
            "margin": null,
            "display": null,
            "left": null
          }
        },
        "4eabe06ba46f417fb183d2034a0f2158": {
          "model_module": "@jupyter-widgets/controls",
          "model_name": "DescriptionStyleModel",
          "model_module_version": "1.5.0",
          "state": {
            "_view_name": "StyleView",
            "_model_name": "DescriptionStyleModel",
            "description_width": "",
            "_view_module": "@jupyter-widgets/base",
            "_model_module_version": "1.5.0",
            "_view_count": null,
            "_view_module_version": "1.2.0",
            "_model_module": "@jupyter-widgets/controls"
          }
        },
        "f35209b96a2d4401b252aa87bf02a85a": {
          "model_module": "@jupyter-widgets/base",
          "model_name": "LayoutModel",
          "model_module_version": "1.2.0",
          "state": {
            "_view_name": "LayoutView",
            "grid_template_rows": null,
            "right": null,
            "justify_content": null,
            "_view_module": "@jupyter-widgets/base",
            "overflow": null,
            "_model_module_version": "1.2.0",
            "_view_count": null,
            "flex_flow": null,
            "width": null,
            "min_width": null,
            "border": null,
            "align_items": null,
            "bottom": null,
            "_model_module": "@jupyter-widgets/base",
            "top": null,
            "grid_column": null,
            "overflow_y": null,
            "overflow_x": null,
            "grid_auto_flow": null,
            "grid_area": null,
            "grid_template_columns": null,
            "flex": null,
            "_model_name": "LayoutModel",
            "justify_items": null,
            "grid_row": null,
            "max_height": null,
            "align_content": null,
            "visibility": null,
            "align_self": null,
            "height": null,
            "min_height": null,
            "padding": null,
            "grid_auto_rows": null,
            "grid_gap": null,
            "max_width": null,
            "order": null,
            "_view_module_version": "1.2.0",
            "grid_template_areas": null,
            "object_position": null,
            "object_fit": null,
            "grid_auto_columns": null,
            "margin": null,
            "display": null,
            "left": null
          }
        },
        "199ef54cbcbb4cbc8c76269dbf219fa1": {
          "model_module": "@jupyter-widgets/controls",
          "model_name": "HBoxModel",
          "model_module_version": "1.5.0",
          "state": {
            "_view_name": "HBoxView",
            "_dom_classes": [],
            "_model_name": "HBoxModel",
            "_view_module": "@jupyter-widgets/controls",
            "_model_module_version": "1.5.0",
            "_view_count": null,
            "_view_module_version": "1.5.0",
            "box_style": "",
            "layout": "IPY_MODEL_1f76698edce547839a6a96d3b4f25e16",
            "_model_module": "@jupyter-widgets/controls",
            "children": [
              "IPY_MODEL_e58cab896dc54fb49002144b9fd19132",
              "IPY_MODEL_19cb80c2e0e94cdf95a357cbae499333",
              "IPY_MODEL_03c8439531ce4fe7ac28f433470506b4"
            ]
          }
        },
        "1f76698edce547839a6a96d3b4f25e16": {
          "model_module": "@jupyter-widgets/base",
          "model_name": "LayoutModel",
          "model_module_version": "1.2.0",
          "state": {
            "_view_name": "LayoutView",
            "grid_template_rows": null,
            "right": null,
            "justify_content": null,
            "_view_module": "@jupyter-widgets/base",
            "overflow": null,
            "_model_module_version": "1.2.0",
            "_view_count": null,
            "flex_flow": null,
            "width": null,
            "min_width": null,
            "border": null,
            "align_items": null,
            "bottom": null,
            "_model_module": "@jupyter-widgets/base",
            "top": null,
            "grid_column": null,
            "overflow_y": null,
            "overflow_x": null,
            "grid_auto_flow": null,
            "grid_area": null,
            "grid_template_columns": null,
            "flex": null,
            "_model_name": "LayoutModel",
            "justify_items": null,
            "grid_row": null,
            "max_height": null,
            "align_content": null,
            "visibility": null,
            "align_self": null,
            "height": null,
            "min_height": null,
            "padding": null,
            "grid_auto_rows": null,
            "grid_gap": null,
            "max_width": null,
            "order": null,
            "_view_module_version": "1.2.0",
            "grid_template_areas": null,
            "object_position": null,
            "object_fit": null,
            "grid_auto_columns": null,
            "margin": null,
            "display": null,
            "left": null
          }
        },
        "e58cab896dc54fb49002144b9fd19132": {
          "model_module": "@jupyter-widgets/controls",
          "model_name": "HTMLModel",
          "model_module_version": "1.5.0",
          "state": {
            "_view_name": "HTMLView",
            "style": "IPY_MODEL_64b5d8d2c97a468cb30c47ad00446826",
            "_dom_classes": [],
            "description": "",
            "_model_name": "HTMLModel",
            "placeholder": "​",
            "_view_module": "@jupyter-widgets/controls",
            "_model_module_version": "1.5.0",
            "value": "split=train:  88%",
            "_view_count": null,
            "_view_module_version": "1.5.0",
            "description_tooltip": null,
            "_model_module": "@jupyter-widgets/controls",
            "layout": "IPY_MODEL_6f9902095bd04b4fa60eccdad556cf08"
          }
        },
        "19cb80c2e0e94cdf95a357cbae499333": {
          "model_module": "@jupyter-widgets/controls",
          "model_name": "FloatProgressModel",
          "model_module_version": "1.5.0",
          "state": {
            "_view_name": "ProgressView",
            "style": "IPY_MODEL_9a67e7c4196f438484d5f8e296b7cc23",
            "_dom_classes": [],
            "description": "",
            "_model_name": "FloatProgressModel",
            "bar_style": "",
            "max": 8,
            "_view_module": "@jupyter-widgets/controls",
            "_model_module_version": "1.5.0",
            "value": 7,
            "_view_count": null,
            "_view_module_version": "1.5.0",
            "orientation": "horizontal",
            "min": 0,
            "description_tooltip": null,
            "_model_module": "@jupyter-widgets/controls",
            "layout": "IPY_MODEL_e9b2858d7db54ba2ae678f3c120b48ce"
          }
        },
        "03c8439531ce4fe7ac28f433470506b4": {
          "model_module": "@jupyter-widgets/controls",
          "model_name": "HTMLModel",
          "model_module_version": "1.5.0",
          "state": {
            "_view_name": "HTMLView",
            "style": "IPY_MODEL_7295e8f30fec44a286d105bf4bc87b0b",
            "_dom_classes": [],
            "description": "",
            "_model_name": "HTMLModel",
            "placeholder": "​",
            "_view_module": "@jupyter-widgets/controls",
            "_model_module_version": "1.5.0",
            "value": " 7/8 [07:49&lt;00:00,  2.56it/s, acc=28.1, epoch=149, loss=2.07]",
            "_view_count": null,
            "_view_module_version": "1.5.0",
            "description_tooltip": null,
            "_model_module": "@jupyter-widgets/controls",
            "layout": "IPY_MODEL_ab90f40c612f4188826c286ac55e207f"
          }
        },
        "64b5d8d2c97a468cb30c47ad00446826": {
          "model_module": "@jupyter-widgets/controls",
          "model_name": "DescriptionStyleModel",
          "model_module_version": "1.5.0",
          "state": {
            "_view_name": "StyleView",
            "_model_name": "DescriptionStyleModel",
            "description_width": "",
            "_view_module": "@jupyter-widgets/base",
            "_model_module_version": "1.5.0",
            "_view_count": null,
            "_view_module_version": "1.2.0",
            "_model_module": "@jupyter-widgets/controls"
          }
        },
        "6f9902095bd04b4fa60eccdad556cf08": {
          "model_module": "@jupyter-widgets/base",
          "model_name": "LayoutModel",
          "model_module_version": "1.2.0",
          "state": {
            "_view_name": "LayoutView",
            "grid_template_rows": null,
            "right": null,
            "justify_content": null,
            "_view_module": "@jupyter-widgets/base",
            "overflow": null,
            "_model_module_version": "1.2.0",
            "_view_count": null,
            "flex_flow": null,
            "width": null,
            "min_width": null,
            "border": null,
            "align_items": null,
            "bottom": null,
            "_model_module": "@jupyter-widgets/base",
            "top": null,
            "grid_column": null,
            "overflow_y": null,
            "overflow_x": null,
            "grid_auto_flow": null,
            "grid_area": null,
            "grid_template_columns": null,
            "flex": null,
            "_model_name": "LayoutModel",
            "justify_items": null,
            "grid_row": null,
            "max_height": null,
            "align_content": null,
            "visibility": null,
            "align_self": null,
            "height": null,
            "min_height": null,
            "padding": null,
            "grid_auto_rows": null,
            "grid_gap": null,
            "max_width": null,
            "order": null,
            "_view_module_version": "1.2.0",
            "grid_template_areas": null,
            "object_position": null,
            "object_fit": null,
            "grid_auto_columns": null,
            "margin": null,
            "display": null,
            "left": null
          }
        },
        "9a67e7c4196f438484d5f8e296b7cc23": {
          "model_module": "@jupyter-widgets/controls",
          "model_name": "ProgressStyleModel",
          "model_module_version": "1.5.0",
          "state": {
            "_view_name": "StyleView",
            "_model_name": "ProgressStyleModel",
            "description_width": "",
            "_view_module": "@jupyter-widgets/base",
            "_model_module_version": "1.5.0",
            "_view_count": null,
            "_view_module_version": "1.2.0",
            "bar_color": null,
            "_model_module": "@jupyter-widgets/controls"
          }
        },
        "e9b2858d7db54ba2ae678f3c120b48ce": {
          "model_module": "@jupyter-widgets/base",
          "model_name": "LayoutModel",
          "model_module_version": "1.2.0",
          "state": {
            "_view_name": "LayoutView",
            "grid_template_rows": null,
            "right": null,
            "justify_content": null,
            "_view_module": "@jupyter-widgets/base",
            "overflow": null,
            "_model_module_version": "1.2.0",
            "_view_count": null,
            "flex_flow": null,
            "width": null,
            "min_width": null,
            "border": null,
            "align_items": null,
            "bottom": null,
            "_model_module": "@jupyter-widgets/base",
            "top": null,
            "grid_column": null,
            "overflow_y": null,
            "overflow_x": null,
            "grid_auto_flow": null,
            "grid_area": null,
            "grid_template_columns": null,
            "flex": null,
            "_model_name": "LayoutModel",
            "justify_items": null,
            "grid_row": null,
            "max_height": null,
            "align_content": null,
            "visibility": null,
            "align_self": null,
            "height": null,
            "min_height": null,
            "padding": null,
            "grid_auto_rows": null,
            "grid_gap": null,
            "max_width": null,
            "order": null,
            "_view_module_version": "1.2.0",
            "grid_template_areas": null,
            "object_position": null,
            "object_fit": null,
            "grid_auto_columns": null,
            "margin": null,
            "display": null,
            "left": null
          }
        },
        "7295e8f30fec44a286d105bf4bc87b0b": {
          "model_module": "@jupyter-widgets/controls",
          "model_name": "DescriptionStyleModel",
          "model_module_version": "1.5.0",
          "state": {
            "_view_name": "StyleView",
            "_model_name": "DescriptionStyleModel",
            "description_width": "",
            "_view_module": "@jupyter-widgets/base",
            "_model_module_version": "1.5.0",
            "_view_count": null,
            "_view_module_version": "1.2.0",
            "_model_module": "@jupyter-widgets/controls"
          }
        },
        "ab90f40c612f4188826c286ac55e207f": {
          "model_module": "@jupyter-widgets/base",
          "model_name": "LayoutModel",
          "model_module_version": "1.2.0",
          "state": {
            "_view_name": "LayoutView",
            "grid_template_rows": null,
            "right": null,
            "justify_content": null,
            "_view_module": "@jupyter-widgets/base",
            "overflow": null,
            "_model_module_version": "1.2.0",
            "_view_count": null,
            "flex_flow": null,
            "width": null,
            "min_width": null,
            "border": null,
            "align_items": null,
            "bottom": null,
            "_model_module": "@jupyter-widgets/base",
            "top": null,
            "grid_column": null,
            "overflow_y": null,
            "overflow_x": null,
            "grid_auto_flow": null,
            "grid_area": null,
            "grid_template_columns": null,
            "flex": null,
            "_model_name": "LayoutModel",
            "justify_items": null,
            "grid_row": null,
            "max_height": null,
            "align_content": null,
            "visibility": null,
            "align_self": null,
            "height": null,
            "min_height": null,
            "padding": null,
            "grid_auto_rows": null,
            "grid_gap": null,
            "max_width": null,
            "order": null,
            "_view_module_version": "1.2.0",
            "grid_template_areas": null,
            "object_position": null,
            "object_fit": null,
            "grid_auto_columns": null,
            "margin": null,
            "display": null,
            "left": null
          }
        },
        "6a04d3bb379f48c89618d3c1dd0aeeba": {
          "model_module": "@jupyter-widgets/controls",
          "model_name": "HBoxModel",
          "model_module_version": "1.5.0",
          "state": {
            "_view_name": "HBoxView",
            "_dom_classes": [],
            "_model_name": "HBoxModel",
            "_view_module": "@jupyter-widgets/controls",
            "_model_module_version": "1.5.0",
            "_view_count": null,
            "_view_module_version": "1.5.0",
            "box_style": "",
            "layout": "IPY_MODEL_48a0152796394dd9b7ccc62e79b38d03",
            "_model_module": "@jupyter-widgets/controls",
            "children": [
              "IPY_MODEL_0605c7754dce481da9f39c0e4b0edf20",
              "IPY_MODEL_1317ab8e196749458236dbd62c492ee0",
              "IPY_MODEL_75975bd5b1034d309e7b16ba62e68bf0"
            ]
          }
        },
        "48a0152796394dd9b7ccc62e79b38d03": {
          "model_module": "@jupyter-widgets/base",
          "model_name": "LayoutModel",
          "model_module_version": "1.2.0",
          "state": {
            "_view_name": "LayoutView",
            "grid_template_rows": null,
            "right": null,
            "justify_content": null,
            "_view_module": "@jupyter-widgets/base",
            "overflow": null,
            "_model_module_version": "1.2.0",
            "_view_count": null,
            "flex_flow": null,
            "width": null,
            "min_width": null,
            "border": null,
            "align_items": null,
            "bottom": null,
            "_model_module": "@jupyter-widgets/base",
            "top": null,
            "grid_column": null,
            "overflow_y": null,
            "overflow_x": null,
            "grid_auto_flow": null,
            "grid_area": null,
            "grid_template_columns": null,
            "flex": null,
            "_model_name": "LayoutModel",
            "justify_items": null,
            "grid_row": null,
            "max_height": null,
            "align_content": null,
            "visibility": null,
            "align_self": null,
            "height": null,
            "min_height": null,
            "padding": null,
            "grid_auto_rows": null,
            "grid_gap": null,
            "max_width": null,
            "order": null,
            "_view_module_version": "1.2.0",
            "grid_template_areas": null,
            "object_position": null,
            "object_fit": null,
            "grid_auto_columns": null,
            "margin": null,
            "display": null,
            "left": null
          }
        },
        "0605c7754dce481da9f39c0e4b0edf20": {
          "model_module": "@jupyter-widgets/controls",
          "model_name": "HTMLModel",
          "model_module_version": "1.5.0",
          "state": {
            "_view_name": "HTMLView",
            "style": "IPY_MODEL_9639d8aa9ef1491d8d4dee22c42e1abe",
            "_dom_classes": [],
            "description": "",
            "_model_name": "HTMLModel",
            "placeholder": "​",
            "_view_module": "@jupyter-widgets/controls",
            "_model_module_version": "1.5.0",
            "value": "split=val:   0%",
            "_view_count": null,
            "_view_module_version": "1.5.0",
            "description_tooltip": null,
            "_model_module": "@jupyter-widgets/controls",
            "layout": "IPY_MODEL_9fe9f201a1d64def89804947e836dd7c"
          }
        },
        "1317ab8e196749458236dbd62c492ee0": {
          "model_module": "@jupyter-widgets/controls",
          "model_name": "FloatProgressModel",
          "model_module_version": "1.5.0",
          "state": {
            "_view_name": "ProgressView",
            "style": "IPY_MODEL_dcee233d73284482add1c08891d26bdb",
            "_dom_classes": [],
            "description": "",
            "_model_name": "FloatProgressModel",
            "bar_style": "",
            "max": 1,
            "_view_module": "@jupyter-widgets/controls",
            "_model_module_version": "1.5.0",
            "value": 0,
            "_view_count": null,
            "_view_module_version": "1.5.0",
            "orientation": "horizontal",
            "min": 0,
            "description_tooltip": null,
            "_model_module": "@jupyter-widgets/controls",
            "layout": "IPY_MODEL_2d7d3f2aacdc4497bee71f2a9cb7d703"
          }
        },
        "75975bd5b1034d309e7b16ba62e68bf0": {
          "model_module": "@jupyter-widgets/controls",
          "model_name": "HTMLModel",
          "model_module_version": "1.5.0",
          "state": {
            "_view_name": "HTMLView",
            "style": "IPY_MODEL_e75997301e2549d5b2f98e1ccea1fd58",
            "_dom_classes": [],
            "description": "",
            "_model_name": "HTMLModel",
            "placeholder": "​",
            "_view_module": "@jupyter-widgets/controls",
            "_model_module_version": "1.5.0",
            "value": " 0/1 [07:49&lt;00:03,  3.30s/it, acc=25.8, epoch=149, loss=2.07]",
            "_view_count": null,
            "_view_module_version": "1.5.0",
            "description_tooltip": null,
            "_model_module": "@jupyter-widgets/controls",
            "layout": "IPY_MODEL_0fb38f5fea144cbda7de21f81b54b94c"
          }
        },
        "9639d8aa9ef1491d8d4dee22c42e1abe": {
          "model_module": "@jupyter-widgets/controls",
          "model_name": "DescriptionStyleModel",
          "model_module_version": "1.5.0",
          "state": {
            "_view_name": "StyleView",
            "_model_name": "DescriptionStyleModel",
            "description_width": "",
            "_view_module": "@jupyter-widgets/base",
            "_model_module_version": "1.5.0",
            "_view_count": null,
            "_view_module_version": "1.2.0",
            "_model_module": "@jupyter-widgets/controls"
          }
        },
        "9fe9f201a1d64def89804947e836dd7c": {
          "model_module": "@jupyter-widgets/base",
          "model_name": "LayoutModel",
          "model_module_version": "1.2.0",
          "state": {
            "_view_name": "LayoutView",
            "grid_template_rows": null,
            "right": null,
            "justify_content": null,
            "_view_module": "@jupyter-widgets/base",
            "overflow": null,
            "_model_module_version": "1.2.0",
            "_view_count": null,
            "flex_flow": null,
            "width": null,
            "min_width": null,
            "border": null,
            "align_items": null,
            "bottom": null,
            "_model_module": "@jupyter-widgets/base",
            "top": null,
            "grid_column": null,
            "overflow_y": null,
            "overflow_x": null,
            "grid_auto_flow": null,
            "grid_area": null,
            "grid_template_columns": null,
            "flex": null,
            "_model_name": "LayoutModel",
            "justify_items": null,
            "grid_row": null,
            "max_height": null,
            "align_content": null,
            "visibility": null,
            "align_self": null,
            "height": null,
            "min_height": null,
            "padding": null,
            "grid_auto_rows": null,
            "grid_gap": null,
            "max_width": null,
            "order": null,
            "_view_module_version": "1.2.0",
            "grid_template_areas": null,
            "object_position": null,
            "object_fit": null,
            "grid_auto_columns": null,
            "margin": null,
            "display": null,
            "left": null
          }
        },
        "dcee233d73284482add1c08891d26bdb": {
          "model_module": "@jupyter-widgets/controls",
          "model_name": "ProgressStyleModel",
          "model_module_version": "1.5.0",
          "state": {
            "_view_name": "StyleView",
            "_model_name": "ProgressStyleModel",
            "description_width": "",
            "_view_module": "@jupyter-widgets/base",
            "_model_module_version": "1.5.0",
            "_view_count": null,
            "_view_module_version": "1.2.0",
            "bar_color": null,
            "_model_module": "@jupyter-widgets/controls"
          }
        },
        "2d7d3f2aacdc4497bee71f2a9cb7d703": {
          "model_module": "@jupyter-widgets/base",
          "model_name": "LayoutModel",
          "model_module_version": "1.2.0",
          "state": {
            "_view_name": "LayoutView",
            "grid_template_rows": null,
            "right": null,
            "justify_content": null,
            "_view_module": "@jupyter-widgets/base",
            "overflow": null,
            "_model_module_version": "1.2.0",
            "_view_count": null,
            "flex_flow": null,
            "width": null,
            "min_width": null,
            "border": null,
            "align_items": null,
            "bottom": null,
            "_model_module": "@jupyter-widgets/base",
            "top": null,
            "grid_column": null,
            "overflow_y": null,
            "overflow_x": null,
            "grid_auto_flow": null,
            "grid_area": null,
            "grid_template_columns": null,
            "flex": null,
            "_model_name": "LayoutModel",
            "justify_items": null,
            "grid_row": null,
            "max_height": null,
            "align_content": null,
            "visibility": null,
            "align_self": null,
            "height": null,
            "min_height": null,
            "padding": null,
            "grid_auto_rows": null,
            "grid_gap": null,
            "max_width": null,
            "order": null,
            "_view_module_version": "1.2.0",
            "grid_template_areas": null,
            "object_position": null,
            "object_fit": null,
            "grid_auto_columns": null,
            "margin": null,
            "display": null,
            "left": null
          }
        },
        "e75997301e2549d5b2f98e1ccea1fd58": {
          "model_module": "@jupyter-widgets/controls",
          "model_name": "DescriptionStyleModel",
          "model_module_version": "1.5.0",
          "state": {
            "_view_name": "StyleView",
            "_model_name": "DescriptionStyleModel",
            "description_width": "",
            "_view_module": "@jupyter-widgets/base",
            "_model_module_version": "1.5.0",
            "_view_count": null,
            "_view_module_version": "1.2.0",
            "_model_module": "@jupyter-widgets/controls"
          }
        },
        "0fb38f5fea144cbda7de21f81b54b94c": {
          "model_module": "@jupyter-widgets/base",
          "model_name": "LayoutModel",
          "model_module_version": "1.2.0",
          "state": {
            "_view_name": "LayoutView",
            "grid_template_rows": null,
            "right": null,
            "justify_content": null,
            "_view_module": "@jupyter-widgets/base",
            "overflow": null,
            "_model_module_version": "1.2.0",
            "_view_count": null,
            "flex_flow": null,
            "width": null,
            "min_width": null,
            "border": null,
            "align_items": null,
            "bottom": null,
            "_model_module": "@jupyter-widgets/base",
            "top": null,
            "grid_column": null,
            "overflow_y": null,
            "overflow_x": null,
            "grid_auto_flow": null,
            "grid_area": null,
            "grid_template_columns": null,
            "flex": null,
            "_model_name": "LayoutModel",
            "justify_items": null,
            "grid_row": null,
            "max_height": null,
            "align_content": null,
            "visibility": null,
            "align_self": null,
            "height": null,
            "min_height": null,
            "padding": null,
            "grid_auto_rows": null,
            "grid_gap": null,
            "max_width": null,
            "order": null,
            "_view_module_version": "1.2.0",
            "grid_template_areas": null,
            "object_position": null,
            "object_fit": null,
            "grid_auto_columns": null,
            "margin": null,
            "display": null,
            "left": null
          }
        },
        "cb57c7c280cd4d37b7d9affc215ca556": {
          "model_module": "@jupyter-widgets/controls",
          "model_name": "HBoxModel",
          "model_module_version": "1.5.0",
          "state": {
            "_view_name": "HBoxView",
            "_dom_classes": [],
            "_model_name": "HBoxModel",
            "_view_module": "@jupyter-widgets/controls",
            "_model_module_version": "1.5.0",
            "_view_count": null,
            "_view_module_version": "1.5.0",
            "box_style": "",
            "layout": "IPY_MODEL_a5ceef6d57fd4e68b952d1a4a0296b3d",
            "_model_module": "@jupyter-widgets/controls",
            "children": [
              "IPY_MODEL_e7baf9ccd9e14f4a83232345b500836f",
              "IPY_MODEL_ad07389f8e514f3c9079ddefc5334d34",
              "IPY_MODEL_26437a6af9424d908bc114d48c95fe01"
            ]
          }
        },
        "a5ceef6d57fd4e68b952d1a4a0296b3d": {
          "model_module": "@jupyter-widgets/base",
          "model_name": "LayoutModel",
          "model_module_version": "1.2.0",
          "state": {
            "_view_name": "LayoutView",
            "grid_template_rows": null,
            "right": null,
            "justify_content": null,
            "_view_module": "@jupyter-widgets/base",
            "overflow": null,
            "_model_module_version": "1.2.0",
            "_view_count": null,
            "flex_flow": null,
            "width": null,
            "min_width": null,
            "border": null,
            "align_items": null,
            "bottom": null,
            "_model_module": "@jupyter-widgets/base",
            "top": null,
            "grid_column": null,
            "overflow_y": null,
            "overflow_x": null,
            "grid_auto_flow": null,
            "grid_area": null,
            "grid_template_columns": null,
            "flex": null,
            "_model_name": "LayoutModel",
            "justify_items": null,
            "grid_row": null,
            "max_height": null,
            "align_content": null,
            "visibility": null,
            "align_self": null,
            "height": null,
            "min_height": null,
            "padding": null,
            "grid_auto_rows": null,
            "grid_gap": null,
            "max_width": null,
            "order": null,
            "_view_module_version": "1.2.0",
            "grid_template_areas": null,
            "object_position": null,
            "object_fit": null,
            "grid_auto_columns": null,
            "margin": null,
            "display": null,
            "left": null
          }
        },
        "e7baf9ccd9e14f4a83232345b500836f": {
          "model_module": "@jupyter-widgets/controls",
          "model_name": "HTMLModel",
          "model_module_version": "1.5.0",
          "state": {
            "_view_name": "HTMLView",
            "style": "IPY_MODEL_9e30f8042f1440ca8ee0a4430c828d4a",
            "_dom_classes": [],
            "description": "",
            "_model_name": "HTMLModel",
            "placeholder": "​",
            "_view_module": "@jupyter-widgets/controls",
            "_model_module_version": "1.5.0",
            "value": "training routine: 100%",
            "_view_count": null,
            "_view_module_version": "1.5.0",
            "description_tooltip": null,
            "_model_module": "@jupyter-widgets/controls",
            "layout": "IPY_MODEL_ea5b40264f4447848c73d8e576c2f043"
          }
        },
        "ad07389f8e514f3c9079ddefc5334d34": {
          "model_module": "@jupyter-widgets/controls",
          "model_name": "FloatProgressModel",
          "model_module_version": "1.5.0",
          "state": {
            "_view_name": "ProgressView",
            "style": "IPY_MODEL_197586fb7dc54cc98c99302fb374ec10",
            "_dom_classes": [],
            "description": "",
            "_model_name": "FloatProgressModel",
            "bar_style": "",
            "max": 150,
            "_view_module": "@jupyter-widgets/controls",
            "_model_module_version": "1.5.0",
            "value": 150,
            "_view_count": null,
            "_view_module_version": "1.5.0",
            "orientation": "horizontal",
            "min": 0,
            "description_tooltip": null,
            "_model_module": "@jupyter-widgets/controls",
            "layout": "IPY_MODEL_0737cd03ba94487b8b02a8297599584f"
          }
        },
        "26437a6af9424d908bc114d48c95fe01": {
          "model_module": "@jupyter-widgets/controls",
          "model_name": "HTMLModel",
          "model_module_version": "1.5.0",
          "state": {
            "_view_name": "HTMLView",
            "style": "IPY_MODEL_fde530cf07aa4dbca53fa752f7e520b9",
            "_dom_classes": [],
            "description": "",
            "_model_name": "HTMLModel",
            "placeholder": "​",
            "_view_module": "@jupyter-widgets/controls",
            "_model_module_version": "1.5.0",
            "value": " 150/150 [04:03&lt;00:00,  1.61s/it, sample1=HEATSTROK,SUNSTR,HT EXHAU-&gt;employee instatic wo, sample2=DUST IN EYES-&gt;hittment discharge m]",
            "_view_count": null,
            "_view_module_version": "1.5.0",
            "description_tooltip": null,
            "_model_module": "@jupyter-widgets/controls",
            "layout": "IPY_MODEL_22f67fc86441458ebb363387edc2599e"
          }
        },
        "9e30f8042f1440ca8ee0a4430c828d4a": {
          "model_module": "@jupyter-widgets/controls",
          "model_name": "DescriptionStyleModel",
          "model_module_version": "1.5.0",
          "state": {
            "_view_name": "StyleView",
            "_model_name": "DescriptionStyleModel",
            "description_width": "",
            "_view_module": "@jupyter-widgets/base",
            "_model_module_version": "1.5.0",
            "_view_count": null,
            "_view_module_version": "1.2.0",
            "_model_module": "@jupyter-widgets/controls"
          }
        },
        "ea5b40264f4447848c73d8e576c2f043": {
          "model_module": "@jupyter-widgets/base",
          "model_name": "LayoutModel",
          "model_module_version": "1.2.0",
          "state": {
            "_view_name": "LayoutView",
            "grid_template_rows": null,
            "right": null,
            "justify_content": null,
            "_view_module": "@jupyter-widgets/base",
            "overflow": null,
            "_model_module_version": "1.2.0",
            "_view_count": null,
            "flex_flow": null,
            "width": null,
            "min_width": null,
            "border": null,
            "align_items": null,
            "bottom": null,
            "_model_module": "@jupyter-widgets/base",
            "top": null,
            "grid_column": null,
            "overflow_y": null,
            "overflow_x": null,
            "grid_auto_flow": null,
            "grid_area": null,
            "grid_template_columns": null,
            "flex": null,
            "_model_name": "LayoutModel",
            "justify_items": null,
            "grid_row": null,
            "max_height": null,
            "align_content": null,
            "visibility": null,
            "align_self": null,
            "height": null,
            "min_height": null,
            "padding": null,
            "grid_auto_rows": null,
            "grid_gap": null,
            "max_width": null,
            "order": null,
            "_view_module_version": "1.2.0",
            "grid_template_areas": null,
            "object_position": null,
            "object_fit": null,
            "grid_auto_columns": null,
            "margin": null,
            "display": null,
            "left": null
          }
        },
        "197586fb7dc54cc98c99302fb374ec10": {
          "model_module": "@jupyter-widgets/controls",
          "model_name": "ProgressStyleModel",
          "model_module_version": "1.5.0",
          "state": {
            "_view_name": "StyleView",
            "_model_name": "ProgressStyleModel",
            "description_width": "",
            "_view_module": "@jupyter-widgets/base",
            "_model_module_version": "1.5.0",
            "_view_count": null,
            "_view_module_version": "1.2.0",
            "bar_color": null,
            "_model_module": "@jupyter-widgets/controls"
          }
        },
        "0737cd03ba94487b8b02a8297599584f": {
          "model_module": "@jupyter-widgets/base",
          "model_name": "LayoutModel",
          "model_module_version": "1.2.0",
          "state": {
            "_view_name": "LayoutView",
            "grid_template_rows": null,
            "right": null,
            "justify_content": null,
            "_view_module": "@jupyter-widgets/base",
            "overflow": null,
            "_model_module_version": "1.2.0",
            "_view_count": null,
            "flex_flow": null,
            "width": null,
            "min_width": null,
            "border": null,
            "align_items": null,
            "bottom": null,
            "_model_module": "@jupyter-widgets/base",
            "top": null,
            "grid_column": null,
            "overflow_y": null,
            "overflow_x": null,
            "grid_auto_flow": null,
            "grid_area": null,
            "grid_template_columns": null,
            "flex": null,
            "_model_name": "LayoutModel",
            "justify_items": null,
            "grid_row": null,
            "max_height": null,
            "align_content": null,
            "visibility": null,
            "align_self": null,
            "height": null,
            "min_height": null,
            "padding": null,
            "grid_auto_rows": null,
            "grid_gap": null,
            "max_width": null,
            "order": null,
            "_view_module_version": "1.2.0",
            "grid_template_areas": null,
            "object_position": null,
            "object_fit": null,
            "grid_auto_columns": null,
            "margin": null,
            "display": null,
            "left": null
          }
        },
        "fde530cf07aa4dbca53fa752f7e520b9": {
          "model_module": "@jupyter-widgets/controls",
          "model_name": "DescriptionStyleModel",
          "model_module_version": "1.5.0",
          "state": {
            "_view_name": "StyleView",
            "_model_name": "DescriptionStyleModel",
            "description_width": "",
            "_view_module": "@jupyter-widgets/base",
            "_model_module_version": "1.5.0",
            "_view_count": null,
            "_view_module_version": "1.2.0",
            "_model_module": "@jupyter-widgets/controls"
          }
        },
        "22f67fc86441458ebb363387edc2599e": {
          "model_module": "@jupyter-widgets/base",
          "model_name": "LayoutModel",
          "model_module_version": "1.2.0",
          "state": {
            "_view_name": "LayoutView",
            "grid_template_rows": null,
            "right": null,
            "justify_content": null,
            "_view_module": "@jupyter-widgets/base",
            "overflow": null,
            "_model_module_version": "1.2.0",
            "_view_count": null,
            "flex_flow": null,
            "width": null,
            "min_width": null,
            "border": null,
            "align_items": null,
            "bottom": null,
            "_model_module": "@jupyter-widgets/base",
            "top": null,
            "grid_column": null,
            "overflow_y": null,
            "overflow_x": null,
            "grid_auto_flow": null,
            "grid_area": null,
            "grid_template_columns": null,
            "flex": null,
            "_model_name": "LayoutModel",
            "justify_items": null,
            "grid_row": null,
            "max_height": null,
            "align_content": null,
            "visibility": null,
            "align_self": null,
            "height": null,
            "min_height": null,
            "padding": null,
            "grid_auto_rows": null,
            "grid_gap": null,
            "max_width": null,
            "order": null,
            "_view_module_version": "1.2.0",
            "grid_template_areas": null,
            "object_position": null,
            "object_fit": null,
            "grid_auto_columns": null,
            "margin": null,
            "display": null,
            "left": null
          }
        },
        "681c980380934aaa9e652de5763b22a9": {
          "model_module": "@jupyter-widgets/controls",
          "model_name": "HBoxModel",
          "model_module_version": "1.5.0",
          "state": {
            "_view_name": "HBoxView",
            "_dom_classes": [],
            "_model_name": "HBoxModel",
            "_view_module": "@jupyter-widgets/controls",
            "_model_module_version": "1.5.0",
            "_view_count": null,
            "_view_module_version": "1.5.0",
            "box_style": "",
            "layout": "IPY_MODEL_4a1bc41b4efe4c43b27003c5033c55fc",
            "_model_module": "@jupyter-widgets/controls",
            "children": [
              "IPY_MODEL_e3c6f1e6b0f641919875ce07b25fda5a",
              "IPY_MODEL_dc120c9ef26f4ab8bcbcfe2036f134fe",
              "IPY_MODEL_870bd62a818c4157934c6c8551debfe1"
            ]
          }
        },
        "4a1bc41b4efe4c43b27003c5033c55fc": {
          "model_module": "@jupyter-widgets/base",
          "model_name": "LayoutModel",
          "model_module_version": "1.2.0",
          "state": {
            "_view_name": "LayoutView",
            "grid_template_rows": null,
            "right": null,
            "justify_content": null,
            "_view_module": "@jupyter-widgets/base",
            "overflow": null,
            "_model_module_version": "1.2.0",
            "_view_count": null,
            "flex_flow": null,
            "width": null,
            "min_width": null,
            "border": null,
            "align_items": null,
            "bottom": null,
            "_model_module": "@jupyter-widgets/base",
            "top": null,
            "grid_column": null,
            "overflow_y": null,
            "overflow_x": null,
            "grid_auto_flow": null,
            "grid_area": null,
            "grid_template_columns": null,
            "flex": null,
            "_model_name": "LayoutModel",
            "justify_items": null,
            "grid_row": null,
            "max_height": null,
            "align_content": null,
            "visibility": null,
            "align_self": null,
            "height": null,
            "min_height": null,
            "padding": null,
            "grid_auto_rows": null,
            "grid_gap": null,
            "max_width": null,
            "order": null,
            "_view_module_version": "1.2.0",
            "grid_template_areas": null,
            "object_position": null,
            "object_fit": null,
            "grid_auto_columns": null,
            "margin": null,
            "display": null,
            "left": null
          }
        },
        "e3c6f1e6b0f641919875ce07b25fda5a": {
          "model_module": "@jupyter-widgets/controls",
          "model_name": "HTMLModel",
          "model_module_version": "1.5.0",
          "state": {
            "_view_name": "HTMLView",
            "style": "IPY_MODEL_1aa2fa7845ba4cfd81413fae3998990b",
            "_dom_classes": [],
            "description": "",
            "_model_name": "HTMLModel",
            "placeholder": "​",
            "_view_module": "@jupyter-widgets/controls",
            "_model_module_version": "1.5.0",
            "value": "split=train:  89%",
            "_view_count": null,
            "_view_module_version": "1.5.0",
            "description_tooltip": null,
            "_model_module": "@jupyter-widgets/controls",
            "layout": "IPY_MODEL_3551d8e398c54e669cad089abf1e7beb"
          }
        },
        "dc120c9ef26f4ab8bcbcfe2036f134fe": {
          "model_module": "@jupyter-widgets/controls",
          "model_name": "FloatProgressModel",
          "model_module_version": "1.5.0",
          "state": {
            "_view_name": "ProgressView",
            "style": "IPY_MODEL_fa89ee68a87140c79b4999bbb30f10f1",
            "_dom_classes": [],
            "description": "",
            "_model_name": "FloatProgressModel",
            "bar_style": "",
            "max": 9,
            "_view_module": "@jupyter-widgets/controls",
            "_model_module_version": "1.5.0",
            "value": 8,
            "_view_count": null,
            "_view_module_version": "1.5.0",
            "orientation": "horizontal",
            "min": 0,
            "description_tooltip": null,
            "_model_module": "@jupyter-widgets/controls",
            "layout": "IPY_MODEL_a5d7f3710b2348bbae0efae8a7965d1a"
          }
        },
        "870bd62a818c4157934c6c8551debfe1": {
          "model_module": "@jupyter-widgets/controls",
          "model_name": "HTMLModel",
          "model_module_version": "1.5.0",
          "state": {
            "_view_name": "HTMLView",
            "style": "IPY_MODEL_80b2ab16986e46ee88eba3e99121bee2",
            "_dom_classes": [],
            "description": "",
            "_model_name": "HTMLModel",
            "placeholder": "​",
            "_view_module": "@jupyter-widgets/controls",
            "_model_module_version": "1.5.0",
            "value": " 8/9 [04:03&lt;00:00,  5.66it/s, acc=66.9, epoch=149, loss=1.06]",
            "_view_count": null,
            "_view_module_version": "1.5.0",
            "description_tooltip": null,
            "_model_module": "@jupyter-widgets/controls",
            "layout": "IPY_MODEL_abdac76f79604d8e8e442535a902b607"
          }
        },
        "1aa2fa7845ba4cfd81413fae3998990b": {
          "model_module": "@jupyter-widgets/controls",
          "model_name": "DescriptionStyleModel",
          "model_module_version": "1.5.0",
          "state": {
            "_view_name": "StyleView",
            "_model_name": "DescriptionStyleModel",
            "description_width": "",
            "_view_module": "@jupyter-widgets/base",
            "_model_module_version": "1.5.0",
            "_view_count": null,
            "_view_module_version": "1.2.0",
            "_model_module": "@jupyter-widgets/controls"
          }
        },
        "3551d8e398c54e669cad089abf1e7beb": {
          "model_module": "@jupyter-widgets/base",
          "model_name": "LayoutModel",
          "model_module_version": "1.2.0",
          "state": {
            "_view_name": "LayoutView",
            "grid_template_rows": null,
            "right": null,
            "justify_content": null,
            "_view_module": "@jupyter-widgets/base",
            "overflow": null,
            "_model_module_version": "1.2.0",
            "_view_count": null,
            "flex_flow": null,
            "width": null,
            "min_width": null,
            "border": null,
            "align_items": null,
            "bottom": null,
            "_model_module": "@jupyter-widgets/base",
            "top": null,
            "grid_column": null,
            "overflow_y": null,
            "overflow_x": null,
            "grid_auto_flow": null,
            "grid_area": null,
            "grid_template_columns": null,
            "flex": null,
            "_model_name": "LayoutModel",
            "justify_items": null,
            "grid_row": null,
            "max_height": null,
            "align_content": null,
            "visibility": null,
            "align_self": null,
            "height": null,
            "min_height": null,
            "padding": null,
            "grid_auto_rows": null,
            "grid_gap": null,
            "max_width": null,
            "order": null,
            "_view_module_version": "1.2.0",
            "grid_template_areas": null,
            "object_position": null,
            "object_fit": null,
            "grid_auto_columns": null,
            "margin": null,
            "display": null,
            "left": null
          }
        },
        "fa89ee68a87140c79b4999bbb30f10f1": {
          "model_module": "@jupyter-widgets/controls",
          "model_name": "ProgressStyleModel",
          "model_module_version": "1.5.0",
          "state": {
            "_view_name": "StyleView",
            "_model_name": "ProgressStyleModel",
            "description_width": "",
            "_view_module": "@jupyter-widgets/base",
            "_model_module_version": "1.5.0",
            "_view_count": null,
            "_view_module_version": "1.2.0",
            "bar_color": null,
            "_model_module": "@jupyter-widgets/controls"
          }
        },
        "a5d7f3710b2348bbae0efae8a7965d1a": {
          "model_module": "@jupyter-widgets/base",
          "model_name": "LayoutModel",
          "model_module_version": "1.2.0",
          "state": {
            "_view_name": "LayoutView",
            "grid_template_rows": null,
            "right": null,
            "justify_content": null,
            "_view_module": "@jupyter-widgets/base",
            "overflow": null,
            "_model_module_version": "1.2.0",
            "_view_count": null,
            "flex_flow": null,
            "width": null,
            "min_width": null,
            "border": null,
            "align_items": null,
            "bottom": null,
            "_model_module": "@jupyter-widgets/base",
            "top": null,
            "grid_column": null,
            "overflow_y": null,
            "overflow_x": null,
            "grid_auto_flow": null,
            "grid_area": null,
            "grid_template_columns": null,
            "flex": null,
            "_model_name": "LayoutModel",
            "justify_items": null,
            "grid_row": null,
            "max_height": null,
            "align_content": null,
            "visibility": null,
            "align_self": null,
            "height": null,
            "min_height": null,
            "padding": null,
            "grid_auto_rows": null,
            "grid_gap": null,
            "max_width": null,
            "order": null,
            "_view_module_version": "1.2.0",
            "grid_template_areas": null,
            "object_position": null,
            "object_fit": null,
            "grid_auto_columns": null,
            "margin": null,
            "display": null,
            "left": null
          }
        },
        "80b2ab16986e46ee88eba3e99121bee2": {
          "model_module": "@jupyter-widgets/controls",
          "model_name": "DescriptionStyleModel",
          "model_module_version": "1.5.0",
          "state": {
            "_view_name": "StyleView",
            "_model_name": "DescriptionStyleModel",
            "description_width": "",
            "_view_module": "@jupyter-widgets/base",
            "_model_module_version": "1.5.0",
            "_view_count": null,
            "_view_module_version": "1.2.0",
            "_model_module": "@jupyter-widgets/controls"
          }
        },
        "abdac76f79604d8e8e442535a902b607": {
          "model_module": "@jupyter-widgets/base",
          "model_name": "LayoutModel",
          "model_module_version": "1.2.0",
          "state": {
            "_view_name": "LayoutView",
            "grid_template_rows": null,
            "right": null,
            "justify_content": null,
            "_view_module": "@jupyter-widgets/base",
            "overflow": null,
            "_model_module_version": "1.2.0",
            "_view_count": null,
            "flex_flow": null,
            "width": null,
            "min_width": null,
            "border": null,
            "align_items": null,
            "bottom": null,
            "_model_module": "@jupyter-widgets/base",
            "top": null,
            "grid_column": null,
            "overflow_y": null,
            "overflow_x": null,
            "grid_auto_flow": null,
            "grid_area": null,
            "grid_template_columns": null,
            "flex": null,
            "_model_name": "LayoutModel",
            "justify_items": null,
            "grid_row": null,
            "max_height": null,
            "align_content": null,
            "visibility": null,
            "align_self": null,
            "height": null,
            "min_height": null,
            "padding": null,
            "grid_auto_rows": null,
            "grid_gap": null,
            "max_width": null,
            "order": null,
            "_view_module_version": "1.2.0",
            "grid_template_areas": null,
            "object_position": null,
            "object_fit": null,
            "grid_auto_columns": null,
            "margin": null,
            "display": null,
            "left": null
          }
        },
        "92b17d2438204013a59226f9d8280839": {
          "model_module": "@jupyter-widgets/controls",
          "model_name": "HBoxModel",
          "model_module_version": "1.5.0",
          "state": {
            "_view_name": "HBoxView",
            "_dom_classes": [],
            "_model_name": "HBoxModel",
            "_view_module": "@jupyter-widgets/controls",
            "_model_module_version": "1.5.0",
            "_view_count": null,
            "_view_module_version": "1.5.0",
            "box_style": "",
            "layout": "IPY_MODEL_e16dfd8bca324e338fd3d5c44df9e251",
            "_model_module": "@jupyter-widgets/controls",
            "children": [
              "IPY_MODEL_32d5add2dba24748bad3c31213720e5a",
              "IPY_MODEL_cbc0b0b8231e45b1aa27f8def3897e9b",
              "IPY_MODEL_d674b92efa82437aa045808a1caffef2"
            ]
          }
        },
        "e16dfd8bca324e338fd3d5c44df9e251": {
          "model_module": "@jupyter-widgets/base",
          "model_name": "LayoutModel",
          "model_module_version": "1.2.0",
          "state": {
            "_view_name": "LayoutView",
            "grid_template_rows": null,
            "right": null,
            "justify_content": null,
            "_view_module": "@jupyter-widgets/base",
            "overflow": null,
            "_model_module_version": "1.2.0",
            "_view_count": null,
            "flex_flow": null,
            "width": null,
            "min_width": null,
            "border": null,
            "align_items": null,
            "bottom": null,
            "_model_module": "@jupyter-widgets/base",
            "top": null,
            "grid_column": null,
            "overflow_y": null,
            "overflow_x": null,
            "grid_auto_flow": null,
            "grid_area": null,
            "grid_template_columns": null,
            "flex": null,
            "_model_name": "LayoutModel",
            "justify_items": null,
            "grid_row": null,
            "max_height": null,
            "align_content": null,
            "visibility": null,
            "align_self": null,
            "height": null,
            "min_height": null,
            "padding": null,
            "grid_auto_rows": null,
            "grid_gap": null,
            "max_width": null,
            "order": null,
            "_view_module_version": "1.2.0",
            "grid_template_areas": null,
            "object_position": null,
            "object_fit": null,
            "grid_auto_columns": null,
            "margin": null,
            "display": null,
            "left": null
          }
        },
        "32d5add2dba24748bad3c31213720e5a": {
          "model_module": "@jupyter-widgets/controls",
          "model_name": "HTMLModel",
          "model_module_version": "1.5.0",
          "state": {
            "_view_name": "HTMLView",
            "style": "IPY_MODEL_8290c64a73ef477c88df8ea9502179ee",
            "_dom_classes": [],
            "description": "",
            "_model_name": "HTMLModel",
            "placeholder": "​",
            "_view_module": "@jupyter-widgets/controls",
            "_model_module_version": "1.5.0",
            "value": "split=val:   0%",
            "_view_count": null,
            "_view_module_version": "1.5.0",
            "description_tooltip": null,
            "_model_module": "@jupyter-widgets/controls",
            "layout": "IPY_MODEL_9b608bbaadaa4aad93d7037f26ea8170"
          }
        },
        "cbc0b0b8231e45b1aa27f8def3897e9b": {
          "model_module": "@jupyter-widgets/controls",
          "model_name": "FloatProgressModel",
          "model_module_version": "1.5.0",
          "state": {
            "_view_name": "ProgressView",
            "style": "IPY_MODEL_dc6c238742f64045b7750167648a5bc4",
            "_dom_classes": [],
            "description": "",
            "_model_name": "FloatProgressModel",
            "bar_style": "",
            "max": 1,
            "_view_module": "@jupyter-widgets/controls",
            "_model_module_version": "1.5.0",
            "value": 0,
            "_view_count": null,
            "_view_module_version": "1.5.0",
            "orientation": "horizontal",
            "min": 0,
            "description_tooltip": null,
            "_model_module": "@jupyter-widgets/controls",
            "layout": "IPY_MODEL_3bf8d814bc5d46329bf0479571951be0"
          }
        },
        "d674b92efa82437aa045808a1caffef2": {
          "model_module": "@jupyter-widgets/controls",
          "model_name": "HTMLModel",
          "model_module_version": "1.5.0",
          "state": {
            "_view_name": "HTMLView",
            "style": "IPY_MODEL_4c4807c650894b679080f04fc637d8b5",
            "_dom_classes": [],
            "description": "",
            "_model_name": "HTMLModel",
            "placeholder": "​",
            "_view_module": "@jupyter-widgets/controls",
            "_model_module_version": "1.5.0",
            "value": " 0/1 [04:03&lt;00:01,  1.87s/it, acc=62.3, epoch=149, loss=1.23]",
            "_view_count": null,
            "_view_module_version": "1.5.0",
            "description_tooltip": null,
            "_model_module": "@jupyter-widgets/controls",
            "layout": "IPY_MODEL_3148bae9acca44939c08e9de2143f8f8"
          }
        },
        "8290c64a73ef477c88df8ea9502179ee": {
          "model_module": "@jupyter-widgets/controls",
          "model_name": "DescriptionStyleModel",
          "model_module_version": "1.5.0",
          "state": {
            "_view_name": "StyleView",
            "_model_name": "DescriptionStyleModel",
            "description_width": "",
            "_view_module": "@jupyter-widgets/base",
            "_model_module_version": "1.5.0",
            "_view_count": null,
            "_view_module_version": "1.2.0",
            "_model_module": "@jupyter-widgets/controls"
          }
        },
        "9b608bbaadaa4aad93d7037f26ea8170": {
          "model_module": "@jupyter-widgets/base",
          "model_name": "LayoutModel",
          "model_module_version": "1.2.0",
          "state": {
            "_view_name": "LayoutView",
            "grid_template_rows": null,
            "right": null,
            "justify_content": null,
            "_view_module": "@jupyter-widgets/base",
            "overflow": null,
            "_model_module_version": "1.2.0",
            "_view_count": null,
            "flex_flow": null,
            "width": null,
            "min_width": null,
            "border": null,
            "align_items": null,
            "bottom": null,
            "_model_module": "@jupyter-widgets/base",
            "top": null,
            "grid_column": null,
            "overflow_y": null,
            "overflow_x": null,
            "grid_auto_flow": null,
            "grid_area": null,
            "grid_template_columns": null,
            "flex": null,
            "_model_name": "LayoutModel",
            "justify_items": null,
            "grid_row": null,
            "max_height": null,
            "align_content": null,
            "visibility": null,
            "align_self": null,
            "height": null,
            "min_height": null,
            "padding": null,
            "grid_auto_rows": null,
            "grid_gap": null,
            "max_width": null,
            "order": null,
            "_view_module_version": "1.2.0",
            "grid_template_areas": null,
            "object_position": null,
            "object_fit": null,
            "grid_auto_columns": null,
            "margin": null,
            "display": null,
            "left": null
          }
        },
        "dc6c238742f64045b7750167648a5bc4": {
          "model_module": "@jupyter-widgets/controls",
          "model_name": "ProgressStyleModel",
          "model_module_version": "1.5.0",
          "state": {
            "_view_name": "StyleView",
            "_model_name": "ProgressStyleModel",
            "description_width": "",
            "_view_module": "@jupyter-widgets/base",
            "_model_module_version": "1.5.0",
            "_view_count": null,
            "_view_module_version": "1.2.0",
            "bar_color": null,
            "_model_module": "@jupyter-widgets/controls"
          }
        },
        "3bf8d814bc5d46329bf0479571951be0": {
          "model_module": "@jupyter-widgets/base",
          "model_name": "LayoutModel",
          "model_module_version": "1.2.0",
          "state": {
            "_view_name": "LayoutView",
            "grid_template_rows": null,
            "right": null,
            "justify_content": null,
            "_view_module": "@jupyter-widgets/base",
            "overflow": null,
            "_model_module_version": "1.2.0",
            "_view_count": null,
            "flex_flow": null,
            "width": null,
            "min_width": null,
            "border": null,
            "align_items": null,
            "bottom": null,
            "_model_module": "@jupyter-widgets/base",
            "top": null,
            "grid_column": null,
            "overflow_y": null,
            "overflow_x": null,
            "grid_auto_flow": null,
            "grid_area": null,
            "grid_template_columns": null,
            "flex": null,
            "_model_name": "LayoutModel",
            "justify_items": null,
            "grid_row": null,
            "max_height": null,
            "align_content": null,
            "visibility": null,
            "align_self": null,
            "height": null,
            "min_height": null,
            "padding": null,
            "grid_auto_rows": null,
            "grid_gap": null,
            "max_width": null,
            "order": null,
            "_view_module_version": "1.2.0",
            "grid_template_areas": null,
            "object_position": null,
            "object_fit": null,
            "grid_auto_columns": null,
            "margin": null,
            "display": null,
            "left": null
          }
        },
        "4c4807c650894b679080f04fc637d8b5": {
          "model_module": "@jupyter-widgets/controls",
          "model_name": "DescriptionStyleModel",
          "model_module_version": "1.5.0",
          "state": {
            "_view_name": "StyleView",
            "_model_name": "DescriptionStyleModel",
            "description_width": "",
            "_view_module": "@jupyter-widgets/base",
            "_model_module_version": "1.5.0",
            "_view_count": null,
            "_view_module_version": "1.2.0",
            "_model_module": "@jupyter-widgets/controls"
          }
        },
        "3148bae9acca44939c08e9de2143f8f8": {
          "model_module": "@jupyter-widgets/base",
          "model_name": "LayoutModel",
          "model_module_version": "1.2.0",
          "state": {
            "_view_name": "LayoutView",
            "grid_template_rows": null,
            "right": null,
            "justify_content": null,
            "_view_module": "@jupyter-widgets/base",
            "overflow": null,
            "_model_module_version": "1.2.0",
            "_view_count": null,
            "flex_flow": null,
            "width": null,
            "min_width": null,
            "border": null,
            "align_items": null,
            "bottom": null,
            "_model_module": "@jupyter-widgets/base",
            "top": null,
            "grid_column": null,
            "overflow_y": null,
            "overflow_x": null,
            "grid_auto_flow": null,
            "grid_area": null,
            "grid_template_columns": null,
            "flex": null,
            "_model_name": "LayoutModel",
            "justify_items": null,
            "grid_row": null,
            "max_height": null,
            "align_content": null,
            "visibility": null,
            "align_self": null,
            "height": null,
            "min_height": null,
            "padding": null,
            "grid_auto_rows": null,
            "grid_gap": null,
            "max_width": null,
            "order": null,
            "_view_module_version": "1.2.0",
            "grid_template_areas": null,
            "object_position": null,
            "object_fit": null,
            "grid_auto_columns": null,
            "margin": null,
            "display": null,
            "left": null
          }
        },
        "13e30ff69ea049eeb04ea79498e6f956": {
          "model_module": "@jupyter-widgets/controls",
          "model_name": "HBoxModel",
          "model_module_version": "1.5.0",
          "state": {
            "_view_name": "HBoxView",
            "_dom_classes": [],
            "_model_name": "HBoxModel",
            "_view_module": "@jupyter-widgets/controls",
            "_model_module_version": "1.5.0",
            "_view_count": null,
            "_view_module_version": "1.5.0",
            "box_style": "",
            "layout": "IPY_MODEL_a89726f4bb74421494a2cd9bc1a55642",
            "_model_module": "@jupyter-widgets/controls",
            "children": [
              "IPY_MODEL_5fe866c72b2f486f8c18f7174a92e47a",
              "IPY_MODEL_698f25caa138445f8b3edfc50022d0d6",
              "IPY_MODEL_1438e857a5e64231a1f88d9cb77a327d"
            ]
          }
        },
        "a89726f4bb74421494a2cd9bc1a55642": {
          "model_module": "@jupyter-widgets/base",
          "model_name": "LayoutModel",
          "model_module_version": "1.2.0",
          "state": {
            "_view_name": "LayoutView",
            "grid_template_rows": null,
            "right": null,
            "justify_content": null,
            "_view_module": "@jupyter-widgets/base",
            "overflow": null,
            "_model_module_version": "1.2.0",
            "_view_count": null,
            "flex_flow": null,
            "width": null,
            "min_width": null,
            "border": null,
            "align_items": null,
            "bottom": null,
            "_model_module": "@jupyter-widgets/base",
            "top": null,
            "grid_column": null,
            "overflow_y": null,
            "overflow_x": null,
            "grid_auto_flow": null,
            "grid_area": null,
            "grid_template_columns": null,
            "flex": null,
            "_model_name": "LayoutModel",
            "justify_items": null,
            "grid_row": null,
            "max_height": null,
            "align_content": null,
            "visibility": null,
            "align_self": null,
            "height": null,
            "min_height": null,
            "padding": null,
            "grid_auto_rows": null,
            "grid_gap": null,
            "max_width": null,
            "order": null,
            "_view_module_version": "1.2.0",
            "grid_template_areas": null,
            "object_position": null,
            "object_fit": null,
            "grid_auto_columns": null,
            "margin": null,
            "display": null,
            "left": null
          }
        },
        "5fe866c72b2f486f8c18f7174a92e47a": {
          "model_module": "@jupyter-widgets/controls",
          "model_name": "HTMLModel",
          "model_module_version": "1.5.0",
          "state": {
            "_view_name": "HTMLView",
            "style": "IPY_MODEL_8fdaa37143944aceb1f21a4a8a4c86c5",
            "_dom_classes": [],
            "description": "",
            "_model_name": "HTMLModel",
            "placeholder": "​",
            "_view_module": "@jupyter-widgets/controls",
            "_model_module_version": "1.5.0",
            "value": "training routine: 100%",
            "_view_count": null,
            "_view_module_version": "1.5.0",
            "description_tooltip": null,
            "_model_module": "@jupyter-widgets/controls",
            "layout": "IPY_MODEL_487d422ed43649eca9a2b033e61ae789"
          }
        },
        "698f25caa138445f8b3edfc50022d0d6": {
          "model_module": "@jupyter-widgets/controls",
          "model_name": "FloatProgressModel",
          "model_module_version": "1.5.0",
          "state": {
            "_view_name": "ProgressView",
            "style": "IPY_MODEL_50f0f53792e54153b1837288e097481e",
            "_dom_classes": [],
            "description": "",
            "_model_name": "FloatProgressModel",
            "bar_style": "",
            "max": 150,
            "_view_module": "@jupyter-widgets/controls",
            "_model_module_version": "1.5.0",
            "value": 150,
            "_view_count": null,
            "_view_module_version": "1.5.0",
            "orientation": "horizontal",
            "min": 0,
            "description_tooltip": null,
            "_model_module": "@jupyter-widgets/controls",
            "layout": "IPY_MODEL_46ad14a9b7f049568531e5ed9c860ffb"
          }
        },
        "1438e857a5e64231a1f88d9cb77a327d": {
          "model_module": "@jupyter-widgets/controls",
          "model_name": "HTMLModel",
          "model_module_version": "1.5.0",
          "state": {
            "_view_name": "HTMLView",
            "style": "IPY_MODEL_93b1cb58d443433e9e122efdf6ebc092",
            "_dom_classes": [],
            "description": "",
            "_model_name": "HTMLModel",
            "placeholder": "​",
            "_view_module": "@jupyter-widgets/controls",
            "_model_module_version": "1.5.0",
            "value": " 150/150 [03:36&lt;00:00,  1.44s/it, sample1=CONTUSN,BRUISE,INTAC SKIN-&gt;injured smount fell, sample2=MULTIPLE INJURIES-&gt;ee unservical therap]",
            "_view_count": null,
            "_view_module_version": "1.5.0",
            "description_tooltip": null,
            "_model_module": "@jupyter-widgets/controls",
            "layout": "IPY_MODEL_e999ed74184343eaba07908593908f78"
          }
        },
        "8fdaa37143944aceb1f21a4a8a4c86c5": {
          "model_module": "@jupyter-widgets/controls",
          "model_name": "DescriptionStyleModel",
          "model_module_version": "1.5.0",
          "state": {
            "_view_name": "StyleView",
            "_model_name": "DescriptionStyleModel",
            "description_width": "",
            "_view_module": "@jupyter-widgets/base",
            "_model_module_version": "1.5.0",
            "_view_count": null,
            "_view_module_version": "1.2.0",
            "_model_module": "@jupyter-widgets/controls"
          }
        },
        "487d422ed43649eca9a2b033e61ae789": {
          "model_module": "@jupyter-widgets/base",
          "model_name": "LayoutModel",
          "model_module_version": "1.2.0",
          "state": {
            "_view_name": "LayoutView",
            "grid_template_rows": null,
            "right": null,
            "justify_content": null,
            "_view_module": "@jupyter-widgets/base",
            "overflow": null,
            "_model_module_version": "1.2.0",
            "_view_count": null,
            "flex_flow": null,
            "width": null,
            "min_width": null,
            "border": null,
            "align_items": null,
            "bottom": null,
            "_model_module": "@jupyter-widgets/base",
            "top": null,
            "grid_column": null,
            "overflow_y": null,
            "overflow_x": null,
            "grid_auto_flow": null,
            "grid_area": null,
            "grid_template_columns": null,
            "flex": null,
            "_model_name": "LayoutModel",
            "justify_items": null,
            "grid_row": null,
            "max_height": null,
            "align_content": null,
            "visibility": null,
            "align_self": null,
            "height": null,
            "min_height": null,
            "padding": null,
            "grid_auto_rows": null,
            "grid_gap": null,
            "max_width": null,
            "order": null,
            "_view_module_version": "1.2.0",
            "grid_template_areas": null,
            "object_position": null,
            "object_fit": null,
            "grid_auto_columns": null,
            "margin": null,
            "display": null,
            "left": null
          }
        },
        "50f0f53792e54153b1837288e097481e": {
          "model_module": "@jupyter-widgets/controls",
          "model_name": "ProgressStyleModel",
          "model_module_version": "1.5.0",
          "state": {
            "_view_name": "StyleView",
            "_model_name": "ProgressStyleModel",
            "description_width": "",
            "_view_module": "@jupyter-widgets/base",
            "_model_module_version": "1.5.0",
            "_view_count": null,
            "_view_module_version": "1.2.0",
            "bar_color": null,
            "_model_module": "@jupyter-widgets/controls"
          }
        },
        "46ad14a9b7f049568531e5ed9c860ffb": {
          "model_module": "@jupyter-widgets/base",
          "model_name": "LayoutModel",
          "model_module_version": "1.2.0",
          "state": {
            "_view_name": "LayoutView",
            "grid_template_rows": null,
            "right": null,
            "justify_content": null,
            "_view_module": "@jupyter-widgets/base",
            "overflow": null,
            "_model_module_version": "1.2.0",
            "_view_count": null,
            "flex_flow": null,
            "width": null,
            "min_width": null,
            "border": null,
            "align_items": null,
            "bottom": null,
            "_model_module": "@jupyter-widgets/base",
            "top": null,
            "grid_column": null,
            "overflow_y": null,
            "overflow_x": null,
            "grid_auto_flow": null,
            "grid_area": null,
            "grid_template_columns": null,
            "flex": null,
            "_model_name": "LayoutModel",
            "justify_items": null,
            "grid_row": null,
            "max_height": null,
            "align_content": null,
            "visibility": null,
            "align_self": null,
            "height": null,
            "min_height": null,
            "padding": null,
            "grid_auto_rows": null,
            "grid_gap": null,
            "max_width": null,
            "order": null,
            "_view_module_version": "1.2.0",
            "grid_template_areas": null,
            "object_position": null,
            "object_fit": null,
            "grid_auto_columns": null,
            "margin": null,
            "display": null,
            "left": null
          }
        },
        "93b1cb58d443433e9e122efdf6ebc092": {
          "model_module": "@jupyter-widgets/controls",
          "model_name": "DescriptionStyleModel",
          "model_module_version": "1.5.0",
          "state": {
            "_view_name": "StyleView",
            "_model_name": "DescriptionStyleModel",
            "description_width": "",
            "_view_module": "@jupyter-widgets/base",
            "_model_module_version": "1.5.0",
            "_view_count": null,
            "_view_module_version": "1.2.0",
            "_model_module": "@jupyter-widgets/controls"
          }
        },
        "e999ed74184343eaba07908593908f78": {
          "model_module": "@jupyter-widgets/base",
          "model_name": "LayoutModel",
          "model_module_version": "1.2.0",
          "state": {
            "_view_name": "LayoutView",
            "grid_template_rows": null,
            "right": null,
            "justify_content": null,
            "_view_module": "@jupyter-widgets/base",
            "overflow": null,
            "_model_module_version": "1.2.0",
            "_view_count": null,
            "flex_flow": null,
            "width": null,
            "min_width": null,
            "border": null,
            "align_items": null,
            "bottom": null,
            "_model_module": "@jupyter-widgets/base",
            "top": null,
            "grid_column": null,
            "overflow_y": null,
            "overflow_x": null,
            "grid_auto_flow": null,
            "grid_area": null,
            "grid_template_columns": null,
            "flex": null,
            "_model_name": "LayoutModel",
            "justify_items": null,
            "grid_row": null,
            "max_height": null,
            "align_content": null,
            "visibility": null,
            "align_self": null,
            "height": null,
            "min_height": null,
            "padding": null,
            "grid_auto_rows": null,
            "grid_gap": null,
            "max_width": null,
            "order": null,
            "_view_module_version": "1.2.0",
            "grid_template_areas": null,
            "object_position": null,
            "object_fit": null,
            "grid_auto_columns": null,
            "margin": null,
            "display": null,
            "left": null
          }
        },
        "7cc988fef7034d06b691c871b5398538": {
          "model_module": "@jupyter-widgets/controls",
          "model_name": "HBoxModel",
          "model_module_version": "1.5.0",
          "state": {
            "_view_name": "HBoxView",
            "_dom_classes": [],
            "_model_name": "HBoxModel",
            "_view_module": "@jupyter-widgets/controls",
            "_model_module_version": "1.5.0",
            "_view_count": null,
            "_view_module_version": "1.5.0",
            "box_style": "",
            "layout": "IPY_MODEL_f5ec9019fe504eaf98e51197cf4f00cf",
            "_model_module": "@jupyter-widgets/controls",
            "children": [
              "IPY_MODEL_94d66c2191dd4b9797189c393d73b81d",
              "IPY_MODEL_8fcb6192bcb84798bddec6e6630ccd8b",
              "IPY_MODEL_0c4e5467e15448f69d0c51259ba9ef15"
            ]
          }
        },
        "f5ec9019fe504eaf98e51197cf4f00cf": {
          "model_module": "@jupyter-widgets/base",
          "model_name": "LayoutModel",
          "model_module_version": "1.2.0",
          "state": {
            "_view_name": "LayoutView",
            "grid_template_rows": null,
            "right": null,
            "justify_content": null,
            "_view_module": "@jupyter-widgets/base",
            "overflow": null,
            "_model_module_version": "1.2.0",
            "_view_count": null,
            "flex_flow": null,
            "width": null,
            "min_width": null,
            "border": null,
            "align_items": null,
            "bottom": null,
            "_model_module": "@jupyter-widgets/base",
            "top": null,
            "grid_column": null,
            "overflow_y": null,
            "overflow_x": null,
            "grid_auto_flow": null,
            "grid_area": null,
            "grid_template_columns": null,
            "flex": null,
            "_model_name": "LayoutModel",
            "justify_items": null,
            "grid_row": null,
            "max_height": null,
            "align_content": null,
            "visibility": null,
            "align_self": null,
            "height": null,
            "min_height": null,
            "padding": null,
            "grid_auto_rows": null,
            "grid_gap": null,
            "max_width": null,
            "order": null,
            "_view_module_version": "1.2.0",
            "grid_template_areas": null,
            "object_position": null,
            "object_fit": null,
            "grid_auto_columns": null,
            "margin": null,
            "display": null,
            "left": null
          }
        },
        "94d66c2191dd4b9797189c393d73b81d": {
          "model_module": "@jupyter-widgets/controls",
          "model_name": "HTMLModel",
          "model_module_version": "1.5.0",
          "state": {
            "_view_name": "HTMLView",
            "style": "IPY_MODEL_6caae9c3b1ce45ae8001de3af1984642",
            "_dom_classes": [],
            "description": "",
            "_model_name": "HTMLModel",
            "placeholder": "​",
            "_view_module": "@jupyter-widgets/controls",
            "_model_module_version": "1.5.0",
            "value": "split=train:  88%",
            "_view_count": null,
            "_view_module_version": "1.5.0",
            "description_tooltip": null,
            "_model_module": "@jupyter-widgets/controls",
            "layout": "IPY_MODEL_3aea3b50c8444226b1154751719ca235"
          }
        },
        "8fcb6192bcb84798bddec6e6630ccd8b": {
          "model_module": "@jupyter-widgets/controls",
          "model_name": "FloatProgressModel",
          "model_module_version": "1.5.0",
          "state": {
            "_view_name": "ProgressView",
            "style": "IPY_MODEL_bcc7672f43744dbeb0037a1228f01ed0",
            "_dom_classes": [],
            "description": "",
            "_model_name": "FloatProgressModel",
            "bar_style": "",
            "max": 8,
            "_view_module": "@jupyter-widgets/controls",
            "_model_module_version": "1.5.0",
            "value": 7,
            "_view_count": null,
            "_view_module_version": "1.5.0",
            "orientation": "horizontal",
            "min": 0,
            "description_tooltip": null,
            "_model_module": "@jupyter-widgets/controls",
            "layout": "IPY_MODEL_692f73112a0d420fb2ab0dcd1b3a95ca"
          }
        },
        "0c4e5467e15448f69d0c51259ba9ef15": {
          "model_module": "@jupyter-widgets/controls",
          "model_name": "HTMLModel",
          "model_module_version": "1.5.0",
          "state": {
            "_view_name": "HTMLView",
            "style": "IPY_MODEL_2b6b3063342a4fb0bc29a0e33d6f3a75",
            "_dom_classes": [],
            "description": "",
            "_model_name": "HTMLModel",
            "placeholder": "​",
            "_view_module": "@jupyter-widgets/controls",
            "_model_module_version": "1.5.0",
            "value": " 7/8 [03:36&lt;00:00,  5.75it/s, acc=68, epoch=149, loss=1.02]",
            "_view_count": null,
            "_view_module_version": "1.5.0",
            "description_tooltip": null,
            "_model_module": "@jupyter-widgets/controls",
            "layout": "IPY_MODEL_a731db389ebe40479de40d30a9b81fba"
          }
        },
        "6caae9c3b1ce45ae8001de3af1984642": {
          "model_module": "@jupyter-widgets/controls",
          "model_name": "DescriptionStyleModel",
          "model_module_version": "1.5.0",
          "state": {
            "_view_name": "StyleView",
            "_model_name": "DescriptionStyleModel",
            "description_width": "",
            "_view_module": "@jupyter-widgets/base",
            "_model_module_version": "1.5.0",
            "_view_count": null,
            "_view_module_version": "1.2.0",
            "_model_module": "@jupyter-widgets/controls"
          }
        },
        "3aea3b50c8444226b1154751719ca235": {
          "model_module": "@jupyter-widgets/base",
          "model_name": "LayoutModel",
          "model_module_version": "1.2.0",
          "state": {
            "_view_name": "LayoutView",
            "grid_template_rows": null,
            "right": null,
            "justify_content": null,
            "_view_module": "@jupyter-widgets/base",
            "overflow": null,
            "_model_module_version": "1.2.0",
            "_view_count": null,
            "flex_flow": null,
            "width": null,
            "min_width": null,
            "border": null,
            "align_items": null,
            "bottom": null,
            "_model_module": "@jupyter-widgets/base",
            "top": null,
            "grid_column": null,
            "overflow_y": null,
            "overflow_x": null,
            "grid_auto_flow": null,
            "grid_area": null,
            "grid_template_columns": null,
            "flex": null,
            "_model_name": "LayoutModel",
            "justify_items": null,
            "grid_row": null,
            "max_height": null,
            "align_content": null,
            "visibility": null,
            "align_self": null,
            "height": null,
            "min_height": null,
            "padding": null,
            "grid_auto_rows": null,
            "grid_gap": null,
            "max_width": null,
            "order": null,
            "_view_module_version": "1.2.0",
            "grid_template_areas": null,
            "object_position": null,
            "object_fit": null,
            "grid_auto_columns": null,
            "margin": null,
            "display": null,
            "left": null
          }
        },
        "bcc7672f43744dbeb0037a1228f01ed0": {
          "model_module": "@jupyter-widgets/controls",
          "model_name": "ProgressStyleModel",
          "model_module_version": "1.5.0",
          "state": {
            "_view_name": "StyleView",
            "_model_name": "ProgressStyleModel",
            "description_width": "",
            "_view_module": "@jupyter-widgets/base",
            "_model_module_version": "1.5.0",
            "_view_count": null,
            "_view_module_version": "1.2.0",
            "bar_color": null,
            "_model_module": "@jupyter-widgets/controls"
          }
        },
        "692f73112a0d420fb2ab0dcd1b3a95ca": {
          "model_module": "@jupyter-widgets/base",
          "model_name": "LayoutModel",
          "model_module_version": "1.2.0",
          "state": {
            "_view_name": "LayoutView",
            "grid_template_rows": null,
            "right": null,
            "justify_content": null,
            "_view_module": "@jupyter-widgets/base",
            "overflow": null,
            "_model_module_version": "1.2.0",
            "_view_count": null,
            "flex_flow": null,
            "width": null,
            "min_width": null,
            "border": null,
            "align_items": null,
            "bottom": null,
            "_model_module": "@jupyter-widgets/base",
            "top": null,
            "grid_column": null,
            "overflow_y": null,
            "overflow_x": null,
            "grid_auto_flow": null,
            "grid_area": null,
            "grid_template_columns": null,
            "flex": null,
            "_model_name": "LayoutModel",
            "justify_items": null,
            "grid_row": null,
            "max_height": null,
            "align_content": null,
            "visibility": null,
            "align_self": null,
            "height": null,
            "min_height": null,
            "padding": null,
            "grid_auto_rows": null,
            "grid_gap": null,
            "max_width": null,
            "order": null,
            "_view_module_version": "1.2.0",
            "grid_template_areas": null,
            "object_position": null,
            "object_fit": null,
            "grid_auto_columns": null,
            "margin": null,
            "display": null,
            "left": null
          }
        },
        "2b6b3063342a4fb0bc29a0e33d6f3a75": {
          "model_module": "@jupyter-widgets/controls",
          "model_name": "DescriptionStyleModel",
          "model_module_version": "1.5.0",
          "state": {
            "_view_name": "StyleView",
            "_model_name": "DescriptionStyleModel",
            "description_width": "",
            "_view_module": "@jupyter-widgets/base",
            "_model_module_version": "1.5.0",
            "_view_count": null,
            "_view_module_version": "1.2.0",
            "_model_module": "@jupyter-widgets/controls"
          }
        },
        "a731db389ebe40479de40d30a9b81fba": {
          "model_module": "@jupyter-widgets/base",
          "model_name": "LayoutModel",
          "model_module_version": "1.2.0",
          "state": {
            "_view_name": "LayoutView",
            "grid_template_rows": null,
            "right": null,
            "justify_content": null,
            "_view_module": "@jupyter-widgets/base",
            "overflow": null,
            "_model_module_version": "1.2.0",
            "_view_count": null,
            "flex_flow": null,
            "width": null,
            "min_width": null,
            "border": null,
            "align_items": null,
            "bottom": null,
            "_model_module": "@jupyter-widgets/base",
            "top": null,
            "grid_column": null,
            "overflow_y": null,
            "overflow_x": null,
            "grid_auto_flow": null,
            "grid_area": null,
            "grid_template_columns": null,
            "flex": null,
            "_model_name": "LayoutModel",
            "justify_items": null,
            "grid_row": null,
            "max_height": null,
            "align_content": null,
            "visibility": null,
            "align_self": null,
            "height": null,
            "min_height": null,
            "padding": null,
            "grid_auto_rows": null,
            "grid_gap": null,
            "max_width": null,
            "order": null,
            "_view_module_version": "1.2.0",
            "grid_template_areas": null,
            "object_position": null,
            "object_fit": null,
            "grid_auto_columns": null,
            "margin": null,
            "display": null,
            "left": null
          }
        },
        "627318a30d09495bb9be6d5d28a080aa": {
          "model_module": "@jupyter-widgets/controls",
          "model_name": "HBoxModel",
          "model_module_version": "1.5.0",
          "state": {
            "_view_name": "HBoxView",
            "_dom_classes": [],
            "_model_name": "HBoxModel",
            "_view_module": "@jupyter-widgets/controls",
            "_model_module_version": "1.5.0",
            "_view_count": null,
            "_view_module_version": "1.5.0",
            "box_style": "",
            "layout": "IPY_MODEL_c123115fa12b47dd8656bb2da7b846d5",
            "_model_module": "@jupyter-widgets/controls",
            "children": [
              "IPY_MODEL_9fd997c90abd4b798c0a59c9049999f5",
              "IPY_MODEL_afc69e8f88c949a49925c2e13e264b87",
              "IPY_MODEL_c14c2fee4b814a17ac4a2784d19fa7df"
            ]
          }
        },
        "c123115fa12b47dd8656bb2da7b846d5": {
          "model_module": "@jupyter-widgets/base",
          "model_name": "LayoutModel",
          "model_module_version": "1.2.0",
          "state": {
            "_view_name": "LayoutView",
            "grid_template_rows": null,
            "right": null,
            "justify_content": null,
            "_view_module": "@jupyter-widgets/base",
            "overflow": null,
            "_model_module_version": "1.2.0",
            "_view_count": null,
            "flex_flow": null,
            "width": null,
            "min_width": null,
            "border": null,
            "align_items": null,
            "bottom": null,
            "_model_module": "@jupyter-widgets/base",
            "top": null,
            "grid_column": null,
            "overflow_y": null,
            "overflow_x": null,
            "grid_auto_flow": null,
            "grid_area": null,
            "grid_template_columns": null,
            "flex": null,
            "_model_name": "LayoutModel",
            "justify_items": null,
            "grid_row": null,
            "max_height": null,
            "align_content": null,
            "visibility": null,
            "align_self": null,
            "height": null,
            "min_height": null,
            "padding": null,
            "grid_auto_rows": null,
            "grid_gap": null,
            "max_width": null,
            "order": null,
            "_view_module_version": "1.2.0",
            "grid_template_areas": null,
            "object_position": null,
            "object_fit": null,
            "grid_auto_columns": null,
            "margin": null,
            "display": null,
            "left": null
          }
        },
        "9fd997c90abd4b798c0a59c9049999f5": {
          "model_module": "@jupyter-widgets/controls",
          "model_name": "HTMLModel",
          "model_module_version": "1.5.0",
          "state": {
            "_view_name": "HTMLView",
            "style": "IPY_MODEL_406f370f593149718b9cc8cae4ef2773",
            "_dom_classes": [],
            "description": "",
            "_model_name": "HTMLModel",
            "placeholder": "​",
            "_view_module": "@jupyter-widgets/controls",
            "_model_module_version": "1.5.0",
            "value": "split=val:   0%",
            "_view_count": null,
            "_view_module_version": "1.5.0",
            "description_tooltip": null,
            "_model_module": "@jupyter-widgets/controls",
            "layout": "IPY_MODEL_b6149cc2466343b8b9cae36dbb69ad94"
          }
        },
        "afc69e8f88c949a49925c2e13e264b87": {
          "model_module": "@jupyter-widgets/controls",
          "model_name": "FloatProgressModel",
          "model_module_version": "1.5.0",
          "state": {
            "_view_name": "ProgressView",
            "style": "IPY_MODEL_ffd3261fc5bf4e499906ec7366e7d158",
            "_dom_classes": [],
            "description": "",
            "_model_name": "FloatProgressModel",
            "bar_style": "",
            "max": 1,
            "_view_module": "@jupyter-widgets/controls",
            "_model_module_version": "1.5.0",
            "value": 0,
            "_view_count": null,
            "_view_module_version": "1.5.0",
            "orientation": "horizontal",
            "min": 0,
            "description_tooltip": null,
            "_model_module": "@jupyter-widgets/controls",
            "layout": "IPY_MODEL_cc89f9206bde4821b2d8291b3d75c99d"
          }
        },
        "c14c2fee4b814a17ac4a2784d19fa7df": {
          "model_module": "@jupyter-widgets/controls",
          "model_name": "HTMLModel",
          "model_module_version": "1.5.0",
          "state": {
            "_view_name": "HTMLView",
            "style": "IPY_MODEL_6acf8a972605423fb51e5c701f702d96",
            "_dom_classes": [],
            "description": "",
            "_model_name": "HTMLModel",
            "placeholder": "​",
            "_view_module": "@jupyter-widgets/controls",
            "_model_module_version": "1.5.0",
            "value": " 0/1 [03:36&lt;00:01,  1.50s/it, acc=62.2, epoch=149, loss=1.25]",
            "_view_count": null,
            "_view_module_version": "1.5.0",
            "description_tooltip": null,
            "_model_module": "@jupyter-widgets/controls",
            "layout": "IPY_MODEL_92b48b234ee4455bac0c8229051a03e3"
          }
        },
        "406f370f593149718b9cc8cae4ef2773": {
          "model_module": "@jupyter-widgets/controls",
          "model_name": "DescriptionStyleModel",
          "model_module_version": "1.5.0",
          "state": {
            "_view_name": "StyleView",
            "_model_name": "DescriptionStyleModel",
            "description_width": "",
            "_view_module": "@jupyter-widgets/base",
            "_model_module_version": "1.5.0",
            "_view_count": null,
            "_view_module_version": "1.2.0",
            "_model_module": "@jupyter-widgets/controls"
          }
        },
        "b6149cc2466343b8b9cae36dbb69ad94": {
          "model_module": "@jupyter-widgets/base",
          "model_name": "LayoutModel",
          "model_module_version": "1.2.0",
          "state": {
            "_view_name": "LayoutView",
            "grid_template_rows": null,
            "right": null,
            "justify_content": null,
            "_view_module": "@jupyter-widgets/base",
            "overflow": null,
            "_model_module_version": "1.2.0",
            "_view_count": null,
            "flex_flow": null,
            "width": null,
            "min_width": null,
            "border": null,
            "align_items": null,
            "bottom": null,
            "_model_module": "@jupyter-widgets/base",
            "top": null,
            "grid_column": null,
            "overflow_y": null,
            "overflow_x": null,
            "grid_auto_flow": null,
            "grid_area": null,
            "grid_template_columns": null,
            "flex": null,
            "_model_name": "LayoutModel",
            "justify_items": null,
            "grid_row": null,
            "max_height": null,
            "align_content": null,
            "visibility": null,
            "align_self": null,
            "height": null,
            "min_height": null,
            "padding": null,
            "grid_auto_rows": null,
            "grid_gap": null,
            "max_width": null,
            "order": null,
            "_view_module_version": "1.2.0",
            "grid_template_areas": null,
            "object_position": null,
            "object_fit": null,
            "grid_auto_columns": null,
            "margin": null,
            "display": null,
            "left": null
          }
        },
        "ffd3261fc5bf4e499906ec7366e7d158": {
          "model_module": "@jupyter-widgets/controls",
          "model_name": "ProgressStyleModel",
          "model_module_version": "1.5.0",
          "state": {
            "_view_name": "StyleView",
            "_model_name": "ProgressStyleModel",
            "description_width": "",
            "_view_module": "@jupyter-widgets/base",
            "_model_module_version": "1.5.0",
            "_view_count": null,
            "_view_module_version": "1.2.0",
            "bar_color": null,
            "_model_module": "@jupyter-widgets/controls"
          }
        },
        "cc89f9206bde4821b2d8291b3d75c99d": {
          "model_module": "@jupyter-widgets/base",
          "model_name": "LayoutModel",
          "model_module_version": "1.2.0",
          "state": {
            "_view_name": "LayoutView",
            "grid_template_rows": null,
            "right": null,
            "justify_content": null,
            "_view_module": "@jupyter-widgets/base",
            "overflow": null,
            "_model_module_version": "1.2.0",
            "_view_count": null,
            "flex_flow": null,
            "width": null,
            "min_width": null,
            "border": null,
            "align_items": null,
            "bottom": null,
            "_model_module": "@jupyter-widgets/base",
            "top": null,
            "grid_column": null,
            "overflow_y": null,
            "overflow_x": null,
            "grid_auto_flow": null,
            "grid_area": null,
            "grid_template_columns": null,
            "flex": null,
            "_model_name": "LayoutModel",
            "justify_items": null,
            "grid_row": null,
            "max_height": null,
            "align_content": null,
            "visibility": null,
            "align_self": null,
            "height": null,
            "min_height": null,
            "padding": null,
            "grid_auto_rows": null,
            "grid_gap": null,
            "max_width": null,
            "order": null,
            "_view_module_version": "1.2.0",
            "grid_template_areas": null,
            "object_position": null,
            "object_fit": null,
            "grid_auto_columns": null,
            "margin": null,
            "display": null,
            "left": null
          }
        },
        "6acf8a972605423fb51e5c701f702d96": {
          "model_module": "@jupyter-widgets/controls",
          "model_name": "DescriptionStyleModel",
          "model_module_version": "1.5.0",
          "state": {
            "_view_name": "StyleView",
            "_model_name": "DescriptionStyleModel",
            "description_width": "",
            "_view_module": "@jupyter-widgets/base",
            "_model_module_version": "1.5.0",
            "_view_count": null,
            "_view_module_version": "1.2.0",
            "_model_module": "@jupyter-widgets/controls"
          }
        },
        "92b48b234ee4455bac0c8229051a03e3": {
          "model_module": "@jupyter-widgets/base",
          "model_name": "LayoutModel",
          "model_module_version": "1.2.0",
          "state": {
            "_view_name": "LayoutView",
            "grid_template_rows": null,
            "right": null,
            "justify_content": null,
            "_view_module": "@jupyter-widgets/base",
            "overflow": null,
            "_model_module_version": "1.2.0",
            "_view_count": null,
            "flex_flow": null,
            "width": null,
            "min_width": null,
            "border": null,
            "align_items": null,
            "bottom": null,
            "_model_module": "@jupyter-widgets/base",
            "top": null,
            "grid_column": null,
            "overflow_y": null,
            "overflow_x": null,
            "grid_auto_flow": null,
            "grid_area": null,
            "grid_template_columns": null,
            "flex": null,
            "_model_name": "LayoutModel",
            "justify_items": null,
            "grid_row": null,
            "max_height": null,
            "align_content": null,
            "visibility": null,
            "align_self": null,
            "height": null,
            "min_height": null,
            "padding": null,
            "grid_auto_rows": null,
            "grid_gap": null,
            "max_width": null,
            "order": null,
            "_view_module_version": "1.2.0",
            "grid_template_areas": null,
            "object_position": null,
            "object_fit": null,
            "grid_auto_columns": null,
            "margin": null,
            "display": null,
            "left": null
          }
        }
      }
    }
  },
  "cells": [
    {
      "cell_type": "code",
      "metadata": {
        "id": "MtTPFp6gsKHz",
        "colab": {
          "base_uri": "https://localhost:8080/",
          "height": 221
        },
        "outputId": "d1cb2091-8f6b-4570-fae3-41059ddd93c6"
      },
      "source": [
        "import os\n",
        "import matplotlib.pyplot as plt\n",
        "from matplotlib.pyplot import figure\n",
        "figure(figsize=(8, 8), dpi=80)\n",
        "import collections\n",
        "import numpy as np\n",
        "import pandas as pd\n",
        "import re\n",
        "import string\n",
        "import scipy as sp\n",
        "import gensim\n",
        "import gensim.downloader as api\n",
        "import nltk, nltk.data\n",
        "import torch\n",
        "import torch.nn as nn\n",
        "import torch.nn.functional as F\n",
        "import torch.optim as optim\n",
        "import json\n",
        "from torch.utils.data import Dataset, DataLoader\n",
        "from tqdm.notebook import tqdm\n",
        "nltk.download('wordnet')\n",
        "nltk.download('punkt')\n",
        "nltk.download('averaged_perceptron_tagger')\n",
        "nltk.download('stopwords')\n",
        "from nltk.corpus import wordnet\n",
        "from tqdm.notebook import tqdm\n",
        "from gensim.corpora import Dictionary\n",
        "from gensim.models import TfidfModel\n",
        "from argparse import Namespace"
      ],
      "execution_count": null,
      "outputs": [
        {
          "output_type": "stream",
          "name": "stdout",
          "text": [
            "[nltk_data] Downloading package wordnet to /root/nltk_data...\n",
            "[nltk_data]   Package wordnet is already up-to-date!\n",
            "[nltk_data] Downloading package punkt to /root/nltk_data...\n",
            "[nltk_data]   Package punkt is already up-to-date!\n",
            "[nltk_data] Downloading package averaged_perceptron_tagger to\n",
            "[nltk_data]     /root/nltk_data...\n",
            "[nltk_data]   Package averaged_perceptron_tagger is already up-to-\n",
            "[nltk_data]       date!\n",
            "[nltk_data] Downloading package stopwords to /root/nltk_data...\n",
            "[nltk_data]   Package stopwords is already up-to-date!\n"
          ]
        },
        {
          "output_type": "display_data",
          "data": {
            "text/plain": [
              "<Figure size 640x640 with 0 Axes>"
            ]
          },
          "metadata": {}
        },
        {
          "output_type": "stream",
          "name": "stdout",
          "text": [
            "time: 139 ms (started: 2021-10-26 12:55:38 +00:00)\n"
          ]
        }
      ]
    },
    {
      "cell_type": "code",
      "metadata": {
        "colab": {
          "base_uri": "https://localhost:8080/"
        },
        "id": "BZtqukBJnSyz",
        "outputId": "e2981bdc-812f-4654-b062-ca3f52abca24"
      },
      "source": [
        "!pip install ipython-autotime\n",
        "%load_ext autotime"
      ],
      "execution_count": null,
      "outputs": [
        {
          "output_type": "stream",
          "name": "stdout",
          "text": [
            "Requirement already satisfied: ipython-autotime in /usr/local/lib/python3.7/dist-packages (0.3.1)\n",
            "Requirement already satisfied: ipython in /usr/local/lib/python3.7/dist-packages (from ipython-autotime) (5.5.0)\n",
            "Requirement already satisfied: pygments in /usr/local/lib/python3.7/dist-packages (from ipython->ipython-autotime) (2.6.1)\n",
            "Requirement already satisfied: setuptools>=18.5 in /usr/local/lib/python3.7/dist-packages (from ipython->ipython-autotime) (57.4.0)\n",
            "Requirement already satisfied: traitlets>=4.2 in /usr/local/lib/python3.7/dist-packages (from ipython->ipython-autotime) (5.1.0)\n",
            "Requirement already satisfied: prompt-toolkit<2.0.0,>=1.0.4 in /usr/local/lib/python3.7/dist-packages (from ipython->ipython-autotime) (1.0.18)\n",
            "Requirement already satisfied: pickleshare in /usr/local/lib/python3.7/dist-packages (from ipython->ipython-autotime) (0.7.5)\n",
            "Requirement already satisfied: decorator in /usr/local/lib/python3.7/dist-packages (from ipython->ipython-autotime) (4.4.2)\n",
            "Requirement already satisfied: simplegeneric>0.8 in /usr/local/lib/python3.7/dist-packages (from ipython->ipython-autotime) (0.8.1)\n",
            "Requirement already satisfied: pexpect in /usr/local/lib/python3.7/dist-packages (from ipython->ipython-autotime) (4.8.0)\n",
            "Requirement already satisfied: wcwidth in /usr/local/lib/python3.7/dist-packages (from prompt-toolkit<2.0.0,>=1.0.4->ipython->ipython-autotime) (0.2.5)\n",
            "Requirement already satisfied: six>=1.9.0 in /usr/local/lib/python3.7/dist-packages (from prompt-toolkit<2.0.0,>=1.0.4->ipython->ipython-autotime) (1.15.0)\n",
            "Requirement already satisfied: ptyprocess>=0.5 in /usr/local/lib/python3.7/dist-packages (from pexpect->ipython->ipython-autotime) (0.7.0)\n",
            "The autotime extension is already loaded. To reload it, use:\n",
            "  %reload_ext autotime\n",
            "time: 3.03 s (started: 2021-10-26 12:55:39 +00:00)\n"
          ]
        }
      ]
    },
    {
      "cell_type": "markdown",
      "metadata": {
        "id": "9piPTv7qRFhc"
      },
      "source": [
        "# <center>Project 2 Natural Language for NLP --  Task 2 </center>\n",
        "\n",
        "<center>   \n",
        "\n",
        "**Name_ Student number:**\n",
        "<br>\n",
        "Chanxin Xie_22566456\n",
        "<br>\n",
        "Yiyong Duan_22628103<br>\n",
        "\n",
        "**Date created:** Oct 5th 2022<br>\n",
        "**Last modified:** Oct 25th 2022<br>\n"
      ]
    },
    {
      "cell_type": "markdown",
      "metadata": {
        "id": "yPNtLGXSutAr"
      },
      "source": [
        "#  Task 2 Multi-class Document Classification\n",
        "Using the NARRATIVE text field, predict one of the above mentioned field (NATURE_INJURY, INJ_BODY_PART, ACTIVITY, INJURY_SOURCE). "
      ]
    },
    {
      "cell_type": "markdown",
      "metadata": {
        "id": "ylM59-hpfh1k"
      },
      "source": [
        "## This notebook contains all details about Task 2: Multi-class Document Classification\n",
        "\n",
        "**This task follows the procedures listed below:**\n",
        "\n",
        "1. Initial Data preparation\n",
        "2. Data Preprocessing\n",
        "2. Split the training/testing/validation dataset\n",
        "3. Perform word embedding\n",
        "4. Group data into minibatch for the model via DataLoader\n",
        "5. Train Model\n",
        "6. Evaluation\n",
        "7. Compare performance of two different models"
      ]
    },
    {
      "cell_type": "code",
      "metadata": {
        "colab": {
          "base_uri": "https://localhost:8080/"
        },
        "id": "Z8VwQpANuWv2",
        "outputId": "31d889dd-89ab-41e3-940b-cbe469ae7d39"
      },
      "source": [
        "from google.colab import drive\n",
        "\n",
        "drive.mount('/content/drive')\n",
        "\n",
        "%cd /content/drive/MyDrive/NLP/"
      ],
      "execution_count": null,
      "outputs": [
        {
          "output_type": "stream",
          "name": "stdout",
          "text": [
            "Drive already mounted at /content/drive; to attempt to forcibly remount, call drive.mount(\"/content/drive\", force_remount=True).\n",
            "/content/drive/MyDrive/NLP\n",
            "time: 3.89 ms (started: 2021-10-26 12:55:42 +00:00)\n"
          ]
        }
      ]
    },
    {
      "cell_type": "code",
      "metadata": {
        "id": "PDkf_-2GvI5O",
        "colab": {
          "base_uri": "https://localhost:8080/",
          "height": 284
        },
        "outputId": "382c3920-8c11-4ac6-bfbe-28a300573a13"
      },
      "source": [
        "# Import dataset\n",
        "df_org = pd.read_csv('us_data_2000.csv')\n",
        "df_org.head(2)"
      ],
      "execution_count": null,
      "outputs": [
        {
          "output_type": "execute_result",
          "data": {
            "text/html": [
              "<div>\n",
              "<style scoped>\n",
              "    .dataframe tbody tr th:only-of-type {\n",
              "        vertical-align: middle;\n",
              "    }\n",
              "\n",
              "    .dataframe tbody tr th {\n",
              "        vertical-align: top;\n",
              "    }\n",
              "\n",
              "    .dataframe thead th {\n",
              "        text-align: right;\n",
              "    }\n",
              "</style>\n",
              "<table border=\"1\" class=\"dataframe\">\n",
              "  <thead>\n",
              "    <tr style=\"text-align: right;\">\n",
              "      <th></th>\n",
              "      <th>MINE_ID</th>\n",
              "      <th>CONTROLLER_ID</th>\n",
              "      <th>CONTROLLER_NAME</th>\n",
              "      <th>OPERATOR_ID</th>\n",
              "      <th>OPERATOR_NAME</th>\n",
              "      <th>CONTRACTOR_ID</th>\n",
              "      <th>DOCUMENT_NO</th>\n",
              "      <th>SUBUNIT_CD</th>\n",
              "      <th>SUBUNIT</th>\n",
              "      <th>ACCIDENT_DT</th>\n",
              "      <th>CAL_YR</th>\n",
              "      <th>CAL_QTR</th>\n",
              "      <th>FISCAL_YR</th>\n",
              "      <th>FISCAL_QTR</th>\n",
              "      <th>ACCIDENT_TIME</th>\n",
              "      <th>DEGREE_INJURY_CD</th>\n",
              "      <th>DEGREE_INJURY</th>\n",
              "      <th>FIPS_STATE_CD</th>\n",
              "      <th>UG_LOCATION_CD</th>\n",
              "      <th>UG_LOCATION</th>\n",
              "      <th>UG_MINING_METHOD_CD</th>\n",
              "      <th>UG_MINING_METHOD</th>\n",
              "      <th>MINING_EQUIP_CD</th>\n",
              "      <th>MINING_EQUIP</th>\n",
              "      <th>EQUIP_MFR_CD</th>\n",
              "      <th>EQUIP_MFR_NAME</th>\n",
              "      <th>EQUIP_MODEL_NO</th>\n",
              "      <th>SHIFT_BEGIN_TIME</th>\n",
              "      <th>CLASSIFICATION_CD</th>\n",
              "      <th>CLASSIFICATION</th>\n",
              "      <th>ACCIDENT_TYPE_CD</th>\n",
              "      <th>ACCIDENT_TYPE</th>\n",
              "      <th>NO_INJURIES</th>\n",
              "      <th>TOT_EXPER</th>\n",
              "      <th>MINE_EXPER</th>\n",
              "      <th>JOB_EXPER</th>\n",
              "      <th>OCCUPATION_CD</th>\n",
              "      <th>OCCUPATION</th>\n",
              "      <th>ACTIVITY_CD</th>\n",
              "      <th>ACTIVITY</th>\n",
              "      <th>INJURY_SOURCE_CD</th>\n",
              "      <th>INJURY_SOURCE</th>\n",
              "      <th>NATURE_INJURY_CD</th>\n",
              "      <th>NATURE_INJURY</th>\n",
              "      <th>INJ_BODY_PART_CD</th>\n",
              "      <th>INJ_BODY_PART</th>\n",
              "      <th>SCHEDULE_CHARGE</th>\n",
              "      <th>DAYS_RESTRICT</th>\n",
              "      <th>DAYS_LOST</th>\n",
              "      <th>TRANS_TERM</th>\n",
              "      <th>RETURN_TO_WORK_DT</th>\n",
              "      <th>IMMED_NOTIFY_CD</th>\n",
              "      <th>IMMED_NOTIFY</th>\n",
              "      <th>INVEST_BEGIN_DT</th>\n",
              "      <th>NARRATIVE</th>\n",
              "      <th>CLOSED_DOC_NO</th>\n",
              "      <th>COAL_METAL_IND</th>\n",
              "    </tr>\n",
              "  </thead>\n",
              "  <tbody>\n",
              "    <tr>\n",
              "      <th>0</th>\n",
              "      <td>100003</td>\n",
              "      <td>41044</td>\n",
              "      <td>Lhoist Group</td>\n",
              "      <td>L13586</td>\n",
              "      <td>Lhoist North America</td>\n",
              "      <td>NaN</td>\n",
              "      <td>2.201210e+11</td>\n",
              "      <td>3</td>\n",
              "      <td>STRIP, QUARY, OPEN PIT</td>\n",
              "      <td>14/03/2012</td>\n",
              "      <td>2012</td>\n",
              "      <td>1</td>\n",
              "      <td>2012</td>\n",
              "      <td>2</td>\n",
              "      <td>945</td>\n",
              "      <td>5</td>\n",
              "      <td>DAYS RESTRICTED ACTIVITY ONLY</td>\n",
              "      <td>1</td>\n",
              "      <td>?</td>\n",
              "      <td>NO VALUE FOUND</td>\n",
              "      <td>?</td>\n",
              "      <td>NO VALUE FOUND</td>\n",
              "      <td>24</td>\n",
              "      <td>Front-end loader, Tractor-shovel, Payloader, H...</td>\n",
              "      <td>119</td>\n",
              "      <td>Not on this list</td>\n",
              "      <td>22321</td>\n",
              "      <td>600.0</td>\n",
              "      <td>12</td>\n",
              "      <td>POWERED HAULAGE</td>\n",
              "      <td>21</td>\n",
              "      <td>CGHT I, U, B, MVNG &amp; STTN OBJS</td>\n",
              "      <td>1</td>\n",
              "      <td>4.35</td>\n",
              "      <td>4.35</td>\n",
              "      <td>0.67</td>\n",
              "      <td>374</td>\n",
              "      <td>Warehouseman, Bagger, Palletizer/Stacker, Stor...</td>\n",
              "      <td>28</td>\n",
              "      <td>HANDLING SUPPLIES/MATERIALS</td>\n",
              "      <td>76</td>\n",
              "      <td>SURFACE MINING MACHINES</td>\n",
              "      <td>160</td>\n",
              "      <td>CONTUSN,BRUISE,INTAC SKIN</td>\n",
              "      <td>700</td>\n",
              "      <td>MULTIPLE PARTS (MORE THAN ONE MAJOR)</td>\n",
              "      <td>0.0</td>\n",
              "      <td>8.0</td>\n",
              "      <td>0.0</td>\n",
              "      <td>N</td>\n",
              "      <td>03/26/2012</td>\n",
              "      <td>?</td>\n",
              "      <td>NO VALUE FOUND</td>\n",
              "      <td>NaN</td>\n",
              "      <td>Employee was cleaning up at the Primary Crushe...</td>\n",
              "      <td>NaN</td>\n",
              "      <td>M</td>\n",
              "    </tr>\n",
              "    <tr>\n",
              "      <th>1</th>\n",
              "      <td>100003</td>\n",
              "      <td>41044</td>\n",
              "      <td>Lhoist Group</td>\n",
              "      <td>L13586</td>\n",
              "      <td>Lhoist North America</td>\n",
              "      <td>NaN</td>\n",
              "      <td>2.200700e+11</td>\n",
              "      <td>30</td>\n",
              "      <td>MILL OPERATION/PREPARATION PLANT</td>\n",
              "      <td>8/01/2007</td>\n",
              "      <td>2007</td>\n",
              "      <td>1</td>\n",
              "      <td>2007</td>\n",
              "      <td>2</td>\n",
              "      <td>1105</td>\n",
              "      <td>6</td>\n",
              "      <td>NO DYS AWY FRM WRK,NO RSTR ACT</td>\n",
              "      <td>1</td>\n",
              "      <td>?</td>\n",
              "      <td>NO VALUE FOUND</td>\n",
              "      <td>?</td>\n",
              "      <td>NO VALUE FOUND</td>\n",
              "      <td>28</td>\n",
              "      <td>Hand tools (not powered)</td>\n",
              "      <td>121</td>\n",
              "      <td>Not Reported</td>\n",
              "      <td>NaN</td>\n",
              "      <td>700.0</td>\n",
              "      <td>10</td>\n",
              "      <td>HANDTOOLS (NONPOWERED)</td>\n",
              "      <td>8</td>\n",
              "      <td>STRUCK BY, NEC</td>\n",
              "      <td>1</td>\n",
              "      <td>0.02</td>\n",
              "      <td>0.02</td>\n",
              "      <td>0.02</td>\n",
              "      <td>374</td>\n",
              "      <td>Warehouseman, Bagger, Palletizer/Stacker, Stor...</td>\n",
              "      <td>30</td>\n",
              "      <td>HAND TOOLS (NOT POWERED)</td>\n",
              "      <td>46</td>\n",
              "      <td>AXE,HAMMER,SLEDGE</td>\n",
              "      <td>180</td>\n",
              "      <td>CUT,LACER,PUNCT-OPN WOUND</td>\n",
              "      <td>100</td>\n",
              "      <td>HEAD,NEC</td>\n",
              "      <td>0.0</td>\n",
              "      <td>0.0</td>\n",
              "      <td>0.0</td>\n",
              "      <td>N</td>\n",
              "      <td>1/09/2007</td>\n",
              "      <td>?</td>\n",
              "      <td>NO VALUE FOUND</td>\n",
              "      <td>NaN</td>\n",
              "      <td>Handle of sledgehammer broke and head of hamme...</td>\n",
              "      <td>NaN</td>\n",
              "      <td>M</td>\n",
              "    </tr>\n",
              "  </tbody>\n",
              "</table>\n",
              "</div>"
            ],
            "text/plain": [
              "   MINE_ID CONTROLLER_ID  ... CLOSED_DOC_NO COAL_METAL_IND\n",
              "0   100003         41044  ...           NaN              M\n",
              "1   100003         41044  ...           NaN              M\n",
              "\n",
              "[2 rows x 57 columns]"
            ]
          },
          "metadata": {},
          "execution_count": 111
        },
        {
          "output_type": "stream",
          "name": "stdout",
          "text": [
            "time: 129 ms (started: 2021-10-26 12:55:42 +00:00)\n"
          ]
        }
      ]
    },
    {
      "cell_type": "markdown",
      "metadata": {
        "id": "CPdakaYCBqB1"
      },
      "source": [
        "Functions to Preprocess the narrative text field. Same as task 1."
      ]
    },
    {
      "cell_type": "code",
      "metadata": {
        "id": "d44192eb",
        "colab": {
          "base_uri": "https://localhost:8080/"
        },
        "outputId": "79d73779-bb2b-4e26-82ba-1d4598ed1265"
      },
      "source": [
        "# Clean sentences\n",
        "def remove_punc(text):\n",
        "    text = ' '.join(word.lower() for word in text.split(\" \"))\n",
        "    text = re.sub(r'[^\\w\\s]','',text) # remove punctuation which is connected to words\n",
        "    text = re.sub(r\"[^a-zA-Z.,!?]+\", r\" \", text)\n",
        "    return text"
      ],
      "execution_count": null,
      "outputs": [
        {
          "output_type": "stream",
          "name": "stdout",
          "text": [
            "time: 4.7 ms (started: 2021-10-26 12:55:42 +00:00)\n"
          ]
        }
      ]
    },
    {
      "cell_type": "code",
      "metadata": {
        "id": "0AR7Y-KnOdGt",
        "colab": {
          "base_uri": "https://localhost:8080/"
        },
        "outputId": "72706b2c-d5f0-4ad2-d192-f5641aa09241"
      },
      "source": [
        "def clean_text(sentences):\n",
        "    cleaned_sentences = [] # list of sentence, with every character of sentence.\n",
        "    cleaned_sen_words = [] # list of lists of sentence, with every string of words.\n",
        "    for sentence in sentences:\n",
        "        cleaned_sentences.append(remove_punc(sentence))\n",
        "    for sentence in cleaned_sentences:\n",
        "        cleaned_sen_words.append(list(filter(None, sentence.split(' ')))) # Remove empty string of list\n",
        "    return cleaned_sen_words"
      ],
      "execution_count": null,
      "outputs": [
        {
          "output_type": "stream",
          "name": "stdout",
          "text": [
            "time: 5.01 ms (started: 2021-10-26 12:55:42 +00:00)\n"
          ]
        }
      ]
    },
    {
      "cell_type": "code",
      "metadata": {
        "id": "c08da9fa",
        "colab": {
          "base_uri": "https://localhost:8080/"
        },
        "outputId": "c0d93b5e-f4d8-4c57-ed11-f6f6bb5944b5"
      },
      "source": [
        "# Tokenize\n",
        "from nltk.tokenize import word_tokenize\n",
        "def tokenize(sentences):\n",
        "    tokenized_words = []\n",
        "    tokenized_sentences = []\n",
        "    for sentence in sentences:\n",
        "        temp_words = []\n",
        "        for word in sentence:\n",
        "            temp_words.append(' '.join(map(str, word_tokenize(word))))\n",
        "            tokenized_words.append(' '.join(map(str, word_tokenize(word))))\n",
        "        tokenized_sentences.append(temp_words)\n",
        "    return tokenized_words, tokenized_sentences"
      ],
      "execution_count": null,
      "outputs": [
        {
          "output_type": "stream",
          "name": "stdout",
          "text": [
            "time: 10.5 ms (started: 2021-10-26 12:55:42 +00:00)\n"
          ]
        }
      ]
    },
    {
      "cell_type": "code",
      "metadata": {
        "id": "16tOTtxUnPOW",
        "colab": {
          "base_uri": "https://localhost:8080/"
        },
        "outputId": "5510b178-a970-495c-be46-4953f7dd9d3a"
      },
      "source": [
        "# Stemming\n",
        "from nltk.stem import PorterStemmer\n",
        "\n",
        "ps = PorterStemmer()\n",
        "def stem(sentences):\n",
        "    stem_words = []\n",
        "    stem_sentences = []\n",
        "    for sentence in tokenized_sentences:\n",
        "        temp_words = []\n",
        "        for word in sentence:\n",
        "            temp_words.append(''.join(map(str,ps.stem(word))))\n",
        "            stem_words.append(''.join(map(str,ps.stem(word))))\n",
        "        stem_sentences.append(temp_words)\n",
        "    return stem_words, stem_sentences\n"
      ],
      "execution_count": null,
      "outputs": [
        {
          "output_type": "stream",
          "name": "stdout",
          "text": [
            "time: 9.21 ms (started: 2021-10-26 12:55:42 +00:00)\n"
          ]
        }
      ]
    },
    {
      "cell_type": "code",
      "metadata": {
        "id": "piXvVJoYBXKE",
        "colab": {
          "base_uri": "https://localhost:8080/"
        },
        "outputId": "0f8a964a-7c48-45d7-b4aa-8759f1883b4b"
      },
      "source": [
        "# Lemmatize\n",
        "from nltk.stem import WordNetLemmatizer\n",
        "word_lem = WordNetLemmatizer()\n",
        "\n",
        "# Fetch the pos_tag function\n",
        "def fetch_pos_tag(pos_tag):\n",
        "    if pos_tag.startswith('N'):\n",
        "        return wordnet.NOUN\n",
        "    elif pos_tag.startswith('V'):\n",
        "        return wordnet.VERB\n",
        "    elif pos_tag.startswith('R'):\n",
        "        return wordnet.ADV\n",
        "    elif pos_tag.startswith('J'):\n",
        "        return wordnet.ADJ\n",
        "    else:\n",
        "        return None\n",
        "\n",
        "def lemma(sentences):\n",
        "    lemma_words = []\n",
        "    lemma_sentences = []\n",
        "    for sentence in sentences:\n",
        "        tagged_sent = (nltk.pos_tag(sentence)) # [('employee','NN'),('was', 'VBD'),('foreign', 'JJ')...]\n",
        "        lemma_sentence = []\n",
        "        for tag in tagged_sent:\n",
        "            wordnet_pos = fetch_pos_tag(tag[1]) or wordnet.NOUN # if None then regard as Noun # n,v,a,r\n",
        "            lemma_words.append(word_lem.lemmatize(tag[0], pos = wordnet_pos))\n",
        "            lemma_sentence.append(word_lem.lemmatize(tag[0], pos = wordnet_pos))\n",
        "        lemma_sentences.append(lemma_sentence)\n",
        "    return lemma_words, lemma_sentences\n"
      ],
      "execution_count": null,
      "outputs": [
        {
          "output_type": "stream",
          "name": "stdout",
          "text": [
            "time: 16.8 ms (started: 2021-10-26 12:55:42 +00:00)\n"
          ]
        }
      ]
    },
    {
      "cell_type": "code",
      "metadata": {
        "id": "WAgib6HQoazq",
        "colab": {
          "base_uri": "https://localhost:8080/"
        },
        "outputId": "1bbabc42-d176-496e-e73a-0b1e5c739c02"
      },
      "source": [
        "# Preprocessing\n",
        "from sklearn.feature_extraction.text import TfidfVectorizer\n",
        "def remove_stop(sentences):\n",
        "    tfidf_sentences = []\n",
        "    for sentence in sentences:\n",
        "        word_list = []\n",
        "        for word in sentence:\n",
        "            word_list.append(word)\n",
        "        tfidf_sentences.append(' '.join(word_list))\n",
        "    tfidf_vectorizer = TfidfVectorizer(stop_words='english', min_df =0, use_idf = True)\n",
        "    tfidf_vectors = tfidf_vectorizer.fit_transform(tfidf_sentences)\n",
        "    tfidf_array = tfidf_vectorizer.fit_transform(tfidf_sentences).toarray()\n",
        "    tfidf_matrix = tfidf_vectorizer.fit_transform(tfidf_sentences).todense()\n",
        "    feature_names = tfidf_vectorizer.get_feature_names()\n",
        "    vector_list = []\n",
        "\n",
        "    for matrix_index in range(len(tfidf_sentences)):\n",
        "        feature_index = tfidf_matrix[matrix_index,:].nonzero()[1]\n",
        "        tfidf_scores = zip([feature_names[i] for i in feature_index], [tfidf_matrix[matrix_index, x] for x in feature_index]) \n",
        "        vector_list.append(dict(tfidf_scores)) # 1989 rows dictionaries with words and vector\n",
        "        \n",
        "    inverse_array = tfidf_vectorizer.inverse_transform(tfidf_array)\n",
        "    filtered_sentences = []\n",
        "    for rows in range(len(sentences)): # 1989 rows\n",
        "        filtered_sentence = []\n",
        "        for word in sentences[rows]:\n",
        "            if word in inverse_array[rows]:\n",
        "                filtered_sentence.append(word)\n",
        "        filtered_sentences.append(filtered_sentence)\n",
        "    return filtered_sentences, vector_list"
      ],
      "execution_count": null,
      "outputs": [
        {
          "output_type": "stream",
          "name": "stdout",
          "text": [
            "time: 19.8 ms (started: 2021-10-26 12:55:42 +00:00)\n"
          ]
        }
      ]
    },
    {
      "cell_type": "code",
      "metadata": {
        "id": "n6KNStkSOtnk",
        "colab": {
          "base_uri": "https://localhost:8080/"
        },
        "outputId": "7c044a7b-7be5-40c4-dd1b-904932d466b4"
      },
      "source": [
        "# PRE-PROCESSING FUNCTION\n",
        "def preprocessing(sentences, lemma_or_stem = 'lemma'):\n",
        "    cleaned_sen_words = clean_text(sentences)\n",
        "    tokenized_words, tokenized_sentences = tokenize(cleaned_sen_words)\n",
        "    if lemma_or_stem == 'lemma':\n",
        "        lemma_words, lemma_sentences = lemma(tokenized_sentences)\n",
        "        filtered_sentences, filtered_vector = remove_stop(lemma_sentences)\n",
        "    else:\n",
        "        stem_words, stem_sentences = stem(tokenized_sentences)\n",
        "        filtered_sentences, filtered_vector = remove_stop(stem_sentences)\n",
        "    filtered_string = []\n",
        "    for index in range(len(filtered_sentences)): \n",
        "        string = ''\n",
        "        for word in filtered_sentences[index]:\n",
        "            string = string + word + ' '\n",
        "        filtered_string.append(string)\n",
        "    return filtered_string, filtered_vector"
      ],
      "execution_count": null,
      "outputs": [
        {
          "output_type": "stream",
          "name": "stdout",
          "text": [
            "time: 14 ms (started: 2021-10-26 12:55:42 +00:00)\n"
          ]
        }
      ]
    },
    {
      "cell_type": "markdown",
      "metadata": {
        "id": "c9ba2e6d"
      },
      "source": [
        "## 1 Intial Data Cleaning\n",
        "This task is to clean up the original dataset so that we can use the NARRATIVE text field to predict the degree of injury (DEGREE_INJURY). \n",
        "1. Initial cleaning up\n",
        "2. Class Determination -- We make use the degree of injury code (DEGREE_INJURY_CD) to group injuries into two categories and assign the corresponding class to each row. \n"
      ]
    },
    {
      "cell_type": "markdown",
      "metadata": {
        "id": "6be90514"
      },
      "source": [
        "### 1.1 Clean up data"
      ]
    },
    {
      "cell_type": "markdown",
      "metadata": {
        "id": "Suj7Ev5L0Ez7"
      },
      "source": [
        "As the goal is to use the NARRATIVE text field to predict the degree of injury (DEGREE_INJURY), we extract column 'DEGREE_INJURY_CD' and 'NARRATIVE' from the original dataset and remove the values in 'DEGREE_INJURY_CD' which cannot be classified."
      ]
    },
    {
      "cell_type": "markdown",
      "metadata": {
        "id": "g7kG-3rqdbn4"
      },
      "source": [
        "1. We choose 'NATURE_INJURY' as the classification target.\n",
        "2. It has 33 different categories include 'NO VALUE FOUND'.\n",
        "3. As 'NO VALUE FOUND' contains not meaningful information which doesn't contribute to the classification, we removed all the records which correspond to 'NO VALUE FOUND'.\n",
        "4. Now we have 32 categories to be classified."
      ]
    },
    {
      "cell_type": "code",
      "metadata": {
        "id": "cmjL5XzB_mlO",
        "colab": {
          "base_uri": "https://localhost:8080/"
        },
        "outputId": "19109603-dc58-45f1-d514-8c9245ab9bd7"
      },
      "source": [
        "colunms = ['AMPUTATION OR ENUCLEATION','BURN OR SCALD (HEAT)','BURN,CHEMICL-FUME,COMPOUN','CONTUSN,BRUISE,INTAC SKIN','CRUSHING','CUT,LACER,PUNCT-OPN WOUND',\n",
        "'DUST IN EYES','ELECT.ARC BURN-NOT CONTAC','FRACTURE,CHIP','HEARING LOSS OR IMPAIRMNT','HEATSTROK,SUNSTR,HT EXHAU','HERNIA;RUPTURE',\n",
        "'JOINT,TENDON,MUSCL INFLAM','MULTIPLE INJURIES','OTHER INJURY,NEC','POISONING,SYSTEMIC','SCRATCH,ABRASION,SUPERFCL','SPRAIN,STRAIN RUPT DISC','UNCLASSIFIED,NOT DETERMED']"
      ],
      "execution_count": null,
      "outputs": [
        {
          "output_type": "stream",
          "name": "stdout",
          "text": [
            "time: 3 ms (started: 2021-10-26 12:55:42 +00:00)\n"
          ]
        }
      ]
    },
    {
      "cell_type": "code",
      "metadata": {
        "id": "vQSZQlzZAbXG",
        "colab": {
          "base_uri": "https://localhost:8080/"
        },
        "outputId": "8e83631b-89b8-44a1-fd6c-054e56d4b428"
      },
      "source": [
        "# subset data to get column 'DEGREE_INJURY_CD','NARRATIVE'\n",
        "df = df_org[['NATURE_INJURY','NARRATIVE']]\n",
        "# Only keep some values in column 'NATURE_INJURY'\n",
        "df = df[df[\"NATURE_INJURY\"].isin(colunms)]"
      ],
      "execution_count": null,
      "outputs": [
        {
          "output_type": "stream",
          "name": "stdout",
          "text": [
            "time: 9.08 ms (started: 2021-10-26 12:55:42 +00:00)\n"
          ]
        }
      ]
    },
    {
      "cell_type": "code",
      "metadata": {
        "id": "p2N9Zin_AbIi",
        "colab": {
          "base_uri": "https://localhost:8080/",
          "height": 221
        },
        "outputId": "d759ac01-dda5-4dbb-ee71-c21c6ddf8a3c"
      },
      "source": [
        "df.head()"
      ],
      "execution_count": null,
      "outputs": [
        {
          "output_type": "execute_result",
          "data": {
            "text/html": [
              "<div>\n",
              "<style scoped>\n",
              "    .dataframe tbody tr th:only-of-type {\n",
              "        vertical-align: middle;\n",
              "    }\n",
              "\n",
              "    .dataframe tbody tr th {\n",
              "        vertical-align: top;\n",
              "    }\n",
              "\n",
              "    .dataframe thead th {\n",
              "        text-align: right;\n",
              "    }\n",
              "</style>\n",
              "<table border=\"1\" class=\"dataframe\">\n",
              "  <thead>\n",
              "    <tr style=\"text-align: right;\">\n",
              "      <th></th>\n",
              "      <th>NATURE_INJURY</th>\n",
              "      <th>NARRATIVE</th>\n",
              "    </tr>\n",
              "  </thead>\n",
              "  <tbody>\n",
              "    <tr>\n",
              "      <th>0</th>\n",
              "      <td>CONTUSN,BRUISE,INTAC SKIN</td>\n",
              "      <td>Employee was cleaning up at the Primary Crushe...</td>\n",
              "    </tr>\n",
              "    <tr>\n",
              "      <th>1</th>\n",
              "      <td>CUT,LACER,PUNCT-OPN WOUND</td>\n",
              "      <td>Handle of sledgehammer broke and head of hamme...</td>\n",
              "    </tr>\n",
              "    <tr>\n",
              "      <th>2</th>\n",
              "      <td>SPRAIN,STRAIN RUPT DISC</td>\n",
              "      <td>EMPLOYEE WAS CLIMBING DOWN A LADDER AND WHEN H...</td>\n",
              "    </tr>\n",
              "    <tr>\n",
              "      <th>3</th>\n",
              "      <td>SPRAIN,STRAIN RUPT DISC</td>\n",
              "      <td>HE PULLED A BACK MUSCLE WHILE STACKING BAGS OF...</td>\n",
              "    </tr>\n",
              "    <tr>\n",
              "      <th>4</th>\n",
              "      <td>BURN,CHEMICL-FUME,COMPOUN</td>\n",
              "      <td>EE hands began to break out in a rash after he...</td>\n",
              "    </tr>\n",
              "  </tbody>\n",
              "</table>\n",
              "</div>"
            ],
            "text/plain": [
              "               NATURE_INJURY                                          NARRATIVE\n",
              "0  CONTUSN,BRUISE,INTAC SKIN  Employee was cleaning up at the Primary Crushe...\n",
              "1  CUT,LACER,PUNCT-OPN WOUND  Handle of sledgehammer broke and head of hamme...\n",
              "2    SPRAIN,STRAIN RUPT DISC  EMPLOYEE WAS CLIMBING DOWN A LADDER AND WHEN H...\n",
              "3    SPRAIN,STRAIN RUPT DISC  HE PULLED A BACK MUSCLE WHILE STACKING BAGS OF...\n",
              "4  BURN,CHEMICL-FUME,COMPOUN  EE hands began to break out in a rash after he..."
            ]
          },
          "metadata": {},
          "execution_count": 121
        },
        {
          "output_type": "stream",
          "name": "stdout",
          "text": [
            "time: 19.5 ms (started: 2021-10-26 12:55:42 +00:00)\n"
          ]
        }
      ]
    },
    {
      "cell_type": "markdown",
      "metadata": {
        "id": "Ne0ZsF_ICMuB"
      },
      "source": [
        "### 1.2 Class Determination"
      ]
    },
    {
      "cell_type": "markdown",
      "metadata": {
        "id": "RPGSx1R4hdMk"
      },
      "source": [
        "#### 1.2.1 To predict 19 classes\n",
        "The list below displays the percentage of each class we are going to predict.It is fairly clear that it is imbalanced. The top three classes account for almost 80% of the data: 32.4% are 'SPRAIN,STRAIN RUPT DISC ', 23.3% are 'CUT,LACER,PUNCT-OPN WOUND', 13.8% are 'FRACTURE,CHIP ' and 8% are 'CONTUSN,BRUISE,INTAC SKIN'. The remaining are fairly small."
      ]
    },
    {
      "cell_type": "code",
      "metadata": {
        "id": "rOr-1rUzBUSn",
        "colab": {
          "base_uri": "https://localhost:8080/"
        },
        "outputId": "c2639966-13c6-4171-e748-de3ed6c2c4bb"
      },
      "source": [
        "(df.NATURE_INJURY.value_counts()/len(df.NATURE_INJURY))*100"
      ],
      "execution_count": null,
      "outputs": [
        {
          "output_type": "execute_result",
          "data": {
            "text/plain": [
              "SPRAIN,STRAIN RUPT DISC      33.101045\n",
              "CUT,LACER,PUNCT-OPN WOUND    23.751452\n",
              "FRACTURE,CHIP                14.053426\n",
              "CONTUSN,BRUISE,INTAC SKIN     8.188153\n",
              "UNCLASSIFIED,NOT DETERMED     3.774681\n",
              "MULTIPLE INJURIES             3.135889\n",
              "JOINT,TENDON,MUSCL INFLAM     1.974448\n",
              "SCRATCH,ABRASION,SUPERFCL     1.800232\n",
              "BURN OR SCALD (HEAT)          1.451800\n",
              "CRUSHING                      1.393728\n",
              "DUST IN EYES                  1.335656\n",
              "BURN,CHEMICL-FUME,COMPOUN     1.277584\n",
              "HERNIA;RUPTURE                1.219512\n",
              "HEARING LOSS OR IMPAIRMNT     0.754936\n",
              "AMPUTATION OR ENUCLEATION     0.696864\n",
              "OTHER INJURY,NEC              0.638792\n",
              "POISONING,SYSTEMIC            0.580720\n",
              "ELECT.ARC BURN-NOT CONTAC     0.464576\n",
              "HEATSTROK,SUNSTR,HT EXHAU     0.406504\n",
              "Name: NATURE_INJURY, dtype: float64"
            ]
          },
          "metadata": {},
          "execution_count": 122
        },
        {
          "output_type": "stream",
          "name": "stdout",
          "text": [
            "time: 9.78 ms (started: 2021-10-26 12:55:42 +00:00)\n"
          ]
        }
      ]
    },
    {
      "cell_type": "code",
      "metadata": {
        "id": "mcNTVUvfnqZL",
        "colab": {
          "base_uri": "https://localhost:8080/",
          "height": 417
        },
        "outputId": "c1eff1cb-4a99-4016-b6c3-f7289644b424"
      },
      "source": [
        "%matplotlib inline\n",
        "figure(figsize=(16, 5), dpi=80)\n",
        "\n",
        "df_la = df.NATURE_INJURY.value_counts().sort_values()\n",
        "ax = df_la.plot.barh()\n",
        "ax.set_xlabel('Number of Occurences')\n",
        "ax.set_title('Class Balance of NATURE_INJURY')\n",
        "\n",
        "plt.show"
      ],
      "execution_count": null,
      "outputs": [
        {
          "output_type": "execute_result",
          "data": {
            "text/plain": [
              "<function matplotlib.pyplot.show>"
            ]
          },
          "metadata": {},
          "execution_count": 123
        },
        {
          "output_type": "display_data",
          "data": {
            "image/png": "[encoded data removed]",
            "text/plain": [
              "<Figure size 1280x400 with 1 Axes>"
            ]
          },
          "metadata": {
            "needs_background": "light"
          }
        },
        {
          "output_type": "stream",
          "name": "stdout",
          "text": [
            "time: 370 ms (started: 2021-10-26 12:55:42 +00:00)\n"
          ]
        }
      ]
    },
    {
      "cell_type": "markdown",
      "metadata": {
        "id": "ooUsC0EMdJ5P"
      },
      "source": [
        "#### 1.2.2 To predict 8 classes\n",
        "From the graph above, we can see that the sample sizes of classes are very imbalanced, which will probably lead to low test accuracy in the training section. For comparison, we prepared one more dataset which we removed some clases with smaller sample size. \n",
        "<br>\n",
        "It is fairly clear that the imbalanced-class issue has been improved. Althought the top three classes still account for almost 80% of the data. The much smaller classes are no longer in the target."
      ]
    },
    {
      "cell_type": "code",
      "metadata": {
        "id": "S5X4MFQRepmg",
        "colab": {
          "base_uri": "https://localhost:8080/"
        },
        "outputId": "5fcccd37-cbb1-4bf1-8a6d-e4a9bb1b2b0a"
      },
      "source": [
        "threshold = 30 # Remove class frequency lower than 30\n",
        "value_counts = df_org['NATURE_INJURY'].value_counts()  \n",
        "to_remove = value_counts[value_counts <= threshold].index\n",
        "to_remove_list = []\n",
        "for i in to_remove:\n",
        "    to_remove_list.append(i)\n",
        "\n",
        "df_2 = df\n",
        "df_2 = df_2[~df_2[\"NATURE_INJURY\"].isin(to_remove_list)]\n",
        "df_2 = df_2.reset_index(drop=True)\n",
        "(df_2.NATURE_INJURY.value_counts()/len(df_2.NATURE_INJURY))*100"
      ],
      "execution_count": null,
      "outputs": [
        {
          "output_type": "execute_result",
          "data": {
            "text/plain": [
              "SPRAIN,STRAIN RUPT DISC      36.869340\n",
              "CUT,LACER,PUNCT-OPN WOUND    26.455369\n",
              "FRACTURE,CHIP                15.653299\n",
              "CONTUSN,BRUISE,INTAC SKIN     9.120310\n",
              "UNCLASSIFIED,NOT DETERMED     4.204398\n",
              "MULTIPLE INJURIES             3.492885\n",
              "JOINT,TENDON,MUSCL INFLAM     2.199224\n",
              "SCRATCH,ABRASION,SUPERFCL     2.005175\n",
              "Name: NATURE_INJURY, dtype: float64"
            ]
          },
          "metadata": {},
          "execution_count": 124
        },
        {
          "output_type": "stream",
          "name": "stdout",
          "text": [
            "time: 21.9 ms (started: 2021-10-26 12:55:43 +00:00)\n"
          ]
        }
      ]
    },
    {
      "cell_type": "code",
      "metadata": {
        "id": "Lazae7_4otBB",
        "colab": {
          "base_uri": "https://localhost:8080/",
          "height": 417
        },
        "outputId": "12ee5f54-0372-40c9-f258-a197b59ab247"
      },
      "source": [
        "%matplotlib inline\n",
        "figure(figsize=(16, 5), dpi=80)\n",
        "\n",
        "df_l = df_2.NATURE_INJURY.value_counts().sort_values()\n",
        "ax = df_l.plot.barh()\n",
        "ax.set_xlabel('Number of Occurences')\n",
        "ax.set_title('Class Balance of NATURE_INJURY')\n",
        "\n",
        "plt.show"
      ],
      "execution_count": null,
      "outputs": [
        {
          "output_type": "execute_result",
          "data": {
            "text/plain": [
              "<function matplotlib.pyplot.show>"
            ]
          },
          "metadata": {},
          "execution_count": 125
        },
        {
          "output_type": "display_data",
          "data": {
            "image/png": "[encoded data removed]",
            "text/plain": [
              "<Figure size 1280x400 with 1 Axes>"
            ]
          },
          "metadata": {
            "needs_background": "light"
          }
        },
        {
          "output_type": "stream",
          "name": "stdout",
          "text": [
            "time: 286 ms (started: 2021-10-26 12:55:43 +00:00)\n"
          ]
        }
      ]
    },
    {
      "cell_type": "markdown",
      "metadata": {
        "id": "pCktnFF2CTk_"
      },
      "source": [
        "## 2 Data Preprocessing"
      ]
    },
    {
      "cell_type": "markdown",
      "metadata": {
        "id": "5fwyQuPHhw_V"
      },
      "source": [
        "Tokenize, lemmatize and remove the stop words from both datasets."
      ]
    },
    {
      "cell_type": "code",
      "metadata": {
        "id": "arBm-4CRAa_O",
        "colab": {
          "base_uri": "https://localhost:8080/"
        },
        "outputId": "901c613a-db01-42d4-c24b-23e526cae079"
      },
      "source": [
        "filtered_column, filtered_vector = preprocessing(df['NARRATIVE'],'lemma')\n",
        "# within column 'narrative' is the narrative after tokenization, lemmatisation and removing stop words\n",
        "df['narrative'] = filtered_column\n",
        "df['filtered_NARRATIVE_vector'] = filtered_vector"
      ],
      "execution_count": null,
      "outputs": [
        {
          "output_type": "stream",
          "name": "stdout",
          "text": [
            "time: 12.4 s (started: 2021-10-26 12:55:43 +00:00)\n"
          ]
        }
      ]
    },
    {
      "cell_type": "code",
      "metadata": {
        "id": "Vax8cRW9dI7z",
        "colab": {
          "base_uri": "https://localhost:8080/"
        },
        "outputId": "33c5fe16-44bf-4ab5-9826-08bb9ad5c5b9"
      },
      "source": [
        "filtered_column_2, filtered_vector_2 = preprocessing(df_2['NARRATIVE'],'lemma')\n",
        "# within column 'narrative' is the narrative after tokenization, lemmatisation and removing stop words\n",
        "df_2['narrative'] = filtered_column_2\n",
        "df_2['filtered_NARRATIVE_vector'] = filtered_vector_2"
      ],
      "execution_count": null,
      "outputs": [
        {
          "output_type": "stream",
          "name": "stdout",
          "text": [
            "time: 11.2 s (started: 2021-10-26 12:55:56 +00:00)\n"
          ]
        }
      ]
    },
    {
      "cell_type": "markdown",
      "metadata": {
        "id": "o3RRT74vwKPy"
      },
      "source": [
        "## 3 Split the training/testing/validation dataset"
      ]
    },
    {
      "cell_type": "markdown",
      "metadata": {
        "id": "rLO5SBRWCgUY"
      },
      "source": [
        "### 3.1 With 19 classes\n",
        "1. In this section, we prepare the training, testing and validation dataset on a 70%,15%,15% proportion.\n",
        "2. There are 1386 instances in training set, 306 in testing set and 297 in validation set for the dataset with 19 classes.\n",
        "3. Then we assign 'train','test','val' to each row and write the split dataset back to file."
      ]
    },
    {
      "cell_type": "code",
      "metadata": {
        "id": "QtRm8M95QDXg",
        "colab": {
          "base_uri": "https://localhost:8080/",
          "height": 221
        },
        "outputId": "703c362e-ea6b-4d77-ca0d-b3859e47a2e0"
      },
      "source": [
        "df.head()"
      ],
      "execution_count": null,
      "outputs": [
        {
          "output_type": "execute_result",
          "data": {
            "text/html": [
              "<div>\n",
              "<style scoped>\n",
              "    .dataframe tbody tr th:only-of-type {\n",
              "        vertical-align: middle;\n",
              "    }\n",
              "\n",
              "    .dataframe tbody tr th {\n",
              "        vertical-align: top;\n",
              "    }\n",
              "\n",
              "    .dataframe thead th {\n",
              "        text-align: right;\n",
              "    }\n",
              "</style>\n",
              "<table border=\"1\" class=\"dataframe\">\n",
              "  <thead>\n",
              "    <tr style=\"text-align: right;\">\n",
              "      <th></th>\n",
              "      <th>NATURE_INJURY</th>\n",
              "      <th>NARRATIVE</th>\n",
              "      <th>narrative</th>\n",
              "      <th>filtered_NARRATIVE_vector</th>\n",
              "    </tr>\n",
              "  </thead>\n",
              "  <tbody>\n",
              "    <tr>\n",
              "      <th>0</th>\n",
              "      <td>CONTUSN,BRUISE,INTAC SKIN</td>\n",
              "      <td>Employee was cleaning up at the Primary Crushe...</td>\n",
              "      <td>employee clean primary crusher dingo skid stee...</td>\n",
              "      <td>{'cement': 0.2155197320323387, 'clean': 0.1711...</td>\n",
              "    </tr>\n",
              "    <tr>\n",
              "      <th>1</th>\n",
              "      <td>CUT,LACER,PUNCT-OPN WOUND</td>\n",
              "      <td>Handle of sledgehammer broke and head of hamme...</td>\n",
              "      <td>handle sledgehammer broke head hammer hit empl...</td>\n",
              "      <td>{'broke': 0.4595112972110779, 'employee': 0.12...</td>\n",
              "    </tr>\n",
              "    <tr>\n",
              "      <th>2</th>\n",
              "      <td>SPRAIN,STRAIN RUPT DISC</td>\n",
              "      <td>EMPLOYEE WAS CLIMBING DOWN A LADDER AND WHEN H...</td>\n",
              "      <td>employee climb ladder step ground slip sprain ...</td>\n",
              "      <td>{'ankle': 0.36067143070190605, 'climb': 0.4114...</td>\n",
              "    </tr>\n",
              "    <tr>\n",
              "      <th>3</th>\n",
              "      <td>SPRAIN,STRAIN RUPT DISC</td>\n",
              "      <td>HE PULLED A BACK MUSCLE WHILE STACKING BAGS OF...</td>\n",
              "      <td>pull muscle stack bag material</td>\n",
              "      <td>{'bag': 0.5054296286337235, 'material': 0.4174...</td>\n",
              "    </tr>\n",
              "    <tr>\n",
              "      <th>4</th>\n",
              "      <td>BURN,CHEMICL-FUME,COMPOUN</td>\n",
              "      <td>EE hands began to break out in a rash after he...</td>\n",
              "      <td>ee hand begin break rash handle material coat ...</td>\n",
              "      <td>{'acid': 0.2624261192792845, 'begin': 0.345058...</td>\n",
              "    </tr>\n",
              "  </tbody>\n",
              "</table>\n",
              "</div>"
            ],
            "text/plain": [
              "               NATURE_INJURY  ...                          filtered_NARRATIVE_vector\n",
              "0  CONTUSN,BRUISE,INTAC SKIN  ...  {'cement': 0.2155197320323387, 'clean': 0.1711...\n",
              "1  CUT,LACER,PUNCT-OPN WOUND  ...  {'broke': 0.4595112972110779, 'employee': 0.12...\n",
              "2    SPRAIN,STRAIN RUPT DISC  ...  {'ankle': 0.36067143070190605, 'climb': 0.4114...\n",
              "3    SPRAIN,STRAIN RUPT DISC  ...  {'bag': 0.5054296286337235, 'material': 0.4174...\n",
              "4  BURN,CHEMICL-FUME,COMPOUN  ...  {'acid': 0.2624261192792845, 'begin': 0.345058...\n",
              "\n",
              "[5 rows x 4 columns]"
            ]
          },
          "metadata": {},
          "execution_count": 128
        },
        {
          "output_type": "stream",
          "name": "stdout",
          "text": [
            "time: 23.6 ms (started: 2021-10-26 12:56:07 +00:00)\n"
          ]
        }
      ]
    },
    {
      "cell_type": "code",
      "metadata": {
        "id": "fRTccrE7N9pz",
        "colab": {
          "base_uri": "https://localhost:8080/"
        },
        "outputId": "4d99f353-c17f-40da-bd2f-6720d3b2b8ca"
      },
      "source": [
        "args = Namespace(\n",
        "    window_size=5,\n",
        "    train_proportion=0.7,\n",
        "    val_proportion=0.15,\n",
        "    test_proportion=0.15,\n",
        "    output_munged_csv=\"../NLP/proj2_with_splits_task2.csv\",\n",
        "    seed=1337\n",
        ")"
      ],
      "execution_count": null,
      "outputs": [
        {
          "output_type": "stream",
          "name": "stdout",
          "text": [
            "time: 3.43 ms (started: 2021-10-26 12:56:07 +00:00)\n"
          ]
        }
      ]
    },
    {
      "cell_type": "code",
      "metadata": {
        "id": "XN6YNtyXJyH6",
        "colab": {
          "base_uri": "https://localhost:8080/",
          "height": 221
        },
        "outputId": "ec308aee-cec3-482c-f200-de8cfb8cf1cb"
      },
      "source": [
        "# get the needed columns for further modeling\n",
        "doc = df.copy() [['NATURE_INJURY','narrative']]\n",
        "doc_2 = df_2.copy() [['NATURE_INJURY','narrative']]\n",
        "doc_2.head()"
      ],
      "execution_count": null,
      "outputs": [
        {
          "output_type": "execute_result",
          "data": {
            "text/html": [
              "<div>\n",
              "<style scoped>\n",
              "    .dataframe tbody tr th:only-of-type {\n",
              "        vertical-align: middle;\n",
              "    }\n",
              "\n",
              "    .dataframe tbody tr th {\n",
              "        vertical-align: top;\n",
              "    }\n",
              "\n",
              "    .dataframe thead th {\n",
              "        text-align: right;\n",
              "    }\n",
              "</style>\n",
              "<table border=\"1\" class=\"dataframe\">\n",
              "  <thead>\n",
              "    <tr style=\"text-align: right;\">\n",
              "      <th></th>\n",
              "      <th>NATURE_INJURY</th>\n",
              "      <th>narrative</th>\n",
              "    </tr>\n",
              "  </thead>\n",
              "  <tbody>\n",
              "    <tr>\n",
              "      <th>0</th>\n",
              "      <td>CONTUSN,BRUISE,INTAC SKIN</td>\n",
              "      <td>employee clean primary crusher dingo skid stee...</td>\n",
              "    </tr>\n",
              "    <tr>\n",
              "      <th>1</th>\n",
              "      <td>CUT,LACER,PUNCT-OPN WOUND</td>\n",
              "      <td>handle sledgehammer broke head hammer hit empl...</td>\n",
              "    </tr>\n",
              "    <tr>\n",
              "      <th>2</th>\n",
              "      <td>SPRAIN,STRAIN RUPT DISC</td>\n",
              "      <td>employee climb ladder step ground slip sprain ...</td>\n",
              "    </tr>\n",
              "    <tr>\n",
              "      <th>3</th>\n",
              "      <td>SPRAIN,STRAIN RUPT DISC</td>\n",
              "      <td>pull muscle stack bag material</td>\n",
              "    </tr>\n",
              "    <tr>\n",
              "      <th>4</th>\n",
              "      <td>SPRAIN,STRAIN RUPT DISC</td>\n",
              "      <td>ee reach air supply cutoff valve</td>\n",
              "    </tr>\n",
              "  </tbody>\n",
              "</table>\n",
              "</div>"
            ],
            "text/plain": [
              "               NATURE_INJURY                                          narrative\n",
              "0  CONTUSN,BRUISE,INTAC SKIN  employee clean primary crusher dingo skid stee...\n",
              "1  CUT,LACER,PUNCT-OPN WOUND  handle sledgehammer broke head hammer hit empl...\n",
              "2    SPRAIN,STRAIN RUPT DISC  employee climb ladder step ground slip sprain ...\n",
              "3    SPRAIN,STRAIN RUPT DISC                    pull muscle stack bag material \n",
              "4    SPRAIN,STRAIN RUPT DISC                  ee reach air supply cutoff valve "
            ]
          },
          "metadata": {},
          "execution_count": 130
        },
        {
          "output_type": "stream",
          "name": "stdout",
          "text": [
            "time: 25.2 ms (started: 2021-10-26 12:56:07 +00:00)\n"
          ]
        }
      ]
    },
    {
      "cell_type": "code",
      "metadata": {
        "id": "Y_DYG0wKl09j",
        "colab": {
          "base_uri": "https://localhost:8080/"
        },
        "outputId": "23269b0b-f127-4a72-fbd5-a44f7f40caee"
      },
      "source": [
        "# Splitting train by Injury classes\n",
        "# Create dict\n",
        "by_injury = collections.defaultdict(list)\n",
        "for _, row in doc.iterrows():\n",
        "    by_injury[row.NATURE_INJURY].append(row.to_dict())"
      ],
      "execution_count": null,
      "outputs": [
        {
          "output_type": "stream",
          "name": "stdout",
          "text": [
            "time: 238 ms (started: 2021-10-26 12:56:07 +00:00)\n"
          ]
        }
      ]
    },
    {
      "cell_type": "code",
      "metadata": {
        "id": "cty40JOFl06g",
        "colab": {
          "base_uri": "https://localhost:8080/"
        },
        "outputId": "f9c4d535-89a5-4368-e25a-986ee2bae21e"
      },
      "source": [
        "# Create split data\n",
        "final_list = []\n",
        "np.random.seed(args.seed)\n",
        "for _, item_list in sorted(by_injury.items()):\n",
        "    np.random.shuffle(item_list)\n",
        "    n = len(item_list)\n",
        "    n_train = int(args.train_proportion*n)\n",
        "    n_val = int(args.val_proportion*n)\n",
        "    n_test = int(args.test_proportion*n)\n",
        "    \n",
        "    # Give data point a split attribute\n",
        "    for item in item_list[:n_train]:\n",
        "        item['split'] = 'train'\n",
        "    for item in item_list[n_train:n_train+n_val]:\n",
        "        item['split'] = 'val'\n",
        "    for item in item_list[n_train+n_val:]:\n",
        "        item['split'] = 'test'  \n",
        "    \n",
        "    # Add to final list\n",
        "    final_list.extend(item_list)"
      ],
      "execution_count": null,
      "outputs": [
        {
          "output_type": "stream",
          "name": "stdout",
          "text": [
            "time: 9.13 ms (started: 2021-10-26 12:56:07 +00:00)\n"
          ]
        }
      ]
    },
    {
      "cell_type": "code",
      "metadata": {
        "id": "SRodoswRl03q",
        "colab": {
          "base_uri": "https://localhost:8080/"
        },
        "outputId": "579a83d9-db83-4d2e-e834-0680a369cdeb"
      },
      "source": [
        "# Write split data to file\n",
        "final_injury = pd.DataFrame(final_list)"
      ],
      "execution_count": null,
      "outputs": [
        {
          "output_type": "stream",
          "name": "stdout",
          "text": [
            "time: 3.75 ms (started: 2021-10-26 12:56:07 +00:00)\n"
          ]
        }
      ]
    },
    {
      "cell_type": "code",
      "metadata": {
        "id": "ti0NV4Nol0uF",
        "colab": {
          "base_uri": "https://localhost:8080/"
        },
        "outputId": "b65c1347-c547-470e-f9e6-54b5f0f2ba1e"
      },
      "source": [
        "# look at the number of instances for training, testing and validation set\n",
        "final_injury.split.value_counts()"
      ],
      "execution_count": null,
      "outputs": [
        {
          "output_type": "execute_result",
          "data": {
            "text/plain": [
              "train    1196\n",
              "test      276\n",
              "val       250\n",
              "Name: split, dtype: int64"
            ]
          },
          "metadata": {},
          "execution_count": 134
        },
        {
          "output_type": "stream",
          "name": "stdout",
          "text": [
            "time: 7.88 ms (started: 2021-10-26 12:56:07 +00:00)\n"
          ]
        }
      ]
    },
    {
      "cell_type": "code",
      "metadata": {
        "id": "GQRlyR7mAa7n",
        "colab": {
          "base_uri": "https://localhost:8080/",
          "height": 221
        },
        "outputId": "71f21720-63d0-4465-fa86-de33d8a78b85"
      },
      "source": [
        "final_injury.head()"
      ],
      "execution_count": null,
      "outputs": [
        {
          "output_type": "execute_result",
          "data": {
            "text/html": [
              "<div>\n",
              "<style scoped>\n",
              "    .dataframe tbody tr th:only-of-type {\n",
              "        vertical-align: middle;\n",
              "    }\n",
              "\n",
              "    .dataframe tbody tr th {\n",
              "        vertical-align: top;\n",
              "    }\n",
              "\n",
              "    .dataframe thead th {\n",
              "        text-align: right;\n",
              "    }\n",
              "</style>\n",
              "<table border=\"1\" class=\"dataframe\">\n",
              "  <thead>\n",
              "    <tr style=\"text-align: right;\">\n",
              "      <th></th>\n",
              "      <th>NATURE_INJURY</th>\n",
              "      <th>narrative</th>\n",
              "      <th>split</th>\n",
              "    </tr>\n",
              "  </thead>\n",
              "  <tbody>\n",
              "    <tr>\n",
              "      <th>0</th>\n",
              "      <td>AMPUTATION OR ENUCLEATION</td>\n",
              "      <td>ee believe airlock plug deenergize machine use...</td>\n",
              "      <td>train</td>\n",
              "    </tr>\n",
              "    <tr>\n",
              "      <th>1</th>\n",
              "      <td>AMPUTATION OR ENUCLEATION</td>\n",
              "      <td>victim stick hand confined area release chain ...</td>\n",
              "      <td>train</td>\n",
              "    </tr>\n",
              "    <tr>\n",
              "      <th>2</th>\n",
              "      <td>AMPUTATION OR ENUCLEATION</td>\n",
              "      <td>use drill steel raise roof pan canopy roof bol...</td>\n",
              "      <td>train</td>\n",
              "    </tr>\n",
              "    <tr>\n",
              "      <th>3</th>\n",
              "      <td>AMPUTATION OR ENUCLEATION</td>\n",
              "      <td>ee saw stone bandsaw rock turn draw ee right h...</td>\n",
              "      <td>train</td>\n",
              "    </tr>\n",
              "    <tr>\n",
              "      <th>4</th>\n",
              "      <td>AMPUTATION OR ENUCLEATION</td>\n",
              "      <td>employee instal bolt add extension steel initi...</td>\n",
              "      <td>train</td>\n",
              "    </tr>\n",
              "  </tbody>\n",
              "</table>\n",
              "</div>"
            ],
            "text/plain": [
              "               NATURE_INJURY  ...  split\n",
              "0  AMPUTATION OR ENUCLEATION  ...  train\n",
              "1  AMPUTATION OR ENUCLEATION  ...  train\n",
              "2  AMPUTATION OR ENUCLEATION  ...  train\n",
              "3  AMPUTATION OR ENUCLEATION  ...  train\n",
              "4  AMPUTATION OR ENUCLEATION  ...  train\n",
              "\n",
              "[5 rows x 3 columns]"
            ]
          },
          "metadata": {},
          "execution_count": 135
        },
        {
          "output_type": "stream",
          "name": "stdout",
          "text": [
            "time: 18.9 ms (started: 2021-10-26 12:56:07 +00:00)\n"
          ]
        }
      ]
    },
    {
      "cell_type": "code",
      "metadata": {
        "id": "raED8Liyiq-G",
        "colab": {
          "base_uri": "https://localhost:8080/"
        },
        "outputId": "3665aec0-c430-4164-e9b0-7b412efcf12f"
      },
      "source": [
        "# Change col name as lab 10 to make easier\n",
        "final_injury.rename(columns={'NATURE_INJURY': 'nationality', 'narrative': 'surname'}, inplace=True)"
      ],
      "execution_count": null,
      "outputs": [
        {
          "output_type": "stream",
          "name": "stdout",
          "text": [
            "time: 3.21 ms (started: 2021-10-26 12:56:07 +00:00)\n"
          ]
        }
      ]
    },
    {
      "cell_type": "code",
      "metadata": {
        "id": "Q0UsZNR6JyXu",
        "colab": {
          "base_uri": "https://localhost:8080/"
        },
        "outputId": "9d92f3f4-5de0-4d69-a00d-51ca73d32274"
      },
      "source": [
        "# Write munged data to CSV\n",
        "final_injury.to_csv(args.output_munged_csv, index=False)"
      ],
      "execution_count": null,
      "outputs": [
        {
          "output_type": "stream",
          "name": "stdout",
          "text": [
            "time: 17.6 ms (started: 2021-10-26 12:56:07 +00:00)\n"
          ]
        }
      ]
    },
    {
      "cell_type": "markdown",
      "metadata": {
        "id": "0lBBB70lCwwN"
      },
      "source": [
        "### 3.2 With 8 classes\n",
        "1. In this section, we prepare the training, testing and validation dataset on a 70%,15%,15% proportion as well.\n",
        "2. There are 1078 instances in training set, 239 in testing set and 229 in validation set for the dataset with 8 classes.\n",
        "3. Then we assign 'train','test','val' to each row and write the split dataset back to file."
      ]
    },
    {
      "cell_type": "code",
      "metadata": {
        "id": "SSj6BTIBjKse",
        "colab": {
          "base_uri": "https://localhost:8080/"
        },
        "outputId": "4f05788c-bd41-4879-af4d-5535b5136e47"
      },
      "source": [
        "args = Namespace(\n",
        "    window_size=5,\n",
        "    train_proportion=0.7,\n",
        "    val_proportion=0.15,\n",
        "    test_proportion=0.15,\n",
        "    output_munged_csv=\"../NLP/proj2_with_splits_task2_2.csv\",\n",
        "    seed=1337\n",
        ")"
      ],
      "execution_count": null,
      "outputs": [
        {
          "output_type": "stream",
          "name": "stdout",
          "text": [
            "time: 1.41 ms (started: 2021-10-26 12:56:07 +00:00)\n"
          ]
        }
      ]
    },
    {
      "cell_type": "code",
      "metadata": {
        "id": "swh5DGjLjWWd",
        "colab": {
          "base_uri": "https://localhost:8080/"
        },
        "outputId": "fff4d5e6-194c-4222-ddb6-bc1d54de2f01"
      },
      "source": [
        "# Splitting train by Injury classes\n",
        "# Create dict\n",
        "by_injury_2 = collections.defaultdict(list)\n",
        "for _, row in doc_2.iterrows():\n",
        "    by_injury_2[row.NATURE_INJURY].append(row.to_dict())"
      ],
      "execution_count": null,
      "outputs": [
        {
          "output_type": "stream",
          "name": "stdout",
          "text": [
            "time: 226 ms (started: 2021-10-26 12:56:07 +00:00)\n"
          ]
        }
      ]
    },
    {
      "cell_type": "code",
      "metadata": {
        "id": "cidypJPVjiNQ",
        "colab": {
          "base_uri": "https://localhost:8080/"
        },
        "outputId": "2ffff671-64bc-4282-9cbc-e465725e33b7"
      },
      "source": [
        "# Create split data\n",
        "final_list_2 = []\n",
        "np.random.seed(args.seed)\n",
        "for _, item_list in sorted(by_injury_2.items()):\n",
        "    np.random.shuffle(item_list)\n",
        "    n = len(item_list)\n",
        "    n_train = int(args.train_proportion*n)\n",
        "    n_val = int(args.val_proportion*n)\n",
        "    n_test = int(args.test_proportion*n)\n",
        "    \n",
        "    # Give data point a split attribute\n",
        "    for item in item_list[:n_train]:\n",
        "        item['split'] = 'train'\n",
        "    for item in item_list[n_train:n_train+n_val]:\n",
        "        item['split'] = 'val'\n",
        "    for item in item_list[n_train+n_val:]:\n",
        "        item['split'] = 'test'  \n",
        "    \n",
        "    # Add to final list\n",
        "    final_list_2.extend(item_list)"
      ],
      "execution_count": null,
      "outputs": [
        {
          "output_type": "stream",
          "name": "stdout",
          "text": [
            "time: 11.6 ms (started: 2021-10-26 12:56:08 +00:00)\n"
          ]
        }
      ]
    },
    {
      "cell_type": "code",
      "metadata": {
        "id": "zRmVEd3MjrVx",
        "colab": {
          "base_uri": "https://localhost:8080/"
        },
        "outputId": "1e5d3125-0255-475d-ea54-81dabe68b773"
      },
      "source": [
        "# Write split data to file\n",
        "final_injury_2 = pd.DataFrame(final_list_2)\n",
        "# look at the number of instances for training, testing and validation set\n",
        "final_injury_2.split.value_counts()"
      ],
      "execution_count": null,
      "outputs": [
        {
          "output_type": "execute_result",
          "data": {
            "text/plain": [
              "train    1078\n",
              "test      239\n",
              "val       229\n",
              "Name: split, dtype: int64"
            ]
          },
          "metadata": {},
          "execution_count": 141
        },
        {
          "output_type": "stream",
          "name": "stdout",
          "text": [
            "time: 12.5 ms (started: 2021-10-26 12:56:08 +00:00)\n"
          ]
        }
      ]
    },
    {
      "cell_type": "code",
      "metadata": {
        "id": "_6FQ81KZFGt7",
        "colab": {
          "base_uri": "https://localhost:8080/",
          "height": 221
        },
        "outputId": "3352d13f-5b08-4b5e-b397-bdd495072ba8"
      },
      "source": [
        "final_injury_2.head()"
      ],
      "execution_count": null,
      "outputs": [
        {
          "output_type": "execute_result",
          "data": {
            "text/html": [
              "<div>\n",
              "<style scoped>\n",
              "    .dataframe tbody tr th:only-of-type {\n",
              "        vertical-align: middle;\n",
              "    }\n",
              "\n",
              "    .dataframe tbody tr th {\n",
              "        vertical-align: top;\n",
              "    }\n",
              "\n",
              "    .dataframe thead th {\n",
              "        text-align: right;\n",
              "    }\n",
              "</style>\n",
              "<table border=\"1\" class=\"dataframe\">\n",
              "  <thead>\n",
              "    <tr style=\"text-align: right;\">\n",
              "      <th></th>\n",
              "      <th>NATURE_INJURY</th>\n",
              "      <th>narrative</th>\n",
              "      <th>split</th>\n",
              "    </tr>\n",
              "  </thead>\n",
              "  <tbody>\n",
              "    <tr>\n",
              "      <th>0</th>\n",
              "      <td>CONTUSN,BRUISE,INTAC SKIN</td>\n",
              "      <td>operator enter loader ascend ladderfoot slip r...</td>\n",
              "      <td>train</td>\n",
              "    </tr>\n",
              "    <tr>\n",
              "      <th>1</th>\n",
              "      <td>CONTUSN,BRUISE,INTAC SKIN</td>\n",
              "      <td>scaffold lug fail southeast quadrant vessel ca...</td>\n",
              "      <td>train</td>\n",
              "    </tr>\n",
              "    <tr>\n",
              "      <th>2</th>\n",
              "      <td>CONTUSN,BRUISE,INTAC SKIN</td>\n",
              "      <td>ee clean pile material catwalk shovel pile col...</td>\n",
              "      <td>train</td>\n",
              "    </tr>\n",
              "    <tr>\n",
              "      <th>3</th>\n",
              "      <td>CONTUSN,BRUISE,INTAC SKIN</td>\n",
              "      <td>clear feeder employee pinch right little finge...</td>\n",
              "      <td>train</td>\n",
              "    </tr>\n",
              "    <tr>\n",
              "      <th>4</th>\n",
              "      <td>CONTUSN,BRUISE,INTAC SKIN</td>\n",
              "      <td>haul seal supply deck scoop strike loose coal ...</td>\n",
              "      <td>train</td>\n",
              "    </tr>\n",
              "  </tbody>\n",
              "</table>\n",
              "</div>"
            ],
            "text/plain": [
              "               NATURE_INJURY  ...  split\n",
              "0  CONTUSN,BRUISE,INTAC SKIN  ...  train\n",
              "1  CONTUSN,BRUISE,INTAC SKIN  ...  train\n",
              "2  CONTUSN,BRUISE,INTAC SKIN  ...  train\n",
              "3  CONTUSN,BRUISE,INTAC SKIN  ...  train\n",
              "4  CONTUSN,BRUISE,INTAC SKIN  ...  train\n",
              "\n",
              "[5 rows x 3 columns]"
            ]
          },
          "metadata": {},
          "execution_count": 142
        },
        {
          "output_type": "stream",
          "name": "stdout",
          "text": [
            "time: 24.4 ms (started: 2021-10-26 12:56:08 +00:00)\n"
          ]
        }
      ]
    },
    {
      "cell_type": "code",
      "metadata": {
        "id": "Yg6MMEo7jvhb",
        "colab": {
          "base_uri": "https://localhost:8080/"
        },
        "outputId": "50dfed4f-e2a7-46d6-c7da-9b055982c4f5"
      },
      "source": [
        "final_injury_2.rename(columns={'NATURE_INJURY': 'nationality', 'narrative': 'surname'}, inplace=True)"
      ],
      "execution_count": null,
      "outputs": [
        {
          "output_type": "stream",
          "name": "stdout",
          "text": [
            "time: 3 ms (started: 2021-10-26 12:56:08 +00:00)\n"
          ]
        }
      ]
    },
    {
      "cell_type": "code",
      "metadata": {
        "id": "SGMOk0qtj0tv",
        "colab": {
          "base_uri": "https://localhost:8080/"
        },
        "outputId": "6cfabd1c-72b6-4b3f-ed01-c2d5c66ecf43"
      },
      "source": [
        "# Write munged data to CSV\n",
        "final_injury_2.to_csv(args.output_munged_csv, index=False)"
      ],
      "execution_count": null,
      "outputs": [
        {
          "output_type": "stream",
          "name": "stdout",
          "text": [
            "time: 23.1 ms (started: 2021-10-26 12:56:08 +00:00)\n"
          ]
        }
      ]
    },
    {
      "cell_type": "markdown",
      "metadata": {
        "id": "9d30r2I6dF_d"
      },
      "source": [
        "## 4 Vanilla RNN Layer -- Training With 19 classes dataset"
      ]
    },
    {
      "cell_type": "code",
      "metadata": {
        "id": "07syrgS2o98G",
        "colab": {
          "base_uri": "https://localhost:8080/"
        },
        "outputId": "73304d5c-5a12-4a7e-f418-f143c5b8fcba"
      },
      "source": [
        "from argparse import Namespace\n",
        "import os\n",
        "import json\n",
        "\n",
        "import numpy as np\n",
        "import pandas as pd\n",
        "import torch\n",
        "import torch.nn as nn\n",
        "import torch.nn.functional as F\n",
        "import torch.optim as optim\n",
        "from torch.utils.data import Dataset, DataLoader\n",
        "from tqdm.notebook import tqdm"
      ],
      "execution_count": null,
      "outputs": [
        {
          "output_type": "stream",
          "name": "stdout",
          "text": [
            "time: 6.65 ms (started: 2021-10-26 12:56:08 +00:00)\n"
          ]
        }
      ]
    },
    {
      "cell_type": "markdown",
      "metadata": {
        "id": "BeIvg2gZnFt5"
      },
      "source": [
        "### 4.1 Data preparation (`Vocabulary`, `Vectorizer`, `Dataset`)\n",
        "\n"
      ]
    },
    {
      "cell_type": "markdown",
      "metadata": {
        "id": "pv72ruuVWtWd"
      },
      "source": [
        "#### The `Vocabulary` Class\n",
        "The first stage to map each token to a numerical version of itself. The standard methodology is to have a bijection - a mapping that can be reversed between the tokens and integers. In Python, this is simply two dictionaries."
      ]
    },
    {
      "cell_type": "code",
      "metadata": {
        "id": "6iKb8WTznFt5",
        "colab": {
          "base_uri": "https://localhost:8080/"
        },
        "outputId": "db57ff20-44e1-49e3-f841-85ca1281d56e"
      },
      "source": [
        "class Vocabulary(object):\n",
        "    \"\"\"Class to process text and extract vocabulary for mapping\"\"\"\n",
        "\n",
        "    def __init__(self, token_to_idx=None):\n",
        "        \"\"\"\n",
        "        Args:\n",
        "            token_to_idx (dict): a pre-existing map of tokens to indices\n",
        "        \"\"\"\n",
        "\n",
        "        if token_to_idx is None:\n",
        "            token_to_idx = {}\n",
        "        self._token_to_idx = token_to_idx\n",
        "\n",
        "        self._idx_to_token = {idx: token \n",
        "                              for token, idx in self._token_to_idx.items()}\n",
        "        \n",
        "    def to_serializable(self):\n",
        "        \"\"\" returns a dictionary that can be serialized \"\"\"\n",
        "        return {'token_to_idx': self._token_to_idx}\n",
        "\n",
        "    @classmethod\n",
        "    def from_serializable(cls, contents):\n",
        "        \"\"\" instantiates the Vocabulary from a serialized dictionary \"\"\"\n",
        "        return cls(**contents)\n",
        "\n",
        "    def add_token(self, token):\n",
        "        \"\"\"Update mapping dicts based on the token.\n",
        "\n",
        "        Args:\n",
        "            token (str): the item to add into the Vocabulary\n",
        "        Returns:\n",
        "            index (int): the integer corresponding to the token\n",
        "        \"\"\"\n",
        "        if token in self._token_to_idx:\n",
        "            index = self._token_to_idx[token]\n",
        "        else:\n",
        "            index = len(self._token_to_idx)\n",
        "            self._token_to_idx[token] = index\n",
        "            self._idx_to_token[index] = token\n",
        "        return index\n",
        "            \n",
        "    def add_many(self, tokens):\n",
        "        \"\"\"Add a list of tokens into the Vocabulary\n",
        "        \n",
        "        Args:\n",
        "            tokens (list): a list of string tokens\n",
        "        Returns:\n",
        "            indices (list): a list of indices corresponding to the tokens\n",
        "        \"\"\"\n",
        "        return [self.add_token(token) for token in tokens]\n",
        "\n",
        "    def lookup_token(self, token):\n",
        "        \"\"\"Retrieve the index associated with the token \n",
        "        \n",
        "        Args:\n",
        "            token (str): the token to look up \n",
        "        Returns:\n",
        "            index (int): the index corresponding to the token\n",
        "        \"\"\"\n",
        "        return self._token_to_idx[token]\n",
        "\n",
        "    def lookup_index(self, index):\n",
        "        \"\"\"Return the token associated with the index\n",
        "        \n",
        "        Args: \n",
        "            index (int): the index to look up\n",
        "        Returns:\n",
        "            token (str): the token corresponding to the index\n",
        "        Raises:\n",
        "            KeyError: if the index is not in the Vocabulary\n",
        "        \"\"\"\n",
        "        if index not in self._idx_to_token:\n",
        "            raise KeyError(\"the index (%d) is not in the Vocabulary\" % index)\n",
        "        return self._idx_to_token[index]\n",
        "\n",
        "    def __str__(self):\n",
        "        return \"<Vocabulary(size=%d)>\" % len(self)\n",
        "\n",
        "    def __len__(self):\n",
        "        return len(self._token_to_idx)"
      ],
      "execution_count": null,
      "outputs": [
        {
          "output_type": "stream",
          "name": "stdout",
          "text": [
            "time: 45.6 ms (started: 2021-10-26 12:56:08 +00:00)\n"
          ]
        }
      ]
    },
    {
      "cell_type": "code",
      "metadata": {
        "id": "UA8H9uNUyOaf",
        "colab": {
          "base_uri": "https://localhost:8080/"
        },
        "outputId": "0e83566a-1a67-4980-8d39-a4ef52a2832f"
      },
      "source": [
        "class SequenceVocabulary(Vocabulary):\n",
        "    def __init__(self, token_to_idx=None, unk_token=\"<UNK>\",\n",
        "                 mask_token=\"<MASK>\", begin_seq_token=\"<BEGIN>\",\n",
        "                 end_seq_token=\"<END>\"):\n",
        "\n",
        "        super(SequenceVocabulary, self).__init__(token_to_idx)\n",
        "\n",
        "        self._mask_token = mask_token\n",
        "        self._unk_token = unk_token\n",
        "        self._begin_seq_token = begin_seq_token\n",
        "        self._end_seq_token = end_seq_token\n",
        "\n",
        "        self.mask_index = self.add_token(self._mask_token)\n",
        "        self.unk_index = self.add_token(self._unk_token)\n",
        "        self.begin_seq_index = self.add_token(self._begin_seq_token)\n",
        "        self.end_seq_index = self.add_token(self._end_seq_token)\n",
        "\n",
        "    def to_serializable(self):\n",
        "        contents = super(SequenceVocabulary, self).to_serializable()\n",
        "        contents.update({'unk_token': self._unk_token,\n",
        "                         'mask_token': self._mask_token,\n",
        "                         'begin_seq_token': self._begin_seq_token,\n",
        "                         'end_seq_token': self._end_seq_token})\n",
        "        return contents\n",
        "\n",
        "    def lookup_token(self, token):\n",
        "        \"\"\"Retrieve the index associated with the token \n",
        "          or the UNK index if token isn't present.\n",
        "        \n",
        "        Args:\n",
        "            token (str): the token to look up \n",
        "        Returns:\n",
        "            index (int): the index corresponding to the token\n",
        "        Notes:\n",
        "            `unk_index` needs to be >=0 (having been added into the Vocabulary) \n",
        "              for the UNK functionality \n",
        "        \"\"\"\n",
        "        if self.unk_index >= 0:\n",
        "            return self._token_to_idx.get(token, self.unk_index)\n",
        "        else:\n",
        "            return self._token_to_idx[token]"
      ],
      "execution_count": null,
      "outputs": [
        {
          "output_type": "stream",
          "name": "stdout",
          "text": [
            "time: 17.3 ms (started: 2021-10-26 12:56:08 +00:00)\n"
          ]
        }
      ]
    },
    {
      "cell_type": "markdown",
      "metadata": {
        "id": "JFuvi8iEnFt6"
      },
      "source": [
        "#### Vectorizer\n",
        "\n",
        "The second stage of going from a text dataset to a vectorized minibatch is to iterate through the tokens of an input data point and convert each token to its integer form. The result of this iteration should be a vector. Because this vector will be combined with vectors from other data points, there is a constraint that the vectors produced by the Vectorizer should always have the same length."
      ]
    },
    {
      "cell_type": "code",
      "metadata": {
        "id": "K6pBP346nFt7",
        "colab": {
          "base_uri": "https://localhost:8080/"
        },
        "outputId": "b22edffb-500f-4ade-cce1-d0115cb33f37"
      },
      "source": [
        "class SurnameVectorizer(object):\n",
        "    \"\"\" The Vectorizer which coordinates the Vocabularies and puts them to use\"\"\"   \n",
        "    def __init__(self, char_vocab, nationality_vocab):\n",
        "        \"\"\"\n",
        "        Args:\n",
        "            char_vocab (Vocabulary): maps characters to integers\n",
        "            nationality_vocab (Vocabulary): maps nationalities to integers\n",
        "        \"\"\"\n",
        "        self.char_vocab = char_vocab\n",
        "        self.nationality_vocab = nationality_vocab\n",
        "\n",
        "    def vectorize(self, surname, vector_length=-1):\n",
        "        \"\"\"\n",
        "        Args:\n",
        "            title (str): the string of characters\n",
        "            vector_length (int): an argument for forcing the length of index vector\n",
        "        \"\"\"\n",
        "        indices = [self.char_vocab.begin_seq_index]\n",
        "        indices.extend(self.char_vocab.lookup_token(token) \n",
        "                       for token in surname)\n",
        "        indices.append(self.char_vocab.end_seq_index)\n",
        "\n",
        "        if vector_length < 0:\n",
        "            vector_length = len(indices)\n",
        "\n",
        "        out_vector = np.zeros(vector_length, dtype=np.int64)         \n",
        "        out_vector[:len(indices)] = indices\n",
        "        out_vector[len(indices):] = self.char_vocab.mask_index\n",
        "        \n",
        "        return out_vector, len(indices)\n",
        "\n",
        "    @classmethod\n",
        "    def from_dataframe(cls, surname_df):\n",
        "        \"\"\"Instantiate the vectorizer from the dataset dataframe\n",
        "        \n",
        "        Args:\n",
        "            surname_df (pandas.DataFrame): the surnames dataset\n",
        "        Returns:\n",
        "            an instance of the SurnameVectorizer\n",
        "        \"\"\"\n",
        "        char_vocab = SequenceVocabulary()\n",
        "        nationality_vocab = Vocabulary()\n",
        "\n",
        "        for index, row in surname_df.iterrows():\n",
        "            for char in row.surname:\n",
        "                char_vocab.add_token(char)\n",
        "            nationality_vocab.add_token(row.nationality)\n",
        "\n",
        "        return cls(char_vocab, nationality_vocab)\n",
        "\n",
        "    @classmethod\n",
        "    def from_serializable(cls, contents):\n",
        "        char_vocab = SequenceVocabulary.from_serializable(contents['char_vocab'])\n",
        "        nat_vocab =  Vocabulary.from_serializable(contents['nationality_vocab'])\n",
        "\n",
        "        return cls(char_vocab=char_vocab, nationality_vocab=nat_vocab)\n",
        "\n",
        "    def to_serializable(self):\n",
        "        return {'char_vocab': self.char_vocab.to_serializable(), \n",
        "                'nationality_vocab': self.nationality_vocab.to_serializable()}"
      ],
      "execution_count": null,
      "outputs": [
        {
          "output_type": "stream",
          "name": "stdout",
          "text": [
            "time: 47.3 ms (started: 2021-10-26 12:56:08 +00:00)\n"
          ]
        }
      ]
    },
    {
      "cell_type": "markdown",
      "metadata": {
        "id": "94LNhW6VL5ef"
      },
      "source": [
        "#### Dataset\n",
        "\n",
        "The final stage of the text to vectorized minibatch pipeline is to actually group the vectorized data\n",
        "points."
      ]
    },
    {
      "cell_type": "code",
      "metadata": {
        "id": "J7T4enPBL5ef",
        "colab": {
          "base_uri": "https://localhost:8080/"
        },
        "outputId": "65f547b6-926f-4dd3-d690-8a79942dfbec"
      },
      "source": [
        "class SurnameDataset(Dataset):\n",
        "    def __init__(self, surname_df, vectorizer):\n",
        "        \"\"\"\n",
        "        Args:\n",
        "            surname_df (pandas.DataFrame): the dataset\n",
        "            vectorizer (SurnameVectorizer): vectorizer instatiated from dataset\n",
        "        \"\"\"\n",
        "        self.surname_df = surname_df \n",
        "        self._vectorizer = vectorizer\n",
        "\n",
        "        self._max_seq_length = max(map(len, self.surname_df.surname)) + 2\n",
        "\n",
        "        self.train_df = self.surname_df[self.surname_df.split=='train']\n",
        "        self.train_size = len(self.train_df)\n",
        "\n",
        "        self.val_df = self.surname_df[self.surname_df.split=='val']\n",
        "        self.validation_size = len(self.val_df)\n",
        "\n",
        "        self.test_df = self.surname_df[self.surname_df.split=='test']\n",
        "        self.test_size = len(self.test_df)\n",
        "\n",
        "        self._lookup_dict = {'train': (self.train_df, self.train_size), \n",
        "                             'val': (self.val_df, self.validation_size), \n",
        "                             'test': (self.test_df, self.test_size)}\n",
        "\n",
        "        self.set_split('train')\n",
        "        \n",
        "        # Class weights\n",
        "        class_counts = self.train_df.nationality.value_counts().to_dict()\n",
        "        def sort_key(item):\n",
        "            return self._vectorizer.nationality_vocab.lookup_token(item[0])\n",
        "        sorted_counts = sorted(class_counts.items(), key=sort_key)\n",
        "        frequencies = [count for _, count in sorted_counts]\n",
        "        self.class_weights = 1.0 / torch.tensor(frequencies, dtype=torch.float32)\n",
        "\n",
        "        \n",
        "    @classmethod\n",
        "    def load_dataset_and_make_vectorizer(cls, surname_csv):\n",
        "        \"\"\"Load dataset and make a new vectorizer from scratch\n",
        "        \n",
        "        Args:\n",
        "            surname_csv (str): location of the dataset\n",
        "        Returns:\n",
        "            an instance of SurnameDataset\n",
        "        \"\"\"\n",
        "        surname_df = pd.read_csv(surname_csv)\n",
        "        train_surname_df = surname_df[surname_df.split=='train']\n",
        "        return cls(surname_df, SurnameVectorizer.from_dataframe(train_surname_df))\n",
        "        \n",
        "    @classmethod\n",
        "    def load_dataset_and_load_vectorizer(cls, surname_csv, vectorizer_filepath):\n",
        "        \"\"\"Load dataset and the corresponding vectorizer. \n",
        "        Used in the case in the vectorizer has been cached for re-use\n",
        "        \n",
        "        Args:\n",
        "            surname_csv (str): location of the dataset\n",
        "            vectorizer_filepath (str): location of the saved vectorizer\n",
        "        Returns:\n",
        "            an instance of SurnameDataset\n",
        "        \"\"\"\n",
        "        surname_df = pd.read_csv(surname_csv)\n",
        "        vectorizer = cls.load_vectorizer_only(vectorizer_filepath)\n",
        "        return cls(surname_df, vectorizer)\n",
        "\n",
        "    @staticmethod\n",
        "    def load_vectorizer_only(vectorizer_filepath):\n",
        "        \"\"\"a static method for loading the vectorizer from file\n",
        "        \n",
        "        Args:\n",
        "            vectorizer_filepath (str): the location of the serialized vectorizer\n",
        "        Returns:\n",
        "            an instance of SurnameVectorizer\n",
        "        \"\"\"\n",
        "        with open(vectorizer_filepath) as fp:\n",
        "            return SurnameVectorizer.from_serializable(json.load(fp))\n",
        "\n",
        "    def save_vectorizer(self, vectorizer_filepath):\n",
        "        \"\"\"saves the vectorizer to disk using json\n",
        "        \n",
        "        Args:\n",
        "            vectorizer_filepath (str): the location to save the vectorizer\n",
        "        \"\"\"\n",
        "        with open(vectorizer_filepath, \"w\") as fp:\n",
        "            json.dump(self._vectorizer.to_serializable(), fp)\n",
        "\n",
        "    def get_vectorizer(self):\n",
        "        \"\"\" returns the vectorizer \"\"\"\n",
        "        return self._vectorizer\n",
        "\n",
        "    def set_split(self, split=\"train\"):\n",
        "        self._target_split = split\n",
        "        self._target_df, self._target_size = self._lookup_dict[split]\n",
        "\n",
        "    def __len__(self):\n",
        "        return self._target_size\n",
        "\n",
        "    def __getitem__(self, index):\n",
        "        \"\"\"the primary entry point method for PyTorch datasets\n",
        "        \n",
        "        Args:\n",
        "            index (int): the index to the data point \n",
        "        Returns:\n",
        "            a dictionary holding the data point's:\n",
        "                features (x_data)\n",
        "                label (y_target)\n",
        "                feature length (x_length)\n",
        "        \"\"\"\n",
        "        row = self._target_df.iloc[index]\n",
        "        \n",
        "        surname_vector, vec_length = \\\n",
        "            self._vectorizer.vectorize(row.surname, self._max_seq_length)\n",
        "        \n",
        "        nationality_index = \\\n",
        "            self._vectorizer.nationality_vocab.lookup_token(row.nationality)\n",
        "\n",
        "        return {'x_data': surname_vector, \n",
        "                'y_target': nationality_index, \n",
        "                'x_length': vec_length}\n",
        "\n",
        "    def get_num_batches(self, batch_size):\n",
        "        \"\"\"Given a batch size, return the number of batches in the dataset\n",
        "        \n",
        "        Args:\n",
        "            batch_size (int)\n",
        "        Returns:\n",
        "            number of batches in the dataset\n",
        "        \"\"\"\n",
        "        return len(self) // batch_size\n",
        "\n",
        "    \n",
        "\n",
        "def generate_batches(dataset, batch_size, shuffle=True,\n",
        "                     drop_last=True, device=\"cpu\"): \n",
        "    \"\"\"\n",
        "    A generator function which wraps the PyTorch DataLoader. It will \n",
        "      ensure each tensor is on the write device location.\n",
        "    \"\"\"\n",
        "    dataloader = DataLoader(dataset=dataset, batch_size=batch_size,\n",
        "                            shuffle=shuffle, drop_last=drop_last)\n",
        "\n",
        "    for data_dict in dataloader:\n",
        "        out_data_dict = {}\n",
        "        for name, tensor in data_dict.items():\n",
        "            out_data_dict[name] = data_dict[name].to(device)\n",
        "        yield out_data_dict"
      ],
      "execution_count": null,
      "outputs": [
        {
          "output_type": "stream",
          "name": "stdout",
          "text": [
            "time: 129 ms (started: 2021-10-26 12:56:08 +00:00)\n"
          ]
        }
      ]
    },
    {
      "cell_type": "markdown",
      "metadata": {
        "id": "EnGXAs2Io98Y"
      },
      "source": [
        "### 4.2 Model\n",
        "\n",
        "The `SurnameClassifier` model is composed of an Embedding layer, the ElmanRNN, and a Linear layer. The model:\n",
        "1. Embeds the integers using the embedding layer. \n",
        "2. Using the RNN to compute the sequence representation vectors \n",
        "3. These summary vectors are passed through the Linear layer to compute a prediction vector\n",
        "\n",
        "The arguments to the model: \n",
        "\n",
        "- the size of the embeddings - *hyperparameter*,\n",
        "- the number of embeddings (i.e., vocabulary size) - determined by the data,\n",
        "- the number of classes - determined by the data, and \n",
        "- the hidden state size of the RNN - *hyperparameter*.\n"
      ]
    },
    {
      "cell_type": "markdown",
      "metadata": {
        "id": "6J063LQCo98Z"
      },
      "source": [
        "#### (1) Retrieving the last vector of each sequence\n"
      ]
    },
    {
      "cell_type": "code",
      "metadata": {
        "id": "_x7eQK54o98Z",
        "colab": {
          "base_uri": "https://localhost:8080/"
        },
        "outputId": "cea787ca-767d-489b-b354-216a65fa01ad"
      },
      "source": [
        "def column_gather(y_out, x_lengths):\n",
        "    '''Get a specific vector from each batch datapoint in `y_out`.\n",
        "\n",
        "    More precisely, iterate over batch row indices, get the vector that's at\n",
        "    the position indicated by the corresponding value in `x_lengths` at the row\n",
        "    index.\n",
        "\n",
        "    Args:\n",
        "        y_out (torch.FloatTensor, torch.cuda.FloatTensor)\n",
        "            shape: (batch, sequence, feature)\n",
        "        x_lengths (torch.LongTensor, torch.cuda.LongTensor)\n",
        "            shape: (batch,)\n",
        "\n",
        "    Returns:\n",
        "        y_out (torch.FloatTensor, torch.cuda.FloatTensor)\n",
        "            shape: (batch, feature)\n",
        "    '''\n",
        "    x_lengths = x_lengths.long().detach().cpu().numpy() - 1\n",
        "\n",
        "    out = []\n",
        "    for batch_index, column_index in enumerate(x_lengths):\n",
        "        out.append(y_out[batch_index, column_index])\n",
        "\n",
        "    return torch.stack(out)"
      ],
      "execution_count": null,
      "outputs": [
        {
          "output_type": "stream",
          "name": "stdout",
          "text": [
            "time: 6.2 ms (started: 2021-10-26 12:56:08 +00:00)\n"
          ]
        }
      ]
    },
    {
      "cell_type": "markdown",
      "metadata": {
        "id": "E_Z5GS9Xo98a"
      },
      "source": [
        "#### (2)The ElmanRNN model"
      ]
    },
    {
      "cell_type": "code",
      "metadata": {
        "id": "mboQ3WpGo98c",
        "colab": {
          "base_uri": "https://localhost:8080/"
        },
        "outputId": "7273480f-1867-409d-c0e9-14c48098467f"
      },
      "source": [
        "class ElmanRNN(nn.Module):\n",
        "    \"\"\" an Elman RNN built using the RNNCell \"\"\"\n",
        "    def __init__(self, input_size, hidden_size, batch_first=False):\n",
        "        \"\"\"\n",
        "        Args:\n",
        "            input_size (int): size of the input vectors\n",
        "            hidden_size (int): size of the hidden state vectors\n",
        "            bathc_first (bool): whether the 0th dimension is batch\n",
        "        \"\"\"\n",
        "        super(ElmanRNN, self).__init__()\n",
        "        \n",
        "        self.rnn_cell = nn.RNNCell(input_size, hidden_size)\n",
        "        \n",
        "        self.batch_first = batch_first\n",
        "        self.hidden_size = hidden_size\n",
        "\n",
        "    def _initial_hidden(self, batch_size):\n",
        "        return torch.zeros((batch_size, self.hidden_size))\n",
        "\n",
        "    def forward(self, x_in, initial_hidden=None):\n",
        "        \"\"\"The forward pass of the ElmanRNN\n",
        "        \n",
        "        Args:\n",
        "            x_in (torch.Tensor): an input data tensor. \n",
        "                If self.batch_first: x_in.shape = (batch, seq_size, feat_size)\n",
        "                Else: x_in.shape = (seq_size, batch, feat_size)\n",
        "            initial_hidden (torch.Tensor): the initial hidden state for the RNN\n",
        "        Returns:\n",
        "            hiddens (torch.Tensor): The outputs of the RNN at each time step. \n",
        "                If self.batch_first: hiddens.shape = (batch, seq_size, hidden_size)\n",
        "                Else: hiddens.shape = (seq_size, batch, hidden_size)\n",
        "        \"\"\"\n",
        "        if self.batch_first:\n",
        "            batch_size, seq_size, feat_size = x_in.size()\n",
        "            x_in = x_in.permute(1, 0, 2)\n",
        "        else:\n",
        "            seq_size, batch_size, feat_size = x_in.size()\n",
        "    \n",
        "        hiddens = []\n",
        "\n",
        "        if initial_hidden is None:\n",
        "            initial_hidden = self._initial_hidden(batch_size)\n",
        "            initial_hidden = initial_hidden.to(x_in.device)\n",
        "\n",
        "        hidden_t = initial_hidden\n",
        "                    \n",
        "        for t in range(seq_size):\n",
        "            hidden_t = self.rnn_cell(x_in[t], hidden_t)\n",
        "            hiddens.append(hidden_t)\n",
        "            \n",
        "        hiddens = torch.stack(hiddens)\n",
        "\n",
        "        if self.batch_first:\n",
        "            hiddens = hiddens.permute(1, 0, 2)\n",
        "\n",
        "        return hiddens\n",
        "\n",
        "\n",
        "\n",
        "class SurnameClassifier(nn.Module):\n",
        "    \"\"\" A Classifier with an RNN to extract features and an MLP to classify \"\"\"\n",
        "    def __init__(self, embedding_size, num_embeddings, num_classes, dropout_p,\n",
        "                 rnn_hidden_size, batch_first=True, padding_idx=0):\n",
        "        \"\"\"\n",
        "        Args:\n",
        "            embedding_size (int): The size of the character embeddings\n",
        "            num_embeddings (int): The number of characters to embed\n",
        "            num_classes (int): The size of the prediction vector \n",
        "                Note: the number of nationalities\n",
        "            rnn_hidden_size (int): The size of the RNN's hidden state\n",
        "            batch_first (bool): Informs whether the input tensors will \n",
        "                have batch or the sequence on the 0th dimension\n",
        "            padding_idx (int): The index for the tensor padding; \n",
        "                see torch.nn.Embedding\n",
        "        \"\"\"\n",
        "        super(SurnameClassifier, self).__init__()\n",
        "\n",
        "        self.emb = nn.Embedding(num_embeddings=num_embeddings,\n",
        "                                embedding_dim=embedding_size,\n",
        "                                padding_idx=padding_idx)\n",
        "        self.rnn = ElmanRNN(input_size=embedding_size,\n",
        "                             hidden_size=rnn_hidden_size,\n",
        "                             batch_first=batch_first)\n",
        "        self.fc1 = nn.Linear(in_features=rnn_hidden_size,\n",
        "                         out_features=rnn_hidden_size)\n",
        "        self.fc2 = nn.Linear(in_features=rnn_hidden_size,\n",
        "                          out_features=num_classes)\n",
        "        self._dropout_p = dropout_p\n",
        "    def forward(self, x_in, x_lengths=None, apply_softmax=False):\n",
        "        \"\"\"The forward pass of the classifier\n",
        "        \n",
        "        Args:\n",
        "            x_in (torch.Tensor): an input data tensor. \n",
        "                x_in.shape should be (batch, input_dim)\n",
        "            x_lengths (torch.Tensor): the lengths of each sequence in the batch.\n",
        "                They are used to find the final vector of each sequence\n",
        "            apply_softmax (bool): a flag for the softmax activation\n",
        "                should be false if used with the Cross Entropy losses\n",
        "        Returns:\n",
        "            the resulting tensor. tensor.shape should be (batch, output_dim)\n",
        "        \"\"\"\n",
        "        x_embedded = self.emb(x_in)\n",
        "        y_out = self.rnn(x_embedded)\n",
        "\n",
        "        if x_lengths is not None:\n",
        "            y_out = column_gather(y_out, x_lengths)\n",
        "        else:\n",
        "            y_out = y_out[:, -1, :]\n",
        "\n",
        "        y_out = F.relu(self.fc1(F.dropout(y_out, self._dropout_p)))\n",
        "        y_out = self.fc2(F.dropout(y_out, self._dropout_p))\n",
        "\n",
        "        if apply_softmax:\n",
        "            y_out = F.softmax(y_out, dim=1)\n",
        "\n",
        "        return y_out"
      ],
      "execution_count": null,
      "outputs": [
        {
          "output_type": "stream",
          "name": "stdout",
          "text": [
            "time: 82.8 ms (started: 2021-10-26 12:56:08 +00:00)\n"
          ]
        }
      ]
    },
    {
      "cell_type": "code",
      "metadata": {
        "id": "Q5-pTt8ho98e",
        "colab": {
          "base_uri": "https://localhost:8080/"
        },
        "outputId": "852d845c-f5a1-423a-aea3-5d063899671b"
      },
      "source": [
        "def set_seed_everywhere(seed, cuda):\n",
        "    np.random.seed(seed)\n",
        "    torch.manual_seed(seed)\n",
        "    if cuda:\n",
        "        torch.cuda.manual_seed_all(seed)\n",
        "\n",
        "def handle_dirs(dirpath):\n",
        "    if not os.path.exists(dirpath):\n",
        "        os.makedirs(dirpath)"
      ],
      "execution_count": null,
      "outputs": [
        {
          "output_type": "stream",
          "name": "stdout",
          "text": [
            "time: 5.57 ms (started: 2021-10-26 12:56:08 +00:00)\n"
          ]
        }
      ]
    },
    {
      "cell_type": "markdown",
      "metadata": {
        "id": "uczwJ90Mo98f"
      },
      "source": [
        "### 4.3 Settings"
      ]
    },
    {
      "cell_type": "code",
      "metadata": {
        "id": "Fcp8_wuIo98g",
        "colab": {
          "base_uri": "https://localhost:8080/"
        },
        "outputId": "78414f19-4b67-4eea-a71c-4731ba52e382"
      },
      "source": [
        "args = Namespace(\n",
        "    # Data and path information\n",
        "    surname_csv=\"../NLP/proj2_with_splits_task2.csv\",\n",
        "    vectorizer_file=\"vectorizer.json\",\n",
        "    model_state_file=\"model.pth\",  ## ?? \"model_task2.pth\"\n",
        "    save_dir=\"../NLP/\",\n",
        "    # Model hyper parameter\n",
        "    char_embedding_size=200,\n",
        "    rnn_hidden_size=128,\n",
        "    # Training hyper parameter\n",
        "    num_epochs=150,\n",
        "    learning_rate= 0.0001,\n",
        "    dropout_p = 0.0001,\n",
        "    batch_size=128,\n",
        "    seed=1337,\n",
        "    early_stopping_criteria=5,\n",
        "    # Runtime hyper parameter\n",
        "    cuda=True,\n",
        "    catch_keyboard_interrupt=True,\n",
        "    reload_from_files=False,\n",
        "    expand_filepaths_to_save_dir=True,\n",
        ")\n",
        "\n",
        "# Check CUDA\n",
        "if not torch.cuda.is_available():\n",
        "    args.cuda = False\n",
        "\n",
        "args.device = torch.device(\"cuda\" if args.cuda else \"cpu\")\n",
        "    \n",
        "print(\"Using CUDA: {}\".format(args.cuda))\n",
        "\n",
        "\n",
        "if args.expand_filepaths_to_save_dir:\n",
        "    args.vectorizer_file = os.path.join(args.save_dir,\n",
        "                                        args.vectorizer_file)\n",
        "\n",
        "    args.model_state_file = os.path.join(args.save_dir,\n",
        "                                         args.model_state_file)\n",
        "    \n",
        "# Set seed for reproducibility\n",
        "set_seed_everywhere(args.seed, args.cuda)\n",
        "\n",
        "# handle dirs\n",
        "handle_dirs(args.save_dir)"
      ],
      "execution_count": null,
      "outputs": [
        {
          "output_type": "stream",
          "name": "stdout",
          "text": [
            "Using CUDA: True\n",
            "time: 26.9 ms (started: 2021-10-26 12:56:08 +00:00)\n"
          ]
        }
      ]
    },
    {
      "cell_type": "markdown",
      "metadata": {
        "id": "Bw0a2Q22roNX"
      },
      "source": [
        "#### Classifier"
      ]
    },
    {
      "cell_type": "code",
      "metadata": {
        "id": "c9YJ43f3o98j",
        "colab": {
          "base_uri": "https://localhost:8080/"
        },
        "outputId": "c35b93e3-ef09-4d1c-d0ae-a0966879e0b8"
      },
      "source": [
        "if args.reload_from_files and os.path.exists(args.vectorizer_file):\n",
        "    # training from a checkpoint\n",
        "    dataset = SurnameDataset.load_dataset_and_load_vectorizer(args.surname_csv, \n",
        "                                                              args.vectorizer_file)\n",
        "else:\n",
        "    # create dataset and vectorizer\n",
        "    dataset = SurnameDataset.load_dataset_and_make_vectorizer(args.surname_csv)\n",
        "    dataset.save_vectorizer(args.vectorizer_file)\n",
        "\n",
        "vectorizer = dataset.get_vectorizer()\n",
        "\n",
        "classifier = SurnameClassifier(embedding_size=args.char_embedding_size, \n",
        "                               num_embeddings=len(vectorizer.char_vocab),\n",
        "                               num_classes=len(vectorizer.nationality_vocab),\n",
        "                               dropout_p = args.dropout_p, # Modify drop out rate by self\n",
        "                               rnn_hidden_size=args.rnn_hidden_size,\n",
        "                               padding_idx=vectorizer.char_vocab.mask_index)"
      ],
      "execution_count": null,
      "outputs": [
        {
          "output_type": "stream",
          "name": "stdout",
          "text": [
            "time: 239 ms (started: 2021-10-26 12:56:08 +00:00)\n"
          ]
        }
      ]
    },
    {
      "cell_type": "markdown",
      "metadata": {
        "id": "KCuM7ULwo98k"
      },
      "source": [
        "### 4.4 Training Routine"
      ]
    },
    {
      "cell_type": "code",
      "metadata": {
        "id": "Z8H2uX_mo98k",
        "colab": {
          "base_uri": "https://localhost:8080/"
        },
        "outputId": "860fe1e8-1f8a-481b-9c2c-732c1eea6405"
      },
      "source": [
        "def make_train_state(args):\n",
        "    return {'stop_early': False,\n",
        "            'early_stopping_step': 0,\n",
        "            'early_stopping_best_val': 1e8,\n",
        "            'learning_rate': args.learning_rate,\n",
        "            'epoch_index': 0,\n",
        "            'train_loss': [],\n",
        "            'train_acc': [],\n",
        "            'val_loss': [],\n",
        "            'val_acc': [],\n",
        "            'test_loss': -1,\n",
        "            'test_acc': -1,\n",
        "            'model_filename': args.model_state_file}\n",
        "\n",
        "\n",
        "def update_train_state(args, model, train_state):\n",
        "    \"\"\"Handle the training state updates.\n",
        "\n",
        "    Components:\n",
        "     - Early Stopping: Prevent overfitting.\n",
        "     - Model Checkpoint: Model is saved if the model is better\n",
        "    \n",
        "    :param args: main arguments\n",
        "    :param model: model to train\n",
        "    :param train_state: a dictionary representing the training state values\n",
        "    :returns:\n",
        "        a new train_state\n",
        "    \"\"\"\n",
        "\n",
        "    # Save one model at least\n",
        "    if train_state['epoch_index'] == 0:\n",
        "        torch.save(model.state_dict(), train_state['model_filename'])\n",
        "        train_state['stop_early'] = False\n",
        "\n",
        "    # Save model if performance improved\n",
        "    elif train_state['epoch_index'] >= 1:\n",
        "        loss_tm1, loss_t = train_state['val_loss'][-2:]\n",
        "         \n",
        "        # If loss worsened\n",
        "        if loss_t >= loss_tm1:\n",
        "            # Update step\n",
        "            train_state['early_stopping_step'] += 1\n",
        "        # Loss decreased\n",
        "        else:\n",
        "            # Save the best model\n",
        "            if loss_t < train_state['early_stopping_best_val']:\n",
        "                torch.save(model.state_dict(), train_state['model_filename'])\n",
        "                train_state['early_stopping_best_val'] = loss_t\n",
        "\n",
        "            # Reset early stopping step\n",
        "            train_state['early_stopping_step'] = 0\n",
        "\n",
        "        # Stop early ?\n",
        "        train_state['stop_early'] = \\\n",
        "            train_state['early_stopping_step'] >= args.early_stopping_criteria\n",
        "\n",
        "    return train_state\n",
        "\n",
        "\n",
        "def compute_accuracy(y_pred, y_target):\n",
        "    _, y_pred_indices = y_pred.max(dim=1)\n",
        "    n_correct = torch.eq(y_pred_indices, y_target).sum().item()\n",
        "    return n_correct / len(y_pred_indices) * 100"
      ],
      "execution_count": null,
      "outputs": [
        {
          "output_type": "stream",
          "name": "stdout",
          "text": [
            "time: 37.8 ms (started: 2021-10-26 12:56:08 +00:00)\n"
          ]
        }
      ]
    },
    {
      "cell_type": "markdown",
      "metadata": {
        "id": "hrs6DlgsrsK7"
      },
      "source": [
        "#### Training"
      ]
    },
    {
      "cell_type": "code",
      "metadata": {
        "id": "SqSgaJrBo98m",
        "colab": {
          "base_uri": "https://localhost:8080/",
          "height": 130,
          "referenced_widgets": [
            "c6bea7b132184f35b6cbdae880029512",
            "0d351f7c4ee04533a56e9b4f2df5a78c",
            "a1feb8a1e5f94ce7b34b837df95e8857",
            "42a5da1ec43949749fa52d337e87d42f",
            "1048bf3aaf0f473ea585830612a6029c",
            "f706818b4a8d4156b17122c56b4f9787",
            "2c187f1382204e1a989dbcd5c02da589",
            "0532be9122924f499a0cc8ff200cd212",
            "ba260b93fede43429b31cdbd23930731",
            "003b9958d4bf41a9a2a5b5b7de07b798",
            "dbcdc8e786f14e19acfb78b84bb4ffe0",
            "db42f2825583466abeecfe253a928315",
            "73a22cdaf0be4a1c8e855dfbb0d3da0e",
            "17f421ccea9a40b5a9e1866930467790",
            "37213a7d5e8b4c9ebf84d028ea41ff9b",
            "cdf504d10ef94a8a8eea98ed20470138",
            "36abea58be3c45b590365178db45b330",
            "f9635d51a10b45479b5d5253028ca07a",
            "afd87187cf4541dba28496656ff21ab0",
            "7ec5a4921369420fb79374123748f775",
            "5bf06a7a519f470b9c367728bcaea46d",
            "99e2e39a74d54e30a1bb6b90c216c2d5",
            "cd59c5cbedb2440ab4b1bcce37bca9dd",
            "f54d8c41ae42460d9122d7562675610e",
            "3956b08235034e24bc8779eee9e7f2a8",
            "910f41d35b0042c98ecc418e18b12f3c",
            "6ea288ca40d64fa99b402e294cd2b968",
            "846c30f76f4644a993c1a034be77d452",
            "6a42f46541e846dd9925be626bc080d9",
            "159d178bc497465d9af8b481492d4b4d",
            "49bfbb2b7e1b4128b46a3f027b9872df",
            "9e962156bad745fdb030c32110aee658",
            "4366fa9a6afa4301a75bfbe906c2f0ce"
          ]
        },
        "outputId": "0c779409-f0ee-4568-aa87-79980850c7cf"
      },
      "source": [
        "classifier = classifier.to(args.device)\n",
        "dataset.class_weights = dataset.class_weights.to(args.device)\n",
        "    \n",
        "loss_func = nn.CrossEntropyLoss(dataset.class_weights)\n",
        "optimizer = optim.Adam(classifier.parameters(), lr=args.learning_rate)\n",
        "scheduler = optim.lr_scheduler.ReduceLROnPlateau(optimizer=optimizer,\n",
        "                                           mode='min', factor=0.5,\n",
        "                                           patience=1)\n",
        "\n",
        "train_state = make_train_state(args)\n",
        "\n",
        "epoch_bar = tqdm(desc='training routine', \n",
        "                          total=args.num_epochs,\n",
        "                          position=0)\n",
        "\n",
        "dataset.set_split('train')\n",
        "train_bar = tqdm(desc='split=train',\n",
        "                          total=dataset.get_num_batches(args.batch_size), \n",
        "                          position=1, \n",
        "                          leave=True)\n",
        "dataset.set_split('val')\n",
        "val_bar = tqdm(desc='split=val',\n",
        "                        total=dataset.get_num_batches(args.batch_size), \n",
        "                        position=1, \n",
        "                        leave=True)\n",
        "\n",
        "try:\n",
        "    for epoch_index in range(args.num_epochs):\n",
        "        train_state['epoch_index'] = epoch_index\n",
        "\n",
        "        # Iterate over training dataset\n",
        "\n",
        "        # setup: batch generator, set loss and acc to 0, set train mode on\n",
        "        dataset.set_split('train')\n",
        "        batch_generator = generate_batches(dataset, \n",
        "                                           batch_size=args.batch_size, \n",
        "                                           device=args.device)\n",
        "        running_loss = 0.0\n",
        "        running_acc = 0.0\n",
        "        classifier.train()\n",
        "\n",
        "        for batch_index, batch_dict in enumerate(batch_generator):\n",
        "            # the training routine is these 5 steps:\n",
        "\n",
        "            # --------------------------------------    \n",
        "            # step 1. zero the gradients\n",
        "            optimizer.zero_grad()\n",
        "\n",
        "            # step 2. compute the output\n",
        "            y_pred = classifier(x_in=batch_dict['x_data'], \n",
        "                                x_lengths=batch_dict['x_length'])\n",
        "\n",
        "            # step 3. compute the loss\n",
        "            loss = loss_func(y_pred, batch_dict['y_target'])\n",
        "    \n",
        "            running_loss += (loss.item() - running_loss) / (batch_index + 1)\n",
        "\n",
        "            # step 4. use loss to produce gradients\n",
        "            loss.backward()\n",
        "\n",
        "            # step 5. use optimizer to take gradient step\n",
        "            optimizer.step()\n",
        "            # -----------------------------------------\n",
        "            # compute the accuracy\n",
        "            acc_t = compute_accuracy(y_pred, batch_dict['y_target'])\n",
        "            running_acc += (acc_t - running_acc) / (batch_index + 1)\n",
        "\n",
        "            # update bar\n",
        "            train_bar.set_postfix(loss=running_loss, acc=running_acc, epoch=epoch_index)\n",
        "            train_bar.update()\n",
        "\n",
        "        train_state['train_loss'].append(running_loss)\n",
        "        train_state['train_acc'].append(running_acc)\n",
        "\n",
        "        # Iterate over val dataset\n",
        "\n",
        "        # setup: batch generator, set loss and acc to 0; set eval mode on\n",
        "\n",
        "        dataset.set_split('val')\n",
        "        batch_generator = generate_batches(dataset, \n",
        "                                           batch_size=args.batch_size, \n",
        "                                           device=args.device)\n",
        "        running_loss = 0.\n",
        "        running_acc = 0.\n",
        "        classifier.eval()\n",
        "\n",
        "        for batch_index, batch_dict in enumerate(batch_generator):\n",
        "            # compute the output\n",
        "            y_pred = classifier(x_in=batch_dict['x_data'], \n",
        "                                x_lengths=batch_dict['x_length'])\n",
        "\n",
        "            # step 3. compute the loss\n",
        "            loss = loss_func(y_pred, batch_dict['y_target'])\n",
        "            running_loss += (loss.item() - running_loss) / (batch_index + 1)\n",
        "\n",
        "            # compute the accuracy\n",
        "            acc_t = compute_accuracy(y_pred, batch_dict['y_target'])\n",
        "            running_acc += (acc_t - running_acc) / (batch_index + 1)\n",
        "            val_bar.set_postfix(loss=running_loss, acc=running_acc, epoch=epoch_index)\n",
        "            val_bar.update()\n",
        "\n",
        "        train_state['val_loss'].append(running_loss)\n",
        "        train_state['val_acc'].append(running_acc)\n",
        "\n",
        "        train_state = update_train_state(args=args, model=classifier, \n",
        "                                         train_state=train_state)\n",
        "\n",
        "        scheduler.step(train_state['val_loss'][-1])\n",
        "\n",
        "        train_bar.n = 0\n",
        "        val_bar.n = 0\n",
        "        epoch_bar.update()\n",
        "\n",
        "        if train_state['stop_early']:\n",
        "            break\n",
        "            \n",
        "except KeyboardInterrupt:\n",
        "    print(\"Exiting loop\")"
      ],
      "execution_count": null,
      "outputs": [
        {
          "data": {
            "application/vnd.jupyter.widget-view+json": {
              "model_id": "c6bea7b132184f35b6cbdae880029512",
              "version_major": 2,
              "version_minor": 0
            },
            "text/plain": [
              "training routine:   0%|          | 0/150 [00:00<?, ?it/s]"
            ]
          },
          "metadata": {},
          "output_type": "display_data"
        },
        {
          "data": {
            "application/vnd.jupyter.widget-view+json": {
              "model_id": "db42f2825583466abeecfe253a928315",
              "version_major": 2,
              "version_minor": 0
            },
            "text/plain": [
              "split=train:   0%|          | 0/9 [00:00<?, ?it/s]"
            ]
          },
          "metadata": {},
          "output_type": "display_data"
        },
        {
          "data": {
            "application/vnd.jupyter.widget-view+json": {
              "model_id": "cd59c5cbedb2440ab4b1bcce37bca9dd",
              "version_major": 2,
              "version_minor": 0
            },
            "text/plain": [
              "split=val:   0%|          | 0/1 [00:00<?, ?it/s]"
            ]
          },
          "metadata": {},
          "output_type": "display_data"
        },
        {
          "output_type": "stream",
          "name": "stdout",
          "text": [
            "time: 8min 45s (started: 2021-10-26 12:56:08 +00:00)\n"
          ]
        }
      ]
    },
    {
      "cell_type": "markdown",
      "metadata": {
        "id": "5xcy2WakYauo"
      },
      "source": [
        "### 4.5 Compute Loss and Accuracy"
      ]
    },
    {
      "cell_type": "code",
      "metadata": {
        "id": "bpccCdpno98n",
        "colab": {
          "base_uri": "https://localhost:8080/"
        },
        "outputId": "10cf47b3-ba0a-4fd6-ece1-bcb2a1747280"
      },
      "source": [
        "# compute the loss & accuracy on the test set using the best available model\n",
        "\n",
        "classifier.load_state_dict(torch.load(train_state['model_filename']))\n",
        "\n",
        "classifier = classifier.to(args.device)\n",
        "dataset.class_weights = dataset.class_weights.to(args.device)\n",
        "loss_func = nn.CrossEntropyLoss(dataset.class_weights)\n",
        "\n",
        "dataset.set_split('test')\n",
        "batch_generator = generate_batches(dataset, \n",
        "                                   batch_size=args.batch_size, \n",
        "                                   device=args.device)\n",
        "running_loss = 0.\n",
        "running_acc = 0.\n",
        "classifier.eval()\n",
        "\n",
        "for batch_index, batch_dict in enumerate(batch_generator):\n",
        "    # compute the output\n",
        "    y_pred =  classifier(batch_dict['x_data'],\n",
        "                         x_lengths=batch_dict['x_length'])\n",
        "    \n",
        "    # compute the loss\n",
        "    loss = loss_func(y_pred, batch_dict['y_target'])\n",
        "    loss_t = loss.item()\n",
        "    running_loss += (loss_t - running_loss) / (batch_index + 1)\n",
        "\n",
        "    # compute the accuracy\n",
        "    acc_t = compute_accuracy(y_pred, batch_dict['y_target'])\n",
        "    running_acc += (acc_t - running_acc) / (batch_index + 1)\n",
        "\n",
        "train_state['test_loss'] = running_loss\n",
        "train_state['test_acc'] = running_acc"
      ],
      "execution_count": null,
      "outputs": [
        {
          "output_type": "stream",
          "name": "stdout",
          "text": [
            "time: 182 ms (started: 2021-10-26 13:04:54 +00:00)\n"
          ]
        }
      ]
    },
    {
      "cell_type": "markdown",
      "metadata": {
        "id": "FUHwxrx-tIzC"
      },
      "source": [
        "#### Results"
      ]
    },
    {
      "cell_type": "code",
      "metadata": {
        "id": "P3vleRgDo98o",
        "colab": {
          "base_uri": "https://localhost:8080/"
        },
        "outputId": "1c9fa303-128c-439b-98ec-eb2f168dcd3e"
      },
      "source": [
        "print(\"Test loss: {};\".format(train_state['test_loss']))\n",
        "print(\"Test Accuracy: {}\".format(train_state['test_acc']))"
      ],
      "execution_count": null,
      "outputs": [
        {
          "output_type": "stream",
          "name": "stdout",
          "text": [
            "Test loss: 2.9438188076019287;\n",
            "Test Accuracy: 17.578125\n",
            "time: 2.86 ms (started: 2021-10-26 13:04:54 +00:00)\n"
          ]
        }
      ]
    },
    {
      "cell_type": "markdown",
      "metadata": {
        "id": "FayYpCmBrFXb"
      },
      "source": [
        "# Different hyperparameters and the corresponding accuracy\n",
        "char_embedding_size:100, RNN hidden size: 64, lr: 0.001, dr: 0.001, test loss: 2.94, test accuracy: 6.64;\n",
        "\n",
        "char_embedding_size:100, RNN hidden size: 128, lr: 0.0001, dr: 0.0001, test loss: 2.94, test accuracy: 12.5;\n",
        "\n",
        "char_embedding_size:100, RNN hidden size: 192, lr: 0.0001, dr: 0.0001, test loss: 2.94, test accuracy: 10.94;\n",
        "\n",
        "char_embedding_size:200, RNN hidden size: 128, lr: 0.0001, dr: 0.0001, test loss: 2.94, test accuracy: 17.58;\n",
        "\n",
        "char_embedding_size:512, RNN hidden size: 128, lr: 0.001, dr: 0.001, test loss: 2.93, test accuracy: 7.81;\n",
        "\n",
        "char_embedding_size:256, RNN hidden size: 128, lr: 0.001, dr: 0.001, test loss: 2.94, test accuracy: 12.5;\n"
      ]
    },
    {
      "cell_type": "markdown",
      "metadata": {
        "id": "XJhESFWzkcTu"
      },
      "source": [
        "After tunning parameters like char_embedding_size, RNN hidden size, learning rate and dropping rate, we have a justifiable result with 17.58% test accuracy, though the accuracy is pretty low. We consider the imbalanced classes lead to this result, so we decide to use another dataset with removing low frequent classes to train this model and check the accuracy again."
      ]
    },
    {
      "cell_type": "markdown",
      "metadata": {
        "id": "3Xi_Ky3vlNlm"
      },
      "source": [
        "### 4.6 Training With 8 classes dataset"
      ]
    },
    {
      "cell_type": "markdown",
      "metadata": {
        "id": "-wgXbikjlm_K"
      },
      "source": [
        "#### Settings"
      ]
    },
    {
      "cell_type": "code",
      "metadata": {
        "colab": {
          "base_uri": "https://localhost:8080/"
        },
        "id": "Wr0OLj6Tld0X",
        "outputId": "8930aa99-1215-46dd-c6b6-e6c7c4d9235b"
      },
      "source": [
        "args = Namespace(\n",
        "    # Data and path information\n",
        "    surname_csv=\"../NLP/proj2_with_splits_task2_2.csv\",\n",
        "    vectorizer_file=\"vectorizer.json\",\n",
        "    model_state_file=\"model.pth\",  ## ?? \"model_task2.pth\"\n",
        "    save_dir=\"../NLP/\",\n",
        "    # Model hyper parameter\n",
        "    char_embedding_size=200,\n",
        "    rnn_hidden_size=128,\n",
        "    # Training hyper parameter\n",
        "    num_epochs=150,\n",
        "    learning_rate= 0.0001,\n",
        "    dropout_p = 0.0001,\n",
        "    batch_size=128,\n",
        "    seed=1337,\n",
        "    early_stopping_criteria=5,\n",
        "    # Runtime hyper parameter\n",
        "    cuda=True,\n",
        "    catch_keyboard_interrupt=True,\n",
        "    reload_from_files=False,\n",
        "    expand_filepaths_to_save_dir=True,\n",
        ")\n",
        "\n",
        "# Check CUDA\n",
        "if not torch.cuda.is_available():\n",
        "    args.cuda = False\n",
        "\n",
        "args.device = torch.device(\"cuda\" if args.cuda else \"cpu\")\n",
        "    \n",
        "print(\"Using CUDA: {}\".format(args.cuda))\n",
        "\n",
        "\n",
        "if args.expand_filepaths_to_save_dir:\n",
        "    args.vectorizer_file = os.path.join(args.save_dir,\n",
        "                                        args.vectorizer_file)\n",
        "\n",
        "    args.model_state_file = os.path.join(args.save_dir,\n",
        "                                         args.model_state_file)\n",
        "    \n",
        "# Set seed for reproducibility\n",
        "set_seed_everywhere(args.seed, args.cuda)\n",
        "\n",
        "# handle dirs\n",
        "handle_dirs(args.save_dir)"
      ],
      "execution_count": null,
      "outputs": [
        {
          "output_type": "stream",
          "name": "stdout",
          "text": [
            "Using CUDA: True\n",
            "time: 30.8 ms (started: 2021-10-26 13:04:55 +00:00)\n"
          ]
        }
      ]
    },
    {
      "cell_type": "markdown",
      "metadata": {
        "id": "J0o-FTLBltfn"
      },
      "source": [
        "#### Classifier"
      ]
    },
    {
      "cell_type": "code",
      "metadata": {
        "id": "s_oATSVumF87",
        "colab": {
          "base_uri": "https://localhost:8080/"
        },
        "outputId": "294bf3a7-c86b-4693-8795-96bf36051ef0"
      },
      "source": [
        "if args.reload_from_files and os.path.exists(args.vectorizer_file):\n",
        "    # training from a checkpoint\n",
        "    dataset = SurnameDataset.load_dataset_and_load_vectorizer(args.surname_csv, \n",
        "                                                              args.vectorizer_file)\n",
        "else:\n",
        "    # create dataset and vectorizer\n",
        "    dataset = SurnameDataset.load_dataset_and_make_vectorizer(args.surname_csv)\n",
        "    dataset.save_vectorizer(args.vectorizer_file)\n",
        "\n",
        "vectorizer = dataset.get_vectorizer()\n",
        "\n",
        "classifier = SurnameClassifier(embedding_size=args.char_embedding_size, \n",
        "                               num_embeddings=len(vectorizer.char_vocab),\n",
        "                               num_classes=len(vectorizer.nationality_vocab),\n",
        "                               dropout_p = args.dropout_p, # Modify drop out rate by self\n",
        "                               rnn_hidden_size=args.rnn_hidden_size,\n",
        "                               padding_idx=vectorizer.char_vocab.mask_index)"
      ],
      "execution_count": null,
      "outputs": [
        {
          "output_type": "stream",
          "name": "stdout",
          "text": [
            "time: 218 ms (started: 2021-10-26 13:04:55 +00:00)\n"
          ]
        }
      ]
    },
    {
      "cell_type": "code",
      "metadata": {
        "colab": {
          "base_uri": "https://localhost:8080/"
        },
        "id": "uxI_s_fSg9T6",
        "outputId": "aa654b0c-2bd3-4ba8-d90b-5f8f080b0e4a"
      },
      "source": [
        "def make_train_state(args):\n",
        "    return {'stop_early': False,\n",
        "            'early_stopping_step': 0,\n",
        "            'early_stopping_best_val': 1e8,\n",
        "            'learning_rate': args.learning_rate,\n",
        "            'epoch_index': 0,\n",
        "            'train_loss': [],\n",
        "            'train_acc': [],\n",
        "            'val_loss': [],\n",
        "            'val_acc': [],\n",
        "            'test_loss': -1,\n",
        "            'test_acc': -1,\n",
        "            'model_filename': args.model_state_file}\n",
        "\n",
        "\n",
        "def update_train_state(args, model, train_state):\n",
        "    \"\"\"Handle the training state updates.\n",
        "\n",
        "    Components:\n",
        "     - Early Stopping: Prevent overfitting.\n",
        "     - Model Checkpoint: Model is saved if the model is better\n",
        "    \n",
        "    :param args: main arguments\n",
        "    :param model: model to train\n",
        "    :param train_state: a dictionary representing the training state values\n",
        "    :returns:\n",
        "        a new train_state\n",
        "    \"\"\"\n",
        "\n",
        "    # Save one model at least\n",
        "    if train_state['epoch_index'] == 0:\n",
        "        torch.save(model.state_dict(), train_state['model_filename'])\n",
        "        train_state['stop_early'] = False\n",
        "\n",
        "    # Save model if performance improved\n",
        "    elif train_state['epoch_index'] >= 1:\n",
        "        loss_tm1, loss_t = train_state['val_loss'][-2:]\n",
        "         \n",
        "        # If loss worsened\n",
        "        if loss_t >= loss_tm1:\n",
        "            # Update step\n",
        "            train_state['early_stopping_step'] += 1\n",
        "        # Loss decreased\n",
        "        else:\n",
        "            # Save the best model\n",
        "            if loss_t < train_state['early_stopping_best_val']:\n",
        "                torch.save(model.state_dict(), train_state['model_filename'])\n",
        "                train_state['early_stopping_best_val'] = loss_t\n",
        "\n",
        "            # Reset early stopping step\n",
        "            train_state['early_stopping_step'] = 0\n",
        "\n",
        "        # Stop early ?\n",
        "        train_state['stop_early'] = \\\n",
        "            train_state['early_stopping_step'] >= args.early_stopping_criteria\n",
        "\n",
        "    return train_state\n",
        "\n",
        "\n",
        "def compute_accuracy(y_pred, y_target):\n",
        "    _, y_pred_indices = y_pred.max(dim=1)\n",
        "    n_correct = torch.eq(y_pred_indices, y_target).sum().item()\n",
        "    return n_correct / len(y_pred_indices) * 100"
      ],
      "execution_count": null,
      "outputs": [
        {
          "output_type": "stream",
          "name": "stdout",
          "text": [
            "time: 38.3 ms (started: 2021-10-26 13:04:55 +00:00)\n"
          ]
        }
      ]
    },
    {
      "cell_type": "markdown",
      "metadata": {
        "id": "mBiTvHVXl189"
      },
      "source": [
        "####  Training"
      ]
    },
    {
      "cell_type": "code",
      "metadata": {
        "colab": {
          "base_uri": "https://localhost:8080/",
          "height": 130,
          "referenced_widgets": [
            "f54ae835ef1a4ceab675bbab8a6e786c",
            "89e25ed52c1a48838d04f15bcaaeb271",
            "103f732fac6d416f90efbff00b6d8ca8",
            "362fa79c87f84c8f99a10fb64f86c2a7",
            "127d1f68fc83463d99b63b6dae88f9f5",
            "acdecdeb204449cbbf28fd4df0537e3e",
            "464836bd8fb14cb7988fbd74c1822ccd",
            "5c8ee18c74aa4c6481d009e35ed71a84",
            "63bc5f2ce2c640bc9d6bdcf2cc09d2a6",
            "4eabe06ba46f417fb183d2034a0f2158",
            "f35209b96a2d4401b252aa87bf02a85a",
            "199ef54cbcbb4cbc8c76269dbf219fa1",
            "1f76698edce547839a6a96d3b4f25e16",
            "e58cab896dc54fb49002144b9fd19132",
            "19cb80c2e0e94cdf95a357cbae499333",
            "03c8439531ce4fe7ac28f433470506b4",
            "64b5d8d2c97a468cb30c47ad00446826",
            "6f9902095bd04b4fa60eccdad556cf08",
            "9a67e7c4196f438484d5f8e296b7cc23",
            "e9b2858d7db54ba2ae678f3c120b48ce",
            "7295e8f30fec44a286d105bf4bc87b0b",
            "ab90f40c612f4188826c286ac55e207f",
            "6a04d3bb379f48c89618d3c1dd0aeeba",
            "48a0152796394dd9b7ccc62e79b38d03",
            "0605c7754dce481da9f39c0e4b0edf20",
            "1317ab8e196749458236dbd62c492ee0",
            "75975bd5b1034d309e7b16ba62e68bf0",
            "9639d8aa9ef1491d8d4dee22c42e1abe",
            "9fe9f201a1d64def89804947e836dd7c",
            "dcee233d73284482add1c08891d26bdb",
            "2d7d3f2aacdc4497bee71f2a9cb7d703",
            "e75997301e2549d5b2f98e1ccea1fd58",
            "0fb38f5fea144cbda7de21f81b54b94c"
          ]
        },
        "id": "tXKcGoVPl4Gk",
        "outputId": "eb8e2eaf-11ce-41f3-d184-3ae9945bd3c4"
      },
      "source": [
        "classifier = classifier.to(args.device)\n",
        "dataset.class_weights = dataset.class_weights.to(args.device)\n",
        "    \n",
        "loss_func = nn.CrossEntropyLoss(dataset.class_weights)\n",
        "optimizer = optim.Adam(classifier.parameters(), lr=args.learning_rate)\n",
        "scheduler = optim.lr_scheduler.ReduceLROnPlateau(optimizer=optimizer,\n",
        "                                           mode='min', factor=0.5,\n",
        "                                           patience=1)\n",
        "\n",
        "train_state = make_train_state(args)\n",
        "\n",
        "epoch_bar = tqdm(desc='training routine', \n",
        "                          total=args.num_epochs,\n",
        "                          position=0)\n",
        "\n",
        "dataset.set_split('train')\n",
        "train_bar = tqdm(desc='split=train',\n",
        "                          total=dataset.get_num_batches(args.batch_size), \n",
        "                          position=1, \n",
        "                          leave=True)\n",
        "dataset.set_split('val')\n",
        "val_bar = tqdm(desc='split=val',\n",
        "                        total=dataset.get_num_batches(args.batch_size), \n",
        "                        position=1, \n",
        "                        leave=True)\n",
        "\n",
        "try:\n",
        "    for epoch_index in range(args.num_epochs):\n",
        "        train_state['epoch_index'] = epoch_index\n",
        "\n",
        "        # Iterate over training dataset\n",
        "\n",
        "        # setup: batch generator, set loss and acc to 0, set train mode on\n",
        "        dataset.set_split('train')\n",
        "        batch_generator = generate_batches(dataset, \n",
        "                                           batch_size=args.batch_size, \n",
        "                                           device=args.device)\n",
        "        running_loss = 0.0\n",
        "        running_acc = 0.0\n",
        "        classifier.train()\n",
        "\n",
        "        for batch_index, batch_dict in enumerate(batch_generator):\n",
        "            # the training routine is these 5 steps:\n",
        "\n",
        "            # --------------------------------------    \n",
        "            # step 1. zero the gradients\n",
        "            optimizer.zero_grad()\n",
        "\n",
        "            # step 2. compute the output\n",
        "            y_pred = classifier(x_in=batch_dict['x_data'], \n",
        "                                x_lengths=batch_dict['x_length'])\n",
        "\n",
        "            # step 3. compute the loss\n",
        "            loss = loss_func(y_pred, batch_dict['y_target'])\n",
        "    \n",
        "            running_loss += (loss.item() - running_loss) / (batch_index + 1)\n",
        "\n",
        "            # step 4. use loss to produce gradients\n",
        "            loss.backward()\n",
        "\n",
        "            # step 5. use optimizer to take gradient step\n",
        "            optimizer.step()\n",
        "            # -----------------------------------------\n",
        "            # compute the accuracy\n",
        "            acc_t = compute_accuracy(y_pred, batch_dict['y_target'])\n",
        "            running_acc += (acc_t - running_acc) / (batch_index + 1)\n",
        "\n",
        "            # update bar\n",
        "            train_bar.set_postfix(loss=running_loss, acc=running_acc, epoch=epoch_index)\n",
        "            train_bar.update()\n",
        "\n",
        "        train_state['train_loss'].append(running_loss)\n",
        "        train_state['train_acc'].append(running_acc)\n",
        "\n",
        "        # Iterate over val dataset\n",
        "\n",
        "        # setup: batch generator, set loss and acc to 0; set eval mode on\n",
        "\n",
        "        dataset.set_split('val')\n",
        "        batch_generator = generate_batches(dataset, \n",
        "                                           batch_size=args.batch_size, \n",
        "                                           device=args.device)\n",
        "        running_loss = 0.\n",
        "        running_acc = 0.\n",
        "        classifier.eval()\n",
        "\n",
        "        for batch_index, batch_dict in enumerate(batch_generator):\n",
        "            # compute the output\n",
        "            y_pred = classifier(x_in=batch_dict['x_data'], \n",
        "                                x_lengths=batch_dict['x_length'])\n",
        "\n",
        "            # step 3. compute the loss\n",
        "            loss = loss_func(y_pred, batch_dict['y_target'])\n",
        "            running_loss += (loss.item() - running_loss) / (batch_index + 1)\n",
        "\n",
        "            # compute the accuracy\n",
        "            acc_t = compute_accuracy(y_pred, batch_dict['y_target'])\n",
        "            running_acc += (acc_t - running_acc) / (batch_index + 1)\n",
        "            val_bar.set_postfix(loss=running_loss, acc=running_acc, epoch=epoch_index)\n",
        "            val_bar.update()\n",
        "\n",
        "        train_state['val_loss'].append(running_loss)\n",
        "        train_state['val_acc'].append(running_acc)\n",
        "\n",
        "        train_state = update_train_state(args=args, model=classifier, \n",
        "                                         train_state=train_state)\n",
        "\n",
        "        scheduler.step(train_state['val_loss'][-1])\n",
        "\n",
        "        train_bar.n = 0\n",
        "        val_bar.n = 0\n",
        "        epoch_bar.update()\n",
        "\n",
        "        if train_state['stop_early']:\n",
        "            break\n",
        "            \n",
        "except KeyboardInterrupt:\n",
        "    print(\"Exiting loop\")"
      ],
      "execution_count": null,
      "outputs": [
        {
          "output_type": "display_data",
          "data": {
            "application/vnd.jupyter.widget-view+json": {
              "model_id": "f54ae835ef1a4ceab675bbab8a6e786c",
              "version_minor": 0,
              "version_major": 2
            },
            "text/plain": [
              "training routine:   0%|          | 0/150 [00:00<?, ?it/s]"
            ]
          },
          "metadata": {}
        },
        {
          "output_type": "display_data",
          "data": {
            "application/vnd.jupyter.widget-view+json": {
              "model_id": "199ef54cbcbb4cbc8c76269dbf219fa1",
              "version_minor": 0,
              "version_major": 2
            },
            "text/plain": [
              "split=train:   0%|          | 0/8 [00:00<?, ?it/s]"
            ]
          },
          "metadata": {}
        },
        {
          "output_type": "display_data",
          "data": {
            "application/vnd.jupyter.widget-view+json": {
              "model_id": "6a04d3bb379f48c89618d3c1dd0aeeba",
              "version_minor": 0,
              "version_major": 2
            },
            "text/plain": [
              "split=val:   0%|          | 0/1 [00:00<?, ?it/s]"
            ]
          },
          "metadata": {}
        },
        {
          "output_type": "stream",
          "name": "stdout",
          "text": [
            "time: 7min 49s (started: 2021-10-26 13:04:55 +00:00)\n"
          ]
        }
      ]
    },
    {
      "cell_type": "markdown",
      "metadata": {
        "id": "Vpspg0f1pj84"
      },
      "source": [
        "####  Compute Loss and Accuracy"
      ]
    },
    {
      "cell_type": "code",
      "metadata": {
        "id": "8Z0ibQh6pytR",
        "colab": {
          "base_uri": "https://localhost:8080/"
        },
        "outputId": "357750ac-955f-422a-e1a6-49efd73f10a2"
      },
      "source": [
        "# compute the loss & accuracy on the test set using the best available model\n",
        "\n",
        "classifier.load_state_dict(torch.load(train_state['model_filename']))\n",
        "\n",
        "classifier = classifier.to(args.device)\n",
        "dataset.class_weights = dataset.class_weights.to(args.device)\n",
        "loss_func = nn.CrossEntropyLoss(dataset.class_weights)\n",
        "\n",
        "dataset.set_split('test')\n",
        "batch_generator = generate_batches(dataset, \n",
        "                                   batch_size=args.batch_size, \n",
        "                                   device=args.device)\n",
        "running_loss = 0.\n",
        "running_acc = 0.\n",
        "classifier.eval()\n",
        "\n",
        "for batch_index, batch_dict in enumerate(batch_generator):\n",
        "    # compute the output\n",
        "    y_pred =  classifier(batch_dict['x_data'],\n",
        "                         x_lengths=batch_dict['x_length'])\n",
        "    \n",
        "    # compute the loss\n",
        "    loss = loss_func(y_pred, batch_dict['y_target'])\n",
        "    loss_t = loss.item()\n",
        "    running_loss += (loss_t - running_loss) / (batch_index + 1)\n",
        "\n",
        "    # compute the accuracy\n",
        "    acc_t = compute_accuracy(y_pred, batch_dict['y_target'])\n",
        "    running_acc += (acc_t - running_acc) / (batch_index + 1)\n",
        "\n",
        "train_state['test_loss'] = running_loss\n",
        "train_state['test_acc'] = running_acc"
      ],
      "execution_count": null,
      "outputs": [
        {
          "output_type": "stream",
          "name": "stdout",
          "text": [
            "time: 105 ms (started: 2021-10-26 13:12:44 +00:00)\n"
          ]
        }
      ]
    },
    {
      "cell_type": "code",
      "metadata": {
        "colab": {
          "base_uri": "https://localhost:8080/"
        },
        "id": "KTYZH2qNpugv",
        "outputId": "d57ba116-8561-497a-da6f-a764fbd163a1"
      },
      "source": [
        "print(\"Test loss: {};\".format(train_state['test_loss']))\n",
        "print(\"Test Accuracy: {}\".format(train_state['test_acc']))"
      ],
      "execution_count": null,
      "outputs": [
        {
          "output_type": "stream",
          "name": "stdout",
          "text": [
            "Test loss: 2.0866777896881104;\n",
            "Test Accuracy: 16.40625\n",
            "time: 2.34 ms (started: 2021-10-26 10:31:37 +00:00)\n"
          ]
        }
      ]
    },
    {
      "cell_type": "markdown",
      "metadata": {
        "id": "wYKs5HDb7Yfi"
      },
      "source": [
        "## 5 GRU"
      ]
    },
    {
      "cell_type": "markdown",
      "metadata": {
        "id": "1BTOhgZCd-rQ"
      },
      "source": [
        "We use conditioned model with observing the `NATURE_INJURY` before generating a `NARRATIVE` sentence."
      ]
    },
    {
      "cell_type": "code",
      "metadata": {
        "id": "zF7eSUmJ9_jm",
        "colab": {
          "base_uri": "https://localhost:8080/"
        },
        "outputId": "3f711a10-329c-4a74-e1bb-9b583869c7ca"
      },
      "source": [
        "import numpy as np\n",
        "\n",
        "import torch\n",
        "import torch.optim as optim\n",
        "import torch.nn as nn\n",
        "import torch.nn.functional as F\n",
        "\n",
        "from torch.utils.data import DataLoader, Dataset, random_split, TensorDataset\n",
        "from torch.nn.utils import rnn as rnn_utils"
      ],
      "execution_count": null,
      "outputs": [
        {
          "output_type": "stream",
          "name": "stdout",
          "text": [
            "time: 5 ms (started: 2021-10-26 10:31:37 +00:00)\n"
          ]
        }
      ]
    },
    {
      "cell_type": "markdown",
      "metadata": {
        "id": "aQ7OoL4ll422"
      },
      "source": [
        "### 5.1 Data preparation (`Vocabulary` `Sequence` `Vectorizer` `Dataset`)\n"
      ]
    },
    {
      "cell_type": "markdown",
      "metadata": {
        "id": "K3HzNLVveytk"
      },
      "source": [
        "#### `Vocabulary`"
      ]
    },
    {
      "cell_type": "code",
      "metadata": {
        "id": "wjMvg2tlfKjS",
        "colab": {
          "base_uri": "https://localhost:8080/"
        },
        "outputId": "d2e63a0b-8586-401a-eb9e-f912c69c3564"
      },
      "source": [
        "class Vocabulary(object):\n",
        "    \"\"\"Class to process text and extract vocabulary for mapping\"\"\"\n",
        "\n",
        "    def __init__(self, token_to_idx=None):\n",
        "        \"\"\"\n",
        "        Args:\n",
        "            token_to_idx (dict): a pre-existing map of tokens to indices\n",
        "        \"\"\"\n",
        "\n",
        "        if token_to_idx is None:\n",
        "            token_to_idx = {}\n",
        "        self._token_to_idx = token_to_idx\n",
        "\n",
        "        self._idx_to_token = {idx: token \n",
        "                              for token, idx in self._token_to_idx.items()}\n",
        "        \n",
        "    def to_serializable(self):\n",
        "        \"\"\" returns a dictionary that can be serialized \"\"\"\n",
        "        return {'token_to_idx': self._token_to_idx}\n",
        "\n",
        "    @classmethod\n",
        "    def from_serializable(cls, contents):\n",
        "        \"\"\" instantiates the Vocabulary from a serialized dictionary \"\"\"\n",
        "        return cls(**contents)\n",
        "\n",
        "    def add_token(self, token):\n",
        "        \"\"\"Update mapping dicts based on the token.\n",
        "\n",
        "        Args:\n",
        "            token (str): the item to add into the Vocabulary\n",
        "        Returns:\n",
        "            index (int): the integer corresponding to the token\n",
        "        \"\"\"\n",
        "        if token in self._token_to_idx:\n",
        "            index = self._token_to_idx[token]\n",
        "        else:\n",
        "            index = len(self._token_to_idx)\n",
        "            self._token_to_idx[token] = index\n",
        "            self._idx_to_token[index] = token\n",
        "        return index\n",
        "            \n",
        "    def add_many(self, tokens):\n",
        "        \"\"\"Add a list of tokens into the Vocabulary\n",
        "        \n",
        "        Args:\n",
        "            tokens (list): a list of string tokens\n",
        "        Returns:\n",
        "            indices (list): a list of indices corresponding to the tokens\n",
        "        \"\"\"\n",
        "        return [self.add_token(token) for token in tokens]\n",
        "\n",
        "    def lookup_token(self, token):\n",
        "        \"\"\"Retrieve the index associated with the token \n",
        "        \n",
        "        Args:\n",
        "            token (str): the token to look up \n",
        "        Returns:\n",
        "            index (int): the index corresponding to the token\n",
        "        \"\"\"\n",
        "        return self._token_to_idx[token]\n",
        "\n",
        "    def lookup_index(self, index):\n",
        "        \"\"\"Return the token associated with the index\n",
        "        \n",
        "        Args: \n",
        "            index (int): the index to look up\n",
        "        Returns:\n",
        "            token (str): the token corresponding to the index\n",
        "        Raises:\n",
        "            KeyError: if the index is not in the Vocabulary\n",
        "        \"\"\"\n",
        "        if index not in self._idx_to_token:\n",
        "            raise KeyError(\"the index (%d) is not in the Vocabulary\" % index)\n",
        "        return self._idx_to_token[index]\n",
        "\n",
        "    def __str__(self):\n",
        "        return \"<Vocabulary(size=%d)>\" % len(self)\n",
        "\n",
        "    def __len__(self):\n",
        "        return len(self._token_to_idx)"
      ],
      "execution_count": null,
      "outputs": [
        {
          "output_type": "stream",
          "name": "stdout",
          "text": [
            "time: 37.2 ms (started: 2021-10-26 12:52:54 +00:00)\n"
          ]
        }
      ]
    },
    {
      "cell_type": "code",
      "metadata": {
        "id": "RycyRHGJfNQn",
        "colab": {
          "base_uri": "https://localhost:8080/"
        },
        "outputId": "881ae78c-85d0-403c-fbb5-0ac7df5af744"
      },
      "source": [
        "class SequenceVocabulary(Vocabulary):\n",
        "    def __init__(self, token_to_idx=None, unk_token=\"<UNK>\",\n",
        "                 mask_token=\"<MASK>\", begin_seq_token=\"<BEGIN>\",\n",
        "                 end_seq_token=\"<END>\"):\n",
        "\n",
        "        super(SequenceVocabulary, self).__init__(token_to_idx)\n",
        "\n",
        "        self._mask_token = mask_token\n",
        "        self._unk_token = unk_token\n",
        "        self._begin_seq_token = begin_seq_token\n",
        "        self._end_seq_token = end_seq_token\n",
        "\n",
        "        self.mask_index = self.add_token(self._mask_token)\n",
        "        self.unk_index = self.add_token(self._unk_token)\n",
        "        self.begin_seq_index = self.add_token(self._begin_seq_token)\n",
        "        self.end_seq_index = self.add_token(self._end_seq_token)\n",
        "\n",
        "    def to_serializable(self):\n",
        "        contents = super(SequenceVocabulary, self).to_serializable()\n",
        "        contents.update({'unk_token': self._unk_token,\n",
        "                         'mask_token': self._mask_token,\n",
        "                         'begin_seq_token': self._begin_seq_token,\n",
        "                         'end_seq_token': self._end_seq_token})\n",
        "        return contents\n",
        "\n",
        "    def lookup_token(self, token):\n",
        "        \"\"\"Retrieve the index associated with the token \n",
        "          or the UNK index if token isn't present.\n",
        "        \n",
        "        Args:\n",
        "            token (str): the token to look up \n",
        "        Returns:\n",
        "            index (int): the index corresponding to the token\n",
        "        Notes:\n",
        "            `unk_index` needs to be >=0 (having been added into the Vocabulary) \n",
        "              for the UNK functionality \n",
        "        \"\"\"\n",
        "        if self.unk_index >= 0:\n",
        "            return self._token_to_idx.get(token, self.unk_index)\n",
        "        else:\n",
        "            return self._token_to_idx[token]"
      ],
      "execution_count": null,
      "outputs": [
        {
          "output_type": "stream",
          "name": "stdout",
          "text": [
            "time: 26.5 ms (started: 2021-10-26 12:52:57 +00:00)\n"
          ]
        }
      ]
    },
    {
      "cell_type": "markdown",
      "metadata": {
        "id": "2ZjbPsB4PESL"
      },
      "source": [
        "#### Vectorizer"
      ]
    },
    {
      "cell_type": "code",
      "metadata": {
        "id": "taQFjUTcl2dB",
        "colab": {
          "base_uri": "https://localhost:8080/"
        },
        "outputId": "048525ce-28b3-445a-c09e-039bbb811c7d"
      },
      "source": [
        "class InjuryVectorizer(object):\n",
        "    \"\"\" The Vectorizer which coordinates the Vocabularies and puts them to use\"\"\"    \n",
        "    def __init__(self, char_vocab, nationality_vocab):\n",
        "        \"\"\"\n",
        "        Args:\n",
        "            char_vocab (Vocabulary): maps words to integers\n",
        "            nationality_vocab (Vocabulary): maps nationalities to integers\n",
        "        \"\"\"\n",
        "        self.char_vocab = char_vocab\n",
        "        self.nationality_vocab = nationality_vocab\n",
        "\n",
        "    def vectorize(self, surname, vector_length=-1):\n",
        "        \"\"\"Vectorize a surname into a vector of observations and targets\n",
        "        \n",
        "        The outputs are the vectorized surname split into two vectors:\n",
        "            surname[:-1] and surname[1:]\n",
        "        At each timestep, the first vector is the observation and the second vector is the target. \n",
        "        \n",
        "        Args:\n",
        "            surname (str): the surname to be vectorized\n",
        "            vector_length (int): an argument for forcing the length of index vector\n",
        "        Returns:\n",
        "            a tuple: (from_vector, to_vector)\n",
        "            from_vector (numpy.ndarray): the observation vector \n",
        "            to_vector (numpy.ndarray): the target prediction vector\n",
        "        \"\"\"\n",
        "        indices = [self.char_vocab.begin_seq_index] \n",
        "        indices.extend(self.char_vocab.lookup_token(token) for token in surname)\n",
        "        indices.append(self.char_vocab.end_seq_index)\n",
        "\n",
        "        if vector_length < 0:\n",
        "            vector_length = len(indices) - 1\n",
        "\n",
        "        from_vector = np.empty(vector_length, dtype=np.int64)         \n",
        "        from_indices = indices[:-1]\n",
        "        from_vector[:len(from_indices)] = from_indices\n",
        "        from_vector[len(from_indices):] = self.char_vocab.mask_index\n",
        "\n",
        "        to_vector = np.empty(vector_length, dtype=np.int64)\n",
        "        to_indices = indices[1:]\n",
        "        to_vector[:len(to_indices)] = to_indices\n",
        "        to_vector[len(to_indices):] = self.char_vocab.mask_index\n",
        "        \n",
        "        return from_vector, to_vector\n",
        "\n",
        "    @classmethod\n",
        "    def from_dataframe(cls, surname_df):\n",
        "        \"\"\"Instantiate the vectorizer from the dataset dataframe\n",
        "        \n",
        "        Args:\n",
        "            surname_df (pandas.DataFrame): the surname dataset\n",
        "        Returns:\n",
        "            an instance of the SurnameVectorizer\n",
        "        \"\"\"\n",
        "        char_vocab = SequenceVocabulary()\n",
        "        nationality_vocab = Vocabulary()\n",
        "\n",
        "        for index, row in surname_df.iterrows():\n",
        "            for char in row.surname:\n",
        "                char_vocab.add_token(char)\n",
        "            nationality_vocab.add_token(row.nationality)\n",
        "\n",
        "        return cls(char_vocab, nationality_vocab)\n",
        "\n",
        "    @classmethod\n",
        "    def from_serializable(cls, contents):\n",
        "        \"\"\"Instantiate the vectorizer from saved contents\n",
        "        \n",
        "        Args:\n",
        "            contents (dict): a dict holding two vocabularies for this vectorizer\n",
        "                This dictionary is created using `vectorizer.to_serializable()`\n",
        "        Returns:\n",
        "            an instance of SurnameVectorizer\n",
        "        \"\"\"\n",
        "        char_vocab = SequenceVocabulary.from_serializable(contents['char_vocab'])\n",
        "        nat_vocab =  Vocabulary.from_serializable(contents['nationality_vocab'])\n",
        "\n",
        "        return cls(char_vocab=char_vocab, nationality_vocab=nat_vocab)\n",
        "\n",
        "    def to_serializable(self):\n",
        "        \"\"\" Returns the serializable contents \"\"\"\n",
        "        return {'char_vocab': self.char_vocab.to_serializable(), \n",
        "                'nationality_vocab': self.nationality_vocab.to_serializable()}"
      ],
      "execution_count": null,
      "outputs": [
        {
          "output_type": "stream",
          "name": "stdout",
          "text": [
            "time: 52.9 ms (started: 2021-10-26 12:53:00 +00:00)\n"
          ]
        }
      ]
    },
    {
      "cell_type": "markdown",
      "metadata": {
        "id": "T3SK5-5Er9kA"
      },
      "source": [
        "#### Dataset"
      ]
    },
    {
      "cell_type": "code",
      "metadata": {
        "id": "3eBUg-rCr4iP",
        "colab": {
          "base_uri": "https://localhost:8080/"
        },
        "outputId": "108fcc3d-17bb-433d-f4cb-22e34021c5f1"
      },
      "source": [
        "class NarDataset(Dataset):\n",
        "    def __init__(self, surname_df, vectorizer):\n",
        "        \"\"\"\n",
        "        Args:\n",
        "            surname_df (pandas.DataFrame): the dataset\n",
        "            vectorizer (SurnameVectorizer): vectorizer instatiated from dataset\n",
        "        \"\"\"\n",
        "        self.surname_df = surname_df \n",
        "        self._vectorizer = vectorizer\n",
        "\n",
        "        self._max_seq_length = max(map(len, self.surname_df.surname)) + 2\n",
        "\n",
        "        self.train_df = self.surname_df[self.surname_df.split=='train']\n",
        "        self.train_size = len(self.train_df)\n",
        "\n",
        "        self.val_df = self.surname_df[self.surname_df.split=='val']\n",
        "        self.validation_size = len(self.val_df)\n",
        "\n",
        "        self.test_df = self.surname_df[self.surname_df.split=='test']\n",
        "        self.test_size = len(self.test_df)\n",
        "\n",
        "        self._lookup_dict = {'train': (self.train_df, self.train_size), \n",
        "                             'val': (self.val_df, self.validation_size), \n",
        "                             'test': (self.test_df, self.test_size)}\n",
        "\n",
        "        self.set_split('train')\n",
        "        \n",
        "    @classmethod\n",
        "    def load_dataset_and_make_vectorizer(cls, surname_csv):\n",
        "        \"\"\"Load dataset and make a new vectorizer from scratch\n",
        "        \n",
        "        Args:\n",
        "            surname_csv (str): location of the dataset\n",
        "        Returns:\n",
        "            an instance of SurnameDataset\n",
        "        \"\"\"\n",
        "        \n",
        "        surname_df = pd.read_csv(surname_csv)\n",
        "        return cls(surname_df, InjuryVectorizer.from_dataframe(surname_df))\n",
        "        \n",
        "    @classmethod\n",
        "    def load_dataset_and_load_vectorizer(cls, surname_csv, vectorizer_filepath):\n",
        "        \"\"\"Load dataset and the corresponding vectorizer. \n",
        "        Used in the case in the vectorizer has been cached for re-use\n",
        "        \n",
        "        Args:\n",
        "            surname_csv (str): location of the dataset\n",
        "            vectorizer_filepath (str): location of the saved vectorizer\n",
        "        Returns:\n",
        "            an instance of SurnameDataset\n",
        "        \"\"\"\n",
        "        surname_df = pd.read_csv(surname_csv)\n",
        "        vectorizer = cls.load_vectorizer_only(vectorizer_filepath)\n",
        "        return cls(surname_df, vectorizer)\n",
        "\n",
        "    @staticmethod\n",
        "    def load_vectorizer_only(vectorizer_filepath):\n",
        "        \"\"\"a static method for loading the vectorizer from file\n",
        "        \n",
        "        Args:\n",
        "            vectorizer_filepath (str): the location of the serialized vectorizer\n",
        "        Returns:\n",
        "            an instance of SurnameVectorizer\n",
        "        \"\"\"\n",
        "        with open(vectorizer_filepath) as fp:\n",
        "            return InjuryVectorizer.from_serializable(json.load(fp))\n",
        "\n",
        "    def save_vectorizer(self, vectorizer_filepath):\n",
        "        \"\"\"saves the vectorizer to disk using json\n",
        "        \n",
        "        Args:\n",
        "            vectorizer_filepath (str): the location to save the vectorizer\n",
        "        \"\"\"\n",
        "        with open(vectorizer_filepath, \"w\") as fp:\n",
        "            json.dump(self._vectorizer.to_serializable(), fp)\n",
        "\n",
        "    def get_vectorizer(self):\n",
        "        \"\"\" returns the vectorizer \"\"\"\n",
        "        return self._vectorizer\n",
        "\n",
        "    def set_split(self, split=\"train\"):\n",
        "        self._target_split = split\n",
        "        self._target_df, self._target_size = self._lookup_dict[split]\n",
        "\n",
        "    def __len__(self):\n",
        "        return self._target_size\n",
        "\n",
        "    def __getitem__(self, index):\n",
        "        \"\"\"the primary entry point method for PyTorch datasets\n",
        "        \n",
        "        Args:\n",
        "            index (int): the index to the data point \n",
        "        Returns:\n",
        "            a dictionary holding the data point: (x_data, y_target, class_index)\n",
        "        \"\"\"\n",
        "        row = self._target_df.iloc[index]\n",
        "        \n",
        "        from_vector, to_vector = \\\n",
        "            self._vectorizer.vectorize(row.surname, self._max_seq_length)\n",
        "        \n",
        "        nationality_index = \\\n",
        "            self._vectorizer.nationality_vocab.lookup_token(row.nationality)\n",
        "\n",
        "        return {'x_data': from_vector, \n",
        "                'y_target': to_vector, \n",
        "                'class_index': nationality_index}\n",
        "\n",
        "    def get_num_batches(self, batch_size):\n",
        "        \"\"\"Given a batch size, return the number of batches in the dataset\n",
        "        \n",
        "        Args:\n",
        "            batch_size (int)\n",
        "        Returns:\n",
        "            number of batches in the dataset\n",
        "        \"\"\"\n",
        "        return len(self) // batch_size\n",
        "    \n",
        "def generate_batches(dataset, batch_size, shuffle=True,\n",
        "                     drop_last=True, device=\"cpu\"): \n",
        "    \"\"\"\n",
        "    A generator function which wraps the PyTorch DataLoader. It will \n",
        "      ensure each tensor is on the write device location.\n",
        "    \"\"\"\n",
        "    dataloader = DataLoader(dataset=dataset, batch_size=batch_size,\n",
        "                            shuffle=shuffle, drop_last=drop_last)\n",
        "\n",
        "    for data_dict in dataloader:\n",
        "        out_data_dict = {}\n",
        "        for name, tensor in data_dict.items():\n",
        "            out_data_dict[name] = data_dict[name].to(device)\n",
        "        yield out_data_dict"
      ],
      "execution_count": null,
      "outputs": [
        {
          "output_type": "stream",
          "name": "stdout",
          "text": [
            "time: 92 ms (started: 2021-10-26 12:53:07 +00:00)\n"
          ]
        }
      ]
    },
    {
      "cell_type": "markdown",
      "metadata": {
        "id": "4mHceBf2tF2z"
      },
      "source": [
        "### 5.2 GRU Model"
      ]
    },
    {
      "cell_type": "code",
      "metadata": {
        "id": "AWTZK3zGtFYA",
        "colab": {
          "base_uri": "https://localhost:8080/"
        },
        "outputId": "703758d9-74c6-43ce-b1a7-6a22f0aa39b9"
      },
      "source": [
        "class InjuryGenerationModel(nn.Module):\n",
        "    def __init__(self, char_embedding_size, char_vocab_size, num_nationalities, dropout_p,\n",
        "                 rnn_hidden_size, pretrained_embeddings=None, batch_first=True, padding_idx=0 ):\n",
        "        \"\"\"\n",
        "        Args:\n",
        "            char_embedding_size (int): The size of the character embeddings\n",
        "            char_vocab_size (int): The number of characters to embed\n",
        "            num_nationalities (int): The size of the prediction vector \n",
        "            rnn_hidden_size (int): The size of the RNN's hidden state\n",
        "            batch_first (bool): Informs whether the input tensors will \n",
        "                have batch or the sequence on the 0th dimension\n",
        "            padding_idx (int): The index for the tensor padding; \n",
        "                see torch.nn.Embedding\n",
        "            dropout_p (float): the probability of zeroing activations using\n",
        "                the dropout method.  higher means more likely to zero.\n",
        "            pretrained_embeddings: The pretrained embedding with Glove corpus\n",
        "        \"\"\"\n",
        "        super(InjuryGenerationModel, self).__init__()\n",
        "\n",
        "        # Use Glove for pretrained embeddings while True\n",
        "        # Only for char embedding in Classifation\n",
        "        if pretrained_embeddings is None:\n",
        "            self.char_emb = nn.Embedding(num_embeddings=char_vocab_size,\n",
        "                                        embedding_dim=char_embedding_size,\n",
        "                                        padding_idx=padding_idx)\n",
        "        else:\n",
        "            pretrained_embeddings = torch.from_numpy(pretrained_embeddings).float()\n",
        "            self.char_emb = nn.Embedding(embedding_dim=embedding_size,\n",
        "                                    num_embeddings=num_embeddings,\n",
        "                                    padding_idx=padding_idx,\n",
        "                                    _weight=pretrained_embeddings)\n",
        "\n",
        "        self.nation_emb = nn.Embedding(num_embeddings=num_nationalities,\n",
        "                                       embedding_dim=rnn_hidden_size)\n",
        "\n",
        "        self.rnn = nn.GRU(input_size=char_embedding_size, \n",
        "                          hidden_size=rnn_hidden_size,\n",
        "                          batch_first=batch_first)\n",
        "        \n",
        "        self.fc = nn.Linear(in_features=rnn_hidden_size, \n",
        "                            out_features=char_vocab_size)\n",
        "        \n",
        "        self._dropout_p = dropout_p\n",
        "\n",
        "    def forward(self, x_in, nationality_index, apply_softmax=False):\n",
        "        \"\"\"The forward pass of the model\n",
        "        \n",
        "        Args:\n",
        "            x_in (torch.Tensor): an input data tensor. \n",
        "                x_in.shape should be (batch, max_seq_size)\n",
        "            nationality_index (torch.Tensor): The index of the nationality for each data point\n",
        "                Used to initialize the hidden state of the RNN\n",
        "            apply_softmax (bool): a flag for the softmax activation\n",
        "                should be false if used with the Cross Entropy losses\n",
        "        Returns:\n",
        "            the resulting tensor. tensor.shape should be (batch, char_vocab_size)\n",
        "        \"\"\"\n",
        "        x_embedded = self.char_emb(x_in)\n",
        "        \n",
        "        # hidden_size: (num_layers * num_directions, batch_size, rnn_hidden_size)\n",
        "        # L,N,F\n",
        "        nationality_embedded = self.nation_emb(nationality_index).unsqueeze(0)\n",
        "\n",
        "        y_out, _ = self.rnn(x_embedded, nationality_embedded)\n",
        "\n",
        "        # N,L,F\n",
        "        batch_size, seq_size, feat_size = y_out.shape\n",
        "        y_out = y_out.contiguous().view(batch_size * seq_size, feat_size)\n",
        "\n",
        "        y_out = self.fc(F.dropout(y_out, p=self._dropout_p))\n",
        "                         \n",
        "        if apply_softmax:\n",
        "            y_out = F.softmax(y_out, dim=1)\n",
        "\n",
        "        new_feat_size = y_out.shape[-1]\n",
        "        y_out = y_out.view(batch_size, seq_size, new_feat_size)\n",
        "            \n",
        "        return y_out"
      ],
      "execution_count": null,
      "outputs": [
        {
          "output_type": "stream",
          "name": "stdout",
          "text": [
            "time: 44.3 ms (started: 2021-10-26 12:53:11 +00:00)\n"
          ]
        }
      ]
    },
    {
      "cell_type": "markdown",
      "metadata": {
        "id": "SupBv2nQtcNW"
      },
      "source": [
        "#### Sample from model"
      ]
    },
    {
      "cell_type": "code",
      "metadata": {
        "id": "G45uxAQ-tbf7",
        "colab": {
          "base_uri": "https://localhost:8080/"
        },
        "outputId": "e41c3931-1fef-4a11-de90-ffc5e34923d3"
      },
      "source": [
        "def sample_from_model(model, vectorizer, nationalities, sample_size=20, \n",
        "                      temperature=1.0):\n",
        "    \"\"\"Sample a sequence of indices from the model\n",
        "    \n",
        "    Args:\n",
        "        model (SurnameGenerationModel): the trained model\n",
        "        vectorizer (SurnameVectorizer): the corresponding vectorizer\n",
        "        nationalities (list): a list of integers representing nationalities\n",
        "        sample_size (int): the max length of the samples\n",
        "        temperature (float): accentuates or flattens \n",
        "            the distribution. \n",
        "            0.0 < temperature < 1.0 will make it peakier. \n",
        "            temperature > 1.0 will make it more uniform\n",
        "    Returns:\n",
        "        indices (torch.Tensor): the matrix of indices; \n",
        "        shape = (num_samples, sample_size)\n",
        "    \"\"\"\n",
        "    num_samples = len(nationalities)\n",
        "    begin_seq_index = [vectorizer.char_vocab.begin_seq_index \n",
        "                       for _ in range(num_samples)]\n",
        "    begin_seq_index = torch.tensor(begin_seq_index, \n",
        "                                   dtype=torch.int64).unsqueeze(dim=1)\n",
        "    indices = [begin_seq_index]\n",
        "    nationality_indices = torch.tensor(nationalities, dtype=torch.int64).unsqueeze(dim=0)\n",
        "    h_t = model.nation_emb(nationality_indices)\n",
        "    \n",
        "    for time_step in range(sample_size):\n",
        "        x_t = indices[time_step]\n",
        "        x_emb_t = model.char_emb(x_t)\n",
        "        rnn_out_t, h_t = model.rnn(x_emb_t, h_t)\n",
        "        prediction_vector = model.fc(rnn_out_t.squeeze(dim=1))\n",
        "        probability_vector = F.softmax(prediction_vector / temperature, dim=1)\n",
        "        indices.append(torch.multinomial(probability_vector, num_samples=1))\n",
        "    indices = torch.stack(indices).squeeze().permute(1, 0)\n",
        "    return indices"
      ],
      "execution_count": null,
      "outputs": [
        {
          "output_type": "stream",
          "name": "stdout",
          "text": [
            "time: 14.7 ms (started: 2021-10-26 12:53:15 +00:00)\n"
          ]
        }
      ]
    },
    {
      "cell_type": "markdown",
      "metadata": {
        "id": "83jda1u_taos"
      },
      "source": [
        "#### Decode samples"
      ]
    },
    {
      "cell_type": "code",
      "metadata": {
        "id": "EWy_9R2Uut93",
        "colab": {
          "base_uri": "https://localhost:8080/"
        },
        "outputId": "7041f1bf-a89f-4e25-b0c7-01a41b315c86"
      },
      "source": [
        "def decode_samples(sampled_indices, vectorizer):\n",
        "    \"\"\"Transform indices into the string form of a surname\n",
        "    \n",
        "    Args:\n",
        "        sampled_indices (torch.Tensor): the inidces from `sample_from_model`\n",
        "        vectorizer (SurnameVectorizer): the corresponding vectorizer\n",
        "    \"\"\"\n",
        "    decoded_surnames = []\n",
        "    vocab = vectorizer.char_vocab\n",
        "    \n",
        "    for sample_index in range(sampled_indices.shape[0]):\n",
        "        surname = \"\"\n",
        "        for time_step in range(sampled_indices.shape[1]):\n",
        "            sample_item = sampled_indices[sample_index, time_step].item()\n",
        "            if sample_item == vocab.begin_seq_index:\n",
        "                continue\n",
        "            elif sample_item == vocab.end_seq_index:\n",
        "                break\n",
        "            else:\n",
        "                surname += vocab.lookup_index(sample_item)\n",
        "        decoded_surnames.append(surname)\n",
        "    return decoded_surnames\n",
        "            "
      ],
      "execution_count": null,
      "outputs": [
        {
          "output_type": "stream",
          "name": "stdout",
          "text": [
            "time: 9.01 ms (started: 2021-10-26 12:53:19 +00:00)\n"
          ]
        }
      ]
    },
    {
      "cell_type": "markdown",
      "metadata": {
        "id": "aEAsm4VPuwDO"
      },
      "source": [
        "### 5.3 Training Routine"
      ]
    },
    {
      "cell_type": "markdown",
      "metadata": {
        "id": "tcK8qRuqu26n"
      },
      "source": [
        "#### 5.3.1 Helper functions"
      ]
    },
    {
      "cell_type": "code",
      "metadata": {
        "id": "liOUDbRou5el",
        "colab": {
          "base_uri": "https://localhost:8080/"
        },
        "outputId": "8a11895e-f1cd-4da4-de80-174aa86bc0e2"
      },
      "source": [
        "def make_train_state(args):\n",
        "    return {'stop_early': False,\n",
        "            'early_stopping_step': 0,\n",
        "            'early_stopping_best_val': 1e8,\n",
        "            'learning_rate': args.learning_rate,\n",
        "            'epoch_index': 0,\n",
        "            'train_loss': [],\n",
        "            'train_acc': [],\n",
        "            'val_loss': [],\n",
        "            'val_acc': [],\n",
        "            'test_loss': -1,\n",
        "            'test_acc': -1,\n",
        "            'model_filename': args.model_state_file}\n",
        "\n",
        "def update_train_state(args, model, train_state):\n",
        "    \"\"\"Handle the training state updates.\n",
        "    Components:\n",
        "     - Early Stopping: Prevent overfitting.\n",
        "     - Model Checkpoint: Model is saved if the model is better\n",
        "    \n",
        "    :param args: main arguments\n",
        "    :param model: model to train\n",
        "    :param train_state: a dictionary representing the training state values\n",
        "    :returns:\n",
        "        a new train_state\n",
        "    \"\"\"\n",
        "\n",
        "    # Save one model at least\n",
        "    if train_state['epoch_index'] == 0:\n",
        "        torch.save(model.state_dict(), train_state['model_filename'])\n",
        "        train_state['stop_early'] = False\n",
        "\n",
        "    # Save model if performance improved\n",
        "    elif train_state['epoch_index'] >= 1:\n",
        "        loss_tm1, loss_t = train_state['val_loss'][-2:]\n",
        "         \n",
        "        # If loss worsened\n",
        "        if loss_t >= loss_tm1:\n",
        "            # Update step\n",
        "            train_state['early_stopping_step'] += 1\n",
        "        # Loss decreased\n",
        "        else:\n",
        "            # Save the best model\n",
        "            if loss_t < train_state['early_stopping_best_val']:\n",
        "                torch.save(model.state_dict(), train_state['model_filename'])\n",
        "                train_state['early_stopping_best_val'] = loss_t\n",
        "\n",
        "            # Reset early stopping step\n",
        "            train_state['early_stopping_step'] = 0\n",
        "\n",
        "        # Stop early ?\n",
        "        train_state['stop_early'] = \\\n",
        "            train_state['early_stopping_step'] >= args.early_stopping_criteria\n",
        "\n",
        "    return train_state\n",
        "\n",
        "def normalize_sizes(y_pred, y_true):\n",
        "    \"\"\"Normalize tensor sizes\n",
        "    \n",
        "    Args:\n",
        "        y_pred (torch.Tensor): the output of the model\n",
        "            If a 3-dimensional tensor, reshapes to a matrix\n",
        "        y_true (torch.Tensor): the target predictions\n",
        "            If a matrix, reshapes to be a vector\n",
        "    \"\"\"\n",
        "    if len(y_pred.size()) == 3:\n",
        "        y_pred = y_pred.contiguous().view(-1, y_pred.size(2))\n",
        "    if len(y_true.size()) == 2:\n",
        "        y_true = y_true.contiguous().view(-1)\n",
        "    return y_pred, y_true\n",
        "\n",
        "def compute_accuracy(y_pred, y_true, mask_index):\n",
        "    y_pred, y_true = normalize_sizes(y_pred, y_true)\n",
        "\n",
        "    _, y_pred_indices = y_pred.max(dim=1)\n",
        "    \n",
        "    correct_indices = torch.eq(y_pred_indices, y_true).float()\n",
        "    valid_indices = torch.ne(y_true, mask_index).float()\n",
        "    \n",
        "    n_correct = (correct_indices * valid_indices).sum().item()\n",
        "    n_valid = valid_indices.sum().item()\n",
        "\n",
        "    return n_correct / n_valid * 100\n",
        "\n",
        "def sequence_loss(y_pred, y_true, mask_index):\n",
        "    y_pred, y_true = normalize_sizes(y_pred, y_true)\n",
        "    return F.cross_entropy(y_pred, y_true, ignore_index=mask_index)"
      ],
      "execution_count": null,
      "outputs": [
        {
          "output_type": "stream",
          "name": "stdout",
          "text": [
            "time: 53.7 ms (started: 2021-10-26 12:53:22 +00:00)\n"
          ]
        }
      ]
    },
    {
      "cell_type": "markdown",
      "metadata": {
        "id": "dkyb2UIQvASj"
      },
      "source": [
        "#### 5.3.2 General utilities"
      ]
    },
    {
      "cell_type": "code",
      "metadata": {
        "id": "PQJGiuvDu7YU",
        "colab": {
          "base_uri": "https://localhost:8080/"
        },
        "outputId": "ef61acb8-86b7-442c-8eaa-9d26c7638b12"
      },
      "source": [
        "def set_seed_everywhere(seed, cuda):\n",
        "    np.random.seed(seed)\n",
        "    torch.manual_seed(seed)\n",
        "    if cuda:\n",
        "        torch.cuda.manual_seed_all(seed)\n",
        "\n",
        "def handle_dirs(dirpath):\n",
        "    if not os.path.exists(dirpath):\n",
        "        os.makedirs(dirpath)\n",
        "\n",
        "def load_glove_from_file(glove_filepath):\n",
        "    \"\"\"\n",
        "    Load the GloVe embeddings \n",
        "    \n",
        "    Args:\n",
        "        glove_filepath (str): path to the glove embeddings file \n",
        "    Returns:\n",
        "        word_to_index (dict), embeddings (numpy.ndarary)\n",
        "    \"\"\"\n",
        "\n",
        "    word_to_index = {}\n",
        "    embeddings = []\n",
        "    with open(glove_filepath, encoding=\"utf8\") as fp:\n",
        "        for index, line in enumerate(fp):\n",
        "            line = line.split(\" \") # each line: word num1 num2 ...\n",
        "            word_to_index[line[0]] = index # word = line[0] \n",
        "            embedding_i = np.array([float(val) for val in line[1:]])\n",
        "            embeddings.append(embedding_i)\n",
        "    return word_to_index, np.stack(embeddings)\n",
        "\n",
        "def make_embedding_matrix(glove_filepath, words):\n",
        "    \"\"\"\n",
        "    Create embedding matrix for a specific set of words.\n",
        "    \n",
        "    Args:\n",
        "        glove_filepath (str): file path to the glove embeddigns\n",
        "        words (list): list of words in the dataset\n",
        "    \"\"\"\n",
        "    word_to_idx, glove_embeddings = load_glove_from_file(glove_filepath)\n",
        "    embedding_size = glove_embeddings.shape[1]\n",
        "    \n",
        "    final_embeddings = np.zeros((len(words), embedding_size))\n",
        "\n",
        "    for i, word in enumerate(words):\n",
        "        if word in word_to_idx:\n",
        "            final_embeddings[i, :] = glove_embeddings[word_to_idx[word]]\n",
        "        else:\n",
        "            embedding_i = torch.ones(1, embedding_size)\n",
        "            torch.nn.init.xavier_uniform_(embedding_i)\n",
        "            final_embeddings[i, :] = embedding_i\n",
        "\n",
        "    return final_embeddings"
      ],
      "execution_count": null,
      "outputs": [
        {
          "output_type": "stream",
          "name": "stdout",
          "text": [
            "time: 26.5 ms (started: 2021-10-26 12:53:26 +00:00)\n"
          ]
        }
      ]
    },
    {
      "cell_type": "markdown",
      "metadata": {
        "id": "dCrx_jHzveiZ"
      },
      "source": [
        "#### 5.3.3 Settings and some prep work "
      ]
    },
    {
      "cell_type": "code",
      "metadata": {
        "id": "brHDObyhvipG",
        "colab": {
          "base_uri": "https://localhost:8080/"
        },
        "outputId": "dcc15954-ae28-48a6-d76c-90e31a92772a"
      },
      "source": [
        "args = Namespace(\n",
        "    # Data and Path information\n",
        "    Nar_csv=\"../NLP/proj2_with_splits_task2.csv\",\n",
        "    vectorizer_file=\"vectorizer.json\",\n",
        "    model_state_file=\"model.pth\",\n",
        "    save_dir=\"model_storage/model1_unconditioned_surname_generation\",\n",
        "    # Model hyper parameters\n",
        "    glove_filepath = \"../NLP/glove.6B.100d.txt\", # Use Glove.6B.100d for embedding corpus, available from https://nlp.stanford.edu/data/glove.6B.zip\n",
        "    use_glove = True,\n",
        "    char_embedding_size=512, # if use glove, the char_embedding_size is the same as glove\n",
        "    rnn_hidden_size=256, # parameter worth tuning\n",
        "    # Training hyper parameters\n",
        "    seed=1337,\n",
        "    learning_rate=0.01, # parameter worth tuning\n",
        "    dropout_p = 0.01, # parameter worth tuning\n",
        "    batch_size=128,\n",
        "    num_epochs=150,\n",
        "    early_stopping_criteria=10,\n",
        "    # Runtime options\n",
        "    catch_keyboard_interrupt=True,\n",
        "    cuda=True,\n",
        "    expand_filepaths_to_save_dir=True,\n",
        "    reload_from_files=False,\n",
        ")\n",
        "\n",
        "if args.expand_filepaths_to_save_dir:\n",
        "    args.vectorizer_file = os.path.join(args.save_dir,\n",
        "                                        args.vectorizer_file)\n",
        "\n",
        "    args.model_state_file = os.path.join(args.save_dir,\n",
        "                                         args.model_state_file)\n",
        "    \n",
        "    print(\"Expanded filepaths: \")\n",
        "    print(\"\\t{}\".format(args.vectorizer_file))\n",
        "    print(\"\\t{}\".format(args.model_state_file))\n",
        "    \n",
        "    \n",
        "# Check CUDA\n",
        "if not torch.cuda.is_available():\n",
        "    args.cuda = False\n",
        "\n",
        "args.device = torch.device(\"cuda\" if args.cuda else \"cpu\")\n",
        "    \n",
        "print(\"Using CUDA: {}\".format(args.cuda))\n",
        "\n",
        "# Set seed for reproducibility\n",
        "set_seed_everywhere(args.seed, args.cuda)\n",
        "\n",
        "# handle dirs\n",
        "handle_dirs(args.save_dir)"
      ],
      "execution_count": null,
      "outputs": [
        {
          "output_type": "stream",
          "name": "stdout",
          "text": [
            "Expanded filepaths: \n",
            "\tmodel_storage/model1_unconditioned_surname_generation/vectorizer.json\n",
            "\tmodel_storage/model1_unconditioned_surname_generation/model.pth\n",
            "Using CUDA: True\n",
            "time: 32.3 ms (started: 2021-10-26 12:53:29 +00:00)\n"
          ]
        }
      ]
    },
    {
      "cell_type": "markdown",
      "metadata": {
        "id": "oeVkb78fvyHa"
      },
      "source": [
        "#### 5.3.4 Initializations"
      ]
    },
    {
      "cell_type": "code",
      "metadata": {
        "id": "22_6WrYIvxnS",
        "colab": {
          "base_uri": "https://localhost:8080/"
        },
        "outputId": "c903ec0f-a776-4756-9096-ab39eea3412a"
      },
      "source": [
        "# Use Glove for embeddings\n",
        "args.use_glove = True\n",
        "\n",
        "if args.reload_from_files:\n",
        "    # training from a checkpoint\n",
        "    dataset = NarDataset.load_dataset_and_load_vectorizer(args.Nar_csv,\n",
        "                                                              args.vectorizer_file)\n",
        "else:\n",
        "    # create dataset and vectorizer\n",
        "    dataset = NarDataset.load_dataset_and_make_vectorizer(args.Nar_csv)\n",
        "    dataset.save_vectorizer(args.vectorizer_file)\n",
        "\n",
        "vectorizer = dataset.get_vectorizer()\n",
        "# Use GloVe or randomly initialized embeddings\n",
        "\n",
        "if args.use_glove:\n",
        "    words = vectorizer.char_vocab._token_to_idx.keys()\n",
        "    embeddings = make_embedding_matrix(glove_filepath=args.glove_filepath, \n",
        "                                       words=words)\n",
        "    print(\"Using pre-trained embeddings\")\n",
        "else:\n",
        "    print(\"Not using pre-trained embeddings\")\n",
        "    embeddings = None"
      ],
      "execution_count": null,
      "outputs": [
        {
          "output_type": "stream",
          "name": "stdout",
          "text": [
            "Using pre-trained embeddings\n",
            "time: 15.7 s (started: 2021-10-26 12:53:35 +00:00)\n"
          ]
        }
      ]
    },
    {
      "cell_type": "code",
      "metadata": {
        "id": "j3wml4E6g3Vm",
        "colab": {
          "base_uri": "https://localhost:8080/"
        },
        "outputId": "a6888d3b-be26-41a4-cafe-a478e1b8abbb"
      },
      "source": [
        "model = InjuryGenerationModel(char_embedding_size=args.char_embedding_size,\n",
        "                               char_vocab_size=len(vectorizer.char_vocab),\n",
        "                               num_nationalities=len(vectorizer.nationality_vocab),\n",
        "                               rnn_hidden_size=args.rnn_hidden_size,\n",
        "                               padding_idx=vectorizer.char_vocab.mask_index,\n",
        "                               dropout_p=args.dropout_p)"
      ],
      "execution_count": null,
      "outputs": [
        {
          "output_type": "stream",
          "name": "stdout",
          "text": [
            "time: 14.2 ms (started: 2021-10-26 12:53:55 +00:00)\n"
          ]
        }
      ]
    },
    {
      "cell_type": "markdown",
      "metadata": {
        "id": "Avm-mWTcLyxV"
      },
      "source": [
        "### 5.4 Training Loop"
      ]
    },
    {
      "cell_type": "code",
      "metadata": {
        "id": "8yARgB7WL3iv",
        "colab": {
          "base_uri": "https://localhost:8080/",
          "height": 147,
          "referenced_widgets": [
            "cb57c7c280cd4d37b7d9affc215ca556",
            "a5ceef6d57fd4e68b952d1a4a0296b3d",
            "e7baf9ccd9e14f4a83232345b500836f",
            "ad07389f8e514f3c9079ddefc5334d34",
            "26437a6af9424d908bc114d48c95fe01",
            "9e30f8042f1440ca8ee0a4430c828d4a",
            "ea5b40264f4447848c73d8e576c2f043",
            "197586fb7dc54cc98c99302fb374ec10",
            "0737cd03ba94487b8b02a8297599584f",
            "fde530cf07aa4dbca53fa752f7e520b9",
            "22f67fc86441458ebb363387edc2599e",
            "681c980380934aaa9e652de5763b22a9",
            "4a1bc41b4efe4c43b27003c5033c55fc",
            "e3c6f1e6b0f641919875ce07b25fda5a",
            "dc120c9ef26f4ab8bcbcfe2036f134fe",
            "870bd62a818c4157934c6c8551debfe1",
            "1aa2fa7845ba4cfd81413fae3998990b",
            "3551d8e398c54e669cad089abf1e7beb",
            "fa89ee68a87140c79b4999bbb30f10f1",
            "a5d7f3710b2348bbae0efae8a7965d1a",
            "80b2ab16986e46ee88eba3e99121bee2",
            "abdac76f79604d8e8e442535a902b607",
            "92b17d2438204013a59226f9d8280839",
            "e16dfd8bca324e338fd3d5c44df9e251",
            "32d5add2dba24748bad3c31213720e5a",
            "cbc0b0b8231e45b1aa27f8def3897e9b",
            "d674b92efa82437aa045808a1caffef2",
            "8290c64a73ef477c88df8ea9502179ee",
            "9b608bbaadaa4aad93d7037f26ea8170",
            "dc6c238742f64045b7750167648a5bc4",
            "3bf8d814bc5d46329bf0479571951be0",
            "4c4807c650894b679080f04fc637d8b5",
            "3148bae9acca44939c08e9de2143f8f8"
          ]
        },
        "outputId": "df70ee19-5987-4d50-fbcc-5c1e00bc525b"
      },
      "source": [
        "from datetime import datetime\n",
        "start=datetime.now()\n",
        "\n",
        "mask_index = vectorizer.char_vocab.mask_index\n",
        "\n",
        "model = model.to(args.device)\n",
        "\n",
        "\n",
        "optimizer = optim.Adam(model.parameters(), lr=args.learning_rate)\n",
        "scheduler = optim.lr_scheduler.ReduceLROnPlateau(optimizer=optimizer,\n",
        "                                           mode='min', factor=0.5,\n",
        "                                           patience=1)\n",
        "train_state = make_train_state(args)\n",
        "\n",
        "epoch_bar = tqdm(desc='training routine', \n",
        "                          total=args.num_epochs,\n",
        "                          position=0)\n",
        "\n",
        "dataset.set_split('train')\n",
        "train_bar = tqdm(desc='split=train',\n",
        "                          total=dataset.get_num_batches(args.batch_size), \n",
        "                          position=1, \n",
        "                          leave=True)\n",
        "dataset.set_split('val')\n",
        "val_bar = tqdm(desc='split=val',\n",
        "                        total=dataset.get_num_batches(args.batch_size), \n",
        "                        position=1, \n",
        "                        leave=True)\n",
        "\n",
        "try:\n",
        "    for epoch_index in range(args.num_epochs):\n",
        "        train_state['epoch_index'] = epoch_index\n",
        "\n",
        "        # Iterate over training dataset\n",
        "\n",
        "        # setup: batch generator, set loss and acc to 0, set train mode on\n",
        "        dataset.set_split('train')\n",
        "        batch_generator = generate_batches(dataset, \n",
        "                                           batch_size=args.batch_size, \n",
        "                                           device=args.device)\n",
        "        running_loss = 0.0\n",
        "        running_acc = 0.0\n",
        "        model.train()\n",
        "        \n",
        "        for batch_index, batch_dict in enumerate(batch_generator):\n",
        "            # the training routine is these 5 steps:\n",
        "\n",
        "            # --------------------------------------    \n",
        "            # step 1. zero the gradients\n",
        "            optimizer.zero_grad()\n",
        "\n",
        "            # step 2. compute the output\n",
        "            y_pred = model(x_in=batch_dict['x_data'], \n",
        "                           nationality_index=batch_dict['class_index'])\n",
        "\n",
        "            # step 3. compute the loss\n",
        "            loss = sequence_loss(y_pred, batch_dict['y_target'], mask_index)\n",
        "\n",
        "\n",
        "            # step 4. use loss to produce gradients\n",
        "            loss.backward()\n",
        "\n",
        "            # step 5. use optimizer to take gradient step\n",
        "            optimizer.step()\n",
        "            # -----------------------------------------\n",
        "            # compute the  running loss and running accuracy\n",
        "            running_loss += (loss.item() - running_loss) / (batch_index + 1)\n",
        "            acc_t = compute_accuracy(y_pred, batch_dict['y_target'], mask_index)\n",
        "            running_acc += (acc_t - running_acc) / (batch_index + 1)\n",
        "\n",
        "            # update bar\n",
        "            train_bar.set_postfix(loss=running_loss,\n",
        "                                  acc=running_acc,\n",
        "                                  epoch=epoch_index)\n",
        "            train_bar.update()\n",
        "\n",
        "        train_state['train_loss'].append(running_loss)\n",
        "        train_state['train_acc'].append(running_acc)\n",
        "\n",
        "        # Iterate over val dataset\n",
        "\n",
        "        # setup: batch generator, set loss and acc to 0; set eval mode on\n",
        "        dataset.set_split('val')\n",
        "        batch_generator = generate_batches(dataset, \n",
        "                                           batch_size=args.batch_size, \n",
        "                                           device=args.device)\n",
        "        running_loss = 0.\n",
        "        running_acc = 0.\n",
        "        model.eval()\n",
        "\n",
        "        for batch_index, batch_dict in enumerate(batch_generator):\n",
        "            # compute the output\n",
        "            y_pred = model(x_in=batch_dict['x_data'], \n",
        "                           nationality_index=batch_dict['class_index'])\n",
        "\n",
        "            # step 3. compute the loss\n",
        "            loss = sequence_loss(y_pred, batch_dict['y_target'], mask_index)\n",
        "\n",
        "            # compute the  running loss and running accuracy\n",
        "            running_loss += (loss.item() - running_loss) / (batch_index + 1)\n",
        "            acc_t = compute_accuracy(y_pred, batch_dict['y_target'], mask_index)\n",
        "            running_acc += (acc_t - running_acc) / (batch_index + 1)\n",
        "            \n",
        "            # Update bar\n",
        "            val_bar.set_postfix(loss=running_loss, acc=running_acc, \n",
        "                            epoch=epoch_index)\n",
        "            val_bar.update()\n",
        "\n",
        "        train_state['val_loss'].append(running_loss)\n",
        "        train_state['val_acc'].append(running_acc)\n",
        "\n",
        "        train_state = update_train_state(args=args, model=model, \n",
        "                                         train_state=train_state)\n",
        "\n",
        "        scheduler.step(train_state['val_loss'][-1])\n",
        "\n",
        "        if train_state['stop_early']:\n",
        "            break\n",
        "            \n",
        "        # move model to cpu for sampling\n",
        "        \n",
        "        nationalities = np.random.choice(np.arange(len(vectorizer.nationality_vocab)), replace=True, size=2)\n",
        "        model = model.cpu()\n",
        "        sampled_surnames = decode_samples(\n",
        "            sample_from_model(model, vectorizer, nationalities=nationalities), \n",
        "            vectorizer)\n",
        "        \n",
        "        sample1 = \"{}->{}\".format(vectorizer.nationality_vocab.lookup_index(nationalities[0]), \n",
        "                                  sampled_surnames[0])\n",
        "        sample2 = \"{}->{}\".format(vectorizer.nationality_vocab.lookup_index(nationalities[1]), \n",
        "                                  sampled_surnames[1])\n",
        "        epoch_bar.set_postfix(sample1=sample1, \n",
        "                              sample2=sample2)\n",
        "        # move model back to whichever device it should be on\n",
        "        model = model.to(args.device)\n",
        "        \n",
        "        train_bar.n = 0\n",
        "        val_bar.n = 0\n",
        "        epoch_bar.update()\n",
        "\n",
        "except KeyboardInterrupt:\n",
        "    print(\"Exiting loop\")\n",
        "# Print the model execution time\n",
        "print(\"time consumes:\",datetime.now()-start)"
      ],
      "execution_count": null,
      "outputs": [
        {
          "output_type": "display_data",
          "data": {
            "application/vnd.jupyter.widget-view+json": {
              "model_id": "cb57c7c280cd4d37b7d9affc215ca556",
              "version_minor": 0,
              "version_major": 2
            },
            "text/plain": [
              "training routine:   0%|          | 0/150 [00:00<?, ?it/s]"
            ]
          },
          "metadata": {}
        },
        {
          "output_type": "display_data",
          "data": {
            "application/vnd.jupyter.widget-view+json": {
              "model_id": "681c980380934aaa9e652de5763b22a9",
              "version_minor": 0,
              "version_major": 2
            },
            "text/plain": [
              "split=train:   0%|          | 0/9 [00:00<?, ?it/s]"
            ]
          },
          "metadata": {}
        },
        {
          "output_type": "display_data",
          "data": {
            "application/vnd.jupyter.widget-view+json": {
              "model_id": "92b17d2438204013a59226f9d8280839",
              "version_minor": 0,
              "version_major": 2
            },
            "text/plain": [
              "split=val:   0%|          | 0/1 [00:00<?, ?it/s]"
            ]
          },
          "metadata": {}
        },
        {
          "output_type": "stream",
          "name": "stdout",
          "text": [
            "time consumes: 0:04:03.481776\n",
            "time: 4min 3s (started: 2021-10-26 10:31:59 +00:00)\n"
          ]
        }
      ]
    },
    {
      "cell_type": "markdown",
      "metadata": {
        "id": "QxgFxILEiEw_"
      },
      "source": [
        "### 5.5 Inference and Sampling"
      ]
    },
    {
      "cell_type": "code",
      "metadata": {
        "id": "HYmlhhQ5iI8p",
        "colab": {
          "base_uri": "https://localhost:8080/"
        },
        "outputId": "ce28c664-6591-47fc-988d-e9eff117f1f2"
      },
      "source": [
        "# compute the loss & accuracy on the test set using the best available model\n",
        "\n",
        "model.load_state_dict(torch.load(train_state['model_filename']))\n",
        "\n",
        "model = model.to(args.device)\n",
        "\n",
        "dataset.set_split('test')\n",
        "batch_generator = generate_batches(dataset, \n",
        "                                   batch_size=args.batch_size, \n",
        "                                   device=args.device)\n",
        "running_acc = 0.\n",
        "model.eval()\n",
        "\n",
        "for batch_index, batch_dict in enumerate(batch_generator):\n",
        "    # compute the output\n",
        "    y_pred = model(x_in=batch_dict['x_data'], \n",
        "                   nationality_index=batch_dict['class_index'])\n",
        "\n",
        "    # compute the loss\n",
        "    loss = sequence_loss(y_pred, batch_dict['y_target'], mask_index)\n",
        "    \n",
        "    # compute the running loss and running accuracy\n",
        "    running_loss += (loss.item() - running_loss) / (batch_index + 1)\n",
        "    acc_t = compute_accuracy(y_pred, batch_dict['y_target'], mask_index)\n",
        "    running_acc += (acc_t - running_acc) / (batch_index + 1)\n",
        "\n",
        "train_state['test_loss'] = running_loss \n",
        "train_state['test_acc'] = running_acc "
      ],
      "execution_count": null,
      "outputs": [
        {
          "output_type": "stream",
          "name": "stdout",
          "text": [
            "time: 175 ms (started: 2021-10-26 10:36:02 +00:00)\n"
          ]
        }
      ]
    },
    {
      "cell_type": "markdown",
      "metadata": {
        "id": "rrY3VSahniGh"
      },
      "source": [
        "#### Results"
      ]
    },
    {
      "cell_type": "code",
      "metadata": {
        "id": "FegoK6TtiJxN",
        "colab": {
          "base_uri": "https://localhost:8080/"
        },
        "outputId": "f292d948-58b5-47b3-e77c-71cdf5333d23"
      },
      "source": [
        "print(\"Test loss: {};\".format(train_state['test_loss']))\n",
        "print(\"Test Accuracy: {}\".format(train_state['test_acc']))"
      ],
      "execution_count": null,
      "outputs": [
        {
          "output_type": "stream",
          "name": "stdout",
          "text": [
            "Test loss: 1.249753177165985;\n",
            "Test Accuracy: 62.3126171943954\n",
            "time: 2.27 ms (started: 2021-10-26 10:36:02 +00:00)\n"
          ]
        }
      ]
    },
    {
      "cell_type": "markdown",
      "metadata": {
        "id": "5bdpgk-onR9v"
      },
      "source": [
        "# Different hyperparameters and the corresponding accuracy\n",
        "\n",
        "learning_rate=0.0001, dropout_p = 0.0001, char_embedding_size=32, rnn_hidden_size=32,  Test loss: 2.84%, Test Accuracy: 19.85%;\n",
        "\n",
        "learning_rate=0.0001, dropout_p = 0.0001, char_embedding_size=128, rnn_hidden_size=128,  Test loss: 2.06%, Test Accuracy: 38.90%;\n",
        "\n",
        "learning_rate=0.0001, dropout_p = 0.0001, char_embedding_size=256, rnn_hidden_size=128,  Test loss: 2.02%, Test Accuracy: 40.88%;\n",
        "\n",
        "learning_rate=0.0001, dropout_p = 0.0001, char_embedding_size=256, rnn_hidden_size=256,  Test loss: 1.89%, Test Accuracy: 43.36%;\n",
        "\n",
        "learning_rate=0.0001, dropout_p = 0.0001, char_embedding_size=512, rnn_hidden_size=256,  Test loss: 1.85%, Test Accuracy: 44.16%;\n",
        "\n",
        "learning_rate=0.001, dropout_p = 0.001, char_embedding_size=512, rnn_hidden_size=256,  Test loss: 1.26%, Test Accuracy: 61.49%;\n",
        "\n",
        "learning_rate=0.01, dropout_p = 0.01, char_embedding_size=512, rnn_hidden_size=256,  Test loss: 1.24%, Test Accuracy: 62.31%;\n"
      ]
    },
    {
      "cell_type": "markdown",
      "metadata": {
        "id": "2M7QZdN9X_so"
      },
      "source": [
        "The above result shows that learning rate, dropout rate, embedding size and rnn hidden size have influences on the test accuracy. "
      ]
    },
    {
      "cell_type": "markdown",
      "metadata": {
        "id": "-v_TrO0LgaVV"
      },
      "source": [
        "#### Sampling"
      ]
    },
    {
      "cell_type": "code",
      "metadata": {
        "id": "x7A9jNadgdv_",
        "colab": {
          "base_uri": "https://localhost:8080/"
        },
        "outputId": "181158e3-341e-4f8f-fff8-7e36d278b3c4"
      },
      "source": [
        "model = model.cpu()\n",
        "for index in range(len(vectorizer.nationality_vocab)):\n",
        "    nationality = vectorizer.nationality_vocab.lookup_index(index)\n",
        "    print(\"Sampled for {}: \".format(nationality))\n",
        "    sampled_indices = sample_from_model(model, vectorizer,  \n",
        "                                        nationalities=[index] * 3, \n",
        "                                        temperature=0.7)\n",
        "    for sampled_surname in decode_samples(sampled_indices, vectorizer):\n",
        "        print(\"-  \" + sampled_surname)"
      ],
      "execution_count": null,
      "outputs": [
        {
          "output_type": "stream",
          "name": "stdout",
          "text": [
            "Sampled for AMPUTATION OR ENUCLEATION: \n",
            "-  worker contact emplo\n",
            "-  ee ee cover cause la\n",
            "-  ee work accident tru\n",
            "Sampled for BURN OR SCALD (HEAT): \n",
            "-  employee walk cire s\n",
            "-  employee attempt spr\n",
            "-  une loader raise con\n",
            "Sampled for BURN,CHEMICL-FUME,COMPOUN: \n",
            "-  ee material maintena\n",
            "-  place injury hole ba\n",
            "-  employee step bolt s\n",
            "Sampled for CONTUSN,BRUISE,INTAC SKIN: \n",
            "-  ee allege employee c\n",
            "-  employee change begi\n",
            "-  ee slip company corn\n",
            "Sampled for CRUSHING: \n",
            "-  employee door stitch\n",
            "-  employee work air we\n",
            "-  employee dust block \n",
            "Sampled for CUT,LACER,PUNCT-OPN WOUND: \n",
            "-  employee climb \n",
            "-  employee allege bar \n",
            "-  employee couple fork\n",
            "Sampled for DUST IN EYES: \n",
            "-  injure ee loader sta\n",
            "-  drive leave try push\n",
            "-  injure walk complain\n",
            "Sampled for ELECT.ARC BURN-NOT CONTAC: \n",
            "-  employee walk contro\n",
            "-  ee rock strike left \n",
            "-  hold bad employee st\n",
            "Sampled for FRACTURE,CHIP: \n",
            "-  employee hit hand pi\n",
            "-  ee state load truck \n",
            "-  loose roof bolt pick\n",
            "Sampled for HEARING LOSS OR IMPAIRMNT: \n",
            "-  receive cause slip c\n",
            "-  employee report door\n",
            "-  employee start belt \n",
            "Sampled for HEATSTROK,SUNSTR,HT EXHAU: \n",
            "-  felt papervisor shaf\n",
            "-  hear cliner shap han\n",
            "-  try plant stall comp\n",
            "Sampled for HERNIA;RUPTURE: \n",
            "-  employee recement pr\n",
            "-  employee statter loa\n",
            "-  mener catch piece ma\n",
            "Sampled for JOINT,TENDON,MUSCL INFLAM: \n",
            "-  employee carb strike\n",
            "-  walk strike slipped \n",
            "-  use slip cut process\n",
            "Sampled for MULTIPLE INJURIES: \n",
            "-  employee hole hand s\n",
            "-  ee stack bend roof b\n",
            "-  ee result slip strik\n",
            "Sampled for OTHER INJURY,NEC: \n",
            "-  manlift rule involve\n",
            "-  process control belt\n",
            "-  employee pull face d\n",
            "Sampled for POISONING,SYSTEMIC: \n",
            "-  employee step liner \n",
            "-  ee work reach low le\n",
            "-  employee state ee wa\n",
            "Sampled for SCRATCH,ABRASION,SUPERFCL: \n",
            "-  employee start coal \n",
            "-  employee truck catch\n",
            "-  work restriction rig\n",
            "Sampled for SPRAIN,STRAIN RUPT DISC: \n",
            "-  employee state work \n",
            "-  employee slip piece \n",
            "-  employee cause bolt \n",
            "Sampled for UNCLASSIFIED,NOT DETERMED: \n",
            "-  employee use say fel\n",
            "-  employee walk strike\n",
            "-  ee walk truck step f\n",
            "time: 361 ms (started: 2021-10-26 10:36:02 +00:00)\n"
          ]
        }
      ]
    },
    {
      "cell_type": "markdown",
      "metadata": {
        "id": "5M2RNxfBD9Mx"
      },
      "source": [
        "### 5.6 Training with 8 Classes dataset"
      ]
    },
    {
      "cell_type": "markdown",
      "metadata": {
        "id": "-E2GEtlREEwm"
      },
      "source": [
        "#### 5.6.1 Settings"
      ]
    },
    {
      "cell_type": "code",
      "metadata": {
        "id": "xplZ0B9gEBiP",
        "colab": {
          "base_uri": "https://localhost:8080/"
        },
        "outputId": "e3439052-ad63-44b5-e512-1958b7d59260"
      },
      "source": [
        "args = Namespace(\n",
        "    # Data and Path information\n",
        "    Nar_csv=\"../NLP/proj2_with_splits_task2_2.csv\",\n",
        "    vectorizer_file=\"vectorizer.json\",\n",
        "    model_state_file=\"model.pth\",\n",
        "    save_dir=\"model_storage/model1_unconditioned_surname_generation\",\n",
        "    glove_filepath = \"../NLP/glove.6B.100d.txt\", # Use Glove.6B.100d for embedding corpus, available from https://nlp.stanford.edu/data/glove.6B.zip\n",
        "    use_glove = True,\n",
        "    # Model hyper parameters\n",
        "    char_embedding_size=512,\n",
        "    rnn_hidden_size=256,\n",
        "    # Training hyper parameters\n",
        "    seed=1337,\n",
        "    learning_rate=0.01,\n",
        "    dropout_p = 0.01,\n",
        "    batch_size=128,\n",
        "    num_epochs=150,\n",
        "    early_stopping_criteria=10,\n",
        "    # Runtime options\n",
        "    catch_keyboard_interrupt=True,\n",
        "    cuda=True,\n",
        "    expand_filepaths_to_save_dir=True,\n",
        "    reload_from_files=False,\n",
        ")\n",
        "\n",
        "if args.expand_filepaths_to_save_dir:\n",
        "    args.vectorizer_file = os.path.join(args.save_dir,\n",
        "                                        args.vectorizer_file)\n",
        "\n",
        "    args.model_state_file = os.path.join(args.save_dir,\n",
        "                                         args.model_state_file)\n",
        "    \n",
        "    print(\"Expanded filepaths: \")\n",
        "    print(\"\\t{}\".format(args.vectorizer_file))\n",
        "    print(\"\\t{}\".format(args.model_state_file))\n",
        "    \n",
        "    \n",
        "# Check CUDA\n",
        "if not torch.cuda.is_available():\n",
        "    args.cuda = False\n",
        "\n",
        "args.device = torch.device(\"cuda\" if args.cuda else \"cpu\")\n",
        "    \n",
        "print(\"Using CUDA: {}\".format(args.cuda))\n",
        "\n",
        "# Set seed for reproducibility\n",
        "set_seed_everywhere(args.seed, args.cuda)\n",
        "\n",
        "# handle dirs\n",
        "handle_dirs(args.save_dir)"
      ],
      "execution_count": null,
      "outputs": [
        {
          "output_type": "stream",
          "name": "stdout",
          "text": [
            "Expanded filepaths: \n",
            "\tmodel_storage/model1_unconditioned_surname_generation/vectorizer.json\n",
            "\tmodel_storage/model1_unconditioned_surname_generation/model.pth\n",
            "Using CUDA: True\n",
            "time: 26 ms (started: 2021-10-26 10:36:03 +00:00)\n"
          ]
        }
      ]
    },
    {
      "cell_type": "markdown",
      "metadata": {
        "id": "4-EG487GEMFQ"
      },
      "source": [
        "#### 5.6.2 Initialization"
      ]
    },
    {
      "cell_type": "code",
      "metadata": {
        "id": "vkHY2JlIEONk",
        "colab": {
          "base_uri": "https://localhost:8080/"
        },
        "outputId": "79ba2800-2857-4f8d-b938-86b752c9c456"
      },
      "source": [
        "# Use Glove for embeddings\n",
        "args.use_glove = True\n",
        "\n",
        "if args.reload_from_files:\n",
        "    # training from a checkpoint\n",
        "    dataset = NarDataset.load_dataset_and_load_vectorizer(args.Nar_csv,\n",
        "                                                              args.vectorizer_file)\n",
        "else:\n",
        "    # create dataset and vectorizer\n",
        "    dataset = NarDataset.load_dataset_and_make_vectorizer(args.Nar_csv)\n",
        "    dataset.save_vectorizer(args.vectorizer_file)\n",
        "\n",
        "vectorizer = dataset.get_vectorizer()\n",
        "# Use GloVe or randomly initialized embeddings\n",
        "\n",
        "if args.use_glove:\n",
        "    words = vectorizer.char_vocab._token_to_idx.keys()\n",
        "    embeddings = make_embedding_matrix(glove_filepath=args.glove_filepath, \n",
        "                                       words=words)\n",
        "    print(\"Using pre-trained embeddings\")\n",
        "else:\n",
        "    print(\"Not using pre-trained embeddings\")\n",
        "    embeddings = None"
      ],
      "execution_count": null,
      "outputs": [
        {
          "output_type": "stream",
          "name": "stdout",
          "text": [
            "time: 298 ms (started: 2021-10-26 10:36:03 +00:00)\n"
          ]
        }
      ]
    },
    {
      "cell_type": "markdown",
      "metadata": {
        "id": "BOgJfmdvEROx"
      },
      "source": [
        "#### 5.6.3 Training"
      ]
    },
    {
      "cell_type": "code",
      "metadata": {
        "id": "ZVkcWILGEXIe",
        "colab": {
          "base_uri": "https://localhost:8080/",
          "height": 130,
          "referenced_widgets": [
            "13e30ff69ea049eeb04ea79498e6f956",
            "a89726f4bb74421494a2cd9bc1a55642",
            "5fe866c72b2f486f8c18f7174a92e47a",
            "698f25caa138445f8b3edfc50022d0d6",
            "1438e857a5e64231a1f88d9cb77a327d",
            "8fdaa37143944aceb1f21a4a8a4c86c5",
            "487d422ed43649eca9a2b033e61ae789",
            "50f0f53792e54153b1837288e097481e",
            "46ad14a9b7f049568531e5ed9c860ffb",
            "93b1cb58d443433e9e122efdf6ebc092",
            "e999ed74184343eaba07908593908f78",
            "7cc988fef7034d06b691c871b5398538",
            "f5ec9019fe504eaf98e51197cf4f00cf",
            "94d66c2191dd4b9797189c393d73b81d",
            "8fcb6192bcb84798bddec6e6630ccd8b",
            "0c4e5467e15448f69d0c51259ba9ef15",
            "6caae9c3b1ce45ae8001de3af1984642",
            "3aea3b50c8444226b1154751719ca235",
            "bcc7672f43744dbeb0037a1228f01ed0",
            "692f73112a0d420fb2ab0dcd1b3a95ca",
            "2b6b3063342a4fb0bc29a0e33d6f3a75",
            "a731db389ebe40479de40d30a9b81fba",
            "627318a30d09495bb9be6d5d28a080aa",
            "c123115fa12b47dd8656bb2da7b846d5",
            "9fd997c90abd4b798c0a59c9049999f5",
            "afc69e8f88c949a49925c2e13e264b87",
            "c14c2fee4b814a17ac4a2784d19fa7df",
            "406f370f593149718b9cc8cae4ef2773",
            "b6149cc2466343b8b9cae36dbb69ad94",
            "ffd3261fc5bf4e499906ec7366e7d158",
            "cc89f9206bde4821b2d8291b3d75c99d",
            "6acf8a972605423fb51e5c701f702d96",
            "92b48b234ee4455bac0c8229051a03e3"
          ]
        },
        "outputId": "3dfde563-69b5-4c60-fc26-a11520316b52"
      },
      "source": [
        "mask_index = vectorizer.char_vocab.mask_index\n",
        "\n",
        "model = model.to(args.device)\n",
        "\n",
        "\n",
        "optimizer = optim.Adam(model.parameters(), lr=args.learning_rate)\n",
        "scheduler = optim.lr_scheduler.ReduceLROnPlateau(optimizer=optimizer,\n",
        "                                           mode='min', factor=0.5,\n",
        "                                           patience=1)\n",
        "train_state = make_train_state(args)\n",
        "\n",
        "epoch_bar = tqdm(desc='training routine', \n",
        "                          total=args.num_epochs,\n",
        "                          position=0)\n",
        "\n",
        "dataset.set_split('train')\n",
        "train_bar = tqdm(desc='split=train',\n",
        "                          total=dataset.get_num_batches(args.batch_size), \n",
        "                          position=1, \n",
        "                          leave=True)\n",
        "dataset.set_split('val')\n",
        "val_bar = tqdm(desc='split=val',\n",
        "                        total=dataset.get_num_batches(args.batch_size), \n",
        "                        position=1, \n",
        "                        leave=True)\n",
        "\n",
        "try:\n",
        "    for epoch_index in range(args.num_epochs):\n",
        "        train_state['epoch_index'] = epoch_index\n",
        "\n",
        "        # Iterate over training dataset\n",
        "\n",
        "        # setup: batch generator, set loss and acc to 0, set train mode on\n",
        "        dataset.set_split('train')\n",
        "        batch_generator = generate_batches(dataset, \n",
        "                                           batch_size=args.batch_size, \n",
        "                                           device=args.device)\n",
        "        running_loss = 0.0\n",
        "        running_acc = 0.0\n",
        "        model.train()\n",
        "        \n",
        "        for batch_index, batch_dict in enumerate(batch_generator):\n",
        "            # the training routine is these 5 steps:\n",
        "\n",
        "            # --------------------------------------    \n",
        "            # step 1. zero the gradients\n",
        "            optimizer.zero_grad()\n",
        "\n",
        "            # step 2. compute the output\n",
        "            y_pred = model(x_in=batch_dict['x_data'], \n",
        "                           nationality_index=batch_dict['class_index'])\n",
        "\n",
        "            # step 3. compute the loss\n",
        "            loss = sequence_loss(y_pred, batch_dict['y_target'], mask_index)\n",
        "\n",
        "\n",
        "            # step 4. use loss to produce gradients\n",
        "            loss.backward()\n",
        "\n",
        "            # step 5. use optimizer to take gradient step\n",
        "            optimizer.step()\n",
        "            # -----------------------------------------\n",
        "            # compute the  running loss and running accuracy\n",
        "            running_loss += (loss.item() - running_loss) / (batch_index + 1)\n",
        "            acc_t = compute_accuracy(y_pred, batch_dict['y_target'], mask_index)\n",
        "            running_acc += (acc_t - running_acc) / (batch_index + 1)\n",
        "\n",
        "            # update bar\n",
        "            train_bar.set_postfix(loss=running_loss,\n",
        "                                  acc=running_acc,\n",
        "                                  epoch=epoch_index)\n",
        "            train_bar.update()\n",
        "\n",
        "        train_state['train_loss'].append(running_loss)\n",
        "        train_state['train_acc'].append(running_acc)\n",
        "\n",
        "        # Iterate over val dataset\n",
        "\n",
        "        # setup: batch generator, set loss and acc to 0; set eval mode on\n",
        "        dataset.set_split('val')\n",
        "        batch_generator = generate_batches(dataset, \n",
        "                                           batch_size=args.batch_size, \n",
        "                                           device=args.device)\n",
        "        running_loss = 0.\n",
        "        running_acc = 0.\n",
        "        model.eval()\n",
        "\n",
        "        for batch_index, batch_dict in enumerate(batch_generator):\n",
        "            # compute the output\n",
        "            y_pred = model(x_in=batch_dict['x_data'], \n",
        "                           nationality_index=batch_dict['class_index'])\n",
        "\n",
        "            # step 3. compute the loss\n",
        "            loss = sequence_loss(y_pred, batch_dict['y_target'], mask_index)\n",
        "\n",
        "            # compute the  running loss and running accuracy\n",
        "            running_loss += (loss.item() - running_loss) / (batch_index + 1)\n",
        "            acc_t = compute_accuracy(y_pred, batch_dict['y_target'], mask_index)\n",
        "            running_acc += (acc_t - running_acc) / (batch_index + 1)\n",
        "            \n",
        "            # Update bar\n",
        "            val_bar.set_postfix(loss=running_loss, acc=running_acc, \n",
        "                            epoch=epoch_index)\n",
        "            val_bar.update()\n",
        "\n",
        "        train_state['val_loss'].append(running_loss)\n",
        "        train_state['val_acc'].append(running_acc)\n",
        "\n",
        "        train_state = update_train_state(args=args, model=model, \n",
        "                                         train_state=train_state)\n",
        "\n",
        "        scheduler.step(train_state['val_loss'][-1])\n",
        "\n",
        "        if train_state['stop_early']:\n",
        "            break\n",
        "            \n",
        "        # move model to cpu for sampling\n",
        "        \n",
        "        nationalities = np.random.choice(np.arange(len(vectorizer.nationality_vocab)), replace=True, size=2)\n",
        "        model = model.cpu()\n",
        "        sampled_surnames = decode_samples(\n",
        "            sample_from_model(model, vectorizer, nationalities=nationalities), \n",
        "            vectorizer)\n",
        "        \n",
        "        sample1 = \"{}->{}\".format(vectorizer.nationality_vocab.lookup_index(nationalities[0]), \n",
        "                                  sampled_surnames[0])\n",
        "        sample2 = \"{}->{}\".format(vectorizer.nationality_vocab.lookup_index(nationalities[1]), \n",
        "                                  sampled_surnames[1])\n",
        "        epoch_bar.set_postfix(sample1=sample1, \n",
        "                              sample2=sample2)\n",
        "        # move model back to whichever device it should be on\n",
        "        model = model.to(args.device)\n",
        "        \n",
        "        train_bar.n = 0\n",
        "        val_bar.n = 0\n",
        "        epoch_bar.update()\n",
        "        \n",
        "except KeyboardInterrupt:\n",
        "    print(\"Exiting loop\")"
      ],
      "execution_count": null,
      "outputs": [
        {
          "output_type": "display_data",
          "data": {
            "application/vnd.jupyter.widget-view+json": {
              "model_id": "13e30ff69ea049eeb04ea79498e6f956",
              "version_minor": 0,
              "version_major": 2
            },
            "text/plain": [
              "training routine:   0%|          | 0/150 [00:00<?, ?it/s]"
            ]
          },
          "metadata": {}
        },
        {
          "output_type": "display_data",
          "data": {
            "application/vnd.jupyter.widget-view+json": {
              "model_id": "7cc988fef7034d06b691c871b5398538",
              "version_minor": 0,
              "version_major": 2
            },
            "text/plain": [
              "split=train:   0%|          | 0/8 [00:00<?, ?it/s]"
            ]
          },
          "metadata": {}
        },
        {
          "output_type": "display_data",
          "data": {
            "application/vnd.jupyter.widget-view+json": {
              "model_id": "627318a30d09495bb9be6d5d28a080aa",
              "version_minor": 0,
              "version_major": 2
            },
            "text/plain": [
              "split=val:   0%|          | 0/1 [00:00<?, ?it/s]"
            ]
          },
          "metadata": {}
        },
        {
          "output_type": "stream",
          "name": "stdout",
          "text": [
            "time: 3min 37s (started: 2021-10-26 10:36:03 +00:00)\n"
          ]
        }
      ]
    },
    {
      "cell_type": "markdown",
      "metadata": {
        "id": "Z94xgGTFEaVi"
      },
      "source": [
        "###### 5.6.4 Compute Accuracy and Loss"
      ]
    },
    {
      "cell_type": "code",
      "metadata": {
        "id": "W9y-XJKUEd9i",
        "colab": {
          "base_uri": "https://localhost:8080/"
        },
        "outputId": "bd473399-1811-439d-a998-02ee1db518f7"
      },
      "source": [
        "# compute the loss & accuracy on the test set using the best available model\n",
        "\n",
        "model.load_state_dict(torch.load(train_state['model_filename']))\n",
        "\n",
        "model = model.to(args.device)\n",
        "\n",
        "dataset.set_split('test')\n",
        "batch_generator = generate_batches(dataset, \n",
        "                                   batch_size=args.batch_size, \n",
        "                                   device=args.device)\n",
        "running_acc = 0.\n",
        "model.eval()\n",
        "\n",
        "for batch_index, batch_dict in enumerate(batch_generator):\n",
        "    # compute the output\n",
        "    y_pred = model(x_in=batch_dict['x_data'], \n",
        "                   nationality_index=batch_dict['class_index'])\n",
        "\n",
        "    # compute the loss\n",
        "    loss = sequence_loss(y_pred, batch_dict['y_target'], mask_index)\n",
        "    \n",
        "    # compute the running loss and running accuracy\n",
        "    running_loss += (loss.item() - running_loss) / (batch_index + 1)\n",
        "    acc_t = compute_accuracy(y_pred, batch_dict['y_target'], mask_index)\n",
        "    running_acc += (acc_t - running_acc) / (batch_index + 1)\n",
        "\n",
        "train_state['test_loss'] = running_loss \n",
        "train_state['test_acc'] = running_acc "
      ],
      "execution_count": null,
      "outputs": [
        {
          "output_type": "stream",
          "name": "stdout",
          "text": [
            "time: 105 ms (started: 2021-10-26 10:39:40 +00:00)\n"
          ]
        }
      ]
    },
    {
      "cell_type": "markdown",
      "metadata": {
        "id": "J1F3PHEjEfkC"
      },
      "source": [
        "##### Results"
      ]
    },
    {
      "cell_type": "code",
      "metadata": {
        "id": "rG4kwATIEgl2",
        "colab": {
          "base_uri": "https://localhost:8080/"
        },
        "outputId": "8ab4a9df-f91b-4d4d-eccf-fe3044c0ccbe"
      },
      "source": [
        "print(\"Test loss: {};\".format(train_state['test_loss']))\n",
        "print(\"Test Accuracy: {}\".format(train_state['test_acc']))"
      ],
      "execution_count": null,
      "outputs": [
        {
          "output_type": "stream",
          "name": "stdout",
          "text": [
            "Test loss: 1.2173353433609009;\n",
            "Test Accuracy: 63.482814574421006\n",
            "time: 3.27 ms (started: 2021-10-26 10:39:40 +00:00)\n"
          ]
        }
      ]
    },
    {
      "cell_type": "markdown",
      "metadata": {
        "id": "bIT-_i2ZiNT5"
      },
      "source": [
        "#### 5.6.5 Sampling"
      ]
    },
    {
      "cell_type": "code",
      "metadata": {
        "id": "vhkuQ0I2iPpu",
        "colab": {
          "base_uri": "https://localhost:8080/"
        },
        "outputId": "9e7fb20f-f9f1-447c-a9e1-92bcba6186e3"
      },
      "source": [
        "model = model.cpu()\n",
        "for index in range(len(vectorizer.nationality_vocab)):\n",
        "    nationality = vectorizer.nationality_vocab.lookup_index(index)\n",
        "    print(\"Sampled for {}: \".format(nationality))\n",
        "    sampled_indices = sample_from_model(model, vectorizer,  \n",
        "                                        nationalities=[index] * 3, \n",
        "                                        temperature=0.7)\n",
        "    for sampled_surname in decode_samples(sampled_indices, vectorizer):\n",
        "        print(\"-  \" + sampled_surname)"
      ],
      "execution_count": null,
      "outputs": [
        {
          "output_type": "stream",
          "name": "stdout",
          "text": [
            "Sampled for CONTUSN,BRUISE,INTAC SKIN: \n",
            "-  perform pinch employ\n",
            "-  employee state piece\n",
            "-  miner come fell thum\n",
            "Sampled for CUT,LACER,PUNCT-OPN WOUND: \n",
            "-  employee pull materi\n",
            "-  employee instal face\n",
            "-  employee remove caus\n",
            "Sampled for FRACTURE,CHIP: \n",
            "-  employee slip instil\n",
            "-  ee lift cause finger\n",
            "-  employee walk contin\n",
            "Sampled for JOINT,TENDON,MUSCL INFLAM: \n",
            "-  employee apply ee sh\n",
            "-  ee state sper stitch\n",
            "-  cut time release sur\n",
            "Sampled for MULTIPLE INJURIES: \n",
            "-  ee weed catch leave \n",
            "-  employee state hand \n",
            "-  assist stand remove \n",
            "Sampled for SCRATCH,ABRASION,SUPERFCL: \n",
            "-  vee come remove scre\n",
            "-  ee state piece stick\n",
            "-  employee cause line \n",
            "Sampled for SPRAIN,STRAIN RUPT DISC: \n",
            "-  employee loader load\n",
            "-  employee walk step d\n",
            "-  employee state state\n",
            "Sampled for UNCLASSIFIED,NOT DETERMED: \n",
            "-  employee work truck \n",
            "-  employee ankle fract\n",
            "-  ee use press felt pa\n",
            "time: 160 ms (started: 2021-10-26 10:39:40 +00:00)\n"
          ]
        }
      ]
    },
    {
      "cell_type": "markdown",
      "metadata": {
        "id": "D29GGlihGVzR"
      },
      "source": [
        "### 5.7 GRU Performance Conclusion\n",
        "8 classes vs 19 classes\n",
        "1. The test accuracy between Imbalanced and balanced dataset is not obviously different (62.18% vs 63.48%), which indicates that GRU model is compatible with imbalanced dataset.\n",
        "GRU vs RNN\n",
        "2. Compared to RNN model, the GRU model's test accuracy is significantly better, as well as the compatibility with imbalanced dataset. "
      ]
    },
    {
      "cell_type": "markdown",
      "metadata": {
        "id": "pnHRx8ZWwOUU"
      },
      "source": [
        "## 6 Model Comparison\n",
        "\n",
        "The table below display the training time, test loss and accuracy for predicting 19 classes and 8 classes with RNN and GRU respectively.\n",
        "![tasks_conclusion.PNG](data:image/png;base64,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)\n"
      ]
    },
    {
      "cell_type": "markdown",
      "metadata": {
        "id": "VhFTklMQwOHC"
      },
      "source": [
        "### 6.1 Training Time\n",
        "* For RNN, the training time for both more and less classes are over 8 minutes.\n",
        "* By comparasion, it takes a lot less time to train using GRU, average less than 4 minues.\n",
        "<br>\n",
        "<br>\n",
        "From the perspective of training time, GRU is faster than RNN."
      ]
    },
    {
      "cell_type": "markdown",
      "metadata": {
        "id": "47rniQKPwN6_"
      },
      "source": [
        "### 6.2 Test Loss\n",
        "* The test loss for RNN is 2.95 and 2.08 for more and less classes respectively.\n",
        "* The test loss for GRU is 1.25 and 1.22 for more and less classes respectively.\n",
        "<br>\n",
        "<br>\n",
        "As mentioned in task 1, the objective of the learning model is to minimize the value of loss function, a lower loss is desirable as it indicates a better model. \n",
        "<br>\n",
        "When comparing dataset with more and less classes, model trained on less classes have slightly small loss, both RNN and GRU acts the same. Although the difference is very subtle.\n",
        "<br>\n",
        "When comparing RNN and GRU, the loss calulated via GRU is about half of which calulated via RNN, which indicates that GRU is a better model."
      ]
    },
    {
      "cell_type": "markdown",
      "metadata": {
        "id": "8SkRiG1XwNsu"
      },
      "source": [
        "### 6.3 Accuracy\n",
        "* The test loss for RNN is 17.58 and 16.41 for more and less classes respectively.\n",
        "* The test loss for GRU is 62.31 and 63.48 for more and less classes respectively.\n",
        "<br>\n",
        "<br>\n",
        "After the weights and parameters are learned (trained), we use the trained model to conduct the classification and use accuracy to represent the percentage of misclassification.\n",
        "<br>\n",
        "When comparing dataset with more and less classes, no matter for RNN or GRU, the accuracy differences are very subtle. It seems the number of classes or the proportion of different classes won't effect the accuracy with RNN or GRU.\n",
        "<br>\n",
        "On the other hand, the accuracy improved dramatically when using GRU, it indicates GRU is a much better model in this case."
      ]
    },
    {
      "cell_type": "markdown",
      "metadata": {
        "id": "XrgqgPuYwNed"
      },
      "source": [
        "### 6.4 Conclusion\n",
        "From the analysis above, we can see that no matter it's training time, GRU with GloVe as word embedding method performs much better than RNN with one-hot-encoder embedding.\n",
        "<br>\n",
        "It is intuitive:\n",
        "1. GloVe is considered a better word embedding method than one-hot-encoding.\n",
        "It is a pre-trained embedding mothed which performed on an aggregated global word-word co-occurrence matrix. It captures both global statistics and local statistics of a corpus.\n",
        "2. Both RNN and GRU use the previous data points in the sequence to produce the current output. Which enable them to take care of the order of the data points and capture the underlying structure of the sequential data. \n",
        "3. GRU has the same workflow as RNN. However, inside a GRU cell, it has update gate(update with the candidate state or not) and reset gate (decide previous cell state is important or not), which helps control the flow of information and prevent the vanishing gradient problem which RNN has.\n",
        "\n",
        "In this case, it is clear that GRU with GloVe as word embedding method performs much better."
      ]
    }
  ]
}