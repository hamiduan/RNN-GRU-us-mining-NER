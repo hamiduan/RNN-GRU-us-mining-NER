{
  "nbformat": 4,
  "nbformat_minor": 0,
  "metadata": {
    "colab": {
      "name": "Project 2_Task 3.ipynb",
      "provenance": [],
      "collapsed_sections": [],
      "toc_visible": true
    },
    "kernelspec": {
      "display_name": "Python 3",
      "name": "python3"
    },
    "language_info": {
      "name": "python"
    },
    "accelerator": "GPU",
    "widgets": {
      "application/vnd.jupyter.widget-state+json": {
        "cee828ea8b1844b7ad5adea26fa5a944": {
          "model_module": "@jupyter-widgets/controls",
          "model_name": "HBoxModel",
          "model_module_version": "1.5.0",
          "state": {
            "_view_name": "HBoxView",
            "_dom_classes": [],
            "_model_name": "HBoxModel",
            "_view_module": "@jupyter-widgets/controls",
            "_model_module_version": "1.5.0",
            "_view_count": null,
            "_view_module_version": "1.5.0",
            "box_style": "",
            "layout": "IPY_MODEL_74a9db152b5a47c68a5861f423ab44e1",
            "_model_module": "@jupyter-widgets/controls",
            "children": [
              "IPY_MODEL_aca5c3a2ff0c4b0f9064f69d5c96cb65",
              "IPY_MODEL_fc007e8c5d7f4139bdc39d380bfc43c6",
              "IPY_MODEL_8fe3acff50d642acb21c3d1d0a662083"
            ]
          }
        },
        "74a9db152b5a47c68a5861f423ab44e1": {
          "model_module": "@jupyter-widgets/base",
          "model_name": "LayoutModel",
          "model_module_version": "1.2.0",
          "state": {
            "_view_name": "LayoutView",
            "grid_template_rows": null,
            "right": null,
            "justify_content": null,
            "_view_module": "@jupyter-widgets/base",
            "overflow": null,
            "_model_module_version": "1.2.0",
            "_view_count": null,
            "flex_flow": null,
            "width": null,
            "min_width": null,
            "border": null,
            "align_items": null,
            "bottom": null,
            "_model_module": "@jupyter-widgets/base",
            "top": null,
            "grid_column": null,
            "overflow_y": null,
            "overflow_x": null,
            "grid_auto_flow": null,
            "grid_area": null,
            "grid_template_columns": null,
            "flex": null,
            "_model_name": "LayoutModel",
            "justify_items": null,
            "grid_row": null,
            "max_height": null,
            "align_content": null,
            "visibility": null,
            "align_self": null,
            "height": null,
            "min_height": null,
            "padding": null,
            "grid_auto_rows": null,
            "grid_gap": null,
            "max_width": null,
            "order": null,
            "_view_module_version": "1.2.0",
            "grid_template_areas": null,
            "object_position": null,
            "object_fit": null,
            "grid_auto_columns": null,
            "margin": null,
            "display": null,
            "left": null
          }
        },
        "aca5c3a2ff0c4b0f9064f69d5c96cb65": {
          "model_module": "@jupyter-widgets/controls",
          "model_name": "HTMLModel",
          "model_module_version": "1.5.0",
          "state": {
            "_view_name": "HTMLView",
            "style": "IPY_MODEL_89f36266a6494a58884ad19b709899a1",
            "_dom_classes": [],
            "description": "",
            "_model_name": "HTMLModel",
            "placeholder": "​",
            "_view_module": "@jupyter-widgets/controls",
            "_model_module_version": "1.5.0",
            "value": "training routine: 100%",
            "_view_count": null,
            "_view_module_version": "1.5.0",
            "description_tooltip": null,
            "_model_module": "@jupyter-widgets/controls",
            "layout": "IPY_MODEL_c04a0389559f4299aea1fddef383072f"
          }
        },
        "fc007e8c5d7f4139bdc39d380bfc43c6": {
          "model_module": "@jupyter-widgets/controls",
          "model_name": "FloatProgressModel",
          "model_module_version": "1.5.0",
          "state": {
            "_view_name": "ProgressView",
            "style": "IPY_MODEL_1e25f76770de485e85fa82f1b9c5994d",
            "_dom_classes": [],
            "description": "",
            "_model_name": "FloatProgressModel",
            "bar_style": "",
            "max": 100,
            "_view_module": "@jupyter-widgets/controls",
            "_model_module_version": "1.5.0",
            "value": 100,
            "_view_count": null,
            "_view_module_version": "1.5.0",
            "orientation": "horizontal",
            "min": 0,
            "description_tooltip": null,
            "_model_module": "@jupyter-widgets/controls",
            "layout": "IPY_MODEL_2bc52dab9a154c578414f337c0535b57"
          }
        },
        "8fe3acff50d642acb21c3d1d0a662083": {
          "model_module": "@jupyter-widgets/controls",
          "model_name": "HTMLModel",
          "model_module_version": "1.5.0",
          "state": {
            "_view_name": "HTMLView",
            "style": "IPY_MODEL_f5cc4dbc9cfd479b8171af3ba82ddbee",
            "_dom_classes": [],
            "description": "",
            "_model_name": "HTMLModel",
            "placeholder": "​",
            "_view_module": "@jupyter-widgets/controls",
            "_model_module_version": "1.5.0",
            "value": " 100/100 [47:05&lt;00:00, 29.05s/it, best_val=0.49]",
            "_view_count": null,
            "_view_module_version": "1.5.0",
            "description_tooltip": null,
            "_model_module": "@jupyter-widgets/controls",
            "layout": "IPY_MODEL_3f26f4809655441499fc454d2af3f6ac"
          }
        },
        "89f36266a6494a58884ad19b709899a1": {
          "model_module": "@jupyter-widgets/controls",
          "model_name": "DescriptionStyleModel",
          "model_module_version": "1.5.0",
          "state": {
            "_view_name": "StyleView",
            "_model_name": "DescriptionStyleModel",
            "description_width": "",
            "_view_module": "@jupyter-widgets/base",
            "_model_module_version": "1.5.0",
            "_view_count": null,
            "_view_module_version": "1.2.0",
            "_model_module": "@jupyter-widgets/controls"
          }
        },
        "c04a0389559f4299aea1fddef383072f": {
          "model_module": "@jupyter-widgets/base",
          "model_name": "LayoutModel",
          "model_module_version": "1.2.0",
          "state": {
            "_view_name": "LayoutView",
            "grid_template_rows": null,
            "right": null,
            "justify_content": null,
            "_view_module": "@jupyter-widgets/base",
            "overflow": null,
            "_model_module_version": "1.2.0",
            "_view_count": null,
            "flex_flow": null,
            "width": null,
            "min_width": null,
            "border": null,
            "align_items": null,
            "bottom": null,
            "_model_module": "@jupyter-widgets/base",
            "top": null,
            "grid_column": null,
            "overflow_y": null,
            "overflow_x": null,
            "grid_auto_flow": null,
            "grid_area": null,
            "grid_template_columns": null,
            "flex": null,
            "_model_name": "LayoutModel",
            "justify_items": null,
            "grid_row": null,
            "max_height": null,
            "align_content": null,
            "visibility": null,
            "align_self": null,
            "height": null,
            "min_height": null,
            "padding": null,
            "grid_auto_rows": null,
            "grid_gap": null,
            "max_width": null,
            "order": null,
            "_view_module_version": "1.2.0",
            "grid_template_areas": null,
            "object_position": null,
            "object_fit": null,
            "grid_auto_columns": null,
            "margin": null,
            "display": null,
            "left": null
          }
        },
        "1e25f76770de485e85fa82f1b9c5994d": {
          "model_module": "@jupyter-widgets/controls",
          "model_name": "ProgressStyleModel",
          "model_module_version": "1.5.0",
          "state": {
            "_view_name": "StyleView",
            "_model_name": "ProgressStyleModel",
            "description_width": "",
            "_view_module": "@jupyter-widgets/base",
            "_model_module_version": "1.5.0",
            "_view_count": null,
            "_view_module_version": "1.2.0",
            "bar_color": null,
            "_model_module": "@jupyter-widgets/controls"
          }
        },
        "2bc52dab9a154c578414f337c0535b57": {
          "model_module": "@jupyter-widgets/base",
          "model_name": "LayoutModel",
          "model_module_version": "1.2.0",
          "state": {
            "_view_name": "LayoutView",
            "grid_template_rows": null,
            "right": null,
            "justify_content": null,
            "_view_module": "@jupyter-widgets/base",
            "overflow": null,
            "_model_module_version": "1.2.0",
            "_view_count": null,
            "flex_flow": null,
            "width": null,
            "min_width": null,
            "border": null,
            "align_items": null,
            "bottom": null,
            "_model_module": "@jupyter-widgets/base",
            "top": null,
            "grid_column": null,
            "overflow_y": null,
            "overflow_x": null,
            "grid_auto_flow": null,
            "grid_area": null,
            "grid_template_columns": null,
            "flex": null,
            "_model_name": "LayoutModel",
            "justify_items": null,
            "grid_row": null,
            "max_height": null,
            "align_content": null,
            "visibility": null,
            "align_self": null,
            "height": null,
            "min_height": null,
            "padding": null,
            "grid_auto_rows": null,
            "grid_gap": null,
            "max_width": null,
            "order": null,
            "_view_module_version": "1.2.0",
            "grid_template_areas": null,
            "object_position": null,
            "object_fit": null,
            "grid_auto_columns": null,
            "margin": null,
            "display": null,
            "left": null
          }
        },
        "f5cc4dbc9cfd479b8171af3ba82ddbee": {
          "model_module": "@jupyter-widgets/controls",
          "model_name": "DescriptionStyleModel",
          "model_module_version": "1.5.0",
          "state": {
            "_view_name": "StyleView",
            "_model_name": "DescriptionStyleModel",
            "description_width": "",
            "_view_module": "@jupyter-widgets/base",
            "_model_module_version": "1.5.0",
            "_view_count": null,
            "_view_module_version": "1.2.0",
            "_model_module": "@jupyter-widgets/controls"
          }
        },
        "3f26f4809655441499fc454d2af3f6ac": {
          "model_module": "@jupyter-widgets/base",
          "model_name": "LayoutModel",
          "model_module_version": "1.2.0",
          "state": {
            "_view_name": "LayoutView",
            "grid_template_rows": null,
            "right": null,
            "justify_content": null,
            "_view_module": "@jupyter-widgets/base",
            "overflow": null,
            "_model_module_version": "1.2.0",
            "_view_count": null,
            "flex_flow": null,
            "width": null,
            "min_width": null,
            "border": null,
            "align_items": null,
            "bottom": null,
            "_model_module": "@jupyter-widgets/base",
            "top": null,
            "grid_column": null,
            "overflow_y": null,
            "overflow_x": null,
            "grid_auto_flow": null,
            "grid_area": null,
            "grid_template_columns": null,
            "flex": null,
            "_model_name": "LayoutModel",
            "justify_items": null,
            "grid_row": null,
            "max_height": null,
            "align_content": null,
            "visibility": null,
            "align_self": null,
            "height": null,
            "min_height": null,
            "padding": null,
            "grid_auto_rows": null,
            "grid_gap": null,
            "max_width": null,
            "order": null,
            "_view_module_version": "1.2.0",
            "grid_template_areas": null,
            "object_position": null,
            "object_fit": null,
            "grid_auto_columns": null,
            "margin": null,
            "display": null,
            "left": null
          }
        },
        "eeb2357f6095470eadf4028920e63a7c": {
          "model_module": "@jupyter-widgets/controls",
          "model_name": "HBoxModel",
          "model_module_version": "1.5.0",
          "state": {
            "_view_name": "HBoxView",
            "_dom_classes": [],
            "_model_name": "HBoxModel",
            "_view_module": "@jupyter-widgets/controls",
            "_model_module_version": "1.5.0",
            "_view_count": null,
            "_view_module_version": "1.5.0",
            "box_style": "",
            "layout": "IPY_MODEL_be9521ac96f5484482a10b213b42423b",
            "_model_module": "@jupyter-widgets/controls",
            "children": [
              "IPY_MODEL_d10b0849cc9a442b943d7e6abe9edceb",
              "IPY_MODEL_ce4ff109576c4d91945a4a476ee51760",
              "IPY_MODEL_10dbc28087304d6fb2d7831667457981"
            ]
          }
        },
        "be9521ac96f5484482a10b213b42423b": {
          "model_module": "@jupyter-widgets/base",
          "model_name": "LayoutModel",
          "model_module_version": "1.2.0",
          "state": {
            "_view_name": "LayoutView",
            "grid_template_rows": null,
            "right": null,
            "justify_content": null,
            "_view_module": "@jupyter-widgets/base",
            "overflow": null,
            "_model_module_version": "1.2.0",
            "_view_count": null,
            "flex_flow": null,
            "width": null,
            "min_width": null,
            "border": null,
            "align_items": null,
            "bottom": null,
            "_model_module": "@jupyter-widgets/base",
            "top": null,
            "grid_column": null,
            "overflow_y": null,
            "overflow_x": null,
            "grid_auto_flow": null,
            "grid_area": null,
            "grid_template_columns": null,
            "flex": null,
            "_model_name": "LayoutModel",
            "justify_items": null,
            "grid_row": null,
            "max_height": null,
            "align_content": null,
            "visibility": null,
            "align_self": null,
            "height": null,
            "min_height": null,
            "padding": null,
            "grid_auto_rows": null,
            "grid_gap": null,
            "max_width": null,
            "order": null,
            "_view_module_version": "1.2.0",
            "grid_template_areas": null,
            "object_position": null,
            "object_fit": null,
            "grid_auto_columns": null,
            "margin": null,
            "display": null,
            "left": null
          }
        },
        "d10b0849cc9a442b943d7e6abe9edceb": {
          "model_module": "@jupyter-widgets/controls",
          "model_name": "HTMLModel",
          "model_module_version": "1.5.0",
          "state": {
            "_view_name": "HTMLView",
            "style": "IPY_MODEL_ba70c70a16944b8e99055cdb4f7f9a78",
            "_dom_classes": [],
            "description": "",
            "_model_name": "HTMLModel",
            "placeholder": "​",
            "_view_module": "@jupyter-widgets/controls",
            "_model_module_version": "1.5.0",
            "value": "split=train:  98%",
            "_view_count": null,
            "_view_module_version": "1.5.0",
            "description_tooltip": null,
            "_model_module": "@jupyter-widgets/controls",
            "layout": "IPY_MODEL_987ec03dee024b21ba38ac0616759f99"
          }
        },
        "ce4ff109576c4d91945a4a476ee51760": {
          "model_module": "@jupyter-widgets/controls",
          "model_name": "FloatProgressModel",
          "model_module_version": "1.5.0",
          "state": {
            "_view_name": "ProgressView",
            "style": "IPY_MODEL_d47d2e03be8847da8e9dab2a8e033fa4",
            "_dom_classes": [],
            "description": "",
            "_model_name": "FloatProgressModel",
            "bar_style": "",
            "max": 54,
            "_view_module": "@jupyter-widgets/controls",
            "_model_module_version": "1.5.0",
            "value": 53,
            "_view_count": null,
            "_view_module_version": "1.5.0",
            "orientation": "horizontal",
            "min": 0,
            "description_tooltip": null,
            "_model_module": "@jupyter-widgets/controls",
            "layout": "IPY_MODEL_758ec4e6ce294bcf8b0c45f0f9419e8b"
          }
        },
        "10dbc28087304d6fb2d7831667457981": {
          "model_module": "@jupyter-widgets/controls",
          "model_name": "HTMLModel",
          "model_module_version": "1.5.0",
          "state": {
            "_view_name": "HTMLView",
            "style": "IPY_MODEL_28e398766746489d9a27af315d4aa83c",
            "_dom_classes": [],
            "description": "",
            "_model_name": "HTMLModel",
            "placeholder": "​",
            "_view_module": "@jupyter-widgets/controls",
            "_model_module_version": "1.5.0",
            "value": " 53/54 [47:03&lt;00:00,  2.19it/s, acc=91, epoch=99, loss=0.539]",
            "_view_count": null,
            "_view_module_version": "1.5.0",
            "description_tooltip": null,
            "_model_module": "@jupyter-widgets/controls",
            "layout": "IPY_MODEL_8a78463f3e164a7a80ae8735a94ecb62"
          }
        },
        "ba70c70a16944b8e99055cdb4f7f9a78": {
          "model_module": "@jupyter-widgets/controls",
          "model_name": "DescriptionStyleModel",
          "model_module_version": "1.5.0",
          "state": {
            "_view_name": "StyleView",
            "_model_name": "DescriptionStyleModel",
            "description_width": "",
            "_view_module": "@jupyter-widgets/base",
            "_model_module_version": "1.5.0",
            "_view_count": null,
            "_view_module_version": "1.2.0",
            "_model_module": "@jupyter-widgets/controls"
          }
        },
        "987ec03dee024b21ba38ac0616759f99": {
          "model_module": "@jupyter-widgets/base",
          "model_name": "LayoutModel",
          "model_module_version": "1.2.0",
          "state": {
            "_view_name": "LayoutView",
            "grid_template_rows": null,
            "right": null,
            "justify_content": null,
            "_view_module": "@jupyter-widgets/base",
            "overflow": null,
            "_model_module_version": "1.2.0",
            "_view_count": null,
            "flex_flow": null,
            "width": null,
            "min_width": null,
            "border": null,
            "align_items": null,
            "bottom": null,
            "_model_module": "@jupyter-widgets/base",
            "top": null,
            "grid_column": null,
            "overflow_y": null,
            "overflow_x": null,
            "grid_auto_flow": null,
            "grid_area": null,
            "grid_template_columns": null,
            "flex": null,
            "_model_name": "LayoutModel",
            "justify_items": null,
            "grid_row": null,
            "max_height": null,
            "align_content": null,
            "visibility": null,
            "align_self": null,
            "height": null,
            "min_height": null,
            "padding": null,
            "grid_auto_rows": null,
            "grid_gap": null,
            "max_width": null,
            "order": null,
            "_view_module_version": "1.2.0",
            "grid_template_areas": null,
            "object_position": null,
            "object_fit": null,
            "grid_auto_columns": null,
            "margin": null,
            "display": null,
            "left": null
          }
        },
        "d47d2e03be8847da8e9dab2a8e033fa4": {
          "model_module": "@jupyter-widgets/controls",
          "model_name": "ProgressStyleModel",
          "model_module_version": "1.5.0",
          "state": {
            "_view_name": "StyleView",
            "_model_name": "ProgressStyleModel",
            "description_width": "",
            "_view_module": "@jupyter-widgets/base",
            "_model_module_version": "1.5.0",
            "_view_count": null,
            "_view_module_version": "1.2.0",
            "bar_color": null,
            "_model_module": "@jupyter-widgets/controls"
          }
        },
        "758ec4e6ce294bcf8b0c45f0f9419e8b": {
          "model_module": "@jupyter-widgets/base",
          "model_name": "LayoutModel",
          "model_module_version": "1.2.0",
          "state": {
            "_view_name": "LayoutView",
            "grid_template_rows": null,
            "right": null,
            "justify_content": null,
            "_view_module": "@jupyter-widgets/base",
            "overflow": null,
            "_model_module_version": "1.2.0",
            "_view_count": null,
            "flex_flow": null,
            "width": null,
            "min_width": null,
            "border": null,
            "align_items": null,
            "bottom": null,
            "_model_module": "@jupyter-widgets/base",
            "top": null,
            "grid_column": null,
            "overflow_y": null,
            "overflow_x": null,
            "grid_auto_flow": null,
            "grid_area": null,
            "grid_template_columns": null,
            "flex": null,
            "_model_name": "LayoutModel",
            "justify_items": null,
            "grid_row": null,
            "max_height": null,
            "align_content": null,
            "visibility": null,
            "align_self": null,
            "height": null,
            "min_height": null,
            "padding": null,
            "grid_auto_rows": null,
            "grid_gap": null,
            "max_width": null,
            "order": null,
            "_view_module_version": "1.2.0",
            "grid_template_areas": null,
            "object_position": null,
            "object_fit": null,
            "grid_auto_columns": null,
            "margin": null,
            "display": null,
            "left": null
          }
        },
        "28e398766746489d9a27af315d4aa83c": {
          "model_module": "@jupyter-widgets/controls",
          "model_name": "DescriptionStyleModel",
          "model_module_version": "1.5.0",
          "state": {
            "_view_name": "StyleView",
            "_model_name": "DescriptionStyleModel",
            "description_width": "",
            "_view_module": "@jupyter-widgets/base",
            "_model_module_version": "1.5.0",
            "_view_count": null,
            "_view_module_version": "1.2.0",
            "_model_module": "@jupyter-widgets/controls"
          }
        },
        "8a78463f3e164a7a80ae8735a94ecb62": {
          "model_module": "@jupyter-widgets/base",
          "model_name": "LayoutModel",
          "model_module_version": "1.2.0",
          "state": {
            "_view_name": "LayoutView",
            "grid_template_rows": null,
            "right": null,
            "justify_content": null,
            "_view_module": "@jupyter-widgets/base",
            "overflow": null,
            "_model_module_version": "1.2.0",
            "_view_count": null,
            "flex_flow": null,
            "width": null,
            "min_width": null,
            "border": null,
            "align_items": null,
            "bottom": null,
            "_model_module": "@jupyter-widgets/base",
            "top": null,
            "grid_column": null,
            "overflow_y": null,
            "overflow_x": null,
            "grid_auto_flow": null,
            "grid_area": null,
            "grid_template_columns": null,
            "flex": null,
            "_model_name": "LayoutModel",
            "justify_items": null,
            "grid_row": null,
            "max_height": null,
            "align_content": null,
            "visibility": null,
            "align_self": null,
            "height": null,
            "min_height": null,
            "padding": null,
            "grid_auto_rows": null,
            "grid_gap": null,
            "max_width": null,
            "order": null,
            "_view_module_version": "1.2.0",
            "grid_template_areas": null,
            "object_position": null,
            "object_fit": null,
            "grid_auto_columns": null,
            "margin": null,
            "display": null,
            "left": null
          }
        },
        "71c5654bab1d4e73bd6f669d72185b57": {
          "model_module": "@jupyter-widgets/controls",
          "model_name": "HBoxModel",
          "model_module_version": "1.5.0",
          "state": {
            "_view_name": "HBoxView",
            "_dom_classes": [],
            "_model_name": "HBoxModel",
            "_view_module": "@jupyter-widgets/controls",
            "_model_module_version": "1.5.0",
            "_view_count": null,
            "_view_module_version": "1.5.0",
            "box_style": "",
            "layout": "IPY_MODEL_359105aad18846d0b81a6613b87c2c46",
            "_model_module": "@jupyter-widgets/controls",
            "children": [
              "IPY_MODEL_75ed002bc82b466dace0de043a085058",
              "IPY_MODEL_ff54b431ae8e4a3786f7a865aface0a1",
              "IPY_MODEL_c029ec97a23d4863b96671568ee73718"
            ]
          }
        },
        "359105aad18846d0b81a6613b87c2c46": {
          "model_module": "@jupyter-widgets/base",
          "model_name": "LayoutModel",
          "model_module_version": "1.2.0",
          "state": {
            "_view_name": "LayoutView",
            "grid_template_rows": null,
            "right": null,
            "justify_content": null,
            "_view_module": "@jupyter-widgets/base",
            "overflow": null,
            "_model_module_version": "1.2.0",
            "_view_count": null,
            "flex_flow": null,
            "width": null,
            "min_width": null,
            "border": null,
            "align_items": null,
            "bottom": null,
            "_model_module": "@jupyter-widgets/base",
            "top": null,
            "grid_column": null,
            "overflow_y": null,
            "overflow_x": null,
            "grid_auto_flow": null,
            "grid_area": null,
            "grid_template_columns": null,
            "flex": null,
            "_model_name": "LayoutModel",
            "justify_items": null,
            "grid_row": null,
            "max_height": null,
            "align_content": null,
            "visibility": null,
            "align_self": null,
            "height": null,
            "min_height": null,
            "padding": null,
            "grid_auto_rows": null,
            "grid_gap": null,
            "max_width": null,
            "order": null,
            "_view_module_version": "1.2.0",
            "grid_template_areas": null,
            "object_position": null,
            "object_fit": null,
            "grid_auto_columns": null,
            "margin": null,
            "display": null,
            "left": null
          }
        },
        "75ed002bc82b466dace0de043a085058": {
          "model_module": "@jupyter-widgets/controls",
          "model_name": "HTMLModel",
          "model_module_version": "1.5.0",
          "state": {
            "_view_name": "HTMLView",
            "style": "IPY_MODEL_86b1b848c903405190270baee63f541d",
            "_dom_classes": [],
            "description": "",
            "_model_name": "HTMLModel",
            "placeholder": "​",
            "_view_module": "@jupyter-widgets/controls",
            "_model_module_version": "1.5.0",
            "value": "split=val:  91%",
            "_view_count": null,
            "_view_module_version": "1.5.0",
            "description_tooltip": null,
            "_model_module": "@jupyter-widgets/controls",
            "layout": "IPY_MODEL_fa37e1a632194278b5bd3b6f68f79116"
          }
        },
        "ff54b431ae8e4a3786f7a865aface0a1": {
          "model_module": "@jupyter-widgets/controls",
          "model_name": "FloatProgressModel",
          "model_module_version": "1.5.0",
          "state": {
            "_view_name": "ProgressView",
            "style": "IPY_MODEL_8168b2e20a514f5f95517c3971a3fe4e",
            "_dom_classes": [],
            "description": "",
            "_model_name": "FloatProgressModel",
            "bar_style": "",
            "max": 11,
            "_view_module": "@jupyter-widgets/controls",
            "_model_module_version": "1.5.0",
            "value": 10,
            "_view_count": null,
            "_view_module_version": "1.5.0",
            "orientation": "horizontal",
            "min": 0,
            "description_tooltip": null,
            "_model_module": "@jupyter-widgets/controls",
            "layout": "IPY_MODEL_0110dca2d14d4819833bc3a2f6f68ca5"
          }
        },
        "c029ec97a23d4863b96671568ee73718": {
          "model_module": "@jupyter-widgets/controls",
          "model_name": "HTMLModel",
          "model_module_version": "1.5.0",
          "state": {
            "_view_name": "HTMLView",
            "style": "IPY_MODEL_79747a976e96486fa145e03bf56cbf1d",
            "_dom_classes": [],
            "description": "",
            "_model_name": "HTMLModel",
            "placeholder": "​",
            "_view_module": "@jupyter-widgets/controls",
            "_model_module_version": "1.5.0",
            "value": " 10/11 [47:05&lt;00:00,  2.41it/s, acc=89.7, epoch=99, loss=0.581]",
            "_view_count": null,
            "_view_module_version": "1.5.0",
            "description_tooltip": null,
            "_model_module": "@jupyter-widgets/controls",
            "layout": "IPY_MODEL_cd42d237b3484f3886a78b7a3e26a5a8"
          }
        },
        "86b1b848c903405190270baee63f541d": {
          "model_module": "@jupyter-widgets/controls",
          "model_name": "DescriptionStyleModel",
          "model_module_version": "1.5.0",
          "state": {
            "_view_name": "StyleView",
            "_model_name": "DescriptionStyleModel",
            "description_width": "",
            "_view_module": "@jupyter-widgets/base",
            "_model_module_version": "1.5.0",
            "_view_count": null,
            "_view_module_version": "1.2.0",
            "_model_module": "@jupyter-widgets/controls"
          }
        },
        "fa37e1a632194278b5bd3b6f68f79116": {
          "model_module": "@jupyter-widgets/base",
          "model_name": "LayoutModel",
          "model_module_version": "1.2.0",
          "state": {
            "_view_name": "LayoutView",
            "grid_template_rows": null,
            "right": null,
            "justify_content": null,
            "_view_module": "@jupyter-widgets/base",
            "overflow": null,
            "_model_module_version": "1.2.0",
            "_view_count": null,
            "flex_flow": null,
            "width": null,
            "min_width": null,
            "border": null,
            "align_items": null,
            "bottom": null,
            "_model_module": "@jupyter-widgets/base",
            "top": null,
            "grid_column": null,
            "overflow_y": null,
            "overflow_x": null,
            "grid_auto_flow": null,
            "grid_area": null,
            "grid_template_columns": null,
            "flex": null,
            "_model_name": "LayoutModel",
            "justify_items": null,
            "grid_row": null,
            "max_height": null,
            "align_content": null,
            "visibility": null,
            "align_self": null,
            "height": null,
            "min_height": null,
            "padding": null,
            "grid_auto_rows": null,
            "grid_gap": null,
            "max_width": null,
            "order": null,
            "_view_module_version": "1.2.0",
            "grid_template_areas": null,
            "object_position": null,
            "object_fit": null,
            "grid_auto_columns": null,
            "margin": null,
            "display": null,
            "left": null
          }
        },
        "8168b2e20a514f5f95517c3971a3fe4e": {
          "model_module": "@jupyter-widgets/controls",
          "model_name": "ProgressStyleModel",
          "model_module_version": "1.5.0",
          "state": {
            "_view_name": "StyleView",
            "_model_name": "ProgressStyleModel",
            "description_width": "",
            "_view_module": "@jupyter-widgets/base",
            "_model_module_version": "1.5.0",
            "_view_count": null,
            "_view_module_version": "1.2.0",
            "bar_color": null,
            "_model_module": "@jupyter-widgets/controls"
          }
        },
        "0110dca2d14d4819833bc3a2f6f68ca5": {
          "model_module": "@jupyter-widgets/base",
          "model_name": "LayoutModel",
          "model_module_version": "1.2.0",
          "state": {
            "_view_name": "LayoutView",
            "grid_template_rows": null,
            "right": null,
            "justify_content": null,
            "_view_module": "@jupyter-widgets/base",
            "overflow": null,
            "_model_module_version": "1.2.0",
            "_view_count": null,
            "flex_flow": null,
            "width": null,
            "min_width": null,
            "border": null,
            "align_items": null,
            "bottom": null,
            "_model_module": "@jupyter-widgets/base",
            "top": null,
            "grid_column": null,
            "overflow_y": null,
            "overflow_x": null,
            "grid_auto_flow": null,
            "grid_area": null,
            "grid_template_columns": null,
            "flex": null,
            "_model_name": "LayoutModel",
            "justify_items": null,
            "grid_row": null,
            "max_height": null,
            "align_content": null,
            "visibility": null,
            "align_self": null,
            "height": null,
            "min_height": null,
            "padding": null,
            "grid_auto_rows": null,
            "grid_gap": null,
            "max_width": null,
            "order": null,
            "_view_module_version": "1.2.0",
            "grid_template_areas": null,
            "object_position": null,
            "object_fit": null,
            "grid_auto_columns": null,
            "margin": null,
            "display": null,
            "left": null
          }
        },
        "79747a976e96486fa145e03bf56cbf1d": {
          "model_module": "@jupyter-widgets/controls",
          "model_name": "DescriptionStyleModel",
          "model_module_version": "1.5.0",
          "state": {
            "_view_name": "StyleView",
            "_model_name": "DescriptionStyleModel",
            "description_width": "",
            "_view_module": "@jupyter-widgets/base",
            "_model_module_version": "1.5.0",
            "_view_count": null,
            "_view_module_version": "1.2.0",
            "_model_module": "@jupyter-widgets/controls"
          }
        },
        "cd42d237b3484f3886a78b7a3e26a5a8": {
          "model_module": "@jupyter-widgets/base",
          "model_name": "LayoutModel",
          "model_module_version": "1.2.0",
          "state": {
            "_view_name": "LayoutView",
            "grid_template_rows": null,
            "right": null,
            "justify_content": null,
            "_view_module": "@jupyter-widgets/base",
            "overflow": null,
            "_model_module_version": "1.2.0",
            "_view_count": null,
            "flex_flow": null,
            "width": null,
            "min_width": null,
            "border": null,
            "align_items": null,
            "bottom": null,
            "_model_module": "@jupyter-widgets/base",
            "top": null,
            "grid_column": null,
            "overflow_y": null,
            "overflow_x": null,
            "grid_auto_flow": null,
            "grid_area": null,
            "grid_template_columns": null,
            "flex": null,
            "_model_name": "LayoutModel",
            "justify_items": null,
            "grid_row": null,
            "max_height": null,
            "align_content": null,
            "visibility": null,
            "align_self": null,
            "height": null,
            "min_height": null,
            "padding": null,
            "grid_auto_rows": null,
            "grid_gap": null,
            "max_width": null,
            "order": null,
            "_view_module_version": "1.2.0",
            "grid_template_areas": null,
            "object_position": null,
            "object_fit": null,
            "grid_auto_columns": null,
            "margin": null,
            "display": null,
            "left": null
          }
        }
      }
    }
  },
  "cells": [
    {
      "cell_type": "code",
      "metadata": {
        "colab": {
          "base_uri": "https://localhost:8080/",
          "height": 185
        },
        "id": "oVEdwVGubedI",
        "outputId": "565aca80-c125-4179-fd99-baf9006558fa"
      },
      "source": [
        "import os\n",
        "from argparse import Namespace\n",
        "from collections import Counter\n",
        "import json\n",
        "import re\n",
        "import string\n",
        "import numpy as np\n",
        "import pandas as pd\n",
        "from torch.nn.utils.rnn import pack_padded_sequence, pad_packed_sequence\n",
        "from torch.utils.data import Dataset, DataLoader\n",
        "from tqdm import tqdm_notebook\n",
        "\n",
        "import matplotlib.pyplot as plt\n",
        "from matplotlib.pyplot import figure\n",
        "figure(figsize=(8, 8), dpi=80)\n",
        "import collections\n",
        "import scipy as sp\n",
        "import gensim\n",
        "import gensim.downloader as api\n",
        "import nltk, nltk.data\n",
        "import torch\n",
        "import torch.nn as nn\n",
        "import torch.nn.functional as F\n",
        "import torch.optim as optim\n",
        "import json\n",
        "from torch.utils.data import Dataset, DataLoader\n",
        "from tqdm.notebook import tqdm\n",
        "nltk.download('wordnet')\n",
        "nltk.download('punkt')\n",
        "nltk.download('averaged_perceptron_tagger')\n",
        "nltk.download('stopwords')\n",
        "from nltk.corpus import wordnet\n",
        "from tqdm.notebook import tqdm\n",
        "from gensim.corpora import Dictionary\n",
        "from gensim.models import TfidfModel\n",
        "from argparse import Namespace"
      ],
      "execution_count": null,
      "outputs": [
        {
          "output_type": "stream",
          "name": "stdout",
          "text": [
            "[nltk_data] Downloading package wordnet to /root/nltk_data...\n",
            "[nltk_data]   Unzipping corpora/wordnet.zip.\n",
            "[nltk_data] Downloading package punkt to /root/nltk_data...\n",
            "[nltk_data]   Unzipping tokenizers/punkt.zip.\n",
            "[nltk_data] Downloading package averaged_perceptron_tagger to\n",
            "[nltk_data]     /root/nltk_data...\n",
            "[nltk_data]   Unzipping taggers/averaged_perceptron_tagger.zip.\n",
            "[nltk_data] Downloading package stopwords to /root/nltk_data...\n",
            "[nltk_data]   Unzipping corpora/stopwords.zip.\n"
          ]
        },
        {
          "output_type": "display_data",
          "data": {
            "text/plain": [
              "<Figure size 640x640 with 0 Axes>"
            ]
          },
          "metadata": {}
        }
      ]
    },
    {
      "cell_type": "code",
      "metadata": {
        "colab": {
          "base_uri": "https://localhost:8080/"
        },
        "id": "2lwm21Odko7g",
        "outputId": "fd836bdf-4685-43f4-ab0e-8b2fce963c6d"
      },
      "source": [
        "!pip install ipython-autotime\n",
        "%load_ext autotime"
      ],
      "execution_count": null,
      "outputs": [
        {
          "output_type": "stream",
          "name": "stdout",
          "text": [
            "Collecting ipython-autotime\n",
            "  Downloading ipython_autotime-0.3.1-py2.py3-none-any.whl (6.8 kB)\n",
            "Requirement already satisfied: ipython in /usr/local/lib/python3.7/dist-packages (from ipython-autotime) (5.5.0)\n",
            "Requirement already satisfied: decorator in /usr/local/lib/python3.7/dist-packages (from ipython->ipython-autotime) (4.4.2)\n",
            "Requirement already satisfied: pickleshare in /usr/local/lib/python3.7/dist-packages (from ipython->ipython-autotime) (0.7.5)\n",
            "Requirement already satisfied: simplegeneric>0.8 in /usr/local/lib/python3.7/dist-packages (from ipython->ipython-autotime) (0.8.1)\n",
            "Requirement already satisfied: traitlets>=4.2 in /usr/local/lib/python3.7/dist-packages (from ipython->ipython-autotime) (5.1.0)\n",
            "Requirement already satisfied: prompt-toolkit<2.0.0,>=1.0.4 in /usr/local/lib/python3.7/dist-packages (from ipython->ipython-autotime) (1.0.18)\n",
            "Requirement already satisfied: pexpect in /usr/local/lib/python3.7/dist-packages (from ipython->ipython-autotime) (4.8.0)\n",
            "Requirement already satisfied: pygments in /usr/local/lib/python3.7/dist-packages (from ipython->ipython-autotime) (2.6.1)\n",
            "Requirement already satisfied: setuptools>=18.5 in /usr/local/lib/python3.7/dist-packages (from ipython->ipython-autotime) (57.4.0)\n",
            "Requirement already satisfied: wcwidth in /usr/local/lib/python3.7/dist-packages (from prompt-toolkit<2.0.0,>=1.0.4->ipython->ipython-autotime) (0.2.5)\n",
            "Requirement already satisfied: six>=1.9.0 in /usr/local/lib/python3.7/dist-packages (from prompt-toolkit<2.0.0,>=1.0.4->ipython->ipython-autotime) (1.15.0)\n",
            "Requirement already satisfied: ptyprocess>=0.5 in /usr/local/lib/python3.7/dist-packages (from pexpect->ipython->ipython-autotime) (0.7.0)\n",
            "Installing collected packages: ipython-autotime\n",
            "Successfully installed ipython-autotime-0.3.1\n",
            "time: 263 µs (started: 2021-10-26 15:14:20 +00:00)\n"
          ]
        }
      ]
    },
    {
      "cell_type": "markdown",
      "metadata": {
        "id": "9piPTv7qRFhc"
      },
      "source": [
        "# <center>Project 2 Natural Language for NLP -- Task 3 </center>\n",
        "\n",
        "<center>   \n",
        "\n",
        "**Name_ Student number:**\n",
        "<br>\n",
        "Chanxin Xie_22566456\n",
        "<br>\n",
        "Yiyong Duan_22628103<br>\n",
        "\n",
        "**Date created:** Oct 5th 2022<br>\n",
        "**Last modified:** Oct 25th 2022<br>\n"
      ]
    },
    {
      "cell_type": "markdown",
      "metadata": {
        "id": "ItrasPYSxdeR"
      },
      "source": [
        "# Task 3 NER\n",
        "Build a Seq2Seq model using the architecture of your choice, and discuss the performance by selecting 50 sentences from the test dataset to compare the Seq2Seq results with the provided labels:\n",
        "\n",
        "\n",
        "*   What's the percentage of disagreement?\n",
        "*   Are there newly tagged entitites that actually make sense?\n",
        "\n"
      ]
    },
    {
      "cell_type": "markdown",
      "metadata": {
        "id": "ylM59-hpfh1k"
      },
      "source": [
        "# This notebook contains all details about Task 3: NER Labelling\n",
        "\n",
        "**This task follows the procedures listed below:**\n",
        "\n",
        "1. Data Pre-processing and Preparation\n",
        "2. Split the training/testing/validation dataset\n",
        "3. Modelling\n",
        "<br>\n",
        "(1) Perform word embedding\n",
        "<br>\n",
        "(2) Group data into minibatch for the model via DataLoader\n",
        "<br>\n",
        "(3)Train Model\n",
        "4. Evaluation\n",
        "5. Compare performance"
      ]
    },
    {
      "cell_type": "code",
      "metadata": {
        "colab": {
          "base_uri": "https://localhost:8080/"
        },
        "id": "Z8VwQpANuWv2",
        "outputId": "bacad3b9-0842-4621-82da-a3a310f07c75"
      },
      "source": [
        "from google.colab import drive\n",
        "\n",
        "drive.mount('/content/drive')\n",
        "\n",
        "%cd /content/drive/MyDrive/NLP/"
      ],
      "execution_count": null,
      "outputs": [
        {
          "output_type": "stream",
          "name": "stdout",
          "text": [
            "Mounted at /content/drive\n",
            "/content/drive/MyDrive/NLP\n",
            "time: 1min 17s (started: 2021-10-26 15:14:25 +00:00)\n"
          ]
        }
      ]
    },
    {
      "cell_type": "markdown",
      "metadata": {
        "id": "VWp5UpLAQFHV"
      },
      "source": [
        "#### Import"
      ]
    },
    {
      "cell_type": "markdown",
      "metadata": {
        "id": "mAgyWRZS5vf4"
      },
      "source": [
        "## 1 Data Preprocessing and Preparation\n",
        "In this section, we need to first import the 'us_accidents.txt' file, then preprocess the data so that we could construct the narrative text field and their corresponding annotation for modelling."
      ]
    },
    {
      "cell_type": "code",
      "metadata": {
        "colab": {
          "base_uri": "https://localhost:8080/"
        },
        "id": "SuRGp4tr6-eS",
        "outputId": "57fc1242-e769-4425-9221-7fa7f9765b1a"
      },
      "source": [
        "file = open('us_accidents.txt', encoding='ISO-8859-1')\n",
        "list_of_lists = []\n",
        "\n",
        "for line in file:\n",
        "  # get lines\n",
        "  stripped_line = line.strip()\n",
        "  line_list = stripped_line.rsplit('\\n', 1)\n",
        "  for item in line_list:\n",
        "    # list of lists, each list contains two elements\n",
        "    list_of_lists.append(item.rsplit(' ', 1))\n",
        "\n",
        "# Construct the table \n",
        "df = pd.DataFrame(list_of_lists, columns =['source', 'target']) "
      ],
      "execution_count": null,
      "outputs": [
        {
          "output_type": "stream",
          "name": "stdout",
          "text": [
            "time: 2.44 s (started: 2021-10-26 13:13:56 +00:00)\n"
          ]
        }
      ]
    },
    {
      "cell_type": "markdown",
      "metadata": {
        "id": "RQQpgMNLmAw5"
      },
      "source": [
        "From the figures and bar chart below, we can see that the proportion of labels are highly imbalanced, where label 'O' is predominant, account for about 88.8% of the total instances. B-person/employee comes the second, which only account for 2.7% of the total instances. Other labels only account for less than 1% of the total. This could affect the model performance as most of the narrative text might be labelled as 'O'.\n"
      ]
    },
    {
      "cell_type": "code",
      "metadata": {
        "colab": {
          "base_uri": "https://localhost:8080/"
        },
        "id": "jKN-a4X5pZmy",
        "outputId": "707b1d36-95b9-4c8e-ad5c-11f8d49c0444"
      },
      "source": [
        "(df.target.value_counts()/len(df.target)).sort_values(ascending = False)"
      ],
      "execution_count": null,
      "outputs": [
        {
          "output_type": "execute_result",
          "data": {
            "text/plain": [
              "O                                            0.887869\n",
              "B-person/employee                            0.026521\n",
              "B-accident_cause/fall                        0.006252\n",
              "B-body_part/back                             0.003871\n",
              "B-body_part/arm/hand                         0.001779\n",
              "                                               ...   \n",
              "B-location/kitchen                           0.000005\n",
              "B-equipment/headframe                        0.000002\n",
              "I-vehicle/light_vehicle/mine_car             0.000002\n",
              "B-vehicle/light_vehicle/mine_car             0.000002\n",
              "B-equipment/personal_protective_equipment    0.000002\n",
              "Name: target, Length: 176, dtype: float64"
            ]
          },
          "metadata": {},
          "execution_count": 5
        },
        {
          "output_type": "stream",
          "name": "stdout",
          "text": [
            "time: 77.1 ms (started: 2021-10-26 09:41:29 +00:00)\n"
          ]
        }
      ]
    },
    {
      "cell_type": "code",
      "metadata": {
        "colab": {
          "base_uri": "https://localhost:8080/",
          "height": 634
        },
        "id": "ww6jNNJ7jp6X",
        "outputId": "ebc6557e-f2e0-40b3-b7be-37fc040f7810"
      },
      "source": [
        "figure(figsize=(24, 8), dpi=80)\n",
        "# df[\"classes\"].hist()\n",
        "plt.hist([x for x in df[\"target\"] if x is not None], 100, density= False)\n",
        "plt.xticks(rotation='vertical')\n",
        "plt.title('Entity Distribution of Annotated Narrative Text Field')\n",
        "plt.show()"
      ],
      "execution_count": null,
      "outputs": [
        {
          "output_type": "display_data",
          "data": {
            "image/png": "[encoded data removed]",
            "text/plain": [
              "<Figure size 1920x640 with 1 Axes>"
            ]
          },
          "metadata": {
            "needs_background": "light"
          }
        },
        {
          "output_type": "stream",
          "name": "stdout",
          "text": [
            "time: 3.76 s (started: 2021-10-26 09:41:29 +00:00)\n"
          ]
        }
      ]
    },
    {
      "cell_type": "code",
      "metadata": {
        "id": "CSQ0K-Hxt7xZ",
        "colab": {
          "base_uri": "https://localhost:8080/"
        },
        "outputId": "e7c07762-45ea-4bfa-8f70-20181050cd40"
      },
      "source": [
        "# Concatenate the source-narrative text and the target- labels\n",
        "source = ''\n",
        "target = ''\n",
        "\n",
        "for i in range(df.shape[0]):\n",
        "  if df.iloc[i, 1] == None and df.iloc[i, 0] == '':\n",
        "    source = source + '******' + ' '\n",
        "    target = target + '******' + ' '\n",
        "  elif df.iloc[i, 1] == None and df.iloc[i, 0] != '':\n",
        "    pass\n",
        "  else:\n",
        "    source = source + df.iloc[i, 0] + ' '\n",
        "    target = target + df.iloc[i, 1] + ' '"
      ],
      "execution_count": null,
      "outputs": [
        {
          "output_type": "stream",
          "name": "stdout",
          "text": [
            "time: 4min 6s (started: 2021-10-26 09:41:33 +00:00)\n"
          ]
        }
      ]
    },
    {
      "cell_type": "code",
      "metadata": {
        "id": "TtT67q2FiSzC",
        "colab": {
          "base_uri": "https://localhost:8080/"
        },
        "outputId": "5a0e6c09-fed8-4bcc-9cc0-38858fbccb8e"
      },
      "source": [
        "source_language = source.split('******')\n",
        "target_language = target.split('******')"
      ],
      "execution_count": null,
      "outputs": [
        {
          "output_type": "stream",
          "name": "stdout",
          "text": [
            "time: 7.08 ms (started: 2021-10-26 09:45:40 +00:00)\n"
          ]
        }
      ]
    },
    {
      "cell_type": "markdown",
      "metadata": {
        "id": "MAHWSz-0xM5q"
      },
      "source": [
        "#### Dataset of the preprocessed data\n",
        "The dataset looks like below after the data preprocessing. \n",
        "<br>\n",
        "We need to use the source - narrative text field to predict the target- orresponding annotation."
      ]
    },
    {
      "cell_type": "code",
      "metadata": {
        "id": "Zq0OE680Ryfs",
        "colab": {
          "base_uri": "https://localhost:8080/",
          "height": 220
        },
        "outputId": "95b3416b-1123-4403-e8d4-96d16cfd767f"
      },
      "source": [
        "df_language = pd.DataFrame({'source_language': source_language,'target_language': target_language})\n",
        "df_language.head()"
      ],
      "execution_count": null,
      "outputs": [
        {
          "output_type": "execute_result",
          "data": {
            "text/html": [
              "<div>\n",
              "<style scoped>\n",
              "    .dataframe tbody tr th:only-of-type {\n",
              "        vertical-align: middle;\n",
              "    }\n",
              "\n",
              "    .dataframe tbody tr th {\n",
              "        vertical-align: top;\n",
              "    }\n",
              "\n",
              "    .dataframe thead th {\n",
              "        text-align: right;\n",
              "    }\n",
              "</style>\n",
              "<table border=\"1\" class=\"dataframe\">\n",
              "  <thead>\n",
              "    <tr style=\"text-align: right;\">\n",
              "      <th></th>\n",
              "      <th>source_language</th>\n",
              "      <th>target_language</th>\n",
              "    </tr>\n",
              "  </thead>\n",
              "  <tbody>\n",
              "    <tr>\n",
              "      <th>0</th>\n",
              "      <td>he was pulling a 54 inch v wiper and felt pain...</td>\n",
              "      <td>O O O O O O O O O O O O O O O</td>\n",
              "    </tr>\n",
              "    <tr>\n",
              "      <th>1</th>\n",
              "      <td>breathing difficulties . employee provided fi...</td>\n",
              "      <td>O O O B-person/employee O O O O O O O O</td>\n",
              "    </tr>\n",
              "    <tr>\n",
              "      <th>2</th>\n",
              "      <td>while palletizing flat rock ( landscape stone...</td>\n",
              "      <td>O O O O O O O O B-person/injured_person I-per...</td>\n",
              "    </tr>\n",
              "    <tr>\n",
              "      <th>3</th>\n",
              "      <td>employee was helping load bolts on roof bolte...</td>\n",
              "      <td>B-person/employee O O O O O O O O O O O O O O...</td>\n",
              "    </tr>\n",
              "    <tr>\n",
              "      <th>4</th>\n",
              "      <td>employee stepped into hot feed and fell while...</td>\n",
              "      <td>B-person/employee O O O O O O O O O O O O O</td>\n",
              "    </tr>\n",
              "  </tbody>\n",
              "</table>\n",
              "</div>"
            ],
            "text/plain": [
              "                                     source_language                                    target_language\n",
              "0  he was pulling a 54 inch v wiper and felt pain...                     O O O O O O O O O O O O O O O \n",
              "1   breathing difficulties . employee provided fi...           O O O B-person/employee O O O O O O O O \n",
              "2   while palletizing flat rock ( landscape stone...   O O O O O O O O B-person/injured_person I-per...\n",
              "3   employee was helping load bolts on roof bolte...   B-person/employee O O O O O O O O O O O O O O...\n",
              "4   employee stepped into hot feed and fell while...       B-person/employee O O O O O O O O O O O O O "
            ]
          },
          "metadata": {},
          "execution_count": 9
        },
        {
          "output_type": "stream",
          "name": "stdout",
          "text": [
            "time: 23.6 ms (started: 2021-10-26 09:45:40 +00:00)\n"
          ]
        }
      ]
    },
    {
      "cell_type": "code",
      "metadata": {
        "id": "gXEz_Od_m8zC",
        "colab": {
          "base_uri": "https://localhost:8080/"
        },
        "outputId": "bf7aed3d-e226-4608-bf06-5a7fa73a3fc3"
      },
      "source": [
        "df_language.shape"
      ],
      "execution_count": null,
      "outputs": [
        {
          "output_type": "execute_result",
          "data": {
            "text/plain": [
              "(10001, 2)"
            ]
          },
          "metadata": {},
          "execution_count": 10
        },
        {
          "output_type": "stream",
          "name": "stdout",
          "text": [
            "time: 4.95 ms (started: 2021-10-26 09:45:40 +00:00)\n"
          ]
        }
      ]
    },
    {
      "cell_type": "markdown",
      "metadata": {
        "id": "FyV-1CR_QBmI"
      },
      "source": [
        "## 2 Split the training/testing/validation dataset\n",
        "1. In this section, we prepare the training, testing and validation dataset on a 70%,15%,15% proportion.\n",
        "2. There are 7001 instances in training set,1500 in testing set and 1500 in validation set.\n",
        "3. Then we assign 'train','test','val' to each row and write the split dataset back to file."
      ]
    },
    {
      "cell_type": "code",
      "metadata": {
        "id": "2Fe9CSzd5Koo",
        "colab": {
          "base_uri": "https://localhost:8080/"
        },
        "outputId": "618e9a83-a27c-47a3-ccb7-63c96930245c"
      },
      "source": [
        "args = Namespace(\n",
        "    window_size=5,\n",
        "    train_proportion=0.7,\n",
        "    val_proportion=0.15,\n",
        "    test_proportion=0.15,\n",
        "    output_munged_csv=\"../NLP/proj2_with_splits_task3.csv\",\n",
        "    seed=1337\n",
        ")"
      ],
      "execution_count": null,
      "outputs": [
        {
          "output_type": "stream",
          "name": "stdout",
          "text": [
            "time: 6 ms (started: 2021-10-26 09:45:40 +00:00)\n"
          ]
        }
      ]
    },
    {
      "cell_type": "code",
      "metadata": {
        "id": "3He4zUzl7xJG",
        "colab": {
          "base_uri": "https://localhost:8080/"
        },
        "outputId": "70648c95-cdb2-443d-bd30-7fc8774b7cd3"
      },
      "source": [
        "# Create split data\n",
        "n = len(df_language)\n",
        "\n",
        "def get_split(row_num):\n",
        "    if row_num <= n*args.train_proportion:\n",
        "        return 'train'\n",
        "    elif (row_num > n*args.train_proportion) and (row_num <= n*args.train_proportion + n*args.val_proportion):\n",
        "        return 'val'\n",
        "    else:\n",
        "        return 'test'"
      ],
      "execution_count": null,
      "outputs": [
        {
          "output_type": "stream",
          "name": "stdout",
          "text": [
            "time: 5.34 ms (started: 2021-10-26 09:45:40 +00:00)\n"
          ]
        }
      ]
    },
    {
      "cell_type": "code",
      "metadata": {
        "id": "05nm1VTc7xDu",
        "colab": {
          "base_uri": "https://localhost:8080/"
        },
        "outputId": "1473b2e4-0d2f-421f-9a87-c02c9da5de91"
      },
      "source": [
        "df_language['split']= df_language.apply(lambda row: get_split(row.name), axis=1)"
      ],
      "execution_count": null,
      "outputs": [
        {
          "output_type": "stream",
          "name": "stdout",
          "text": [
            "time: 52.4 ms (started: 2021-10-26 09:45:40 +00:00)\n"
          ]
        }
      ]
    },
    {
      "cell_type": "markdown",
      "metadata": {
        "id": "Rzky4tCMsVKf"
      },
      "source": [
        "The dataset looks like below after the data preprocessing and train/test/validaion splitting."
      ]
    },
    {
      "cell_type": "code",
      "metadata": {
        "id": "gEpPiIYY8Zn1",
        "colab": {
          "base_uri": "https://localhost:8080/",
          "height": 220
        },
        "outputId": "f9f567b6-c328-4157-9911-8da900beff1a"
      },
      "source": [
        "df_language.head()"
      ],
      "execution_count": null,
      "outputs": [
        {
          "output_type": "execute_result",
          "data": {
            "text/html": [
              "<div>\n",
              "<style scoped>\n",
              "    .dataframe tbody tr th:only-of-type {\n",
              "        vertical-align: middle;\n",
              "    }\n",
              "\n",
              "    .dataframe tbody tr th {\n",
              "        vertical-align: top;\n",
              "    }\n",
              "\n",
              "    .dataframe thead th {\n",
              "        text-align: right;\n",
              "    }\n",
              "</style>\n",
              "<table border=\"1\" class=\"dataframe\">\n",
              "  <thead>\n",
              "    <tr style=\"text-align: right;\">\n",
              "      <th></th>\n",
              "      <th>source_language</th>\n",
              "      <th>target_language</th>\n",
              "      <th>split</th>\n",
              "    </tr>\n",
              "  </thead>\n",
              "  <tbody>\n",
              "    <tr>\n",
              "      <th>0</th>\n",
              "      <td>he was pulling a 54 inch v wiper and felt pain...</td>\n",
              "      <td>O O O O O O O O O O O O O O O</td>\n",
              "      <td>train</td>\n",
              "    </tr>\n",
              "    <tr>\n",
              "      <th>1</th>\n",
              "      <td>breathing difficulties . employee provided fi...</td>\n",
              "      <td>O O O B-person/employee O O O O O O O O</td>\n",
              "      <td>train</td>\n",
              "    </tr>\n",
              "    <tr>\n",
              "      <th>2</th>\n",
              "      <td>while palletizing flat rock ( landscape stone...</td>\n",
              "      <td>O O O O O O O O B-person/injured_person I-per...</td>\n",
              "      <td>train</td>\n",
              "    </tr>\n",
              "    <tr>\n",
              "      <th>3</th>\n",
              "      <td>employee was helping load bolts on roof bolte...</td>\n",
              "      <td>B-person/employee O O O O O O O O O O O O O O...</td>\n",
              "      <td>train</td>\n",
              "    </tr>\n",
              "    <tr>\n",
              "      <th>4</th>\n",
              "      <td>employee stepped into hot feed and fell while...</td>\n",
              "      <td>B-person/employee O O O O O O O O O O O O O</td>\n",
              "      <td>train</td>\n",
              "    </tr>\n",
              "  </tbody>\n",
              "</table>\n",
              "</div>"
            ],
            "text/plain": [
              "                                     source_language  ...  split\n",
              "0  he was pulling a 54 inch v wiper and felt pain...  ...  train\n",
              "1   breathing difficulties . employee provided fi...  ...  train\n",
              "2   while palletizing flat rock ( landscape stone...  ...  train\n",
              "3   employee was helping load bolts on roof bolte...  ...  train\n",
              "4   employee stepped into hot feed and fell while...  ...  train\n",
              "\n",
              "[5 rows x 3 columns]"
            ]
          },
          "metadata": {},
          "execution_count": 14
        },
        {
          "output_type": "stream",
          "name": "stdout",
          "text": [
            "time: 24.9 ms (started: 2021-10-26 09:45:40 +00:00)\n"
          ]
        }
      ]
    },
    {
      "cell_type": "code",
      "metadata": {
        "id": "So91dZZd8dUv",
        "colab": {
          "base_uri": "https://localhost:8080/"
        },
        "outputId": "874100b8-a3b8-4478-c90f-b68732a4d8d3"
      },
      "source": [
        "# look at the number of instances for training, testing and validation set\n",
        "df_language.split.value_counts()"
      ],
      "execution_count": null,
      "outputs": [
        {
          "output_type": "execute_result",
          "data": {
            "text/plain": [
              "train    7001\n",
              "test     1500\n",
              "val      1500\n",
              "Name: split, dtype: int64"
            ]
          },
          "metadata": {},
          "execution_count": 15
        },
        {
          "output_type": "stream",
          "name": "stdout",
          "text": [
            "time: 7.97 ms (started: 2021-10-26 09:45:40 +00:00)\n"
          ]
        }
      ]
    },
    {
      "cell_type": "markdown",
      "metadata": {
        "id": "HlTAEOWst1Kj"
      },
      "source": [
        "Write the dataset back to csv file"
      ]
    },
    {
      "cell_type": "code",
      "metadata": {
        "id": "3vQyS13r5Kor",
        "colab": {
          "base_uri": "https://localhost:8080/"
        },
        "outputId": "797ab835-d4bb-4091-ae39-4392eed3ae2f"
      },
      "source": [
        "# Write munged data to CSV\n",
        "df_language.to_csv(args.output_munged_csv, index=False)"
      ],
      "execution_count": null,
      "outputs": [
        {
          "output_type": "stream",
          "name": "stdout",
          "text": [
            "time: 325 ms (started: 2021-10-26 09:45:40 +00:00)\n"
          ]
        }
      ]
    },
    {
      "cell_type": "markdown",
      "metadata": {
        "id": "95odSv1gNzGY"
      },
      "source": [
        "## 3 Sequence to Sequence Model\n"
      ]
    },
    {
      "cell_type": "markdown",
      "metadata": {
        "id": "LTUzfZ8zcLR3"
      },
      "source": [
        "### 3.1 Vocabulary, Vectorizer, DataLoader"
      ]
    },
    {
      "cell_type": "markdown",
      "metadata": {
        "id": "HrmVA25whhrO"
      },
      "source": [
        "#### Vocabulary"
      ]
    },
    {
      "cell_type": "code",
      "metadata": {
        "id": "lkp_MpQ_cKt5",
        "colab": {
          "base_uri": "https://localhost:8080/"
        },
        "outputId": "c7a62093-00a8-4077-d946-3a5491c3a350"
      },
      "source": [
        "class Vocabulary(object):\n",
        "    \"\"\"Class to process text and extract vocabulary for mapping\"\"\"\n",
        "\n",
        "    def __init__(self, token_to_idx=None):\n",
        "        \"\"\"\n",
        "        Args:\n",
        "            token_to_idx (dict): a pre-existing map of tokens to indices\n",
        "        \"\"\"\n",
        "\n",
        "        if token_to_idx is None:\n",
        "            token_to_idx = {}\n",
        "        self._token_to_idx = token_to_idx\n",
        "\n",
        "        self._idx_to_token = {idx: token \n",
        "                              for token, idx in self._token_to_idx.items()}\n",
        "        \n",
        "    def to_serializable(self):\n",
        "        \"\"\" returns a dictionary that can be serialized \"\"\"\n",
        "        return {'token_to_idx': self._token_to_idx}\n",
        "\n",
        "    @classmethod\n",
        "    def from_serializable(cls, contents):\n",
        "        \"\"\" instantiates the Vocabulary from a serialized dictionary \"\"\"\n",
        "        return cls(**contents)\n",
        "\n",
        "    def add_token(self, token):\n",
        "        \"\"\"Update mapping dicts based on the token.\n",
        "\n",
        "        Args:\n",
        "            token (str): the item to add into the Vocabulary\n",
        "        Returns:\n",
        "            index (int): the integer corresponding to the token\n",
        "        \"\"\"\n",
        "        if token in self._token_to_idx:\n",
        "            index = self._token_to_idx[token]\n",
        "        else:\n",
        "            index = len(self._token_to_idx)\n",
        "            self._token_to_idx[token] = index\n",
        "            self._idx_to_token[index] = token\n",
        "        return index\n",
        "            \n",
        "    def add_many(self, tokens):\n",
        "        \"\"\"Add a list of tokens into the Vocabulary\n",
        "        \n",
        "        Args:\n",
        "            tokens (list): a list of string tokens\n",
        "        Returns:\n",
        "            indices (list): a list of indices corresponding to the tokens\n",
        "        \"\"\"\n",
        "        return [self.add_token(token) for token in tokens]\n",
        "\n",
        "    def lookup_token(self, token):\n",
        "        \"\"\"Retrieve the index associated with the token \n",
        "        \n",
        "        Args:\n",
        "            token (str): the token to look up \n",
        "        Returns:\n",
        "            index (int): the index corresponding to the token\n",
        "        \"\"\"\n",
        "        return self._token_to_idx[token]\n",
        "\n",
        "    def lookup_index(self, index):\n",
        "        \"\"\"Return the token associated with the index\n",
        "        \n",
        "        Args: \n",
        "            index (int): the index to look up\n",
        "        Returns:\n",
        "            token (str): the token corresponding to the index\n",
        "        Raises:\n",
        "            KeyError: if the index is not in the Vocabulary\n",
        "        \"\"\"\n",
        "        if index not in self._idx_to_token:\n",
        "            raise KeyError(\"the index (%d) is not in the Vocabulary\" % index)\n",
        "        return self._idx_to_token[index]\n",
        "\n",
        "    def __str__(self):\n",
        "        return \"<Vocabulary(size=%d)>\" % len(self)\n",
        "\n",
        "    def __len__(self):\n",
        "        return len(self._token_to_idx)"
      ],
      "execution_count": null,
      "outputs": [
        {
          "output_type": "stream",
          "name": "stdout",
          "text": [
            "time: 41.7 ms (started: 2021-10-26 15:15:52 +00:00)\n"
          ]
        }
      ]
    },
    {
      "cell_type": "markdown",
      "metadata": {
        "id": "ho0YZga7hjhb"
      },
      "source": [
        "#### SequenceVocabulary"
      ]
    },
    {
      "cell_type": "code",
      "metadata": {
        "id": "djBE7Ng1hmcX",
        "colab": {
          "base_uri": "https://localhost:8080/"
        },
        "outputId": "85bc509c-b8ab-4964-de14-67777c9a6db1"
      },
      "source": [
        "class SequenceVocabulary(Vocabulary):\n",
        "    def __init__(self, token_to_idx=None, unk_token=\"<UNK>\",\n",
        "                 mask_token=\"<MASK>\", begin_seq_token=\"<BEGIN>\",\n",
        "                 end_seq_token=\"<END>\"):\n",
        "\n",
        "        super(SequenceVocabulary, self).__init__(token_to_idx)\n",
        "\n",
        "        self._mask_token = mask_token\n",
        "        self._unk_token = unk_token\n",
        "        self._begin_seq_token = begin_seq_token\n",
        "        self._end_seq_token = end_seq_token\n",
        "\n",
        "        self.mask_index = self.add_token(self._mask_token)\n",
        "        self.unk_index = self.add_token(self._unk_token)\n",
        "        self.begin_seq_index = self.add_token(self._begin_seq_token)\n",
        "        self.end_seq_index = self.add_token(self._end_seq_token)\n",
        "\n",
        "    def to_serializable(self):\n",
        "        contents = super(SequenceVocabulary, self).to_serializable()\n",
        "        contents.update({'unk_token': self._unk_token,\n",
        "                         'mask_token': self._mask_token,\n",
        "                         'begin_seq_token': self._begin_seq_token,\n",
        "                         'end_seq_token': self._end_seq_token})\n",
        "        return contents\n",
        "\n",
        "    def lookup_token(self, token):\n",
        "        \"\"\"Retrieve the index associated with the token \n",
        "          or the UNK index if token isn't present.\n",
        "        \n",
        "        Args:\n",
        "            token (str): the token to look up \n",
        "        Returns:\n",
        "            index (int): the index corresponding to the token\n",
        "        Notes:\n",
        "            `unk_index` needs to be >=0 (having been added into the Vocabulary) \n",
        "              for the UNK functionality \n",
        "        \"\"\"\n",
        "        if self.unk_index >= 0:\n",
        "            return self._token_to_idx.get(token, self.unk_index)\n",
        "        else:\n",
        "            return self._token_to_idx[token]"
      ],
      "execution_count": null,
      "outputs": [
        {
          "output_type": "stream",
          "name": "stdout",
          "text": [
            "time: 19.4 ms (started: 2021-10-26 15:15:55 +00:00)\n"
          ]
        }
      ]
    },
    {
      "cell_type": "markdown",
      "metadata": {
        "id": "tvqQjOc2hnNL"
      },
      "source": [
        "#### Vectorizer"
      ]
    },
    {
      "cell_type": "code",
      "metadata": {
        "id": "UlX-fqQihpfI",
        "colab": {
          "base_uri": "https://localhost:8080/"
        },
        "outputId": "7e5de1f5-b2a4-479c-9336-6218fa615b50"
      },
      "source": [
        "class AccidentVectorizer(object):\n",
        "    \"\"\" The Vectorizer which coordinates the Vocabularies and puts them to use\"\"\"        \n",
        "    def __init__(self, source_vocab, target_vocab, max_source_length, max_target_length):\n",
        "        \"\"\"\n",
        "        Args:\n",
        "            source_vocab (SequenceVocabulary): maps source words to integers\n",
        "            target_vocab (SequenceVocabulary): maps target words to integers\n",
        "            max_source_length (int): the longest sequence in the source dataset\n",
        "            max_target_length (int): the longest sequence in the target dataset\n",
        "        \"\"\"\n",
        "        self.source_vocab = source_vocab\n",
        "        self.target_vocab = target_vocab\n",
        "        \n",
        "        self.max_source_length = max_source_length\n",
        "        self.max_target_length = max_target_length\n",
        "        \n",
        "\n",
        "    def _vectorize(self, indices, vector_length=-1, mask_index=0):\n",
        "        \"\"\"Vectorize the provided indices\n",
        "        \n",
        "        Args:\n",
        "            indices (list): a list of integers that represent a sequence\n",
        "            vector_length (int): an argument for forcing the length of index vector\n",
        "            mask_index (int): the mask_index to use; almost always 0\n",
        "        \"\"\"\n",
        "        if vector_length < 0:\n",
        "            vector_length = len(indices)\n",
        "        \n",
        "        vector = np.zeros(vector_length+1, dtype=np.int64)\n",
        "        vector[:len(indices)] = indices\n",
        "        vector[len(indices):] = mask_index\n",
        "\n",
        "        return vector\n",
        "    \n",
        "    def _get_source_indices(self, text):\n",
        "        \"\"\"Return the vectorized source text\n",
        "        \n",
        "        Args:\n",
        "            text (str): the source text; tokens should be separated by spaces\n",
        "        Returns:\n",
        "            indices (list): list of integers representing the text\n",
        "        \"\"\"\n",
        "        indices = [self.source_vocab.begin_seq_index]\n",
        "        indices.extend(self.source_vocab.lookup_token(token) for token in text.split(\" \"))\n",
        "        indices.append(self.source_vocab.end_seq_index)\n",
        "        return indices\n",
        "    \n",
        "    def _get_target_indices(self, text):\n",
        "        \"\"\"Return the vectorized source text\n",
        "        \n",
        "        Args:\n",
        "            text (str): the source text; tokens should be separated by spaces\n",
        "        Returns:\n",
        "            a tuple: (x_indices, y_indices)\n",
        "                x_indices (list): list of integers representing the observations in target decoder \n",
        "                y_indices (list): list of integers representing predictions in target decoder\n",
        "        \"\"\"\n",
        "        indices = [self.target_vocab.lookup_token(token) for token in text.split(\" \")]\n",
        "        x_indices = [self.target_vocab.begin_seq_index] + indices\n",
        "        y_indices = indices + [self.target_vocab.end_seq_index]\n",
        "        return x_indices, y_indices\n",
        "        \n",
        "    def vectorize(self, source_text, target_text, use_dataset_max_lengths=True):\n",
        "        \"\"\"Return the vectorized source and target text\n",
        "        \n",
        "        The vetorized source text is just the a single vector.\n",
        "        The vectorized target text is split into two vectors in a similar style to \n",
        "            the surname modeling in Chapter 7.\n",
        "        At each timestep, the first vector is the observation and the second vector is the target. \n",
        "        \n",
        "        \n",
        "        Args:\n",
        "            source_text (str): text from the source language\n",
        "            target_text (str): text from the target language\n",
        "            use_dataset_max_lengths (bool): whether to use the global max vector lengths\n",
        "        Returns:\n",
        "            The vectorized data point as a dictionary with the keys: \n",
        "                source_vector, target_x_vector, target_y_vector, source_length\n",
        "        \"\"\"\n",
        "        source_vector_length = -1\n",
        "        target_vector_length = -1\n",
        "        \n",
        "        if use_dataset_max_lengths:\n",
        "            source_vector_length = self.max_source_length + 2\n",
        "            target_vector_length = self.max_target_length + 1\n",
        "            \n",
        "        source_indices = self._get_source_indices(source_text)\n",
        "        source_vector = self._vectorize(source_indices, \n",
        "                                        vector_length=source_vector_length, \n",
        "                                        mask_index=self.source_vocab.mask_index)\n",
        "        \n",
        "        target_x_indices, target_y_indices = self._get_target_indices(target_text)\n",
        "        target_x_vector = self._vectorize(target_x_indices,\n",
        "                                        vector_length=target_vector_length,\n",
        "                                        mask_index=self.target_vocab.mask_index)\n",
        "        target_y_vector = self._vectorize(target_y_indices,\n",
        "                                        vector_length=target_vector_length,\n",
        "                                        mask_index=self.target_vocab.mask_index)\n",
        "        return {\"source_vector\": source_vector, \n",
        "                \"target_x_vector\": target_x_vector, \n",
        "                \"target_y_vector\": target_y_vector, \n",
        "                \"source_length\": len(source_indices)}\n",
        "        \n",
        "    @classmethod\n",
        "    def from_dataframe(cls, bitext_df):\n",
        "        \"\"\"Instantiate the vectorizer from the dataset dataframe\n",
        "        \n",
        "        Args:\n",
        "            bitext_df (pandas.DataFrame): the parallel text dataset\n",
        "        Returns:\n",
        "            an instance of the AccidentVectorizer\n",
        "        \"\"\"\n",
        "        source_vocab = SequenceVocabulary()\n",
        "        target_vocab = SequenceVocabulary()\n",
        "        \n",
        "        max_source_length = 0\n",
        "        max_target_length = 0\n",
        "\n",
        "        for _, row in bitext_df.iterrows():\n",
        "            source_tokens = row[\"source_language\"].split(\" \")\n",
        "            if len(source_tokens) > max_source_length:\n",
        "                max_source_length = len(source_tokens)\n",
        "            for token in source_tokens:\n",
        "                source_vocab.add_token(token)\n",
        "            \n",
        "            target_tokens = row[\"target_language\"].split(\" \")\n",
        "            if len(target_tokens) > max_target_length:\n",
        "                max_target_length = len(target_tokens)\n",
        "            for token in target_tokens:\n",
        "                target_vocab.add_token(token)\n",
        "            \n",
        "        return cls(source_vocab, target_vocab, max_source_length, max_target_length)\n",
        "\n",
        "    @classmethod\n",
        "    def from_serializable(cls, contents):\n",
        "        source_vocab = SequenceVocabulary.from_serializable(contents[\"source_vocab\"])\n",
        "        target_vocab = SequenceVocabulary.from_serializable(contents[\"target_vocab\"])\n",
        "        \n",
        "        return cls(source_vocab=source_vocab, \n",
        "                   target_vocab=target_vocab, \n",
        "                   max_source_length=contents[\"max_source_length\"], \n",
        "                   max_target_length=contents[\"max_target_length\"])\n",
        "\n",
        "    def to_serializable(self):\n",
        "        return {\"source_vocab\": self.source_vocab.to_serializable(), \n",
        "                \"target_vocab\": self.target_vocab.to_serializable(), \n",
        "                \"max_source_length\": self.max_source_length,\n",
        "                \"max_target_length\": self.max_target_length}"
      ],
      "execution_count": null,
      "outputs": [
        {
          "output_type": "stream",
          "name": "stdout",
          "text": [
            "time: 110 ms (started: 2021-10-26 15:15:55 +00:00)\n"
          ]
        }
      ]
    },
    {
      "cell_type": "markdown",
      "metadata": {
        "id": "_3kAyCrEhqLy"
      },
      "source": [
        "#### Dataset"
      ]
    },
    {
      "cell_type": "code",
      "metadata": {
        "id": "KIGVmQK2ht2o",
        "colab": {
          "base_uri": "https://localhost:8080/"
        },
        "outputId": "d75dd1a2-efe6-4ef8-90cc-36f9bc1ae6cb"
      },
      "source": [
        "class AccidentDataset(Dataset):\n",
        "    def __init__(self, text_df, vectorizer):\n",
        "        \"\"\"\n",
        "        Args:\n",
        "            Accident_df (pandas.DataFrame): the dataset\n",
        "            vectorizer (SurnameVectorizer): vectorizer instatiated from dataset\n",
        "        \"\"\"\n",
        "        self.text_df = text_df\n",
        "        self._vectorizer = vectorizer\n",
        "\n",
        "        self.train_df = self.text_df[self.text_df.split=='train']\n",
        "        self.train_size = len(self.train_df)\n",
        "\n",
        "        self.val_df = self.text_df[self.text_df.split=='val']\n",
        "        self.validation_size = len(self.val_df)\n",
        "\n",
        "        self.test_df = self.text_df[self.text_df.split=='test']\n",
        "        self.test_size = len(self.test_df)\n",
        "\n",
        "        self._lookup_dict = {'train': (self.train_df, self.train_size),\n",
        "                             'val': (self.val_df, self.validation_size),\n",
        "                             'test': (self.test_df, self.test_size)}\n",
        "\n",
        "        self.set_split('train')\n",
        "\n",
        "    @classmethod\n",
        "    def load_dataset_and_make_vectorizer(cls, dataset_csv):\n",
        "        \"\"\"Load dataset and make a new vectorizer from scratch\n",
        "        \n",
        "        Args:\n",
        "            surname_csv (str): location of the dataset\n",
        "        Returns:\n",
        "            an instance of SurnameDataset\n",
        "        \"\"\"\n",
        "        text_df = pd.read_csv(dataset_csv)\n",
        "        train_subset = text_df[text_df.split=='train']\n",
        "        return cls(text_df, AccidentVectorizer.from_dataframe(train_subset))\n",
        "\n",
        "    @classmethod\n",
        "    def load_dataset_and_load_vectorizer(cls, dataset_csv, vectorizer_filepath):\n",
        "        \"\"\"Load dataset and the corresponding vectorizer. \n",
        "        Used in the case in the vectorizer has been cached for re-use\n",
        "        \n",
        "        Args:\n",
        "            surname_csv (str): location of the dataset\n",
        "            vectorizer_filepath (str): location of the saved vectorizer\n",
        "        Returns:\n",
        "            an instance of SurnameDataset\n",
        "        \"\"\"\n",
        "        text_df = pd.read_csv(dataset_csv)\n",
        "        vectorizer = cls.load_vectorizer_only(vectorizer_filepath)\n",
        "        return cls(text_df, vectorizer)\n",
        "\n",
        "    @staticmethod\n",
        "    def load_vectorizer_only(vectorizer_filepath):\n",
        "        \"\"\"a static method for loading the vectorizer from file\n",
        "        \n",
        "        Args:\n",
        "            vectorizer_filepath (str): the location of the serialized vectorizer\n",
        "        Returns:\n",
        "            an instance of AccidentVectorizer\n",
        "        \"\"\"\n",
        "        with open(vectorizer_filepath) as fp:\n",
        "            return AccidentVectorizer.from_serializable(json.load(fp))\n",
        "\n",
        "    def save_vectorizer(self, vectorizer_filepath):\n",
        "        \"\"\"saves the vectorizer to disk using json\n",
        "        \n",
        "        Args:\n",
        "            vectorizer_filepath (str): the location to save the vectorizer\n",
        "        \"\"\"\n",
        "        with open(vectorizer_filepath, \"w\") as fp:\n",
        "            json.dump(self._vectorizer.to_serializable(), fp)\n",
        "\n",
        "    def get_vectorizer(self):\n",
        "        \"\"\" returns the vectorizer \"\"\"\n",
        "        return self._vectorizer\n",
        "\n",
        "    def set_split(self, split=\"train\"):\n",
        "        self._target_split = split\n",
        "        self._target_df, self._target_size = self._lookup_dict[split]\n",
        "\n",
        "    def __len__(self):\n",
        "        return self._target_size\n",
        "\n",
        "    def __getitem__(self, index):\n",
        "        \"\"\"the primary entry point method for PyTorch datasets\n",
        "        \n",
        "        Args:\n",
        "            index (int): the index to the data point \n",
        "        Returns:\n",
        "            a dictionary holding the data point: (x_data, y_target, class_index)\n",
        "        \"\"\"\n",
        "        row = self._target_df.iloc[index]\n",
        "\n",
        "        vector_dict = self._vectorizer.vectorize(row.source_language, row.target_language)\n",
        "\n",
        "        return {\"x_source\": vector_dict[\"source_vector\"], \n",
        "                \"x_target\": vector_dict[\"target_x_vector\"],\n",
        "                \"y_target\": vector_dict[\"target_y_vector\"], \n",
        "                \"x_source_length\": vector_dict[\"source_length\"]}\n",
        "        \n",
        "    def get_num_batches(self, batch_size):\n",
        "        \"\"\"Given a batch size, return the number of batches in the dataset\n",
        "        \n",
        "        Args:\n",
        "            batch_size (int)\n",
        "        Returns:\n",
        "            number of batches in the dataset\n",
        "        \"\"\"\n",
        "        return len(self) // batch_size\n",
        "\n",
        "def generate_batches(dataset, batch_size, shuffle=True, \n",
        "                            drop_last=True, device=\"cpu\"):\n",
        "    \"\"\"A generator function which wraps the PyTorch DataLoader.  The Accident Version \"\"\"\n",
        "    dataloader = DataLoader(dataset=dataset, batch_size=batch_size,\n",
        "                            shuffle=shuffle, drop_last=drop_last)\n",
        "\n",
        "    for data_dict in dataloader:\n",
        "        lengths = data_dict['x_source_length'].numpy()\n",
        "        sorted_length_indices = lengths.argsort()[::-1].tolist()\n",
        "        \n",
        "        out_data_dict = {}\n",
        "        for name, tensor in data_dict.items():\n",
        "            out_data_dict[name] = data_dict[name][sorted_length_indices].to(device)\n",
        "        yield out_data_dict"
      ],
      "execution_count": null,
      "outputs": [
        {
          "output_type": "stream",
          "name": "stdout",
          "text": [
            "time: 87 ms (started: 2021-10-26 15:15:56 +00:00)\n"
          ]
        }
      ]
    },
    {
      "cell_type": "markdown",
      "metadata": {
        "id": "XjLR7dQfhX9q"
      },
      "source": [
        "### 3.2 Seq to Seq Model\n",
        "Here we use `Encoder` + `Decoder` + `Accident` + `Bidirectional_GRU` with one-hot encoding embedding model for training."
      ]
    },
    {
      "cell_type": "markdown",
      "metadata": {
        "id": "97NmMdt-xrDg"
      },
      "source": [
        "#### 3.2.1 Encoder\n",
        "Use Encoder to generate a representation of source sequence."
      ]
    },
    {
      "cell_type": "code",
      "metadata": {
        "id": "OHOTMkkbxvSw",
        "colab": {
          "base_uri": "https://localhost:8080/"
        },
        "outputId": "b132503a-7e60-4098-a934-035e7c50e4db"
      },
      "source": [
        "class Encoder(nn.Module):\n",
        "    def __init__(self, num_embeddings, embedding_size, rnn_hidden_size):\n",
        "        \"\"\"\n",
        "        Args:\n",
        "            num_embeddings (int): number of embeddings is the size of source vocabulary\n",
        "            embedding_size (int): size of the embedding vectors\n",
        "            rnn_hidden_size (int): size of the RNN hidden state vectors \n",
        "        \"\"\"\n",
        "        super(Encoder, self).__init__()\n",
        "    \n",
        "        self.source_embedding = nn.Embedding(num_embeddings, embedding_size, padding_idx=0)\n",
        "        self.birnn = nn.GRU(embedding_size, rnn_hidden_size, bidirectional=True, batch_first=True)\n",
        "    \n",
        "    def forward(self, x_source, x_lengths):\n",
        "        \"\"\"The forward pass of the model\n",
        "        \n",
        "        Args:\n",
        "            x_source (torch.Tensor): the input data tensor.\n",
        "                x_source.shape is (batch, seq_size)\n",
        "            x_lengths (torch.Tensor): a vector of lengths for each item in the batch\n",
        "        Returns:\n",
        "            a tuple: x_unpacked (torch.Tensor), x_birnn_h (torch.Tensor)\n",
        "                x_unpacked.shape = (batch, seq_size, rnn_hidden_size * 2)\n",
        "                x_birnn_h.shape = (batch, rnn_hidden_size * 2)\n",
        "        \"\"\"\n",
        "        x_embedded = self.source_embedding(x_source)\n",
        "        # create PackedSequence; x_packed.data.shape=(number_items, embeddign_size)\n",
        "        x_packed = pack_padded_sequence(x_embedded, x_lengths.detach().cpu().numpy(), \n",
        "                                        batch_first=True)\n",
        "        \n",
        "        # x_birnn_h.shape = (num_rnn, batch_size, feature_size)\n",
        "        x_birnn_out, x_birnn_h  = self.birnn(x_packed)\n",
        "        # permute to (batch_size, num_rnn, feature_size)\n",
        "        x_birnn_h = x_birnn_h.permute(1, 0, 2)\n",
        "        \n",
        "        # flatten features; reshape to (batch_size, num_rnn * feature_size)\n",
        "        #  (recall: -1 takes the remaining positions, \n",
        "        #           flattening the two RNN hidden vectors into 1)\n",
        "        x_birnn_h = x_birnn_h.contiguous().view(x_birnn_h.size(0), -1)\n",
        "        \n",
        "        x_unpacked, _ = pad_packed_sequence(x_birnn_out, batch_first=True)\n",
        "        \n",
        "        return x_unpacked, x_birnn_h"
      ],
      "execution_count": null,
      "outputs": [
        {
          "output_type": "stream",
          "name": "stdout",
          "text": [
            "time: 20.3 ms (started: 2021-10-26 15:15:57 +00:00)\n"
          ]
        }
      ]
    },
    {
      "cell_type": "markdown",
      "metadata": {
        "id": "H6Nsd-bG5Yl0"
      },
      "source": [
        "#### 3.2.2 Attention\n",
        "Attention can make model to focus on different elements with different word order in the source sequence."
      ]
    },
    {
      "cell_type": "code",
      "metadata": {
        "id": "ITZRvj4E5dK0",
        "colab": {
          "base_uri": "https://localhost:8080/"
        },
        "outputId": "a11296ab-549b-44ed-d357-72e3c7829b81"
      },
      "source": [
        "def verbose_attention(encoder_state_vectors, query_vector):\n",
        "    \"\"\"A descriptive version of the neural attention mechanism \n",
        "    \n",
        "    Args:\n",
        "        encoder_state_vectors (torch.Tensor): 3dim tensor from bi-GRU in encoder\n",
        "        query_vector (torch.Tensor): hidden state in decoder GRU\n",
        "    Returns:\n",
        "        \n",
        "    \"\"\"\n",
        "    batch_size, num_vectors, vector_size = encoder_state_vectors.size()\n",
        "    vector_scores = torch.sum(encoder_state_vectors * query_vector.view(batch_size, 1, vector_size), \n",
        "                              dim=2)\n",
        "    vector_probabilities = F.softmax(vector_scores, dim=1)\n",
        "    weighted_vectors = encoder_state_vectors * vector_probabilities.view(batch_size, num_vectors, 1)\n",
        "    context_vectors = torch.sum(weighted_vectors, dim=1)\n",
        "    return context_vectors, vector_probabilities, vector_scores\n",
        "\n",
        "def terse_attention(encoder_state_vectors, query_vector):\n",
        "    \"\"\"A shorter and more optimized version of the neural attention mechanism\n",
        "    \n",
        "    Args:\n",
        "        encoder_state_vectors (torch.Tensor): 3dim tensor from bi-GRU in encoder\n",
        "        query_vector (torch.Tensor): hidden state\n",
        "    \"\"\"\n",
        "    vector_scores = torch.matmul(encoder_state_vectors, query_vector.unsqueeze(dim=2)).squeeze()\n",
        "    vector_probabilities = F.softmax(vector_scores, dim=-1)\n",
        "    context_vectors = torch.matmul(encoder_state_vectors.transpose(-2, -1), \n",
        "                                   vector_probabilities.unsqueeze(dim=2)).squeeze()\n",
        "    return context_vectors, vector_probabilities"
      ],
      "execution_count": null,
      "outputs": [
        {
          "output_type": "stream",
          "name": "stdout",
          "text": [
            "time: 12.3 ms (started: 2021-10-26 15:16:00 +00:00)\n"
          ]
        }
      ]
    },
    {
      "cell_type": "markdown",
      "metadata": {
        "id": "3IMuU8zOxtQU"
      },
      "source": [
        "#### 3.2.3 Decoder\n",
        "The goal of Decoder is to generate a target sequence representation."
      ]
    },
    {
      "cell_type": "code",
      "metadata": {
        "id": "sk-w2GApx2rH",
        "colab": {
          "base_uri": "https://localhost:8080/"
        },
        "outputId": "dad24fc8-d871-4514-9825-9e38a5ca4234"
      },
      "source": [
        "class Decoder(nn.Module):\n",
        "    def __init__(self, num_embeddings, embedding_size, rnn_hidden_size, bos_index):\n",
        "        \"\"\"\n",
        "        Args:\n",
        "            num_embeddings (int): number of embeddings is also the number of \n",
        "                unique words in target vocabulary \n",
        "            embedding_size (int): the embedding vector size\n",
        "            rnn_hidden_size (int): size of the hidden rnn state\n",
        "            bos_index(int): begin-of-sequence index\n",
        "        \"\"\"\n",
        "        super(Decoder, self).__init__()\n",
        "        self._rnn_hidden_size = rnn_hidden_size\n",
        "        self.target_embedding = nn.Embedding(num_embeddings=num_embeddings, \n",
        "                                             embedding_dim=embedding_size, \n",
        "                                             padding_idx=0)\n",
        "        self.gru_cell = nn.GRUCell(embedding_size + rnn_hidden_size, \n",
        "                                   rnn_hidden_size)\n",
        "        self.hidden_map = nn.Linear(rnn_hidden_size, rnn_hidden_size)\n",
        "        self.classifier = nn.Linear(rnn_hidden_size * 2, num_embeddings)\n",
        "        self.bos_index = bos_index\n",
        "        self._sampling_temperature = 3\n",
        "    \n",
        "    def _init_indices(self, batch_size):\n",
        "        \"\"\" return the BEGIN-OF-SEQUENCE index vector \"\"\"\n",
        "        return torch.ones(batch_size, dtype=torch.int64) * self.bos_index\n",
        "    \n",
        "    def _init_context_vectors(self, batch_size):\n",
        "        \"\"\" return a zeros vector for initializing the context \"\"\"\n",
        "        return torch.zeros(batch_size, self._rnn_hidden_size)\n",
        "            \n",
        "    def forward(self, encoder_state, initial_hidden_state, target_sequence, sample_probability=0.0):\n",
        "        \"\"\"The forward pass of the model\n",
        "        \n",
        "        Args:\n",
        "            encoder_state (torch.Tensor): the output of the NMTEncoder\n",
        "            initial_hidden_state (torch.Tensor): The last hidden state in the  NMTEncoder\n",
        "            target_sequence (torch.Tensor): the target text data tensor\n",
        "            sample_probability (float): the schedule sampling parameter\n",
        "                probabilty of using model's predictions at each decoder step\n",
        "        Returns:\n",
        "            output_vectors (torch.Tensor): prediction vectors at each output step\n",
        "        \"\"\"\n",
        "        if target_sequence is None:\n",
        "            sample_probability = 1.0\n",
        "        else:\n",
        "            # We are making an assumption there: The batch is on first\n",
        "            # The input is (Batch, Seq)\n",
        "            # We want to iterate over sequence so we permute it to (S, B)\n",
        "            target_sequence = target_sequence.permute(1, 0)\n",
        "            output_sequence_size = target_sequence.size(0)\n",
        "        \n",
        "        # use the provided encoder hidden state as the initial hidden state\n",
        "        h_t = self.hidden_map(initial_hidden_state)\n",
        "        \n",
        "        batch_size = encoder_state.size(0)\n",
        "        # initialize context vectors to zeros\n",
        "        context_vectors = self._init_context_vectors(batch_size)\n",
        "        # initialize first y_t word as BOS\n",
        "        y_t_index = self._init_indices(batch_size)\n",
        "        \n",
        "        h_t = h_t.to(encoder_state.device)\n",
        "        y_t_index = y_t_index.to(encoder_state.device)\n",
        "        context_vectors = context_vectors.to(encoder_state.device)\n",
        "\n",
        "        output_vectors = []\n",
        "        self._cached_p_attn = []\n",
        "        self._cached_ht = []\n",
        "        self._cached_decoder_state = encoder_state.cpu().detach().numpy()\n",
        "        \n",
        "        for i in range(output_sequence_size):\n",
        "            # Schedule sampling is whe\n",
        "            use_sample = np.random.random() < sample_probability\n",
        "            if not use_sample:\n",
        "                y_t_index = target_sequence[i]\n",
        "                \n",
        "            # Step 1: Embed word and concat with previous context\n",
        "            y_input_vector = self.target_embedding(y_t_index)\n",
        "            rnn_input = torch.cat([y_input_vector, context_vectors], dim=1)\n",
        "            \n",
        "            # Step 2: Make a GRU step, getting a new hidden vector\n",
        "            h_t = self.gru_cell(rnn_input, h_t)\n",
        "            self._cached_ht.append(h_t.cpu().detach().numpy())\n",
        "            \n",
        "            # Step 3: Use the current hidden to attend to the encoder state\n",
        "            context_vectors, p_attn, _ = verbose_attention(encoder_state_vectors=encoder_state, \n",
        "                                                           query_vector=h_t)\n",
        "            \n",
        "            # auxillary: cache the attention probabilities for visualization\n",
        "            self._cached_p_attn.append(p_attn.cpu().detach().numpy())\n",
        "            \n",
        "            # Step 4: Use the current hidden and context vectors to make a prediction to the next word\n",
        "            prediction_vector = torch.cat((context_vectors, h_t), dim=1)\n",
        "            score_for_y_t_index = self.classifier(F.dropout(prediction_vector, 0.3))\n",
        "            \n",
        "            if use_sample:\n",
        "                p_y_t_index = F.softmax(score_for_y_t_index * self._sampling_temperature, dim=1)\n",
        "                # _, y_t_index = torch.max(p_y_t_index, 1)\n",
        "                y_t_index = torch.multinomial(p_y_t_index, 1).squeeze()\n",
        "            \n",
        "            # auxillary: collect the prediction scores\n",
        "            output_vectors.append(score_for_y_t_index)\n",
        "            \n",
        "        output_vectors = torch.stack(output_vectors).permute(1, 0, 2)\n",
        "        \n",
        "        return output_vectors"
      ],
      "execution_count": null,
      "outputs": [
        {
          "output_type": "stream",
          "name": "stdout",
          "text": [
            "time: 93.1 ms (started: 2021-10-26 15:16:01 +00:00)\n"
          ]
        }
      ]
    },
    {
      "cell_type": "markdown",
      "metadata": {
        "id": "RSNneQ89iTyN"
      },
      "source": [
        "#### 3.2.4 Model"
      ]
    },
    {
      "cell_type": "code",
      "metadata": {
        "id": "mNFzoyrBiTZ2",
        "colab": {
          "base_uri": "https://localhost:8080/"
        },
        "outputId": "24903ef9-3616-4d78-e99a-272a1caa7cdd"
      },
      "source": [
        "class AccidentModel(nn.Module):\n",
        "    \"\"\" The Neural US Accident Model \"\"\"\n",
        "    def __init__(self, source_vocab_size, source_embedding_size, \n",
        "                 target_vocab_size, target_embedding_size, encoding_size, \n",
        "                 target_bos_index):\n",
        "        \"\"\"\n",
        "        Args:\n",
        "            source_vocab_size (int): number of unique words in source language\n",
        "            source_embedding_size (int): size of the source embedding vectors\n",
        "            target_vocab_size (int): number of unique words in target language\n",
        "            target_embedding_size (int): size of the target embedding vectors\n",
        "            encoding_size (int): the size of the encoder RNN.  \n",
        "        \"\"\"\n",
        "        super(AccidentModel, self).__init__()\n",
        "        self.encoder = Encoder(num_embeddings=source_vocab_size, \n",
        "                               embedding_size=source_embedding_size,\n",
        "                               rnn_hidden_size=encoding_size)\n",
        "            \n",
        "        decoding_size = encoding_size * 2\n",
        "        self.decoder = Decoder(num_embeddings=target_vocab_size, \n",
        "                                  embedding_size=target_embedding_size, \n",
        "                                  rnn_hidden_size=decoding_size,\n",
        "                                  bos_index=target_bos_index)\n",
        "    \n",
        "    def forward(self, x_source, x_source_lengths, target_sequence, sample_probability=0.0):\n",
        "        \"\"\"The forward pass of the model\n",
        "        \n",
        "        Args:\n",
        "            x_source (torch.Tensor): the source text data tensor. \n",
        "                x_source.shape should be (batch, vectorizer.max_source_length)\n",
        "            x_source_lengths torch.Tensor): the length of the sequences in x_source \n",
        "            target_sequence (torch.Tensor): the target text data tensor\n",
        "            sample_probability (float): the schedule sampling parameter\n",
        "                probabilty of using model's predictions at each decoder step\n",
        "        Returns:\n",
        "            decoded_states (torch.Tensor): prediction vectors at each output step\n",
        "        \"\"\"\n",
        "        encoder_state, final_hidden_states = self.encoder(x_source, x_source_lengths)\n",
        "        decoded_states = self.decoder(encoder_state=encoder_state, \n",
        "                                      initial_hidden_state=final_hidden_states, \n",
        "                                      target_sequence=target_sequence, \n",
        "                                      sample_probability=sample_probability)\n",
        "        return decoded_states"
      ],
      "execution_count": null,
      "outputs": [
        {
          "output_type": "stream",
          "name": "stdout",
          "text": [
            "time: 17.2 ms (started: 2021-10-26 15:16:02 +00:00)\n"
          ]
        }
      ]
    },
    {
      "cell_type": "markdown",
      "metadata": {
        "id": "n8K--OYkiZfY"
      },
      "source": [
        "### 3.3 Training Routine"
      ]
    },
    {
      "cell_type": "markdown",
      "metadata": {
        "id": "Q_dmcrMRidFC"
      },
      "source": [
        "#### 3.3.1 Training function"
      ]
    },
    {
      "cell_type": "code",
      "metadata": {
        "id": "znKGxPYdicmq",
        "colab": {
          "base_uri": "https://localhost:8080/"
        },
        "outputId": "6cbc0354-91fa-499e-ecde-c46cca45cb62"
      },
      "source": [
        "def set_seed_everywhere(seed, cuda):\n",
        "    np.random.seed(seed)\n",
        "    torch.manual_seed(seed)\n",
        "    if cuda:\n",
        "        torch.cuda.manual_seed_all(seed)\n",
        "\n",
        "def handle_dirs(dirpath):\n",
        "    if not os.path.exists(dirpath):\n",
        "        os.makedirs(dirpath)\n",
        "\n",
        "def make_train_state(args):\n",
        "    return {'stop_early': False,\n",
        "            'early_stopping_step': 0,\n",
        "            'early_stopping_best_val': 1e8,\n",
        "            'learning_rate': args.learning_rate,\n",
        "            'epoch_index': 0,\n",
        "            'train_loss': [],\n",
        "            'train_acc': [],\n",
        "            'val_loss': [],\n",
        "            'val_acc': [],\n",
        "            'test_loss': -1,\n",
        "            'test_acc': -1,\n",
        "            'model_filename': args.model_state_file}\n",
        "\n",
        "def update_train_state(args, model, train_state):\n",
        "    \"\"\"Handle the training state updates.\n",
        "    Components:\n",
        "     - Early Stopping: Prevent overfitting.\n",
        "     - Model Checkpoint: Model is saved if the model is better\n",
        "    \n",
        "    :param args: main arguments\n",
        "    :param model: model to train\n",
        "    :param train_state: a dictionary representing the training state values\n",
        "    :returns:\n",
        "        a new train_state\n",
        "    \"\"\"\n",
        "\n",
        "    # Save one model at least\n",
        "    if train_state['epoch_index'] == 0:\n",
        "        torch.save(model.state_dict(), train_state['model_filename'])\n",
        "        train_state['stop_early'] = False\n",
        "\n",
        "    # Save model if performance improved\n",
        "    elif train_state['epoch_index'] >= 1:\n",
        "        loss_tm1, loss_t = train_state['val_loss'][-2:]\n",
        "         \n",
        "        # If loss worsened\n",
        "        if loss_t >= loss_tm1:\n",
        "            # Update step\n",
        "            train_state['early_stopping_step'] += 1\n",
        "        # Loss decreased\n",
        "        else:\n",
        "            # Save the best model\n",
        "            if loss_t < train_state['early_stopping_best_val']:\n",
        "                torch.save(model.state_dict(), train_state['model_filename'])\n",
        "                train_state['early_stopping_best_val'] = loss_t\n",
        "\n",
        "            # Reset early stopping step\n",
        "            train_state['early_stopping_step'] = 0\n",
        "\n",
        "        # Stop early ?\n",
        "        train_state['stop_early'] = \\\n",
        "            train_state['early_stopping_step'] >= args.early_stopping_criteria\n",
        "\n",
        "    return train_state\n",
        "\n",
        "def normalize_sizes(y_pred, y_true):\n",
        "    \"\"\"Normalize tensor sizes\n",
        "    \n",
        "    Args:\n",
        "        y_pred (torch.Tensor): the output of the model\n",
        "            If a 3-dimensional tensor, reshapes to a matrix\n",
        "        y_true (torch.Tensor): the target predictions\n",
        "            If a matrix, reshapes to be a vector\n",
        "    \"\"\"\n",
        "    if len(y_pred.size()) == 3:\n",
        "        y_pred = y_pred.contiguous().view(-1, y_pred.size(2))\n",
        "    if len(y_true.size()) == 2:\n",
        "        y_true = y_true.contiguous().view(-1)\n",
        "    return y_pred, y_true\n",
        "\n",
        "def compute_accuracy(y_pred, y_true, mask_index):\n",
        "    y_pred, y_true = normalize_sizes(y_pred, y_true)\n",
        "\n",
        "    _, y_pred_indices = y_pred.max(dim=1)\n",
        "    \n",
        "    correct_indices = torch.eq(y_pred_indices, y_true).float()\n",
        "    valid_indices = torch.ne(y_true, mask_index).float()\n",
        "    \n",
        "    n_correct = (correct_indices * valid_indices).sum().item()\n",
        "    n_valid = valid_indices.sum().item()\n",
        "\n",
        "    return n_correct / n_valid * 100\n",
        "\n",
        "def sequence_loss(y_pred, y_true, mask_index):\n",
        "    y_pred, y_true = normalize_sizes(y_pred, y_true)\n",
        "    return F.cross_entropy(y_pred, y_true, ignore_index=mask_index)"
      ],
      "execution_count": null,
      "outputs": [
        {
          "output_type": "stream",
          "name": "stdout",
          "text": [
            "time: 67 ms (started: 2021-10-26 15:16:06 +00:00)\n"
          ]
        }
      ]
    },
    {
      "cell_type": "markdown",
      "metadata": {
        "id": "8OPZKukrii7E"
      },
      "source": [
        "#### 3.3.2 Settings"
      ]
    },
    {
      "cell_type": "markdown",
      "metadata": {
        "id": "5bDXGQ-QUc-n"
      },
      "source": [
        "##### Parameters settings"
      ]
    },
    {
      "cell_type": "code",
      "metadata": {
        "id": "9FOhkvT2ilfY",
        "colab": {
          "base_uri": "https://localhost:8080/"
        },
        "outputId": "602f6c22-1cf3-4816-b1c8-1b9b76bc3e15"
      },
      "source": [
        "args = Namespace(dataset_csv=\"../NLP/proj2_with_splits_task3.csv\",\n",
        "                 vectorizer_file=\"vectorizer.json\",\n",
        "                 model_state_file=\"model.pth\",\n",
        "                 save_dir=\"model_storage/ch8/us_accident_sampling\",\n",
        "                 reload_from_files=False,\n",
        "                 expand_filepaths_to_save_dir=True,\n",
        "                 cuda=True,\n",
        "                 seed=1337,\n",
        "                 learning_rate=5e-4,\n",
        "                 batch_size=128,\n",
        "                 num_epochs=100,\n",
        "                 early_stopping_criteria=5,              \n",
        "                 source_embedding_size=128, \n",
        "                 target_embedding_size=128,\n",
        "                 encoding_size=128,\n",
        "                 catch_keyboard_interrupt=True)\n",
        "\n",
        "if args.expand_filepaths_to_save_dir:\n",
        "    args.vectorizer_file = os.path.join(args.save_dir,\n",
        "                                        args.vectorizer_file)\n",
        "\n",
        "    args.model_state_file = os.path.join(args.save_dir,\n",
        "                                         args.model_state_file)\n",
        "    \n",
        "    print(\"Expanded filepaths: \")\n",
        "    print(\"\\t{}\".format(args.vectorizer_file))\n",
        "    print(\"\\t{}\".format(args.model_state_file))\n",
        "    \n",
        "# Check CUDA\n",
        "if not torch.cuda.is_available():\n",
        "    args.cuda = False\n",
        "\n",
        "args.device = torch.device(\"cuda\" if args.cuda else \"cpu\")\n",
        "    \n",
        "print(\"Using CUDA: {}\".format(args.cuda))\n",
        "\n",
        "# Set seed for reproducibility\n",
        "set_seed_everywhere(args.seed, args.cuda)\n",
        "\n",
        "# handle dirs\n",
        "handle_dirs(args.save_dir)"
      ],
      "execution_count": null,
      "outputs": [
        {
          "output_type": "stream",
          "name": "stdout",
          "text": [
            "Expanded filepaths: \n",
            "\tmodel_storage/ch8/us_accident_sampling/vectorizer.json\n",
            "\tmodel_storage/ch8/us_accident_sampling/model.pth\n",
            "Using CUDA: True\n",
            "time: 1.21 s (started: 2021-10-26 15:16:07 +00:00)\n"
          ]
        }
      ]
    },
    {
      "cell_type": "markdown",
      "metadata": {
        "id": "-FRjMDrCirvt"
      },
      "source": [
        "##### Vectorizer setting"
      ]
    },
    {
      "cell_type": "code",
      "metadata": {
        "id": "MRNNAD8Hilk8",
        "colab": {
          "base_uri": "https://localhost:8080/"
        },
        "outputId": "418e432e-d38a-4cb2-c2a3-902d02b281a3"
      },
      "source": [
        "## Reload model from existed file if true\n",
        "## args.reload_from_files = True\n",
        "if args.reload_from_files and os.path.exists(args.vectorizer_file):\n",
        "    # training from a checkpoint\n",
        "    dataset = AccidentDataset.load_dataset_and_load_vectorizer(args.dataset_csv, \n",
        "                                                               args.vectorizer_file)\n",
        "else:\n",
        "    # create dataset and vectorizer\n",
        "    dataset = AccidentDataset.load_dataset_and_make_vectorizer(args.dataset_csv)\n",
        "    dataset.save_vectorizer(args.vectorizer_file)\n",
        "\n",
        "vectorizer = dataset.get_vectorizer()"
      ],
      "execution_count": null,
      "outputs": [
        {
          "output_type": "stream",
          "name": "stdout",
          "text": [
            "time: 5.25 s (started: 2021-10-26 15:16:10 +00:00)\n"
          ]
        }
      ]
    },
    {
      "cell_type": "markdown",
      "metadata": {
        "id": "waax0vUNlBfi"
      },
      "source": [
        "##### Model setting"
      ]
    },
    {
      "cell_type": "code",
      "metadata": {
        "id": "LPB_wjpblCzQ",
        "colab": {
          "base_uri": "https://localhost:8080/"
        },
        "outputId": "a0265180-8d1f-490c-fcaf-8d76c33232db"
      },
      "source": [
        "model = AccidentModel(source_vocab_size=len(vectorizer.source_vocab), \n",
        "                 source_embedding_size=args.source_embedding_size, \n",
        "                 target_vocab_size=len(vectorizer.target_vocab),\n",
        "                 target_embedding_size=args.target_embedding_size, \n",
        "                 encoding_size=args.encoding_size,\n",
        "                 target_bos_index=vectorizer.target_vocab.begin_seq_index)\n",
        "\n",
        "if args.reload_from_files and os.path.exists(args.model_state_file):\n",
        "    model.load_state_dict(torch.load(args.model_state_file))\n",
        "    print(\"Reloaded model\")\n",
        "else:\n",
        "    print(\"New model\")"
      ],
      "execution_count": null,
      "outputs": [
        {
          "output_type": "stream",
          "name": "stdout",
          "text": [
            "New model\n",
            "time: 121 ms (started: 2021-10-26 15:16:16 +00:00)\n"
          ]
        }
      ]
    },
    {
      "cell_type": "markdown",
      "metadata": {
        "id": "uxogRKV1k7WR"
      },
      "source": [
        "#### 3.3.3 Training"
      ]
    },
    {
      "cell_type": "code",
      "metadata": {
        "colab": {
          "base_uri": "https://localhost:8080/",
          "height": 130,
          "referenced_widgets": [
            "cee828ea8b1844b7ad5adea26fa5a944",
            "74a9db152b5a47c68a5861f423ab44e1",
            "aca5c3a2ff0c4b0f9064f69d5c96cb65",
            "fc007e8c5d7f4139bdc39d380bfc43c6",
            "8fe3acff50d642acb21c3d1d0a662083",
            "89f36266a6494a58884ad19b709899a1",
            "c04a0389559f4299aea1fddef383072f",
            "1e25f76770de485e85fa82f1b9c5994d",
            "2bc52dab9a154c578414f337c0535b57",
            "f5cc4dbc9cfd479b8171af3ba82ddbee",
            "3f26f4809655441499fc454d2af3f6ac",
            "eeb2357f6095470eadf4028920e63a7c",
            "be9521ac96f5484482a10b213b42423b",
            "d10b0849cc9a442b943d7e6abe9edceb",
            "ce4ff109576c4d91945a4a476ee51760",
            "10dbc28087304d6fb2d7831667457981",
            "ba70c70a16944b8e99055cdb4f7f9a78",
            "987ec03dee024b21ba38ac0616759f99",
            "d47d2e03be8847da8e9dab2a8e033fa4",
            "758ec4e6ce294bcf8b0c45f0f9419e8b",
            "28e398766746489d9a27af315d4aa83c",
            "8a78463f3e164a7a80ae8735a94ecb62",
            "71c5654bab1d4e73bd6f669d72185b57",
            "359105aad18846d0b81a6613b87c2c46",
            "75ed002bc82b466dace0de043a085058",
            "ff54b431ae8e4a3786f7a865aface0a1",
            "c029ec97a23d4863b96671568ee73718",
            "86b1b848c903405190270baee63f541d",
            "fa37e1a632194278b5bd3b6f68f79116",
            "8168b2e20a514f5f95517c3971a3fe4e",
            "0110dca2d14d4819833bc3a2f6f68ca5",
            "79747a976e96486fa145e03bf56cbf1d",
            "cd42d237b3484f3886a78b7a3e26a5a8"
          ]
        },
        "id": "ZikW8NNKlF3N",
        "outputId": "22c988f4-7149-46ac-8f7c-2650accd29fd"
      },
      "source": [
        "model = model.to(args.device)\n",
        "\n",
        "optimizer = optim.Adam(model.parameters(), lr=args.learning_rate)\n",
        "scheduler = optim.lr_scheduler.ReduceLROnPlateau(optimizer=optimizer,\n",
        "                                           mode='min', factor=0.5,\n",
        "                                           patience=1)\n",
        "mask_index = vectorizer.target_vocab.mask_index\n",
        "train_state = make_train_state(args)\n",
        "\n",
        "epoch_bar = tqdm(desc='training routine', \n",
        "                          total=args.num_epochs,\n",
        "                          position=0)\n",
        "\n",
        "dataset.set_split('train')\n",
        "train_bar = tqdm(desc='split=train',\n",
        "                          total=dataset.get_num_batches(args.batch_size), \n",
        "                          position=1, \n",
        "                          leave=True)\n",
        "dataset.set_split('val')\n",
        "val_bar = tqdm(desc='split=val',\n",
        "                        total=dataset.get_num_batches(args.batch_size), \n",
        "                        position=1, \n",
        "                        leave=True)\n",
        "\n",
        "try:\n",
        "    for epoch_index in range(args.num_epochs):\n",
        "        sample_probability = (20 + epoch_index) / args.num_epochs\n",
        "        \n",
        "        train_state['epoch_index'] = epoch_index\n",
        "\n",
        "        # Iterate over training dataset\n",
        "\n",
        "        # setup: batch generator, set loss and acc to 0, set train mode on\n",
        "        dataset.set_split('train')\n",
        "        batch_generator = generate_batches(dataset, \n",
        "                                               batch_size=args.batch_size, \n",
        "                                               device=args.device)\n",
        "        running_loss = 0.0\n",
        "        running_acc = 0.0\n",
        "        model.train()\n",
        "        \n",
        "        for batch_index, batch_dict in enumerate(batch_generator):\n",
        "            # the training routine is these 5 steps:\n",
        "\n",
        "            # --------------------------------------    \n",
        "            # step 1. zero the gradients\n",
        "            optimizer.zero_grad()\n",
        "\n",
        "            # step 2. compute the output\n",
        "            y_pred = model(batch_dict['x_source'], \n",
        "                           batch_dict['x_source_length'], \n",
        "                           batch_dict['x_target'],\n",
        "                           sample_probability=sample_probability)\n",
        "\n",
        "            # step 3. compute the loss\n",
        "            loss = sequence_loss(y_pred, batch_dict['y_target'], mask_index)\n",
        "\n",
        "            # step 4. use loss to produce gradients\n",
        "            loss.backward()\n",
        "\n",
        "            # step 5. use optimizer to take gradient step\n",
        "            optimizer.step()\n",
        "\n",
        "            # -----------------------------------------\n",
        "            # compute the running loss and running accuracy\n",
        "            running_loss += (loss.item() - running_loss) / (batch_index + 1)\n",
        "\n",
        "            acc_t = compute_accuracy(y_pred, batch_dict['y_target'], mask_index)\n",
        "            running_acc += (acc_t - running_acc) / (batch_index + 1)\n",
        "\n",
        "            # update bar\n",
        "            train_bar.set_postfix(loss=running_loss, acc=running_acc, \n",
        "                                  epoch=epoch_index)\n",
        "            train_bar.update()\n",
        "\n",
        "        train_state['train_loss'].append(running_loss)\n",
        "        train_state['train_acc'].append(running_acc)\n",
        "\n",
        "        # Iterate over val dataset\n",
        "\n",
        "        # setup: batch generator, set loss and acc to 0; set eval mode on\n",
        "        dataset.set_split('val')\n",
        "        batch_generator = generate_batches(dataset, \n",
        "                                               batch_size=args.batch_size, \n",
        "                                               device=args.device)\n",
        "        running_loss = 0.\n",
        "        running_acc = 0.\n",
        "        model.eval()\n",
        "\n",
        "        for batch_index, batch_dict in enumerate(batch_generator):\n",
        "            # compute the output\n",
        "            y_pred = model(batch_dict['x_source'], \n",
        "                           batch_dict['x_source_length'], \n",
        "                           batch_dict['x_target'],\n",
        "                           sample_probability=sample_probability)\n",
        "\n",
        "            # step 3. compute the loss\n",
        "            loss = sequence_loss(y_pred, batch_dict['y_target'], mask_index)\n",
        "\n",
        "            # compute the running loss and accuracy\n",
        "            running_loss += (loss.item() - running_loss) / (batch_index + 1)\n",
        "            \n",
        "            acc_t = compute_accuracy(y_pred, batch_dict['y_target'], mask_index)\n",
        "            running_acc += (acc_t - running_acc) / (batch_index + 1)\n",
        "            \n",
        "            # Update bar\n",
        "            val_bar.set_postfix(loss=running_loss, acc=running_acc, \n",
        "                            epoch=epoch_index)\n",
        "            val_bar.update()\n",
        "\n",
        "        train_state['val_loss'].append(running_loss)\n",
        "        train_state['val_acc'].append(running_acc)\n",
        "\n",
        "        train_state = update_train_state(args=args, model=model, \n",
        "                                         train_state=train_state)\n",
        "\n",
        "        scheduler.step(train_state['val_loss'][-1])\n",
        "\n",
        "        if train_state['stop_early']:\n",
        "            break\n",
        "        \n",
        "        train_bar.n = 0\n",
        "        val_bar.n = 0\n",
        "        epoch_bar.set_postfix(best_val=train_state['early_stopping_best_val'])\n",
        "        epoch_bar.update()\n",
        "        \n",
        "except KeyboardInterrupt:\n",
        "    print(\"Exiting loop\")"
      ],
      "execution_count": null,
      "outputs": [
        {
          "data": {
            "application/vnd.jupyter.widget-view+json": {
              "model_id": "cee828ea8b1844b7ad5adea26fa5a944",
              "version_major": 2,
              "version_minor": 0
            },
            "text/plain": [
              "training routine:   0%|          | 0/100 [00:00<?, ?it/s]"
            ]
          },
          "metadata": {},
          "output_type": "display_data"
        },
        {
          "data": {
            "application/vnd.jupyter.widget-view+json": {
              "model_id": "eeb2357f6095470eadf4028920e63a7c",
              "version_major": 2,
              "version_minor": 0
            },
            "text/plain": [
              "split=train:   0%|          | 0/54 [00:00<?, ?it/s]"
            ]
          },
          "metadata": {},
          "output_type": "display_data"
        },
        {
          "data": {
            "application/vnd.jupyter.widget-view+json": {
              "model_id": "71c5654bab1d4e73bd6f669d72185b57",
              "version_major": 2,
              "version_minor": 0
            },
            "text/plain": [
              "split=val:   0%|          | 0/11 [00:00<?, ?it/s]"
            ]
          },
          "metadata": {},
          "output_type": "display_data"
        },
        {
          "output_type": "stream",
          "name": "stdout",
          "text": [
            "time: 47min 5s (started: 2021-10-26 10:16:45 +00:00)\n"
          ]
        }
      ]
    },
    {
      "cell_type": "markdown",
      "metadata": {
        "id": "nEn13NuglM_R"
      },
      "source": [
        "### 3.4 Inference and Evaluation"
      ]
    },
    {
      "cell_type": "markdown",
      "metadata": {
        "id": "_j56QTHkSyMe"
      },
      "source": [
        "#### 3.4.1 Compute Accuracy from Test Dataset"
      ]
    },
    {
      "cell_type": "markdown",
      "metadata": {
        "id": "Bjut9lHQxCrL"
      },
      "source": [
        "Reload trained model from files (ignore this cell if first training)"
      ]
    },
    {
      "cell_type": "code",
      "metadata": {
        "id": "rgPC4aYyxCBy",
        "colab": {
          "base_uri": "https://localhost:8080/"
        },
        "outputId": "4ceedb82-d4e9-4e24-8ae5-6bfd2d2e300a"
      },
      "source": [
        "## **** IGNORE this cell if FIRST training) **** \n",
        "## Reload model from existed file if existed\n",
        "##args.reload_from_files = True ## uncomment it if reload model\n",
        "if args.reload_from_files and os.path.exists(args.vectorizer_file):\n",
        "    # training from a checkpoint\n",
        "    dataset = AccidentDataset.load_dataset_and_load_vectorizer(args.dataset_csv, \n",
        "                                                               args.vectorizer_file)\n",
        "else:\n",
        "    # create dataset and vectorizer\n",
        "    dataset = AccidentDataset.load_dataset_and_make_vectorizer(args.dataset_csv)\n",
        "    dataset.save_vectorizer(args.vectorizer_file)\n",
        "model = AccidentModel(source_vocab_size=len(vectorizer.source_vocab), \n",
        "                 source_embedding_size=args.source_embedding_size, \n",
        "                 target_vocab_size=len(vectorizer.target_vocab),\n",
        "                 target_embedding_size=args.target_embedding_size, \n",
        "                 encoding_size=args.encoding_size,\n",
        "                 target_bos_index=vectorizer.target_vocab.begin_seq_index)\n",
        "\n",
        "if args.reload_from_files and os.path.exists(args.model_state_file):\n",
        "    model.load_state_dict(torch.load(args.model_state_file))\n",
        "    print(\"Reloaded model\")\n",
        "else:\n",
        "    print(\"New model\")\n",
        "    \n",
        "vectorizer = dataset.get_vectorizer()\n",
        "\n",
        "train_state = make_train_state(args)\n",
        "mask_index = vectorizer.target_vocab.mask_index\n",
        "running_loss = 0.0\n",
        "running_acc = 0.0"
      ],
      "execution_count": null,
      "outputs": [
        {
          "output_type": "stream",
          "name": "stdout",
          "text": [
            "Reloaded model\n",
            "time: 16.6 s (started: 2021-10-26 15:16:21 +00:00)\n"
          ]
        }
      ]
    },
    {
      "cell_type": "code",
      "metadata": {
        "id": "fys2PzN5RH7a",
        "colab": {
          "base_uri": "https://localhost:8080/"
        },
        "outputId": "b45ade29-1f29-4539-b274-3d3fc5921487"
      },
      "source": [
        "# compute the loss & accuracy on the test set using the best available model\n",
        "\n",
        "model.load_state_dict(torch.load(train_state['model_filename']))\n",
        "\n",
        "model = model.to(args.device)\n",
        "\n",
        "dataset.set_split('test')\n",
        "batch_generator = generate_batches(dataset, \n",
        "                                   batch_size=args.batch_size, \n",
        "                                   device=args.device)\n",
        "running_acc = 0.\n",
        "model.eval()\n",
        "\n",
        "for batch_index, batch_dict in enumerate(batch_generator):\n",
        "    # compute the output\n",
        "    y_pred = model(batch_dict['x_source'], \n",
        "                   batch_dict['x_source_length'], \n",
        "                   batch_dict['x_target'])\n",
        "\n",
        "    # compute the loss\n",
        "    loss = sequence_loss(y_pred, batch_dict['y_target'], mask_index)\n",
        "    \n",
        "    # compute the running loss and running accuracy\n",
        "    running_loss += (loss.item() - running_loss) / (batch_index + 1)\n",
        "    acc_t = compute_accuracy(y_pred, batch_dict['y_target'], mask_index)\n",
        "    running_acc += (acc_t - running_acc) / (batch_index + 1)\n",
        "\n",
        "train_state['test_loss'] = running_loss \n",
        "train_state['test_acc'] = running_acc "
      ],
      "execution_count": null,
      "outputs": [
        {
          "output_type": "stream",
          "name": "stdout",
          "text": [
            "time: 2.06 s (started: 2021-10-26 13:21:29 +00:00)\n"
          ]
        }
      ]
    },
    {
      "cell_type": "code",
      "metadata": {
        "id": "IDuVLp80St6Y",
        "colab": {
          "base_uri": "https://localhost:8080/"
        },
        "outputId": "81821660-01b2-4e9a-bdbd-1f132dbce359"
      },
      "source": [
        "print(\"Test loss: {};\".format(train_state['test_loss']))\n",
        "print(\"Test Accuracy: {}\".format(train_state['test_acc']))"
      ],
      "execution_count": null,
      "outputs": [
        {
          "output_type": "stream",
          "name": "stdout",
          "text": [
            "Test loss: 0.4355366257104007;\n",
            "Test Accuracy: 92.59875163624896\n",
            "time: 2.12 ms (started: 2021-10-26 13:21:35 +00:00)\n"
          ]
        }
      ]
    },
    {
      "cell_type": "markdown",
      "metadata": {
        "id": "2LJ2XqtfUn1M"
      },
      "source": [
        "Test Accuracy Log:\n",
        "\n",
        "lr:5e-4, dr:0.5, batch size 128, embedding size 128, encoding size 128m Test loss 0.43, Test Accuracy 92.68%\n",
        "\n",
        "lr:1e-4, dr:0.5, batch size 256, embedding size 256, encoding size 256, Test loss 0.55, Test Accuracy 91.19%\n"
      ]
    },
    {
      "cell_type": "markdown",
      "metadata": {
        "id": "Nt_FBeHlS1wa"
      },
      "source": [
        "#### 3.4.2 50 sentences comparsion\n",
        "Choose 50 sentences from test dataset and Compare sentences between `source`, `truth` and `sampled` (`predicted`).\n",
        "\n"
      ]
    },
    {
      "cell_type": "code",
      "metadata": {
        "id": "f53mYvvBlQL7",
        "colab": {
          "base_uri": "https://localhost:8080/"
        },
        "outputId": "19397008-783c-4dbf-ce62-3b0603b3d0e9"
      },
      "source": [
        "from nltk.translate import bleu_score\n",
        "import seaborn as sns\n",
        "import matplotlib.pyplot as plt\n",
        "\n",
        "chencherry = bleu_score.SmoothingFunction()"
      ],
      "execution_count": null,
      "outputs": [
        {
          "output_type": "stream",
          "name": "stdout",
          "text": [
            "time: 71.7 ms (started: 2021-10-26 15:17:09 +00:00)\n"
          ]
        }
      ]
    },
    {
      "cell_type": "code",
      "metadata": {
        "id": "866slzFKlQ9Z",
        "colab": {
          "base_uri": "https://localhost:8080/"
        },
        "outputId": "2616b977-85c5-4b2b-a386-ce47faf14fd4"
      },
      "source": [
        "def sentence_from_indices(indices, vocab, strict=True, return_string=True):\n",
        "    ignore_indices = set([vocab.mask_index, vocab.begin_seq_index, vocab.end_seq_index])\n",
        "    out = []\n",
        "    for index in indices:\n",
        "        if index == vocab.begin_seq_index and strict:\n",
        "            continue\n",
        "        elif index == vocab.end_seq_index and strict:\n",
        "            break\n",
        "        else:\n",
        "            out.append(vocab.lookup_index(index))\n",
        "    if return_string:\n",
        "        return \" \".join(out)\n",
        "    else:\n",
        "        return out\n",
        "    \n",
        "class Sampler:\n",
        "    def __init__(self, vectorizer, model):\n",
        "        self.vectorizer = vectorizer\n",
        "        self.model = model\n",
        "    \n",
        "    def apply_to_batch(self, batch_dict):\n",
        "        self._last_batch = batch_dict\n",
        "        y_pred = self.model(x_source=batch_dict['x_source'], \n",
        "                            x_source_lengths=batch_dict['x_source_length'], \n",
        "                            target_sequence=batch_dict['x_target'])\n",
        "        self._last_batch['y_pred'] = y_pred\n",
        "        \n",
        "        attention_batched = np.stack(self.model.decoder._cached_p_attn).transpose(1, 0, 2)\n",
        "        self._last_batch['attention'] = attention_batched\n",
        "        \n",
        "    def _get_source_sentence(self, index, return_string=True):\n",
        "        indices = self._last_batch['x_source'][index].cpu().detach().numpy()\n",
        "        vocab = self.vectorizer.source_vocab\n",
        "        return sentence_from_indices(indices, vocab, return_string=return_string)\n",
        "\n",
        "    def _get_reference_sentence(self, index, return_string=True):\n",
        "        indices = self._last_batch['y_target'][index].cpu().detach().numpy()\n",
        "        vocab = self.vectorizer.target_vocab\n",
        "        return sentence_from_indices(indices, vocab, return_string=return_string)\n",
        "    \n",
        "    def _get_sampled_sentence(self, index, return_string=True):\n",
        "        _, all_indices = torch.max(self._last_batch['y_pred'], dim=2)\n",
        "        sentence_indices = all_indices[index].cpu().detach().numpy()\n",
        "        vocab = self.vectorizer.target_vocab\n",
        "        return sentence_from_indices(sentence_indices, vocab, return_string=return_string)\n",
        "\n",
        "    def get_ith_item(self, index, return_string=True):\n",
        "        output = {\"source\": self._get_source_sentence(index, return_string=return_string), \n",
        "                  \"reference\": self._get_reference_sentence(index, return_string=return_string), \n",
        "                  \"sampled\": self._get_sampled_sentence(index, return_string=return_string),\n",
        "                  \"attention\": self._last_batch['attention'][index]}\n",
        "        \n",
        "        reference = output['reference']\n",
        "        hypothesis = output['sampled']\n",
        "        \n",
        "        if not return_string:\n",
        "            reference = \" \".join(reference)\n",
        "            hypothesis = \" \".join(hypothesis)\n",
        "        \n",
        "        output['bleu-4'] = bleu_score.sentence_bleu(references=[reference],\n",
        "                                                    hypothesis=hypothesis,\n",
        "                                                    smoothing_function=chencherry.method1)\n",
        "        \n",
        "        return output"
      ],
      "execution_count": null,
      "outputs": [
        {
          "output_type": "stream",
          "name": "stdout",
          "text": [
            "time: 60.3 ms (started: 2021-10-26 15:17:11 +00:00)\n"
          ]
        }
      ]
    },
    {
      "cell_type": "code",
      "metadata": {
        "colab": {
          "base_uri": "https://localhost:8080/"
        },
        "id": "ny2HD3M6AEdD",
        "outputId": "d634d382-3220-4b14-9a17-3b2cce078aef"
      },
      "source": [
        "def get_source_sentence(vectorizer, batch_dict, index):\n",
        "    indices = batch_dict['x_source'][index].cpu().data.numpy()\n",
        "    vocab = vectorizer.source_vocab\n",
        "    return sentence_from_indices(indices, vocab)\n",
        "\n",
        "def get_true_sentence(vectorizer, batch_dict, index):\n",
        "    return sentence_from_indices(batch_dict['y_target'].cpu().data.numpy()[index], vectorizer.target_vocab)\n",
        "    \n",
        "def get_sampled_sentence(vectorizer, batch_dict, index):\n",
        "    y_pred = model(x_source=batch_dict['x_source'], \n",
        "                   x_source_lengths=batch_dict['x_source_length'], \n",
        "                   target_sequence=batch_dict['x_target'], \n",
        "                   sample_probability=1.0)\n",
        "    return sentence_from_indices(torch.max(y_pred, dim=2)[1].cpu().data.numpy()[index], vectorizer.target_vocab)\n",
        "\n",
        "def get_all_sentences(vectorizer, batch_dict, index):\n",
        "    return {\"source\": get_source_sentence(vectorizer, batch_dict, index), \n",
        "            \"truth\": get_true_sentence(vectorizer, batch_dict, index), \n",
        "            \"sampled\": get_sampled_sentence(vectorizer, batch_dict, index)}\n",
        "    \n",
        "def sentence_from_indices(indices, vocab, strict=True):\n",
        "    ignore_indices = set([vocab.mask_index, vocab.begin_seq_index, vocab.end_seq_index])\n",
        "    out = []\n",
        "    for index in indices:\n",
        "        if index == vocab.begin_seq_index and strict:\n",
        "            continue\n",
        "        elif index == vocab.end_seq_index and strict:\n",
        "            return \" \".join(out)\n",
        "        else:\n",
        "            out.append(vocab.lookup_index(index))\n",
        "    return \" \".join(out)"
      ],
      "execution_count": null,
      "outputs": [
        {
          "output_type": "stream",
          "name": "stdout",
          "text": [
            "time: 19 ms (started: 2021-10-26 15:17:14 +00:00)\n"
          ]
        }
      ]
    },
    {
      "cell_type": "markdown",
      "metadata": {
        "id": "-oCeaq7O5O0U"
      },
      "source": [
        "Set batch_size = 50."
      ]
    },
    {
      "cell_type": "code",
      "metadata": {
        "colab": {
          "base_uri": "https://localhost:8080/"
        },
        "id": "MGuQCtdiWNLa",
        "outputId": "1d5481c2-3e31-4a44-df22-a9a231a3367a"
      },
      "source": [
        "dataset.set_split('test')\n",
        "args.batch_size = 50\n",
        "batch_generator = generate_batches(dataset, \n",
        "                                       batch_size=args.batch_size, \n",
        "                                       device=args.device)\n",
        "batch_dict = next(batch_generator)\n",
        "\n",
        "model = model.eval().to(args.device)\n",
        "sampler = Sampler(vectorizer, model)\n",
        "sampler.apply_to_batch(batch_dict)"
      ],
      "execution_count": null,
      "outputs": [
        {
          "output_type": "stream",
          "name": "stdout",
          "text": [
            "time: 435 ms (started: 2021-10-26 15:18:10 +00:00)\n"
          ]
        }
      ]
    },
    {
      "cell_type": "code",
      "metadata": {
        "colab": {
          "base_uri": "https://localhost:8080/"
        },
        "id": "5etttVBG-wY8",
        "outputId": "b16647a8-3c82-46dc-e20c-318099ffaf44"
      },
      "source": [
        "len(get_all_sentences(vectorizer, batch_dict, 45)['sampled'].split())\n",
        "len(batch_dict['x_target'])"
      ],
      "execution_count": null,
      "outputs": [
        {
          "output_type": "execute_result",
          "data": {
            "text/plain": [
              "50"
            ]
          },
          "metadata": {},
          "execution_count": 21
        },
        {
          "output_type": "stream",
          "name": "stdout",
          "text": [
            "time: 199 ms (started: 2021-10-26 15:18:13 +00:00)\n"
          ]
        }
      ]
    },
    {
      "cell_type": "code",
      "metadata": {
        "colab": {
          "base_uri": "https://localhost:8080/"
        },
        "id": "NBepI_QY9Aku",
        "outputId": "4c914ff5-3854-4942-954b-299f606463a1"
      },
      "source": [
        "# Agreement and Disagreement counts\n",
        "agreement = 0\n",
        "disagreement = 0\n",
        "cnt = 0\n",
        "for index in range(50):\n",
        "  truth_sentence = get_all_sentences(vectorizer, batch_dict, index)['truth'].split()\n",
        "  predicted_sentence = get_all_sentences(vectorizer, batch_dict, index)['sampled'].split()\n",
        "  flag = False # print disagreement sentences if True\n",
        "  if len(truth_sentence) > len(predicted_sentence):\n",
        "    for word_index in range(len(predicted_sentence)):\n",
        "      if truth_sentence[word_index] != predicted_sentence[word_index]:\n",
        "        disagreement +=1\n",
        "        flag = True\n",
        "      else:\n",
        "        agreement +=1\n",
        "  else:\n",
        "    for word_index in range(len(truth_sentence)):\n",
        "      if truth_sentence[word_index] != predicted_sentence[word_index]:\n",
        "        disagreement +=1\n",
        "        flag = True\n",
        "      else:\n",
        "        agreement +=1\n",
        "\n",
        "  ## print 5 disagreement sentences for example\n",
        "  if flag:\n",
        "    if cnt<5:\n",
        "      print(\"Source is: \",get_all_sentences(vectorizer, batch_dict, index)['source'])\n",
        "      print(\"Predicted is: \",get_all_sentences(vectorizer, batch_dict, index)['sampled'])\n",
        "      print(\"Original is: \",get_all_sentences(vectorizer, batch_dict, index)['truth'], '\\n')\n",
        "      cnt+=1"
      ],
      "execution_count": null,
      "outputs": [
        {
          "output_type": "stream",
          "name": "stdout",
          "text": [
            "Source is:   injured was assigned to install signs and metal posts using a 20 lb sledge hammer to drive in metal posts into the ground . during this process the injured missed the post and struck his left hand on top edge of sign post . the injured was holding the handle too close to the head of the hammer resulting in a cut to back of hand between index finger and thumb area . 14 stitches \n",
            "Predicted is:   O O O O O O O O O O O O O O O O O O O O O O O O O O O O O O O O O O O O O O O O O O O O O O O O O O O O O O O O O O O O O O O O O O O O O O O O O \n",
            "Original is:   O O O O O O O O O O O O O O O O O O O O O O O O O O O O O O O O O O O B-body_part/arm/hand/left_hand I-body_part/arm/hand/left_hand O O O O O O O O O O O O O O O O O B-body_part/head O O O O O O O O B-body_part/back O B-body_part/arm/hand O O O O B-body_part/arm/hand/thumb O O O O  \n",
            "\n",
            "Source is:   40 ton volvo dump truck was waiting for an excavator to pass . excavator cab was <UNK> to the side and slammed into the front left corner of the truck . would have been <UNK> if the cab was sitting square with the tracks . the corner was sheared apart in a 6 inch tear and hydraulic fluid spilled about 2 or 3 gallons . the tear was able to be welded shut . \n",
            "Predicted is:   O O O O O O O O O O O O O O O O O O O O O O O O O O O O O O O O O O O O O O O O O O O O O O O O O O O O O O O O O O O O O O O O O O O O O O O O O\n",
            "Original is:   O O B-vehicle/heavy_vehicle/dump_truck I-vehicle/heavy_vehicle/dump_truck O O O O B-vehicle/heavy_vehicle/excavator O O O B-vehicle/heavy_vehicle/excavator O O O O O O O O O O O O O O O O O O O O O O O O O O O O O O O O O O O O O O O O O O O O O O O O O O O O O O O O O O O O  \n",
            "\n",
            "Source is:   roof fall , while <UNK> <UNK> mains number 5 entry cross-cut number 10 , <UNK> 12 ' of unbolted rock came in on continuous miner cutter head while backing out and wedged miner in cross-cut , at <UNK> the roof fall occurred inby in the <UNK> mains number 5 entry from cross-cut number 10 down to cross-cut # 11. areas was cribbed and timbered off and miner pulled out from under rock . \n",
            "Predicted is:   O O O O O O O O O O O O O O O O O O O O O O O O O O O O O O O O O O O O O O O O O O O O O O O O O O O O O O O O O O O O O O O O O O O O O O O O  \n",
            "Original is:   O B-accident_cause/fall O O O O O O O O O O O O O O O O O O O O O B-vehicle/heavy_vehicle/continuous_miner I-vehicle/heavy_vehicle/continuous_miner O B-body_part/head O O O O O O O O O O O O O B-accident_cause/fall O O O O O O O O O O O O O O O O O O O O O O O O O O O O O O O O  \n",
            "\n",
            "Source is:   injured stated he was standing outside the shop area talking to employees when he noticed something felt like it went in his eye . he immediately washed out his eye . however , two ( 2 ) days after the event , he sought medical attention where an abrasion was observed and was given a prescription for eye ointment . note : this incident was not reported to management until <UNK> . \n",
            "Predicted is:   O O O O O O O O O O O O O O O O O O O O O O O O O O O O O O O O O O O O O O O O O O O O O O O O O O O O O O O O O O O O O O O O O O O O O O O O O O O\n",
            "Original is:   O O O O O O O O O O O O O O O O O O O O O O B-body_part/head/eye O O O O O O B-body_part/head/eye O O O O O O O O O O O O O O O O O O O O O O O O O O O B-body_part/head/eye O O O O O O O O O O O O O O  \n",
            "\n",
            "Source is:   ie was helping on the longwall recovery face . employee was unhooking the shield to walking shield hoses . employee was standing between the shield and the crib when a <UNK> '' x2 '' -4 '' thick rock fell on employee . employee had 1 small laceration on forehead that required stitches and another small laceration on the back of the head . no broken bones were found by the doctor . \n",
            "Predicted is:   O O O O O O O O O O O O O O O O O O O O O O O O O O O O O O O O O O O O O O O O O O O O O O O O O O O O O O O O O O O O O O O O O O O O O O\n",
            "Original is:   O O O O O O O O O B-person/employee O O O O O B-activity/walking O O O B-person/employee O O O O O O O O O O O O O O O O O O O O B-person/employee O B-person/employee O O O B-injury/laceration O O O O O O O O B-injury/laceration O O B-body_part/back O O B-body_part/head O O O O O O O O O O  \n",
            "\n",
            "time: 15.7 s (started: 2021-10-26 15:18:55 +00:00)\n"
          ]
        }
      ]
    },
    {
      "cell_type": "code",
      "metadata": {
        "colab": {
          "base_uri": "https://localhost:8080/"
        },
        "id": "G58rk-TQBY5n",
        "outputId": "9c1b15d5-97b2-4c78-b461-696ddcad4bb3"
      },
      "source": [
        "print(\"The agreement is: \", agreement, \"The disagreement is: \",disagreement)\n",
        "print(\"Percentage of disagreement is: %.2f\"% (disagreement/(disagreement+agreement)*100) +\"%\" )"
      ],
      "execution_count": null,
      "outputs": [
        {
          "output_type": "stream",
          "name": "stdout",
          "text": [
            "The agreement is:  1942 The disagreement is:  149\n",
            "Percentage of disagreement is: 7.13%\n",
            "time: 5.35 ms (started: 2021-10-26 14:43:15 +00:00)\n"
          ]
        }
      ]
    },
    {
      "cell_type": "markdown",
      "metadata": {
        "id": "KmSsvF-Smvqw"
      },
      "source": [
        "### 3.5 Model Evaluation"
      ]
    },
    {
      "cell_type": "markdown",
      "metadata": {
        "id": "LC6flDylG0WG"
      },
      "source": [
        "#### 3.5.1 Training Time\n",
        "\n",
        "\n",
        "*   The training time cost around 50 minutes (Colab free GPU), depends on the learning rate setup.\n",
        "\n"
      ]
    },
    {
      "cell_type": "markdown",
      "metadata": {
        "id": "cO6S7NEKHMn2"
      },
      "source": [
        "#### 3.5.2 Test Loss/Accuracy\n",
        "The test loss of the GRU model is 0.44, and the accuracy is 92.6%. As about 88.8% of the class is ‘O’, this accuracy shouldn’t be considered unreasonably high.\n"
      ]
    },
    {
      "cell_type": "markdown",
      "metadata": {
        "id": "4ekRu92wMpym"
      },
      "source": [
        "#### 3.5.3 The Percentage of disagreement\n",
        "From the above output, we can see that out of 50 sentences (2091 words) from the test set, 1942 words were correctly labelled and only 149 words disagreed with the ground truth.\n",
        "The Percentage of disagreement is: 7.13%."
      ]
    },
    {
      "cell_type": "markdown",
      "metadata": {
        "id": "oYhizfF3NQWV"
      },
      "source": [
        "#### 3.5.4 Conclusion\n",
        "The newly tagged entities make sense. In this dataset, most of the label is ‘O’, we can see from the printed sample sentences that the model label 'O' almost all the time.  \n",
        "\n",
        "From the observation, we noticed that if label 'B-person/employee' appears at the start of the sentence, the model can correctly recogonize and label the entity. However, 'O' is still perdominant. Other than 'O' and 'B-person/employee', the model could not recogonise other labels. This actually matches with the fact that label 'O' accounts for about 88.8% of the total instances. B-person/employee comes the second with 2.7%. Other labels only account for less than 1% of the total.\n",
        "\n",
        "To improve, we could group all consecutive 'O' to reduce the number of label 'O' and assess the model performance again."
      ]
    },
    {
      "cell_type": "markdown",
      "metadata": {
        "id": "Yh6Lw6ylNV_d"
      },
      "source": [
        ""
      ]
    },
    {
      "cell_type": "markdown",
      "metadata": {
        "id": "GVdwq6iJNVyw"
      },
      "source": [
        ""
      ]
    },
    {
      "cell_type": "markdown",
      "metadata": {
        "id": "qatvu5OxH8Df"
      },
      "source": [
        "# Bonus Marks (10 marks)\n",
        "## Thorough investigation on how various components affect a model's performance, e.g. different word embeddings, hyperparameter tuning, using ablation study to isolate the key factors. "
      ]
    },
    {
      "cell_type": "markdown",
      "metadata": {
        "id": "8zoJgWMCH74r"
      },
      "source": [
        "### (1)\tData Pre-processing Method\n",
        "Diffrent data preprocessing method might affect the model performance. For instance using stemming or lemmatizing might result in different accuracy.\n",
        "* Stemming transforms words from different form into root, while lemmatizing transforms words into original form as natural language that we can read. A word root can lead to different word. Therefore, using stemming might lead to meaning loss of original sentence. \n",
        "* Different method of removing stop words could also be a key components. Depend on if you use the pre-trained stop-words package, or trained TF/IDF with own-defined threshold, the performance could be different.\n",
        "* Data pre-processing order might affect the model performance as well. There are different apporaches, tokenize should be done first prior to other data processing such as pos tagging."
      ]
    },
    {
      "cell_type": "markdown",
      "metadata": {
        "id": "r3XqP8vGH7oL"
      },
      "source": [
        "### (2)\tDifferent word embeddings\n",
        "\n",
        "* Different word embedding methods might affect the model performance as well. In task 1 & 2, we utilised One-Hot-Encoding and GloVe. In general, GloVe is a more efficient embedding method. GloVe performed on an aggregated global word-word co-occurrence matrix. It is a statistical based method, which could capture context information and aviod sparse issue. It contributes to better model performance.\n",
        "* Other than One-Hot-Encoding and GloVe, CBOW and Skip-Gram are the other common embedding methods, depending on the dataset, different mothed could result in different performance."
      ]
    },
    {
      "cell_type": "markdown",
      "metadata": {
        "id": "6wVQapsnH7kZ"
      },
      "source": [
        "### (3) Hyperparameter tuning\n",
        "Model Hyper Parameters include char embedding size and neural hidden size. The two parameters will affect the model under-fitting or over-fitting. If the size is pretty large, it will carry some less influential words that makes the model perform worse. On the contrary, if the size is small, the training routine will last long and cost more computation resources.\n",
        "\n",
        "The Training Hyper Parameters include Learning Rate, Dropping Rate, Number of Epochs and early stopping criteria. In general, we should pay attention on learning rate influences in training routine. If learning rate is too large, the learning process will omit some optimal weights and lead to an unstable result, while if learning rate is too small, it needs more epochs to train so that the model can reach an optimal convergence, which consumes more computational resources with a better performance.\n",
        "\n",
        "For instance, in task 2, from the results of GRU model, we can see the Test Accuracy improves significantly when Char embedding size and GRU hidden size get larger. When model hyper parameters have the stable performance, Training Hyper Parameters tuning can improve the performance in a different way."
      ]
    },
    {
      "cell_type": "markdown",
      "metadata": {
        "id": "qGB5u4nLIJGD"
      },
      "source": [
        "![bonus.PNG](data:image/png;base64,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)"
      ]
    }
  ]
}